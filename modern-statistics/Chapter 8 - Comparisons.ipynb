{
 "cells": [
  {
   "cell_type": "code",
   "execution_count": 104,
   "metadata": {},
   "outputs": [],
   "source": [
    "# Import libraries\n",
    "import pandas as pd\n",
    "import numpy as np\n",
    "from scipy import stats\n",
    "import math, random\n",
    "from matplotlib import pyplot as plt, gridspec\n",
    "import seaborn as sns\n",
    "import statsmodels.api as sm\n",
    "import itertools\n",
    "\n",
    "%matplotlib inline"
   ]
  },
  {
   "cell_type": "markdown",
   "metadata": {},
   "source": [
    "# Chapter 8 - Comparisons"
   ]
  },
  {
   "cell_type": "markdown",
   "metadata": {
    "heading_collapsed": true
   },
   "source": [
    "## Formulas"
   ]
  },
  {
   "cell_type": "markdown",
   "metadata": {
    "hidden": true
   },
   "source": [
    "**Two-sample Pooled T-test**\n",
    "\n",
    "T-statistic for comparing two population means\n",
    "\n",
    "$$t=\\frac{\\bar{y}_1 - \\bar{y}_2}{S\\sqrt{\\frac{1}{n_1}+\\frac{1}{n_2}}}$$\n",
    "\n",
    "Where S is the pooled sample standard deviation calculated as:\n",
    "\n",
    "$$S = \\sqrt{\\frac{(n_1-1)s_1^2+(n_2-1)s_2^2}{n_1+n_2-2}}$$\n",
    "\n",
    "Where the t-statistic has $n_1+n_2-2$ degrees of freedom"
   ]
  },
  {
   "cell_type": "markdown",
   "metadata": {
    "hidden": true
   },
   "source": [
    "**Two-sample Unpooled T-test**\n",
    "\n",
    "T-statistic for comparing two populations means\n",
    "\n",
    "$$t = \\frac{\\bar{y}_1-\\bar{y}_2}{\\sqrt{\\frac{s_1^2}{n_1}+\\frac{s_2^2}{n_2}}}$$\n",
    "\n",
    "with degrees for freedom equal to\n",
    "\n",
    "$$v = \\frac{\\left ( \\frac{s_1^2}{n_1}+\\frac{s_2^2}{n_2}\\right ) ^2}{\\frac{\\left ( \\frac{s_1^2}{n_1}\\right ) ^2}{n_1-1}+\\frac{\\left ( \\frac{s_2^2}{n_2}\\right ) ^2}{n_2-1}}$$"
   ]
  },
  {
   "cell_type": "markdown",
   "metadata": {
    "hidden": true
   },
   "source": [
    "**When to pool standard deviation?**\n",
    "\n",
    "As a rule of thumb, when the standard deviation of one sample is not twice as large as the other sample"
   ]
  },
  {
   "cell_type": "markdown",
   "metadata": {
    "hidden": true
   },
   "source": [
    "**Paired samples**\n",
    "\n",
    "$$t = \\frac{\\bar{y}_1-\\bar{y}_2}{\\frac{s_d}{\\sqrt{n}}}$$\n",
    "or\n",
    "$$t = \\frac{\\bar{y}_d}{\\frac{s_d}{\\sqrt{n}}}$$"
   ]
  },
  {
   "cell_type": "markdown",
   "metadata": {
    "hidden": true
   },
   "source": [
    "**Comparing two proportions**\n",
    "\n",
    "Z statistic \n",
    "\n",
    "$$z = \\frac{p_1 - p_2}{\\sqrt{\\bar{p}(1-\\bar{p})}\\sqrt{\\frac{1}{n_1}+\\frac{1}{n_2}}}$$\n",
    "\n",
    "where $\\bar{p}$ is the pooled sample proportion defined as\n",
    "\n",
    "$$\\bar{p} = \\frac{n_1P_1+n_2P_2}{n_1+n_2}$$\n",
    "\n",
    "The expected number of events and non-events: $n_1\\bar{p}$, $n_2\\bar{p}$, $n_1(1-\\bar{p})$, $n_2(1-\\bar{p})$ should be greater than five for the formulas to apply."
   ]
  },
  {
   "cell_type": "markdown",
   "metadata": {
    "hidden": true
   },
   "source": [
    "\n",
    "**Paired proportions**\n",
    "\n",
    "McNemar test\n",
    "$$z = \\frac{m_1-m_2}{\\sqrt{m_1+m_2}}$$\n",
    "\n",
    "where $m_1$ and $m_2$ are the discordant pairs of each type"
   ]
  },
  {
   "cell_type": "markdown",
   "metadata": {
    "heading_collapsed": true
   },
   "source": [
    "## Notes"
   ]
  },
  {
   "cell_type": "markdown",
   "metadata": {
    "hidden": true
   },
   "source": [
    "### Two-sample pooled t-test"
   ]
  },
  {
   "cell_type": "markdown",
   "metadata": {
    "hidden": true
   },
   "source": [
    "Two groups of anorexic women. Data provided is before gain-weight training. Compare both groups to ensure compatibility.\n",
    "\n",
    "Family therapy: 38.0 37.8 39.0 37.4 39.3 36.1 34.9 42.7 33.3 36.5 37.0 37.3 35.2 37.9 40.8 39.0 39.6\n",
    "Controls:\t36.6 40.6 41.7 33.6 35.4 40.1 39.6 34.1 36.6 35.6 35.2 40.2 36.9 35.4 32.0 35.1 38.7 39.0 38.2 36.2 38.8 38.3 36.1 35.2 32.8 40.4"
   ]
  },
  {
   "cell_type": "code",
   "execution_count": 3,
   "metadata": {
    "hidden": true
   },
   "outputs": [],
   "source": [
    "ft_str = '38.0 37.8 39.0 37.4 39.3 36.1 34.9 42.7 33.3 36.5 37.0 37.3 35.2 37.9 40.8 39.0 39.6'\n",
    "ft = np.array([float(i) for i in ft_str.split(' ')])\n",
    "c_str = '36.6 40.6 41.7 33.6 35.4 40.1 39.6 34.1 36.6 35.6 35.2 40.2 36.9 35.4 32.0 35.1 38.7 39.0 38.2 36.2 38.8 38.3 36.1 35.2 32.8 40.4'\n",
    "c = np.array([float(i) for i in c_str.split(' ')])"
   ]
  },
  {
   "cell_type": "markdown",
   "metadata": {
    "hidden": true
   },
   "source": [
    "Confidence interval\n",
    "$$\\left ( \\bar{y}-t_{n-1} \\frac{s}{\\sqrt{n}},\\bar{y}+t_{n-1} \\frac{s}{\\sqrt{n}} \\right )$$"
   ]
  },
  {
   "cell_type": "code",
   "execution_count": 4,
   "metadata": {
    "hidden": true
   },
   "outputs": [
    {
     "data": {
      "text/plain": [
       "([1, 1, 2, 2],\n",
       " [37.326613584747264, 38.17926876819391, 36.62517884177586, 37.40559038899336])"
      ]
     },
     "execution_count": 4,
     "metadata": {},
     "output_type": "execute_result"
    }
   ],
   "source": [
    "# Calculate confidence intervals\n",
    "ft_diff = -stats.t.ppf(q=0.225, df=ft.shape[0]-1)*(ft.std(ddof=1)/(ft.shape[0]**(1/2)))\n",
    "ft_ci = [ft.mean()-ft_diff,ft.mean()+ft_diff]\n",
    "c_diff = -stats.t.ppf(q=0.225, df=c.shape[0]-1)*(c.std(ddof=1)/(c.shape[0]**(1/2)))\n",
    "c_ci = [c.mean()-c_diff,c.mean()+c_diff]\n",
    "\n",
    "# Create points for graph\n",
    "sx = [1,1,2,2]\n",
    "sy = ft_ci+c_ci\n",
    "\n",
    "sx, sy"
   ]
  },
  {
   "cell_type": "code",
   "execution_count": 5,
   "metadata": {
    "hidden": true,
    "scrolled": false
   },
   "outputs": [
    {
     "data": {
      "image/png": "[encoded data removed]",
      "text/plain": [
       "<Figure size 432x288 with 1 Axes>"
      ]
     },
     "metadata": {
      "needs_background": "light"
     },
     "output_type": "display_data"
    }
   ],
   "source": [
    "# boxplots of control and family treatment groups\n",
    "plt.boxplot([ft,c], showmeans=True)\n",
    "plt.xticks(ticks=[1,2],labels=['Treatment','Control'])\n",
    "plt.scatter(x=sx, y=sy, marker='_')\n",
    "plt.grid()\n",
    "plt.title('Boxplot of treatment and control group with mean and 95% CI')\n",
    "plt.xlabel('Group')\n",
    "plt.ylabel('Weight');\n"
   ]
  },
  {
   "cell_type": "code",
   "execution_count": 6,
   "metadata": {
    "hidden": true
   },
   "outputs": [],
   "source": [
    "# Testing assumption of normality with a normal scores plot\n",
    "\n",
    "# Calculating the residuals by substracting the mean from the observation for \n",
    "# each group then concatenating the data\n",
    "residuals = np.sort(np.concatenate([(ft-ft.mean()),(c-c.mean())]))\n",
    "\n",
    "# Calculating the scores: calculating the z-scores for the tail areas 1/(n+1), \n",
    "# 2/(n+1), etc. where n is the number of observations\n",
    "scores = stats.norm.ppf(q=np.arange(1,residuals.shape[0]+1,1)/(residuals.shape[0]+1))"
   ]
  },
  {
   "cell_type": "code",
   "execution_count": 7,
   "metadata": {
    "hidden": true
   },
   "outputs": [
    {
     "data": {
      "image/png": "[encoded data removed]",
      "text/plain": [
       "<Figure size 720x360 with 1 Axes>"
      ]
     },
     "metadata": {
      "needs_background": "light"
     },
     "output_type": "display_data"
    }
   ],
   "source": [
    "# Creating a normal scores plot\n",
    "\n",
    "plt.figure(figsize=(10,5))\n",
    "plt.scatter(x=residuals, y=scores)\n",
    "plt.title('Probability Plot of Residual Weight')\n",
    "plt.ylabel('Score')\n",
    "plt.xlabel('Residual Weight')\n",
    "plt.grid();"
   ]
  },
  {
   "cell_type": "code",
   "execution_count": 18,
   "metadata": {
    "hidden": true
   },
   "outputs": [
    {
     "data": {
      "image/png": "[encoded data removed]",
      "text/plain": [
       "<Figure size 720x360 with 1 Axes>"
      ]
     },
     "metadata": {
      "needs_background": "light"
     },
     "output_type": "display_data"
    }
   ],
   "source": [
    "# Comparing spread using a normal scores plot\n",
    "ft_scores = stats.norm.ppf(np.arange(1,ft.shape[0]+1,1)/(ft.shape[0]+1))\n",
    "c_scores = stats.norm.ppf(np.arange(1,c.shape[0]+1,1)/(c.shape[0]+1))\n",
    "\n",
    "# Plotting a normal scores plot for each group\n",
    "plt.figure(figsize=(10,5))\n",
    "plt.scatter(x=np.sort(ft), y=ft_scores, marker='x')\n",
    "plt.scatter(x=np.sort(c), y=c_scores)\n",
    "plt.grid()\n",
    "plt.legend(['Family Treatment','Control Group'])\n",
    "plt.title('Probability Plot of Control and Family Treatment Groups')\n",
    "plt.xlabel('Kg')\n",
    "plt.ylabel('Score');"
   ]
  },
  {
   "cell_type": "markdown",
   "metadata": {
    "hidden": true
   },
   "source": [
    "While means are different, the boxplots considerably overlap so the difference might not be statistically significant. We'll test for mean equality.<br>\n",
    "$t=\\frac{\\bar{y}_1-\\bar{y}_2}{S\\sqrt{\\frac{1}{n_1}+\\frac{1}{n_2}}}$ where $S=\\sqrt{\\frac{(n_1-1)s_1^2+(n_2-1)s_2^2}{n_1+n_2-2}}$"
   ]
  },
  {
   "cell_type": "code",
   "execution_count": 49,
   "metadata": {
    "hidden": true
   },
   "outputs": [
    {
     "name": "stdout",
     "output_type": "stream",
     "text": [
      "Pooled variance = 2.4716746524742046\n",
      "t statistic = -0.9567113665457804\n",
      "p-value = 0.3443204888090676\n"
     ]
    }
   ],
   "source": [
    "# Testing for mean equality\n",
    "n2 = ft.shape[0]\n",
    "n1 = c.shape[0]\n",
    "y2 = ft.mean()\n",
    "y1 = c.mean()\n",
    "s2 = ft.std(ddof=1)\n",
    "s1 = c.std(ddof=1)\n",
    "\n",
    "S = ((((n1-1)*(s1**2))+((n2-1)*(s2**2)))/(n1+n2-2))**(1/2)\n",
    "t = (y1-y2)/(S*(((1/n1)+(1/n2))**(1/2)))\n",
    "p_value = stats.t.sf(-t, df = 41)*2\n",
    "\n",
    "print(f'Pooled variance = {S}')\n",
    "print(f't statistic = {t}')\n",
    "print(f'p-value = {p_value}')"
   ]
  },
  {
   "cell_type": "markdown",
   "metadata": {
    "hidden": true
   },
   "source": [
    "The two-tailed p-value is 0.34 providing insufficient evidence to reject the null hypothesis. This means the weights in the control and treatment groups could be the same."
   ]
  },
  {
   "cell_type": "markdown",
   "metadata": {
    "heading_collapsed": true,
    "hidden": true
   },
   "source": [
    "### Two-sample unpooled t-test"
   ]
  },
  {
   "cell_type": "markdown",
   "metadata": {
    "hidden": true
   },
   "source": [
    "Consider the tonnages of the 25 British merchant ships in 1907 which were reported by Floud (1973) and listed in Homework Problem 6.8. Of the 25 ships, 4 were sailing ships and 16 were steam ships, the remainder having an unknown source of power. Let’s suppose we wish to determine whether steam ships have higher tonnages, on average, than sailing ships. Listed below are the tonnages of these 20 ships:\n",
    "\n",
    "Steam: 739 970 2371 309 679 1272 3246 1904 357 1080 1027 2507 502 1501 2750 192\n",
    "\n",
    "Sail:\t236\t26\t28\t138"
   ]
  },
  {
   "cell_type": "code",
   "execution_count": 5,
   "metadata": {
    "hidden": true
   },
   "outputs": [],
   "source": [
    "# Data entry\n",
    "steam = np.array([float(i) for i in '739 970 2371 309 679 1272 3246 1904 357 1080 1027 2507 502 1501 2750 192'.split(' ')])\n",
    "sail = np.array([float(i) for i in '236 26 28 138'.split(' ')])"
   ]
  },
  {
   "cell_type": "code",
   "execution_count": 35,
   "metadata": {
    "hidden": true
   },
   "outputs": [
    {
     "data": {
      "text/html": [
       "<div>\n",
       "<style scoped>\n",
       "    .dataframe tbody tr th:only-of-type {\n",
       "        vertical-align: middle;\n",
       "    }\n",
       "\n",
       "    .dataframe tbody tr th {\n",
       "        vertical-align: top;\n",
       "    }\n",
       "\n",
       "    .dataframe thead th {\n",
       "        text-align: right;\n",
       "    }\n",
       "</style>\n",
       "<table border=\"1\" class=\"dataframe\">\n",
       "  <thead>\n",
       "    <tr style=\"text-align: right;\">\n",
       "      <th></th>\n",
       "      <th>steam</th>\n",
       "      <th>sail</th>\n",
       "    </tr>\n",
       "  </thead>\n",
       "  <tbody>\n",
       "    <tr>\n",
       "      <th>count</th>\n",
       "      <td>16.000000</td>\n",
       "      <td>4.000000</td>\n",
       "    </tr>\n",
       "    <tr>\n",
       "      <th>mean</th>\n",
       "      <td>1337.875000</td>\n",
       "      <td>107.000000</td>\n",
       "    </tr>\n",
       "    <tr>\n",
       "      <th>std</th>\n",
       "      <td>950.240101</td>\n",
       "      <td>100.671082</td>\n",
       "    </tr>\n",
       "    <tr>\n",
       "      <th>min</th>\n",
       "      <td>192.000000</td>\n",
       "      <td>26.000000</td>\n",
       "    </tr>\n",
       "    <tr>\n",
       "      <th>25%</th>\n",
       "      <td>634.750000</td>\n",
       "      <td>27.500000</td>\n",
       "    </tr>\n",
       "    <tr>\n",
       "      <th>50%</th>\n",
       "      <td>1053.500000</td>\n",
       "      <td>83.000000</td>\n",
       "    </tr>\n",
       "    <tr>\n",
       "      <th>75%</th>\n",
       "      <td>2020.750000</td>\n",
       "      <td>162.500000</td>\n",
       "    </tr>\n",
       "    <tr>\n",
       "      <th>max</th>\n",
       "      <td>3246.000000</td>\n",
       "      <td>236.000000</td>\n",
       "    </tr>\n",
       "  </tbody>\n",
       "</table>\n",
       "</div>"
      ],
      "text/plain": [
       "             steam        sail\n",
       "count    16.000000    4.000000\n",
       "mean   1337.875000  107.000000\n",
       "std     950.240101  100.671082\n",
       "min     192.000000   26.000000\n",
       "25%     634.750000   27.500000\n",
       "50%    1053.500000   83.000000\n",
       "75%    2020.750000  162.500000\n",
       "max    3246.000000  236.000000"
      ]
     },
     "execution_count": 35,
     "metadata": {},
     "output_type": "execute_result"
    }
   ],
   "source": [
    "df = pd.merge(pd.DataFrame(steam, columns=['steam']).describe(),pd.DataFrame(sail, columns=['sail']).describe(), \n",
    "              left_index=True, right_index=True)\n",
    "df"
   ]
  },
  {
   "cell_type": "markdown",
   "metadata": {
    "hidden": true
   },
   "source": [
    "Given that the steam group standard deviation is over twice that of the sail group we need to use unpooled t-test.\n",
    "\n",
    "$$t = \\frac{\\bar{y}_1-\\bar{y}_2}{\\sqrt{\\frac{s_1^2}{n_1}+\\frac{s_2^2}{n_2}}}$$\n",
    "\n",
    "with degrees for freedom equal to\n",
    "\n",
    "$$v = \\frac{(\\frac{s_1^2}{n_1}+\\frac{s_2^2}{n_2})^2}{\\frac{(\\frac{s_1^2}{n_1})^2}{n_1-1}+\\frac{(\\frac{s_2^2}{n_2})^2}{n_2-1}}$$"
   ]
  },
  {
   "cell_type": "code",
   "execution_count": 37,
   "metadata": {
    "hidden": true
   },
   "outputs": [
    {
     "data": {
      "text/plain": [
       "1337.875"
      ]
     },
     "execution_count": 37,
     "metadata": {},
     "output_type": "execute_result"
    }
   ],
   "source": [
    "t = df.loc['mean','steam']"
   ]
  },
  {
   "cell_type": "code",
   "execution_count": 57,
   "metadata": {
    "hidden": true
   },
   "outputs": [
    {
     "name": "stdout",
     "output_type": "stream",
     "text": [
      "t-statistic = 5.0688\n",
      "v = 16.0\n",
      "p-value = 5.67443342250425e-05\n"
     ]
    }
   ],
   "source": [
    "# Calculate t-statistic and degrees of freedom\n",
    "\n",
    "t = (df.loc['mean','steam']-df.loc['mean','sail'])/\\\n",
    "((df.loc['std','steam']**2/df.loc['count','steam'])+(df.loc['std','sail']**2/df.loc['count','sail']))**(1/2)\n",
    "v = ((df.loc['std','steam']/df.loc['count','steam'])+(df.loc['std','sail']/df.loc['count','sail']))**2/\\\n",
    "((((df.loc['std','steam']/df.loc['count','steam'])**2)/(df.loc['count','steam']-1))+\\\n",
    "(((df.loc['std','sail']/df.loc['count','sail'])**2)/(df.loc['count','sail']-1)))\n",
    "print(f't-statistic = {t:.4f}')\n",
    "print(f'v = {round(v+.05)}')\n",
    "\n",
    "# Calculating p-value\n",
    "print(f'p-value = {stats.t.sf(t, df=v)}')"
   ]
  },
  {
   "cell_type": "markdown",
   "metadata": {
    "heading_collapsed": true,
    "hidden": true
   },
   "source": [
    "### Paired sample t-test"
   ]
  },
  {
   "cell_type": "markdown",
   "metadata": {
    "hidden": true
   },
   "source": [
    "Consider a study involving 15 hypertensive patients reported by McGregor et al (1979) and analysed by Cox & Snell (1981). Each subject’s diastolic blood pressure was measured before and two hours after treatment with captopril, a drug designed to reduce high blood pressure."
   ]
  },
  {
   "cell_type": "code",
   "execution_count": 8,
   "metadata": {
    "hidden": true,
    "scrolled": true
   },
   "outputs": [
    {
     "data": {
      "text/html": [
       "<div>\n",
       "<style scoped>\n",
       "    .dataframe tbody tr th:only-of-type {\n",
       "        vertical-align: middle;\n",
       "    }\n",
       "\n",
       "    .dataframe tbody tr th {\n",
       "        vertical-align: top;\n",
       "    }\n",
       "\n",
       "    .dataframe thead th {\n",
       "        text-align: right;\n",
       "    }\n",
       "</style>\n",
       "<table border=\"1\" class=\"dataframe\">\n",
       "  <thead>\n",
       "    <tr style=\"text-align: right;\">\n",
       "      <th></th>\n",
       "      <th>before</th>\n",
       "      <th>after</th>\n",
       "    </tr>\n",
       "  </thead>\n",
       "  <tbody>\n",
       "    <tr>\n",
       "      <th>0</th>\n",
       "      <td>130.0</td>\n",
       "      <td>125.0</td>\n",
       "    </tr>\n",
       "    <tr>\n",
       "      <th>1</th>\n",
       "      <td>122.0</td>\n",
       "      <td>121.0</td>\n",
       "    </tr>\n",
       "    <tr>\n",
       "      <th>2</th>\n",
       "      <td>124.0</td>\n",
       "      <td>121.0</td>\n",
       "    </tr>\n",
       "    <tr>\n",
       "      <th>3</th>\n",
       "      <td>104.0</td>\n",
       "      <td>106.0</td>\n",
       "    </tr>\n",
       "    <tr>\n",
       "      <th>4</th>\n",
       "      <td>112.0</td>\n",
       "      <td>101.0</td>\n",
       "    </tr>\n",
       "    <tr>\n",
       "      <th>5</th>\n",
       "      <td>101.0</td>\n",
       "      <td>85.0</td>\n",
       "    </tr>\n",
       "    <tr>\n",
       "      <th>6</th>\n",
       "      <td>121.0</td>\n",
       "      <td>98.0</td>\n",
       "    </tr>\n",
       "    <tr>\n",
       "      <th>7</th>\n",
       "      <td>124.0</td>\n",
       "      <td>105.0</td>\n",
       "    </tr>\n",
       "    <tr>\n",
       "      <th>8</th>\n",
       "      <td>115.0</td>\n",
       "      <td>103.0</td>\n",
       "    </tr>\n",
       "    <tr>\n",
       "      <th>9</th>\n",
       "      <td>102.0</td>\n",
       "      <td>98.0</td>\n",
       "    </tr>\n",
       "    <tr>\n",
       "      <th>10</th>\n",
       "      <td>98.0</td>\n",
       "      <td>90.0</td>\n",
       "    </tr>\n",
       "    <tr>\n",
       "      <th>11</th>\n",
       "      <td>119.0</td>\n",
       "      <td>98.0</td>\n",
       "    </tr>\n",
       "    <tr>\n",
       "      <th>12</th>\n",
       "      <td>106.0</td>\n",
       "      <td>110.0</td>\n",
       "    </tr>\n",
       "    <tr>\n",
       "      <th>13</th>\n",
       "      <td>107.0</td>\n",
       "      <td>103.0</td>\n",
       "    </tr>\n",
       "    <tr>\n",
       "      <th>14</th>\n",
       "      <td>100.0</td>\n",
       "      <td>82.0</td>\n",
       "    </tr>\n",
       "  </tbody>\n",
       "</table>\n",
       "</div>"
      ],
      "text/plain": [
       "    before  after\n",
       "0    130.0  125.0\n",
       "1    122.0  121.0\n",
       "2    124.0  121.0\n",
       "3    104.0  106.0\n",
       "4    112.0  101.0\n",
       "5    101.0   85.0\n",
       "6    121.0   98.0\n",
       "7    124.0  105.0\n",
       "8    115.0  103.0\n",
       "9    102.0   98.0\n",
       "10    98.0   90.0\n",
       "11   119.0   98.0\n",
       "12   106.0  110.0\n",
       "13   107.0  103.0\n",
       "14   100.0   82.0"
      ]
     },
     "execution_count": 8,
     "metadata": {},
     "output_type": "execute_result"
    }
   ],
   "source": [
    "before = np.array([float(i) for i in '130 122 124 104 112 101 121 124 115 102 98 119 106 107 100'.split(' ')])\n",
    "after = np.array([float(i) for i in '125 121 121 106 101 85 98 105 103 98 90 98 110 103 82'.split(' ')])\n",
    "df = pd.DataFrame({'before':before,'after':after})\n",
    "df"
   ]
  },
  {
   "cell_type": "markdown",
   "metadata": {
    "hidden": true
   },
   "source": [
    "$$H_0: \\mu_d = 0$$\n",
    "$$H_1: \\mu_d > 0$$\n",
    "\n",
    "$$t = \\frac{\\bar{y}_d}{\\frac{s_d}{\\sqrt{n}}}$$"
   ]
  },
  {
   "cell_type": "code",
   "execution_count": 18,
   "metadata": {
    "hidden": true
   },
   "outputs": [
    {
     "data": {
      "image/png": "[encoded data removed]",
      "text/plain": [
       "<Figure size 720x360 with 1 Axes>"
      ]
     },
     "metadata": {
      "needs_background": "light"
     },
     "output_type": "display_data"
    }
   ],
   "source": [
    "# Testing normality assumption with a normal scores plot\n",
    "\n",
    "difference = np.sort(df.before-df.after)\n",
    "\n",
    "# Scores\n",
    "scores = stats.norm.ppf(q=np.arange(1,difference.shape[0]+1,1)/(difference.shape[0]+1))\n",
    "\n",
    "# Normal scores plot\n",
    "plt.figure(figsize=(10,5))\n",
    "plt.scatter(x=difference, y=scores)\n",
    "plt.grid()\n",
    "plt.title('Probability Plot of Differences in Diastolic Blood Pressure')\n",
    "plt.xlabel('Difference in Blood Pressure')\n",
    "plt.ylabel('Score');\n"
   ]
  },
  {
   "cell_type": "code",
   "execution_count": 69,
   "metadata": {
    "hidden": true
   },
   "outputs": [
    {
     "data": {
      "image/png": "[encoded data removed]",
      "text/plain": [
       "<Figure size 720x360 with 1 Axes>"
      ]
     },
     "metadata": {
      "needs_background": "light"
     },
     "output_type": "display_data"
    }
   ],
   "source": [
    "plt.figure(figsize=(10,5))\n",
    "plt.scatter(df.before, df.after)\n",
    "plt.plot(df.before, df.before)\n",
    "plt.title('Comparison of blood presure before and after treatment')\n",
    "plt.xlabel('Before treatment')\n",
    "plt.ylabel('After treatment');"
   ]
  },
  {
   "cell_type": "markdown",
   "metadata": {
    "hidden": true
   },
   "source": [
    "Most of the observations are below the before treatment mark. This would point that the treatment is effective."
   ]
  },
  {
   "cell_type": "code",
   "execution_count": 62,
   "metadata": {
    "hidden": true
   },
   "outputs": [
    {
     "name": "stdout",
     "output_type": "stream",
     "text": [
      "p-value = 0.0004755449448966595\n"
     ]
    }
   ],
   "source": [
    "# Calculate differences\n",
    "y_d = df['before']-df['after']\n",
    "my_d = y_d.mean()\n",
    "s_d = y_d.std(ddof=1)\n",
    "t = my_d/(s_d/(df.shape[0])**(1/2))\n",
    "\n",
    "print(f'p-value = {stats.t.sf(t, df = df.shape[0]-1)}')"
   ]
  },
  {
   "cell_type": "markdown",
   "metadata": {
    "hidden": true
   },
   "source": [
    "Given the p-value obtained we can reject the null hypothesis in favour of the alternative hypothesis. This is in line with our observations from the graph above."
   ]
  },
  {
   "cell_type": "markdown",
   "metadata": {
    "heading_collapsed": true,
    "hidden": true
   },
   "source": [
    "### Comparing two proportions"
   ]
  },
  {
   "cell_type": "markdown",
   "metadata": {
    "hidden": true
   },
   "source": [
    "A question of interest is ‘do women have more severe injuries than men?’ Of 505 knee injuries reported at Perisher Resort in the season, 197 were sustained by men and 308 by women. Among the men, 40 injuries were classified as serious, compared to 75 serious injuries among the women."
   ]
  },
  {
   "cell_type": "markdown",
   "metadata": {
    "hidden": true
   },
   "source": [
    "$H_0: \\pi_1=\\pi_2$\n",
    "\n",
    "$H_1: \\pi_1<\\pi_2$\n",
    "\n",
    "$z = \\frac{p_1 - p_2}{\\sqrt{\\bar{p}(1-\\bar{p})}\\sqrt{\\frac{1}{n_1}+\\frac{1}{n_2}}}$\n",
    "\n",
    "where $\\bar{p}$ is the pooled sample proportion defined as\n",
    "\n",
    "$\\bar{p} = \\frac{n_1P_1+n_2P_2}{n_1+n_2}$\n",
    "\n",
    "The expected number of events and non-events: $n_1\\bar{p}$, $n_2\\bar{p}$, $n_1(1-\\bar{p})$, $n_2(1-\\bar{p})$ should be greater than five for the formulas to apply."
   ]
  },
  {
   "cell_type": "code",
   "execution_count": 6,
   "metadata": {
    "hidden": true
   },
   "outputs": [
    {
     "name": "stdout",
     "output_type": "stream",
     "text": [
      "Expected number of events and non-events: (44.86138613861386, 70.13861386138615, 152.13861386138615, 307.7722772277228)\n"
     ]
    }
   ],
   "source": [
    "# Calculate pooled sample proportion and expected number of events and non-events\n",
    "n1=197\n",
    "n2=308\n",
    "p1=40/n1\n",
    "p2=75/n2\n",
    "pp=((n1*p1)+(n2*p2))/(n1+n2)\n",
    "\n",
    "print(f'Expected number of events and non-events: {n1*pp, n2*pp, n1*(1-pp), n2*1-pp}')"
   ]
  },
  {
   "cell_type": "markdown",
   "metadata": {
    "hidden": true
   },
   "source": [
    "Given that all expected number of events and non-events is greater than five, we can continue with the analysis as the CLT would hold."
   ]
  },
  {
   "cell_type": "code",
   "execution_count": 8,
   "metadata": {
    "hidden": true
   },
   "outputs": [
    {
     "name": "stdout",
     "output_type": "stream",
     "text": [
      "Z statistic = -1.0576\n",
      "p-value = 0.1451\n"
     ]
    }
   ],
   "source": [
    "# Calculate z-statistic and p-value\n",
    "z = (p1-p2)/(((pp*(1-pp))**(1/2))*(((1/n1)+(1/n2))**(1/2)))\n",
    "p_value = stats.norm.sf(abs(z))\n",
    "\n",
    "print(f'Z statistic = {z:.4f}')\n",
    "print(f'p-value = {p_value:.4f}')"
   ]
  },
  {
   "cell_type": "markdown",
   "metadata": {
    "hidden": true
   },
   "source": [
    "### Paired proportions test"
   ]
  },
  {
   "cell_type": "markdown",
   "metadata": {
    "hidden": true
   },
   "source": [
    "Sleigh et al (1982) reported a study to compare two methods (Kato-Katz and Bell) for detecting eggs from faeces samples. Each of 315 infected samples was divided into two halves, and the halves were tested using the different methods.\n",
    "\n",
    "<table>\n",
    "    <tr>\n",
    "        <td></td>\n",
    "        <td></td>\n",
    "        <td colspan='3'>Kato-Katz Method</td>\n",
    "    </tr>\n",
    "    <tr>\n",
    "        <td></td>\n",
    "        <td></td>\n",
    "        <td>+</td>\n",
    "        <td>-</td>\n",
    "        <td>Total</td>\n",
    "    </tr>\n",
    "    <tr>\n",
    "        <td rowspan=3>Bell Method</td>\n",
    "        <td>+</td>\n",
    "        <td>184</td>\n",
    "        <td>54</td>\n",
    "        <td>238</td>\n",
    "    </tr>\n",
    "    <tr>\n",
    "        <td>-</td>\n",
    "        <td>14</td>\n",
    "        <td>63</td>\n",
    "        <td>77</td>\n",
    "    </tr>\n",
    "    <tr>\n",
    "        <td>Total</td>\n",
    "        <td>198</td>\n",
    "        <td>117</td>\n",
    "        <td>315</td>\n",
    "    </tr>\n",
    "</table>\n",
    "\n",
    "Hypotheses:\n",
    "\n",
    "$H_0: \\pi_1-\\pi_2=0$\n",
    "\n",
    "$H_1: \\pi_1-\\pi_2\\neq0$\n",
    "\n",
    "Test:\n",
    "\n",
    "$z = \\frac{m_1-m_2}{\\sqrt{m_1+m_2}}$\n"
   ]
  },
  {
   "cell_type": "code",
   "execution_count": 9,
   "metadata": {
    "hidden": true
   },
   "outputs": [
    {
     "name": "stdout",
     "output_type": "stream",
     "text": [
      "Kato-Katz method success = 0.629\n",
      "Bell method success = 0.756\n"
     ]
    }
   ],
   "source": [
    "# Calculate the proportions\n",
    "kkp = 198/315\n",
    "bp = 238/315\n",
    "\n",
    "print(f'Kato-Katz method success = {kkp:.3f}')\n",
    "print(f'Bell method success = {bp:.3f}')"
   ]
  },
  {
   "cell_type": "code",
   "execution_count": 12,
   "metadata": {
    "hidden": true
   },
   "outputs": [
    {
     "name": "stdout",
     "output_type": "stream",
     "text": [
      "Z statistic = 4.8507\n",
      "p-value = 6.150937717279326e-07\n"
     ]
    }
   ],
   "source": [
    "# Calculate discordant pairs\n",
    "m1 = 54\n",
    "m2 = 14\n",
    "\n",
    "z = (m1-m2)/math.sqrt(m1+m2)\n",
    "p_value = stats.norm.sf(abs(z))\n",
    "\n",
    "print(f'Z statistic = {z:.4f}')\n",
    "print(f'p-value = {p_value}')"
   ]
  },
  {
   "cell_type": "markdown",
   "metadata": {
    "hidden": true
   },
   "source": [
    "Given the observed p-value, it is reasonable to reject the null hypothesis and conclude that the Bell method is more sensitive."
   ]
  },
  {
   "cell_type": "markdown",
   "metadata": {},
   "source": [
    "## Homework"
   ]
  },
  {
   "cell_type": "markdown",
   "metadata": {
    "heading_collapsed": true
   },
   "source": [
    "### Problem 1"
   ]
  },
  {
   "cell_type": "markdown",
   "metadata": {
    "hidden": true
   },
   "source": [
    "The local court appearances for a number of areas in Sydney were reported in the Sydney Morning Herald on 20 May 1993 as rates per 100,000. Randomly selected samples from northern and southern suburbs are listed as follows:\n",
    "\n",
    "- Northern Suburbs\n",
    "  - Manly 1997\n",
    "  - Willoughby 1091 \n",
    "  - North Sydney 1246 \n",
    "  - Warringah 1633 \n",
    "  - Wyong 2318\n",
    "  - Blacktown 1925\n",
    "  - Lane Cove 815\n",
    "- Southern Suburbs\n",
    "  - Rockdale 1578 \n",
    "  - Strathfield 1188 \n",
    "  - Botany 1839 \n",
    "  - Hurstville 1434 \n",
    "  - Sutherland 1492 \n",
    "  - Fairfield 1821"
   ]
  },
  {
   "cell_type": "markdown",
   "metadata": {
    "hidden": true
   },
   "source": [
    "a. Graph these data and comment on the display."
   ]
  },
  {
   "cell_type": "code",
   "execution_count": 45,
   "metadata": {
    "hidden": true,
    "scrolled": true
   },
   "outputs": [],
   "source": [
    "# Data\n",
    "ns = np.array([1997.0, 1091.0, 1246.0, 1633.0, 2318.0, 1925.0, 815.0])\n",
    "ns_name = ['Manly', 'Willoughby', 'NorthSydney', 'Warringah', 'Wyong',\n",
    "           'Blacktown', 'LaneCove']\n",
    "ss_name = ['Rockdale', 'Strathfield', 'Botany', 'Hurstville', 'Sutherland', \n",
    "           'Fairfield']\n",
    "ss = np.array([1578.0, 1188.0, 1839.0, 1434.0, 1492.0, 1821.0])"
   ]
  },
  {
   "cell_type": "code",
   "execution_count": 51,
   "metadata": {
    "hidden": true
   },
   "outputs": [
    {
     "name": "stdout",
     "output_type": "stream",
     "text": [
      "Northern Suburbs median: 1633.0\n",
      "Southern Suburbs median: 1535.0\n"
     ]
    },
    {
     "data": {
      "image/png": "[encoded data removed]",
      "text/plain": [
       "<Figure size 1152x576 with 1 Axes>"
      ]
     },
     "metadata": {
      "needs_background": "light"
     },
     "output_type": "display_data"
    }
   ],
   "source": [
    "# Create boxplot\n",
    "fig, ax = plt.subplots(figsize=(16,8))\n",
    "\n",
    "ax.boxplot([ns,ss])\n",
    "ax.set_xticklabels(['Northern Suburbs','Southern Suburbs'])\n",
    "ax.grid()\n",
    "ax.set_ylabel('Court appearances')\n",
    "ax.set_title('Boxplot of Court Appearances by Suburb Area');\n",
    "\n",
    "print(f'Northern Suburbs median: {np.median(ns)}')\n",
    "print(f'Southern Suburbs median: {np.median(ss)}')"
   ]
  },
  {
   "cell_type": "markdown",
   "metadata": {
    "hidden": true
   },
   "source": [
    "The median court appearances for both groups is similar with Northern Suburbs having more appearances. However the spread of the Northern Suburbs appearances is larger than that of the Southern Suburbs."
   ]
  },
  {
   "cell_type": "markdown",
   "metadata": {
    "hidden": true
   },
   "source": [
    "b. Is there evidence of a difference in the court appearance rates between the northern and southern suburbs?\n",
    "\n",
    "$H_0: \\mu_n=\\mu_s$ <br>\n",
    "$H_1: \\mu_n\\ne\\mu_s$"
   ]
  },
  {
   "cell_type": "code",
   "execution_count": 12,
   "metadata": {
    "hidden": true
   },
   "outputs": [
    {
     "data": {
      "text/plain": [
       "2.202312895722901"
      ]
     },
     "execution_count": 12,
     "metadata": {},
     "output_type": "execute_result"
    }
   ],
   "source": [
    "# Checking for equality of variance\n",
    "ns.std(ddof=1)/ss.std(ddof=1)"
   ]
  },
  {
   "cell_type": "markdown",
   "metadata": {
    "hidden": true
   },
   "source": [
    "Given that the standard deviation of one sample is over twice the other, we will use an unpooled t-test\n",
    "\n",
    "$t = \\frac{\\bar{y}_1-\\bar{y}_2}{\\sqrt{\\frac{s_1^2}{n_1}+\\frac{s_2^2}{n_2}}}$\n",
    "\n",
    "with degrees for freedom equal to\n",
    "\n",
    "$v = \\frac{\\left ( \\frac{s_1^2}{n_1}+\\frac{s_2^2}{n_2}\\right ) ^2}{\\frac{\\left ( \\frac{s_1^2}{n_1}\\right ) ^2}{n_1-1}+\\frac{\\left ( \\frac{s_2^2}{n_2}\\right ) ^2}{n_2-1}}$"
   ]
  },
  {
   "cell_type": "code",
   "execution_count": 58,
   "metadata": {
    "hidden": true
   },
   "outputs": [
    {
     "data": {
      "image/png": "[encoded data removed]",
      "text/plain": [
       "<Figure size 720x360 with 1 Axes>"
      ]
     },
     "metadata": {
      "needs_background": "light"
     },
     "output_type": "display_data"
    }
   ],
   "source": [
    "# Checking for normality assumption with a normal scores plot\n",
    "data = np.concatenate([ns,ss])\n",
    "data.sort()\n",
    "scores = stats.norm.ppf(np.arange(1,data.shape[0]+1,1)/(data.shape[0]+1))\n",
    "\n",
    "fig, ax = plt.subplots(figsize=(10,5))\n",
    "ax.scatter(x=data,y=scores)\n",
    "ax.grid()\n",
    "ax.set_title('Probability Table for Court Apperances')\n",
    "ax.set_xlabel('Court Appearances')\n",
    "ax.set_ylabel('Score');"
   ]
  },
  {
   "cell_type": "markdown",
   "metadata": {
    "hidden": true
   },
   "source": [
    "Normality assumption has been met."
   ]
  },
  {
   "cell_type": "code",
   "execution_count": 33,
   "metadata": {
    "hidden": true
   },
   "outputs": [
    {
     "name": "stdout",
     "output_type": "stream",
     "text": [
      "t-statistic = 0.07131172981165101\n",
      "degrees of freedom = 8.63416291174828\n",
      "p-value = 0.4723870164974864\n"
     ]
    }
   ],
   "source": [
    "y1 = ns.mean()\n",
    "y2 = ss.mean()\n",
    "s1 = ns.std(ddof=1)\n",
    "s2 = ss.std(ddof=1)\n",
    "n1 = ns.shape[0]\n",
    "n2 = ss.shape[0]\n",
    "\n",
    "t = (y1-y2)/math.sqrt((s1**2/n1)+(s2**2/n2))\n",
    "v = (((s1**2/n1)+(s2**2/n2))**2)/((s1**2/n1)**2/(n1-1)+(s2**2/n2)**2/(n2-1))\n",
    "p_value = stats.t.sf(t, df=v)\n",
    "print(f't-statistic = {t}')\n",
    "print(f'degrees of freedom = {v}')\n",
    "print(f'p-value = {p_value}')"
   ]
  },
  {
   "cell_type": "markdown",
   "metadata": {
    "hidden": true
   },
   "source": [
    "There is insufficient evidence to reject the null hypothesis. The average number of court appearances on both courts is roughtly equal."
   ]
  },
  {
   "cell_type": "markdown",
   "metadata": {
    "heading_collapsed": true
   },
   "source": [
    "### Problem 2"
   ]
  },
  {
   "cell_type": "markdown",
   "metadata": {
    "hidden": true
   },
   "source": [
    "Gastwirth (1988, page 526) presented the results of a random roadside survey of young male and female drivers in Oklahoma. In this survey, of 619 drivers under 20, 77 out of 404 men and 16 out of 122 women responded that they had consumed alcohol during the previous 2 hours."
   ]
  },
  {
   "cell_type": "markdown",
   "metadata": {
    "hidden": true
   },
   "source": [
    "<table>\n",
    "    <tr>\n",
    "        <td><td>\n",
    "        <td>D<td>\n",
    "        <td>ND<td>\n",
    "        <td>Total<td>\n",
    "    </tr>\n",
    "    <tr>\n",
    "        <td>Men<td>\n",
    "        <td>77<td>\n",
    "        <td>327<td>\n",
    "        <td>404<td>\n",
    "    </tr>\n",
    "    <tr>\n",
    "        <td>Women<td>\n",
    "        <td>16<td>\n",
    "        <td>106<td>\n",
    "        <td>122<td>\n",
    "    </tr>\n",
    "    <tr>\n",
    "        <td>Total<td>\n",
    "        <td>93<td>\n",
    "        <td>433<td>\n",
    "        <td>526<td>\n",
    "    </tr>\n",
    "</table>"
   ]
  },
  {
   "cell_type": "code",
   "execution_count": 2,
   "metadata": {
    "hidden": true
   },
   "outputs": [],
   "source": [
    "# Data\n",
    "n = 526\n",
    "m = 404\n",
    "w = 122\n",
    "dm = 77\n",
    "dw = 16"
   ]
  },
  {
   "cell_type": "markdown",
   "metadata": {
    "hidden": true
   },
   "source": [
    "a. Calculate the proportions of men and women drinkers."
   ]
  },
  {
   "cell_type": "code",
   "execution_count": 3,
   "metadata": {
    "hidden": true
   },
   "outputs": [
    {
     "name": "stdout",
     "output_type": "stream",
     "text": [
      "Proportion of drinking men = 0.191\n",
      "Proportion of drinking women = 0.131\n"
     ]
    }
   ],
   "source": [
    "# Proportion of drinkers per group\n",
    "pdm = dm/m\n",
    "pdw = dw/w\n",
    "\n",
    "print(f'Proportion of drinking men = {pdm:.3f}')\n",
    "print(f'Proportion of drinking women = {pdw:.3f}')"
   ]
  },
  {
   "cell_type": "markdown",
   "metadata": {
    "hidden": true
   },
   "source": [
    "b. Compare these proportions using an appropriate hypothesis test.\n",
    "\n",
    "$H_0: \\pi_m=\\pi_w$<br>\n",
    "$H_1: \\pi_m\\neq\\pi_w$\n",
    "\n",
    "$z = \\frac{p_1 - p_2}{\\sqrt{\\bar{p}(1-\\bar{p})}\\sqrt{\\frac{1}{n_1}+\\frac{1}{n_2}}}$\n",
    "\n",
    "where $\\bar{p}$ is the pooled sample proportion defined as\n",
    "\n",
    "$\\bar{p} = \\frac{n_1P_1+n_2P_2}{n_1+n_2}$\n",
    "\n",
    "The expected number of events and non-events: $n_1\\bar{p}$, $n_2\\bar{p}$, $n_1(1-\\bar{p})$, $n_2(1-\\bar{p})$ should be greater than five for the formulas to apply."
   ]
  },
  {
   "cell_type": "code",
   "execution_count": 4,
   "metadata": {
    "hidden": true
   },
   "outputs": [
    {
     "data": {
      "text/plain": [
       "(71.42965779467681, 21.570342205323197, 332.5703422053232, 100.4296577946768)"
      ]
     },
     "execution_count": 4,
     "metadata": {},
     "output_type": "execute_result"
    }
   ],
   "source": [
    "# Checking for number of events and non-events greater than 5\n",
    "pp = (m*pdm+w*pdw)/(m+w)\n",
    "\n",
    "m*pp, w*pp, m*(1-pp), w*(1-pp)"
   ]
  },
  {
   "cell_type": "code",
   "execution_count": 5,
   "metadata": {
    "hidden": true
   },
   "outputs": [
    {
     "name": "stdout",
     "output_type": "stream",
     "text": [
      "z-stat = 1.508358142560457\n",
      "p-value = 0.13146288977830156\n"
     ]
    }
   ],
   "source": [
    "# Comparing proportions\n",
    "z = (pdm-pdw)/(math.sqrt(pp*(1-pp))*math.sqrt((1/m)+(1/w)))\n",
    "p_value = stats.norm.sf(abs(z))*2\n",
    "\n",
    "print(f'z-stat = {z}')\n",
    "print(f'p-value = {p_value}')"
   ]
  },
  {
   "cell_type": "markdown",
   "metadata": {
    "hidden": true
   },
   "source": [
    "There is insufficient evidence to reject the null hypothesis. This means that the proportion of drinkers is similar for both groups."
   ]
  },
  {
   "cell_type": "markdown",
   "metadata": {
    "hidden": true
   },
   "source": [
    "c. Graph 95% confidence intervals for the two population proportions, and comment on this graph in relation to the decision in part b.\n",
    "\n",
    "Computing a confidence interval (normally 95%) from a population proportion:\n",
    "\n",
    "$\\left ( p-t_{n-1} \\sqrt{\\frac{p(1-p)}{n}},p+t_{n-1} \\sqrt{\\frac{p(1-p)}{n}} \\right )$\n",
    "\n",
    "Where $p$ is the sample proportion and $n$ is the sample size. This approximation improves as $n$ increases, and is not valid unles both $np$ and $n(1-p) \\ge 5$"
   ]
  },
  {
   "cell_type": "code",
   "execution_count": 12,
   "metadata": {
    "hidden": true
   },
   "outputs": [
    {
     "name": "stdout",
     "output_type": "stream",
     "text": [
      "95% CI for p(m) = (0.152,0.229)\n",
      "95% CI for p(w) = (0.071,0.192)\n"
     ]
    },
    {
     "data": {
      "image/png": "[encoded data removed]",
      "text/plain": [
       "<Figure size 432x288 with 1 Axes>"
      ]
     },
     "metadata": {
      "needs_background": "light"
     },
     "output_type": "display_data"
    }
   ],
   "source": [
    "alpha = .95\n",
    "\n",
    "mdiff = -stats.t.ppf((1-alpha)/2, df = m-1) * math.sqrt((pdm*(1-pdm))/m)\n",
    "wdiff = -stats.t.ppf((1-alpha)/2, df = w-1) * math.sqrt((pdw*(1-pdw))/w)\n",
    "\n",
    "mlb, mub = pdm-mdiff, pdm+mdiff\n",
    "wlb, wub = pdw-wdiff, pdw+wdiff\n",
    "\n",
    "print(f'95% CI for p(m) = ({mlb:.3f},{mub:.3f})')\n",
    "print(f'95% CI for p(w) = ({wlb:.3f},{wub:.3f})')\n",
    "\n",
    "#plt.scatter(x = [1,1, 2, 2], y = [mlb, mub, wlb, wub])\n",
    "\n",
    "plt.errorbar(x = [1,2], y=[pdm, pdw], yerr = [mdiff, wdiff], fmt = 'o')\n",
    "plt.xticks(ticks=[0,1,2,3],labels=['','Men','Women'])\n",
    "plt.grid();"
   ]
  },
  {
   "cell_type": "markdown",
   "metadata": {
    "heading_collapsed": true
   },
   "source": [
    "### Problem 3"
   ]
  },
  {
   "cell_type": "markdown",
   "metadata": {
    "hidden": true
   },
   "source": [
    "A study conducted by Warton & Goodnow (1991) sought to determine children’s attitudes to responsibility in terms of jobs around the house. Children aged 8, 11 and 14 years of age were asked to comment on the fairness of various work arrangements. The measurement recorded is the percentage of children who undertook each of 13 tasks, rather than leaving it to another family member."
   ]
  },
  {
   "cell_type": "code",
   "execution_count": 2,
   "metadata": {
    "hidden": true
   },
   "outputs": [
    {
     "name": "stdout",
     "output_type": "stream",
     "text": [
      "39\n"
     ]
    },
    {
     "data": {
      "text/plain": [
       "(13, (13,), (13,), (13,), (13,), (13,), (13,))"
      ]
     },
     "execution_count": 2,
     "metadata": {},
     "output_type": "execute_result"
    }
   ],
   "source": [
    "tasks = ['Tidy own things', 'Make own breakfast', 'Make own bed', \n",
    "         'Pick up dirty clothes', 'Clear away dishes', 'Take out garbage', \n",
    "         'Do dishes/dishwasher', 'Hang out washing', 'Set table', \n",
    "         'Bring in paper/mail', 'Wash car', 'Vacuum a room', \n",
    "         'Tidy others’ things']\n",
    "\n",
    "g8 = np.array([100, 87, 93, 80, 87, 40, 40, 40, 53, 47, 20, 27, 33])\n",
    "g11 = np.array([100, 100, 93, 87, 93, 47, 20, 33, 33, 47, 40, 20, 13])\n",
    "g14 = np.array([100,95,95,91,95,32,41,41,37,32,32,27,0])\n",
    "\n",
    "b8, b11, b14 = [],[],[]\n",
    "x=0\n",
    "tl = [int(n) for n in '100 100 100 80 73 82 60 67 95 87 67 87 53 73 73 53 47 64 40 47 41 60 53 50 80 40 27 47 53 32 53 47 45 33 40 45 33 27 23'.split(' ')]\n",
    "print(len(tl))\n",
    "for i in tl:\n",
    "    x+=1\n",
    " \n",
    "    if x>3:\n",
    "        x=1\n",
    "        \n",
    "    if x==1:\n",
    "        b8.append(i)\n",
    "    elif x==2:\n",
    "        b11.append(i)\n",
    "    elif x==3:\n",
    "        b14.append(i)\n",
    "\n",
    "b8 = np.array(b8)\n",
    "b11 = np.array(b11)\n",
    "b14 = np.array(b14)\n",
    "\n",
    "len(tasks), g8.shape, g11.shape, g14.shape, b8.shape, b11.shape, b14.shape\n",
    "    \n",
    "        "
   ]
  },
  {
   "cell_type": "markdown",
   "metadata": {
    "hidden": true
   },
   "source": [
    "a. Is there evidence of a difference between 14 year-old boys and girls in terms of their willingness to do these tasks?\n",
    "\n",
    "$t = \\frac{\\bar{y}_d}{\\frac{s_d}{\\sqrt{n}}}$"
   ]
  },
  {
   "cell_type": "code",
   "execution_count": 5,
   "metadata": {
    "hidden": true
   },
   "outputs": [
    {
     "name": "stdout",
     "output_type": "stream",
     "text": [
      "Parameters: d = -3.5385, sd = 15.0920, n = 13\n",
      "t-statistic = -0.8453540311772877\n",
      "p-value = 0.20722561057351851\n"
     ]
    }
   ],
   "source": [
    "yd = g14.mean()-b14.mean()\n",
    "sd = (g14-b14).std(ddof=1)\n",
    "n=g14.shape[0]\n",
    "\n",
    "t = yd/(sd/math.sqrt(n))\n",
    "p_value = stats.t.sf(abs(t), df=n-1)\n",
    "\n",
    "print(f'Parameters: d = {yd:.4f}, sd = {sd:.4f}, n = {n}')\n",
    "print(f't-statistic = {t}')\n",
    "print(f'p-value = {p_value}')"
   ]
  },
  {
   "cell_type": "markdown",
   "metadata": {
    "hidden": true
   },
   "source": [
    "There's no evidence to suggest a difference in the willingness to complete these tasks."
   ]
  },
  {
   "cell_type": "markdown",
   "metadata": {
    "hidden": true
   },
   "source": [
    "b. Do the percentages of 8 year-old and 11 year-old girls willing to do these tasks differ?\n",
    "\n",
    "$t=\\frac{\\bar{y}_d}{\\frac{s_d}{\\sqrt{n}}}$"
   ]
  },
  {
   "cell_type": "code",
   "execution_count": 7,
   "metadata": {
    "hidden": true
   },
   "outputs": [
    {
     "name": "stdout",
     "output_type": "stream",
     "text": [
      "Parameters: d = 1.6154, sd = 12.8032, n = 13\n",
      "t-statistic = 0.4549121851511202\n",
      "p-value = 0.3286463544328726\n"
     ]
    }
   ],
   "source": [
    "yd = g8.mean()-g11.mean()\n",
    "sd = (g8-g11).std(ddof=1)\n",
    "n=g8.shape[0]\n",
    "\n",
    "t=yd/(sd/math.sqrt(n))\n",
    "p_value = stats.t.sf(abs(t),df=n-1)\n",
    "\n",
    "print(f'Parameters: d = {yd:.4f}, sd = {sd:.4f}, n = {n}')\n",
    "print(f't-statistic = {t}')\n",
    "print(f'p-value = {p_value}')"
   ]
  },
  {
   "cell_type": "markdown",
   "metadata": {
    "hidden": true
   },
   "source": [
    "There's no evidence to suggest a difference in the willingness to complete these tasks."
   ]
  },
  {
   "cell_type": "markdown",
   "metadata": {
    "hidden": true
   },
   "source": [
    "c. Make an appropriate graph of the data used to answer part (b). Do you think that this graph supports the conclusion reached?"
   ]
  },
  {
   "cell_type": "code",
   "execution_count": 11,
   "metadata": {
    "hidden": true
   },
   "outputs": [
    {
     "data": {
      "image/png": "[encoded data removed]",
      "text/plain": [
       "<Figure size 720x360 with 1 Axes>"
      ]
     },
     "metadata": {
      "needs_background": "light"
     },
     "output_type": "display_data"
    }
   ],
   "source": [
    "plt.figure(figsize = (10,5))\n",
    "plt.boxplot(g8-g11, showmeans=True);"
   ]
  },
  {
   "cell_type": "markdown",
   "metadata": {
    "heading_collapsed": true
   },
   "source": [
    "### Problem 4"
   ]
  },
  {
   "cell_type": "markdown",
   "metadata": {
    "hidden": true
   },
   "source": [
    "Grizzle, Starmer & Koch (1969) cited a clinical trial in which each of 46 subjects was given two drugs on separate occasions, where each response was recorded simply as either ‘favourable’ or ‘unfavourable’. The results were as follows:\n",
    "\n",
    "<table>\n",
    "    <tr>\n",
    "        <td></td>\n",
    "        <td colspan=4>Drug A</td>\n",
    "    </tr>\n",
    "    <tr>\n",
    "        <td rowspan=5>Drug B</td>\n",
    "        <td></td>\n",
    "        <td>Favourable</td>\n",
    "        <td>Unfavourable</td>\n",
    "        <td>Total</td>\n",
    "    </tr>\n",
    "    <tr>\n",
    "        <td>Favourable</td>\n",
    "        <td>8</td>\n",
    "        <td>8</td>\n",
    "        <td>16</td>\n",
    "    </tr>\n",
    "    <tr>\n",
    "        <td>Unfavourable</td>\n",
    "        <td>20</td>\n",
    "        <td>10</td>\n",
    "        <td>30</td>\n",
    "    </tr>\n",
    "    <tr>\n",
    "        <td>Total</td>\n",
    "        <td>28</td>\n",
    "        <td>18</td>\n",
    "        <td>46</td>\n",
    "    </tr>\n",
    "</table>"
   ]
  },
  {
   "cell_type": "markdown",
   "metadata": {
    "hidden": true
   },
   "source": [
    "Is there any evidence of a difference between the two drugs? Answer this question after determining a p-value for an appropriate statistical test.\n",
    "\n",
    "$H_0: \\pi_1 - \\pi_2 = 0$ <br>\n",
    "$H_1: \\pi_1 - \\pi_2 \\ne 0$\n",
    "\n",
    "McNemar test\n",
    "\n",
    "$z = \\frac{m_1-m_2}{\\sqrt{m_1+m_2}}$\n",
    "\n",
    "where $m_1$ and $m_2$ are the discordant pairs of each type\n"
   ]
  },
  {
   "cell_type": "code",
   "execution_count": 6,
   "metadata": {
    "hidden": true
   },
   "outputs": [
    {
     "name": "stdout",
     "output_type": "stream",
     "text": [
      "z = 2.2677868380553634, p value = 0.023342202012890816\n"
     ]
    }
   ],
   "source": [
    "# Calculating the success proportion\n",
    "z=(20-8)/math.sqrt(20+8)\n",
    "p_value = stats.norm.sf(abs(z))*2\n",
    "\n",
    "print(f'z = {z}, p value = {p_value}')"
   ]
  },
  {
   "cell_type": "markdown",
   "metadata": {
    "heading_collapsed": true
   },
   "source": [
    "### Problem 5"
   ]
  },
  {
   "cell_type": "markdown",
   "metadata": {
    "hidden": true
   },
   "source": [
    "Tan & Choo (1990) undertook a study to examine the impact of deep-elaborative versus shallow-reiterative information processing on students’ academic performance. The students were divided into two groups before they took their final examinations in two units (Management Accounting and Accounting Information Systems) at Macquarie University, with the following results: \n",
    "\n",
    "<table>\n",
    "    <tr>\n",
    "        <td>Group</td>\n",
    "        <td>Management Accounting</td>\n",
    "        <td>Information Systems</td>\n",
    "    </tr>\n",
    "    <tr>\n",
    "        <td>Deep Elaborative</td>\n",
    "        <td>n = 24, mean = 73.08 std.dev. = 6.35 </td>\n",
    "        <td>n = 20, mean = 74.71 std.dev. = 6.86</td>\n",
    "    </tr>\n",
    "    <tr>\n",
    "        <td>Shallow Reiterative</td>\n",
    "        <td>n = 24, mean = 58.62 std.dev. = 5.15</td>\n",
    "        <td> n = 21, mean = 56.20 std.dev. = 11.05 </td>\n",
    "    </tr>\n",
    "</table>"
   ]
  },
  {
   "cell_type": "markdown",
   "metadata": {
    "hidden": true
   },
   "source": [
    "a. On the basis of these results, is there evidence of a difference between the results for the two groups?"
   ]
  },
  {
   "cell_type": "markdown",
   "metadata": {
    "hidden": true
   },
   "source": [
    "$H_0: \\mu_1-\\mu_2 = 0$ <br>\n",
    "$H_1: \\mu_1-\\mu_2 \\ne 0$\n",
    "\n",
    "$t=\\frac{\\bar{y}_1 - \\bar{y}_2}{S\\sqrt{\\frac{1}{n_1}+\\frac{1}{n_2}}}$\n",
    "\n",
    "Where S is the pooled sample standard deviation calculated as:\n",
    "\n",
    "$S = \\sqrt{\\frac{(n_1-1)s_1^2+(n_2-1)s_2^2}{n_1+n_2-2}}$\n",
    "\n",
    "Where the t-statistic has $n_1+n_2-2$ degrees of freedom"
   ]
  },
  {
   "cell_type": "code",
   "execution_count": 2,
   "metadata": {
    "hidden": true
   },
   "outputs": [
    {
     "name": "stdout",
     "output_type": "stream",
     "text": [
      "t = 8.664419079050276, p value = 1.5811781370727822e-11\n"
     ]
    }
   ],
   "source": [
    "# Management accounting test\n",
    "s = math.sqrt(((23*6.35**2)+(23*5.15**2))/46)\n",
    "t = (73.08-58.62)/(s*math.sqrt((1/24)+(1/24)))\n",
    "p_value = stats.t.sf(abs(t),df=46)\n",
    "\n",
    "print(f't = {t}, p value = {p_value}')"
   ]
  },
  {
   "cell_type": "code",
   "execution_count": 3,
   "metadata": {
    "hidden": true
   },
   "outputs": [
    {
     "name": "stdout",
     "output_type": "stream",
     "text": [
      "t = 6.405404280132107, p value = 7.087913692196625e-08\n"
     ]
    }
   ],
   "source": [
    "# Information systems test\n",
    "s = math.sqrt(((19*6.86**2)+(20*11.05**2))/39)\n",
    "t = (74.71-56.20)/(s*math.sqrt((1/20)+(1/21)))\n",
    "p_value = stats.t.sf(abs(t),df=39)\n",
    "\n",
    "print(f't = {t}, p value = {p_value}')"
   ]
  },
  {
   "cell_type": "markdown",
   "metadata": {
    "hidden": true
   },
   "source": [
    "b. For those in the ‘shallow reiterative’ group, is the mean score obtained by those taking the Management Accounting examination different from that obtained by those taking the Information Systems examination?"
   ]
  },
  {
   "cell_type": "markdown",
   "metadata": {
    "hidden": true
   },
   "source": [
    "MA standard deviation is les than 2 times IS standard deviation. Unpooled t test to be used\n",
    "\n",
    "$t = \\frac{\\bar{y}_1-\\bar{y}_2}{\\sqrt{\\frac{s_1^2}{n_1}+\\frac{s_2^2}{n_2}}}$\n",
    "\n",
    "with degrees for freedom equal to\n",
    "\n",
    "$v = \\frac{\\left ( \\frac{s_1^2}{n_1}+\\frac{s_2^2}{n_2}\\right ) ^2}{\\frac{\\left ( \\frac{s_1^2}{n_1}\\right ) ^2}{n_1-1}+\\frac{\\left ( \\frac{s_2^2}{n_2}\\right ) ^2}{n_2-1}}$"
   ]
  },
  {
   "cell_type": "code",
   "execution_count": 7,
   "metadata": {
    "hidden": true
   },
   "outputs": [],
   "source": [
    "def deg_f(s1,s2,n1,n2):\n",
    "    a = ((s1**2/n1)+(s2**2/n2))**2\n",
    "    b = (s1**2/n1)**2\n",
    "    c = (s2**2/n2)**2\n",
    "    d = b/(n1-1)\n",
    "    e = c/(n2-1)\n",
    "    \n",
    "    return a/(d+e)"
   ]
  },
  {
   "cell_type": "code",
   "execution_count": 8,
   "metadata": {
    "hidden": true
   },
   "outputs": [
    {
     "name": "stdout",
     "output_type": "stream",
     "text": [
      "t = 0.9199786080329123, df = 27.462354292015483, p value = 0.18279742750986955\n"
     ]
    }
   ],
   "source": [
    "t = (58.62-56.20)/math.sqrt(5.15**2/24 + 11.05**2/21)\n",
    "df = deg_f(5.15,11.05,24,21)\n",
    "\n",
    "p_value = stats.t.sf(abs(t),df=df)\n",
    "\n",
    "print(f't = {t}, df = {df}, p value = {p_value}')"
   ]
  },
  {
   "cell_type": "markdown",
   "metadata": {
    "hidden": true
   },
   "source": [
    "c. Is there any evidence that any of the statistical assumptions are violated?"
   ]
  },
  {
   "cell_type": "markdown",
   "metadata": {
    "hidden": true
   },
   "source": [
    "No, unpooled test should be used for second"
   ]
  },
  {
   "cell_type": "markdown",
   "metadata": {
    "heading_collapsed": true
   },
   "source": [
    "### Problem 6"
   ]
  },
  {
   "cell_type": "markdown",
   "metadata": {
    "hidden": true
   },
   "source": [
    "Selvin (2004, Table 2.1) quoted some data from a study carried out in California among 3,154 middle-aged men in 1960-61 to investigate the relation between behaviour pattern and the risk of coronary heart disease. For the 40 heaviest men in the study, 20 were found to exhibit type A behaviour (characterised by urgency, aggression and ambition) while the other 20 exhibited type B behaviour (relaxed, non-competitive and less hurried). Their cholesterol levels, in mg/100 ml, were recorded as follows: \n",
    "\n",
    "Type A: 233 291 312 250 246 197 268 224 239 239 254 276 234 181 248 252 202 218 212 325 <br>\n",
    "Type B: 344 185 263 246 224 212 188 250 148 169 226 175 242 252 153 183 137 202 194 213 "
   ]
  },
  {
   "cell_type": "markdown",
   "metadata": {
    "hidden": true
   },
   "source": [
    "Among heavy middle-aged men in this target population, is cholesterol level related to behaviour type? Answer this question by first making a graph of the data and then computing a p-value for an appropriate statistical test, and then state your conclusion.\n",
    "\n",
    "$H_0: \\mu_A = \\mu_B$ <br>\n",
    "$H_1: \\mu_A \\ne \\mu_B$"
   ]
  },
  {
   "cell_type": "code",
   "execution_count": 9,
   "metadata": {
    "hidden": true
   },
   "outputs": [],
   "source": [
    "a = np.array([float(i) for i in '233 291 312 250 246 197 268 224 239 239 254 276 234 181 248 252 202 218 212 325'.split(' ')])\n",
    "b = np.array([float(i) for i in '344 185 263 246 224 212 188 250 148 169 226 175 242 252 153 183 137 202 194 213'.split(' ')])"
   ]
  },
  {
   "cell_type": "code",
   "execution_count": 10,
   "metadata": {
    "hidden": true
   },
   "outputs": [
    {
     "data": {
      "text/plain": [
       "(array([233., 291., 312., 250., 246., 197., 268., 224., 239., 239., 254.,\n",
       "        276., 234., 181., 248., 252., 202., 218., 212., 325.]),\n",
       " array([344., 185., 263., 246., 224., 212., 188., 250., 148., 169., 226.,\n",
       "        175., 242., 252., 153., 183., 137., 202., 194., 213.]))"
      ]
     },
     "execution_count": 10,
     "metadata": {},
     "output_type": "execute_result"
    }
   ],
   "source": [
    "a,b"
   ]
  },
  {
   "cell_type": "code",
   "execution_count": 37,
   "metadata": {
    "hidden": true
   },
   "outputs": [
    {
     "data": {
      "text/plain": [
       "''"
      ]
     },
     "execution_count": 37,
     "metadata": {},
     "output_type": "execute_result"
    },
    {
     "data": {
      "image/png": "[encoded data removed]",
      "text/plain": [
       "<Figure size 432x288 with 1 Axes>"
      ]
     },
     "metadata": {
      "needs_background": "light"
     },
     "output_type": "display_data"
    }
   ],
   "source": [
    "fig, ax = plt.subplots()\n",
    "\n",
    "ax.boxplot([a,b],labels=['Type A', 'Type B'])\n",
    "ax.scatter([1,2],[a.mean(),b.mean()],marker='.')\n",
    ";"
   ]
  },
  {
   "cell_type": "code",
   "execution_count": 39,
   "metadata": {
    "hidden": true
   },
   "outputs": [
    {
     "data": {
      "text/plain": [
       "1.3193816614500926"
      ]
     },
     "execution_count": 39,
     "metadata": {},
     "output_type": "execute_result"
    }
   ],
   "source": [
    "# Check assumption for pooled variances\n",
    "max(a.std(ddof=1),b.std(ddof=1))/min(a.std(ddof=1),b.std(ddof=1))"
   ]
  },
  {
   "cell_type": "code",
   "execution_count": 61,
   "metadata": {
    "hidden": true
   },
   "outputs": [
    {
     "data": {
      "text/plain": [
       "Text(0.5, 0, 'Scores')"
      ]
     },
     "execution_count": 61,
     "metadata": {},
     "output_type": "execute_result"
    },
    {
     "data": {
      "image/png": "[encoded data removed]",
      "text/plain": [
       "<Figure size 432x288 with 1 Axes>"
      ]
     },
     "metadata": {
      "needs_background": "light"
     },
     "output_type": "display_data"
    }
   ],
   "source": [
    "# Check for normality\n",
    "\n",
    "values = np.concatenate([a,b])\n",
    "values.sort()\n",
    "scores = stats.norm.ppf(np.arange(1,values.shape[0]+1,1)/(values.shape[0]+1))\n",
    "\n",
    "fig, ax = plt.subplots()\n",
    "ax.scatter(scores,values)\n",
    "ax.set_title('Normal Scores Plot')\n",
    "ax.set_ylabel('Values')\n",
    "ax.set_xlabel('Scores')"
   ]
  },
  {
   "cell_type": "markdown",
   "metadata": {
    "hidden": true
   },
   "source": [
    "Pooled variances t test\n",
    "\n",
    "$t=\\frac{\\bar{y}_1 - \\bar{y}_2}{S\\sqrt{\\frac{1}{n_1}+\\frac{1}{n_2}}}$\n",
    "\n",
    "Where S is the pooled sample standard deviation calculated as:\n",
    "\n",
    "$S = \\sqrt{\\frac{(n_1-1)s_1^2+(n_2-1)s_2^2}{n_1+n_2-2}}$\n",
    "\n",
    "Where the t-statistic has $n_1+n_2-2$ degrees of freedom"
   ]
  },
  {
   "cell_type": "code",
   "execution_count": 71,
   "metadata": {
    "hidden": true
   },
   "outputs": [
    {
     "name": "stdout",
     "output_type": "stream",
     "text": [
      "t stat = 2.5621127281853386, df = 38, p value = 0.014491988612130562\n"
     ]
    }
   ],
   "source": [
    "s = math.sqrt(((a.shape[0]-1)*(a.std(ddof=1)**2)+(b.shape[0]-1)*(b.std(ddof=1)**2))/(a.shape[0]+b.shape[0]-2))\n",
    "t = (a.mean()-b.mean())/(s*math.sqrt((1/a.shape[0])+(1/b.shape[0])))\n",
    "p_value = stats.t.sf(abs(t),df=a.shape[0]+b.shape[0]-2)*2\n",
    "\n",
    "print(f't stat = {t}, df = {a.shape[0]+b.shape[0]-2}, p value = {p_value}')"
   ]
  },
  {
   "cell_type": "code",
   "execution_count": 72,
   "metadata": {
    "hidden": true
   },
   "outputs": [
    {
     "name": "stdout",
     "output_type": "stream",
     "text": [
      "t stat = 2.5621127281853386, p value = 0.014491988612130562\n"
     ]
    }
   ],
   "source": [
    "t, p_value = stats.ttest_ind(a,b)\n",
    "print(f't stat = {t}, p value = {p_value}')"
   ]
  },
  {
   "cell_type": "markdown",
   "metadata": {
    "heading_collapsed": true
   },
   "source": [
    "### Problem 7"
   ]
  },
  {
   "cell_type": "markdown",
   "metadata": {
    "hidden": true
   },
   "source": [
    "Hand et al (1994, page 318) have listed data from a study comparing prices of a standard (one-fifth of a US gallon) bottle of Seagram 7 Crown Whisky in different states of the USA in 1961. These states were classified according to whether the liquor stores in the state were privately owned or state monopolised. The prices in US dollars: \n",
    "\n",
    "16 monopoly states: <br>\n",
    "4.55 4.11 4.15 4.20 4.55 3.80 4.00 4.19 4.75 4.74 4.50 4.10 4.00 5.05 5.20 \n",
    "\n",
    "26 private-ownership states:<br>\n",
    "4.82 5.29 4.89 4.95 4.55 4.90 5.25 5.30 4.29 4.85 4.54 4.75 4.85 4.85 4.50 4.75 4.79 4.85 4.79 4.95 4.66 4.75 5.20 5.10 4.80 4.29 \n",
    "\n",
    "Compare these two samples using appropriate statistical methods. "
   ]
  },
  {
   "cell_type": "markdown",
   "metadata": {
    "hidden": true
   },
   "source": [
    "$H_0: \\mu_S = \\mu_P$<br>\n",
    "$H_1: \\mu_S \\ne \\mu_P$"
   ]
  },
  {
   "cell_type": "code",
   "execution_count": 76,
   "metadata": {
    "hidden": true
   },
   "outputs": [
    {
     "data": {
      "text/plain": [
       "((15,), (26,))"
      ]
     },
     "execution_count": 76,
     "metadata": {},
     "output_type": "execute_result"
    }
   ],
   "source": [
    "state = np.array([float(i) for i in '4.55 4.11 4.15 4.20 4.55 3.80 4.00 4.19 4.75 4.74 4.50 4.10 4.00 5.05 5.20'.split(' ')])\n",
    "private = np.array([float(i) for i in '4.82 5.29 4.89 4.95 4.55 4.90 5.25 5.30 4.29 4.85 4.54 4.75 4.85 4.85 4.50 4.75 4.79 4.85 4.79 4.95 4.66 4.75 5.20 5.10 4.80 4.29'.split(' ')])\n",
    "\n",
    "state.shape, private.shape"
   ]
  },
  {
   "cell_type": "code",
   "execution_count": 126,
   "metadata": {
    "hidden": true
   },
   "outputs": [
    {
     "data": {
      "image/png": "[encoded data removed]",
      "text/plain": [
       "<Figure size 864x576 with 3 Axes>"
      ]
     },
     "metadata": {
      "needs_background": "light"
     },
     "output_type": "display_data"
    }
   ],
   "source": [
    "# Visualise data\n",
    "plt.subplots(2,2, figsize=(12,8))\n",
    "\n",
    "plt.subplot(2,1,1)\n",
    "plt.boxplot([state,private],labels=['State','Private']);\n",
    "plt.ylabel('Price')\n",
    "\n",
    "plt.subplot(2,2,3)\n",
    "sns.kdeplot(state)\n",
    "plt.ylabel('Count')\n",
    "\n",
    "plt.subplot(2,2,4)\n",
    "sns.kdeplot(private);"
   ]
  },
  {
   "cell_type": "code",
   "execution_count": 127,
   "metadata": {
    "hidden": true
   },
   "outputs": [
    {
     "data": {
      "text/plain": [
       "<matplotlib.collections.PathCollection at 0x7fba8e568b50>"
      ]
     },
     "execution_count": 127,
     "metadata": {},
     "output_type": "execute_result"
    },
    {
     "data": {
      "image/png": "[encoded data removed]",
      "text/plain": [
       "<Figure size 432x288 with 1 Axes>"
      ]
     },
     "metadata": {
      "needs_background": "light"
     },
     "output_type": "display_data"
    }
   ],
   "source": [
    "# Check for normality\n",
    "values = np.concatenate([state,private])\n",
    "values.sort()\n",
    "scores = stats.norm.ppf(np.arange(1,values.shape[0]+1,1)/(values.shape[0]+1))\n",
    "\n",
    "plt.scatter(scores,values)"
   ]
  },
  {
   "cell_type": "code",
   "execution_count": 128,
   "metadata": {
    "hidden": true
   },
   "outputs": [
    {
     "data": {
      "text/plain": [
       "1.544042638032973"
      ]
     },
     "execution_count": 128,
     "metadata": {},
     "output_type": "execute_result"
    }
   ],
   "source": [
    "# Check for equal variance\n",
    "max(state.std(ddof=1),private.std(ddof=1))/min(state.std(ddof=1),private.std(ddof=1))"
   ]
  },
  {
   "cell_type": "code",
   "execution_count": 129,
   "metadata": {
    "hidden": true
   },
   "outputs": [
    {
     "name": "stdout",
     "output_type": "stream",
     "text": [
      "t stat = -4.1244, p_value = 0.0002\n"
     ]
    }
   ],
   "source": [
    "t, p_value = stats.ttest_ind(state,private)\n",
    "print(f't stat = {t:.4f}, p_value = {p_value:.4f}')"
   ]
  },
  {
   "cell_type": "markdown",
   "metadata": {
    "heading_collapsed": true
   },
   "source": [
    "### Problem 8"
   ]
  },
  {
   "cell_type": "markdown",
   "metadata": {
    "hidden": true
   },
   "source": [
    "In the year before the introduction of random breath testing for motorists in a city the number of motor vehicle fatalities in which the driver was found to have been drinking to excess was 163. In the following year the number of such fatalities dropped to 130. Carry out a statistical test to determine whether the rate of such drink- driving fatalities changed. Assume that the population at risk has not changed. \n",
    "\n",
    "Hint: Since the size of the population at risk is unknown, assume a large value for it. To what extent does your answer depend on the size of this population?"
   ]
  },
  {
   "cell_type": "markdown",
   "metadata": {
    "hidden": true
   },
   "source": [
    "$H_0: \\mu_{y1} = \\mu_{y2}$ <br>\n",
    "$H_1: \\mu_{y1} \\ne \\mu_{y2}$\n",
    "\n",
    "Z statistic \n",
    "\n",
    "$$z = \\frac{p_1 - p_2}{\\sqrt{\\bar{p}(1-\\bar{p})}\\sqrt{\\frac{1}{n_1}+\\frac{1}{n_2}}}$$\n",
    "\n",
    "where $\\bar{p}$ is the pooled sample proportion defined as\n",
    "\n",
    "$$\\bar{p} = \\frac{n_1P_1+n_2P_2}{n_1+n_2}$$\n",
    "\n",
    "The expected number of events and non-events: $n_1\\bar{p}$, $n_2\\bar{p}$, $n_1(1-\\bar{p})$, $n_2(1-\\bar{p})$ should be greater than five for the formulas to apply."
   ]
  },
  {
   "cell_type": "code",
   "execution_count": 177,
   "metadata": {
    "hidden": true
   },
   "outputs": [],
   "source": [
    "random.seed(101)\n",
    "n = np.array([random.randint(200,500),random.randint(1000,10000),random.randint(10000,100000),random.randint(10000000,1000000000)])\n",
    "y1 = 163\n",
    "y2 = 130\n",
    "\n",
    "p1 = y1/n\n",
    "p2 = y2/n"
   ]
  },
  {
   "cell_type": "code",
   "execution_count": 178,
   "metadata": {
    "hidden": true
   },
   "outputs": [
    {
     "data": {
      "text/plain": [
       "(array([      497,      4190,     80677, 395124058]),\n",
       " array([3.27967807e-01, 3.89021480e-02, 2.02040235e-03, 4.12528665e-07]),\n",
       " array([2.61569416e-01, 3.10262530e-02, 1.61136383e-03, 3.29010591e-07]))"
      ]
     },
     "execution_count": 178,
     "metadata": {},
     "output_type": "execute_result"
    }
   ],
   "source": [
    "n,p1,p2"
   ]
  },
  {
   "cell_type": "code",
   "execution_count": 179,
   "metadata": {
    "hidden": true
   },
   "outputs": [],
   "source": [
    "def pooled_proportion(p1,p2,n1,n2):\n",
    "    return (n1*p1+n1*p2)/(n1+n2)\n",
    "    \n",
    "def assumption_check(p, n1, n2):\n",
    "    return (n1*p>5) & (n2*p>5) & (n1*(1-p)>5) & (n2*(1-p)>5)\n",
    "\n",
    "def z_test(p1,p2,n1,n2):\n",
    "    p = pooled_proportion(p1,p2,n1,n2)\n",
    "    if assumption_check(p,n1,n2):\n",
    "        return (p1-p2)/(math.sqrt(p*(1-p))*math.sqrt(1/n1+1/n2))\n",
    "    else:\n",
    "        return None\n",
    "    "
   ]
  },
  {
   "cell_type": "code",
   "execution_count": 180,
   "metadata": {
    "hidden": true
   },
   "outputs": [
    {
     "name": "stdout",
     "output_type": "stream",
     "text": [
      "z = 2.2956956585359305, p_value = 0.021693288861960182\n",
      "z = 1.9624943607126861, p_value = 0.049704956522022004\n",
      "z = 1.9296333752466033, p_value = 0.053652280413288844\n",
      "z = 1.9278809422619372, p_value = 0.05386993672893615\n"
     ]
    }
   ],
   "source": [
    "for y1p,y2p,yn in zip(p1,p2,n):\n",
    "    z_score = z_test(y1p,y2p,yn,yn)\n",
    "    print(f'z = {z_score}, p_value = {stats.norm.sf(abs(z_score))*2}')\n",
    "    "
   ]
  },
  {
   "cell_type": "markdown",
   "metadata": {
    "heading_collapsed": true
   },
   "source": [
    "### Problem 9"
   ]
  },
  {
   "cell_type": "markdown",
   "metadata": {
    "hidden": true
   },
   "source": [
    "The following table gives estimates of unemployment rates based on sample survey data for September 1992 and December 1992 in various regions in and around Sydney, as reported by the federal Department of Employment, Education and Training and published in the Sydney Morning Herald on 7 May 1993. \n",
    "\n",
    "- Regions: Inner Sydney, Inner West, Eastern Suburbs, St George/Sutherland, Canterbury/Bankstown, Fairfield/Liverpool, Outer South-West, Central West, Outer West, Blacktown/Baulkham Hills, Lower North, Hornsby/Ku-Ring-Gai, Manly/Warringah, Gosford/Wyong, Hunter \n",
    "- Sept '92: 11 9 6 5 13 17 11 12 8 11 5 6 4 13 12 \n",
    "- Dec '92: 9 10 6 6 12 21 10 16 7 12 6 8 5 11 13 "
   ]
  },
  {
   "cell_type": "markdown",
   "metadata": {
    "hidden": true
   },
   "source": [
    "a. Graph these data appropriately."
   ]
  },
  {
   "cell_type": "code",
   "execution_count": 8,
   "metadata": {
    "hidden": true
   },
   "outputs": [],
   "source": [
    "regions = np.array('Inner Sydney, Inner West, Eastern Suburbs, St George/Sutherland, Canterbury/Bankstown, Fairfield/Liverpool, Outer South-West, Central West, Outer West, Blacktown/Baulkham Hills, Lower North, Hornsby/Ku-Ring-Gai, Manly/Warringah, Gosford/Wyong, Hunter'.split(','))\n",
    "sept92 = np.array([float(i) for i in '11 9 6 5 13 17 11 12 8 11 5 6 4 13 12'.split(' ')])\n",
    "dec92 = np.array([float(i) for i in '9 10 6 6 12 21 10 16 7 12 6 8 5 11 13'.split(' ')])\n",
    "unemployment = pd.DataFrame({'sept92':sept92,'dec92':dec92},index=regions)"
   ]
  },
  {
   "cell_type": "code",
   "execution_count": 9,
   "metadata": {
    "hidden": true
   },
   "outputs": [
    {
     "data": {
      "text/html": [
       "<div>\n",
       "<style scoped>\n",
       "    .dataframe tbody tr th:only-of-type {\n",
       "        vertical-align: middle;\n",
       "    }\n",
       "\n",
       "    .dataframe tbody tr th {\n",
       "        vertical-align: top;\n",
       "    }\n",
       "\n",
       "    .dataframe thead th {\n",
       "        text-align: right;\n",
       "    }\n",
       "</style>\n",
       "<table border=\"1\" class=\"dataframe\">\n",
       "  <thead>\n",
       "    <tr style=\"text-align: right;\">\n",
       "      <th></th>\n",
       "      <th>sept92</th>\n",
       "      <th>dec92</th>\n",
       "    </tr>\n",
       "  </thead>\n",
       "  <tbody>\n",
       "    <tr>\n",
       "      <th>Inner Sydney</th>\n",
       "      <td>11.0</td>\n",
       "      <td>9.0</td>\n",
       "    </tr>\n",
       "    <tr>\n",
       "      <th>Inner West</th>\n",
       "      <td>9.0</td>\n",
       "      <td>10.0</td>\n",
       "    </tr>\n",
       "    <tr>\n",
       "      <th>Eastern Suburbs</th>\n",
       "      <td>6.0</td>\n",
       "      <td>6.0</td>\n",
       "    </tr>\n",
       "    <tr>\n",
       "      <th>St George/Sutherland</th>\n",
       "      <td>5.0</td>\n",
       "      <td>6.0</td>\n",
       "    </tr>\n",
       "    <tr>\n",
       "      <th>Canterbury/Bankstown</th>\n",
       "      <td>13.0</td>\n",
       "      <td>12.0</td>\n",
       "    </tr>\n",
       "  </tbody>\n",
       "</table>\n",
       "</div>"
      ],
      "text/plain": [
       "                       sept92  dec92\n",
       "Inner Sydney             11.0    9.0\n",
       " Inner West               9.0   10.0\n",
       " Eastern Suburbs          6.0    6.0\n",
       " St George/Sutherland     5.0    6.0\n",
       " Canterbury/Bankstown    13.0   12.0"
      ]
     },
     "execution_count": 9,
     "metadata": {},
     "output_type": "execute_result"
    }
   ],
   "source": [
    "unemployment.head()"
   ]
  },
  {
   "cell_type": "code",
   "execution_count": 11,
   "metadata": {
    "hidden": true
   },
   "outputs": [],
   "source": [
    "unemployment['difference'] = unemployment['dec92']-unemployment['sept92']"
   ]
  },
  {
   "cell_type": "code",
   "execution_count": 17,
   "metadata": {
    "hidden": true
   },
   "outputs": [
    {
     "data": {
      "text/plain": [
       "<matplotlib.axes._subplots.AxesSubplot at 0x7f7346cf8a90>"
      ]
     },
     "execution_count": 17,
     "metadata": {},
     "output_type": "execute_result"
    },
    {
     "data": {
      "image/png": "[encoded data removed]",
      "text/plain": [
       "<Figure size 432x288 with 1 Axes>"
      ]
     },
     "metadata": {
      "needs_background": "light"
     },
     "output_type": "display_data"
    }
   ],
   "source": [
    "unemployment['difference'].plot(kind='hist')"
   ]
  },
  {
   "cell_type": "markdown",
   "metadata": {
    "hidden": true
   },
   "source": [
    "b. Was there a change in the unemployment rate between the September 1992 and December 1992 quarters? Answer this question using a statistical test, and give a 95% confidence interval for the change. \n",
    "\n",
    "$H_0: \\mu_{sept}=\\mu_{dec}$ <br>\n",
    "$H_1: \\mu_{sept}\\ne\\mu_{dec}$"
   ]
  },
  {
   "cell_type": "code",
   "execution_count": 19,
   "metadata": {
    "hidden": true
   },
   "outputs": [
    {
     "data": {
      "text/plain": [
       "<matplotlib.collections.PathCollection at 0x7f73428b8450>"
      ]
     },
     "execution_count": 19,
     "metadata": {},
     "output_type": "execute_result"
    },
    {
     "data": {
      "image/png": "[encoded data removed]",
      "text/plain": [
       "<Figure size 432x288 with 1 Axes>"
      ]
     },
     "metadata": {
      "needs_background": "light"
     },
     "output_type": "display_data"
    }
   ],
   "source": [
    "# Testing for normality\n",
    "values = np.concatenate([sept92,dec92])\n",
    "values.sort()\n",
    "\n",
    "scores = stats.norm.ppf(np.arange(1,values.shape[0]+1,1)/(values.shape[0]+1))\n",
    "\n",
    "plt.scatter(scores,values)"
   ]
  },
  {
   "cell_type": "code",
   "execution_count": 21,
   "metadata": {
    "hidden": true
   },
   "outputs": [
    {
     "data": {
      "text/plain": [
       "sept92        3.758166\n",
       "dec92         4.323799\n",
       "difference    1.843909\n",
       "dtype: float64"
      ]
     },
     "execution_count": 21,
     "metadata": {},
     "output_type": "execute_result"
    }
   ],
   "source": [
    "# Test for pooled variances\n",
    "unemployment.std()"
   ]
  },
  {
   "cell_type": "code",
   "execution_count": 23,
   "metadata": {
    "hidden": true
   },
   "outputs": [
    {
     "data": {
      "text/plain": [
       "(-1.260252075625209, 0.22818003635898285)"
      ]
     },
     "execution_count": 23,
     "metadata": {},
     "output_type": "execute_result"
    }
   ],
   "source": [
    "t, p_value = stats.ttest_rel(sept92,dec92)\n",
    "t,p_value"
   ]
  },
  {
   "cell_type": "markdown",
   "metadata": {
    "hidden": true
   },
   "source": [
    "$\\left ( \\bar{y}-t_{n-1} \\frac{s}{\\sqrt{n}},\\bar{y}+t_{n-1} \\frac{s}{\\sqrt{n}} \\right )$\n",
    "\n",
    "Where $\\bar{y}$ is the sample mean, $n$ the sample size, $s$ the sample standard deviation and $t_{n-1}$ the critical value. "
   ]
  },
  {
   "cell_type": "code",
   "execution_count": 30,
   "metadata": {
    "hidden": true
   },
   "outputs": [
    {
     "data": {
      "text/plain": [
       "0.6"
      ]
     },
     "execution_count": 30,
     "metadata": {},
     "output_type": "execute_result"
    }
   ],
   "source": [
    "unemployment['difference'].mean()"
   ]
  },
  {
   "cell_type": "code",
   "execution_count": 39,
   "metadata": {
    "hidden": true
   },
   "outputs": [
    {
     "data": {
      "text/plain": [
       "(-0.42112270841668054, 1.6211227084166806)"
      ]
     },
     "execution_count": 39,
     "metadata": {},
     "output_type": "execute_result"
    }
   ],
   "source": [
    "deviation = abs(stats.t.ppf(.025,df=unemployment['difference'].shape[0]-1))*\\\n",
    "(unemployment['difference'].std(ddof=1)/math.sqrt(unemployment['difference'].shape[0]))\n",
    "\n",
    "unemployment['difference'].mean()-deviation,unemployment['difference'].mean()+deviation"
   ]
  },
  {
   "cell_type": "markdown",
   "metadata": {
    "heading_collapsed": true
   },
   "source": [
    "### Problem 10"
   ]
  },
  {
   "cell_type": "markdown",
   "metadata": {
    "hidden": true
   },
   "source": [
    "Till (1974, page 104) reported the following three samples of salinity values (in parts per thousand) taken from different water masses in the Bimini Lagoon, Bahamas. \n",
    "Compare the salinity values in these three water masses, using methods covered in Chapter 8. "
   ]
  },
  {
   "cell_type": "code",
   "execution_count": 40,
   "metadata": {
    "hidden": true
   },
   "outputs": [],
   "source": [
    "mass1 = np.array([float(i) for i in '37.54 37.01 36.71 37.03 37.32 37.01 37.03 37.70 36.36 37.75 37.45 38.85'.split(' ')])\n",
    "mass2 = np.array([float(i) for i in '40.17 40.80 39.76 39.70 40.79 40.44 39.79 39.38'.split(' ')])\n",
    "mass3 = np.array([float(i) for i in '39.04 39.21 39.05 38.24 38.53 38.71 38.89 38.66 38.51 40.08'.split(' ')])"
   ]
  },
  {
   "cell_type": "code",
   "execution_count": 46,
   "metadata": {
    "hidden": true
   },
   "outputs": [
    {
     "data": {
      "image/png": "[encoded data removed]",
      "text/plain": [
       "<Figure size 432x288 with 1 Axes>"
      ]
     },
     "metadata": {
      "needs_background": "light"
     },
     "output_type": "display_data"
    }
   ],
   "source": [
    "plt.boxplot([mass1,mass2,mass3],labels=['Mass I','Mass II','Mass III'])\n",
    "plt.scatter([1,2,3],[mass1.mean(),mass2.mean(),mass3.mean()],marker='.')\n",
    "plt.ylabel('Salinity')\n",
    "plt.grid()"
   ]
  },
  {
   "cell_type": "code",
   "execution_count": 50,
   "metadata": {
    "hidden": true
   },
   "outputs": [
    {
     "data": {
      "text/plain": [
       "<matplotlib.collections.PathCollection at 0x7f7341066e90>"
      ]
     },
     "execution_count": 50,
     "metadata": {},
     "output_type": "execute_result"
    },
    {
     "data": {
      "image/png": "[encoded data removed]",
      "text/plain": [
       "<Figure size 432x288 with 1 Axes>"
      ]
     },
     "metadata": {
      "needs_background": "light"
     },
     "output_type": "display_data"
    }
   ],
   "source": [
    "# Normality Check\n",
    "values = np.concatenate([mass1,mass2,mass3])\n",
    "values.sort()\n",
    "scores = stats.norm.ppf(np.arange(1,values.shape[0]+1,1)/(values.shape[0]+1))\n",
    "\n",
    "plt.scatter(scores,values)"
   ]
  },
  {
   "cell_type": "code",
   "execution_count": 55,
   "metadata": {
    "hidden": true
   },
   "outputs": [
    {
     "data": {
      "text/plain": [
       "(0.6316692652061372, 0.5313846468022401, 0.5792063535563118)"
      ]
     },
     "execution_count": 55,
     "metadata": {},
     "output_type": "execute_result"
    }
   ],
   "source": [
    "mass1.std(ddof=1),mass2.std(ddof=1),mass3.std(ddof=3)"
   ]
  },
  {
   "cell_type": "markdown",
   "metadata": {
    "hidden": true
   },
   "source": [
    "$H_0: \\mu_{MI} = \\mu_{MII}$<br>\n",
    "$H_1: \\mu_{MI} \\ne \\mu_{MII}$"
   ]
  },
  {
   "cell_type": "code",
   "execution_count": 57,
   "metadata": {
    "hidden": true
   },
   "outputs": [
    {
     "data": {
      "text/plain": [
       "Ttest_indResult(statistic=-10.280267327576846, pvalue=5.8268084395292095e-09)"
      ]
     },
     "execution_count": 57,
     "metadata": {},
     "output_type": "execute_result"
    }
   ],
   "source": [
    "stats.ttest_ind(mass1,mass2)"
   ]
  },
  {
   "cell_type": "markdown",
   "metadata": {
    "hidden": true
   },
   "source": [
    "$H_0: \\mu_{MI} = \\mu_{MIII}$<br>\n",
    "$H_1: \\mu_{MI} \\ne \\mu_{MIII}$"
   ]
  },
  {
   "cell_type": "code",
   "execution_count": 60,
   "metadata": {
    "hidden": true
   },
   "outputs": [
    {
     "data": {
      "text/plain": [
       "Ttest_indResult(statistic=-6.352397905214049, pvalue=3.3681827406640423e-06)"
      ]
     },
     "execution_count": 60,
     "metadata": {},
     "output_type": "execute_result"
    }
   ],
   "source": [
    "stats.ttest_ind(mass1,mass3)"
   ]
  },
  {
   "cell_type": "markdown",
   "metadata": {
    "hidden": true
   },
   "source": [
    "$H_0: \\mu_{MII} = \\mu_{MIII}$<br>\n",
    "$H_1: \\mu_{MII} \\ne \\mu_{MIII}$"
   ]
  },
  {
   "cell_type": "code",
   "execution_count": 59,
   "metadata": {
    "hidden": true
   },
   "outputs": [
    {
     "data": {
      "text/plain": [
       "Ttest_indResult(statistic=4.913504302463095, pvalue=0.00015587585149787715)"
      ]
     },
     "execution_count": 59,
     "metadata": {},
     "output_type": "execute_result"
    }
   ],
   "source": [
    "stats.ttest_ind(mass2,mass3)"
   ]
  },
  {
   "cell_type": "markdown",
   "metadata": {},
   "source": [
    "### Problem 11"
   ]
  },
  {
   "cell_type": "markdown",
   "metadata": {},
   "source": [
    "Suppose you have two alternative routes (A or B, say) for getting from your home to your place of work, and you are not sure which route is quicker. To find the answer, you persuade a colleague who lives near you to join you in an experiment. On the first day you take Route A and your colleague takes Route B, and the next day you take Route B and your colleague takes Route A, continuing in this way for an even number of days. The following times in minutes are recorded after four days: "
   ]
  },
  {
   "cell_type": "code",
   "execution_count": 72,
   "metadata": {},
   "outputs": [
    {
     "data": {
      "text/html": [
       "<div>\n",
       "<style scoped>\n",
       "    .dataframe tbody tr th:only-of-type {\n",
       "        vertical-align: middle;\n",
       "    }\n",
       "\n",
       "    .dataframe tbody tr th {\n",
       "        vertical-align: top;\n",
       "    }\n",
       "\n",
       "    .dataframe thead th {\n",
       "        text-align: right;\n",
       "    }\n",
       "</style>\n",
       "<table border=\"1\" class=\"dataframe\">\n",
       "  <thead>\n",
       "    <tr style=\"text-align: right;\">\n",
       "      <th></th>\n",
       "      <th>route_a</th>\n",
       "      <th>route_b</th>\n",
       "      <th>difference</th>\n",
       "    </tr>\n",
       "  </thead>\n",
       "  <tbody>\n",
       "    <tr>\n",
       "      <th>0</th>\n",
       "      <td>37.6</td>\n",
       "      <td>39.0</td>\n",
       "      <td>-1.4</td>\n",
       "    </tr>\n",
       "    <tr>\n",
       "      <th>1</th>\n",
       "      <td>40.5</td>\n",
       "      <td>41.5</td>\n",
       "      <td>-1.0</td>\n",
       "    </tr>\n",
       "    <tr>\n",
       "      <th>2</th>\n",
       "      <td>39.0</td>\n",
       "      <td>39.2</td>\n",
       "      <td>-0.2</td>\n",
       "    </tr>\n",
       "    <tr>\n",
       "      <th>3</th>\n",
       "      <td>40.7</td>\n",
       "      <td>42.6</td>\n",
       "      <td>-1.9</td>\n",
       "    </tr>\n",
       "  </tbody>\n",
       "</table>\n",
       "</div>"
      ],
      "text/plain": [
       "   route_a  route_b  difference\n",
       "0     37.6     39.0        -1.4\n",
       "1     40.5     41.5        -1.0\n",
       "2     39.0     39.2        -0.2\n",
       "3     40.7     42.6        -1.9"
      ]
     },
     "execution_count": 72,
     "metadata": {},
     "output_type": "execute_result"
    }
   ],
   "source": [
    "travel = pd.DataFrame({'route_a':[37.6,40.5,39.0,40.7],\n",
    "                       'route_b':[39.0,41.5,39.2,42.6]})\n",
    "travel['difference'] = travel['route_a'] - travel['route_b']\n",
    "travel"
   ]
  },
  {
   "cell_type": "markdown",
   "metadata": {},
   "source": [
    "a. Analyse the data and state your conclusion. "
   ]
  },
  {
   "cell_type": "code",
   "execution_count": 73,
   "metadata": {},
   "outputs": [
    {
     "data": {
      "text/plain": [
       "route_a       39.450\n",
       "route_b       40.575\n",
       "difference    -1.125\n",
       "dtype: float64"
      ]
     },
     "execution_count": 73,
     "metadata": {},
     "output_type": "execute_result"
    }
   ],
   "source": [
    "travel.mean()"
   ]
  },
  {
   "cell_type": "code",
   "execution_count": 63,
   "metadata": {},
   "outputs": [
    {
     "data": {
      "text/plain": [
       "Ttest_relResult(statistic=-3.132764989301094, pvalue=0.05195399384125271)"
      ]
     },
     "execution_count": 63,
     "metadata": {},
     "output_type": "execute_result"
    }
   ],
   "source": [
    "stats.ttest_rel(travel['route_a'],travel['route_b'])"
   ]
  },
  {
   "cell_type": "markdown",
   "metadata": {},
   "source": [
    "b. Can you see any problems with this study design? Make some suggestions for improving the efficiency of the experiment. \n",
    "\n",
    "Increase sample size"
   ]
  }
 ],
 "metadata": {
  "kernelspec": {
   "display_name": "Python 3",
   "language": "python",
   "name": "python3"
  },
  "language_info": {
   "codemirror_mode": {
    "name": "ipython",
    "version": 3
   },
   "file_extension": ".py",
   "mimetype": "text/x-python",
   "name": "python",
   "nbconvert_exporter": "python",
   "pygments_lexer": "ipython3",
   "version": "3.7.6"
  },
  "varInspector": {
   "cols": {
    "lenName": 16,
    "lenType": 16,
    "lenVar": 40
   },
   "kernels_config": {
    "python": {
     "delete_cmd_postfix": "",
     "delete_cmd_prefix": "del ",
     "library": "var_list.py",
     "varRefreshCmd": "print(var_dic_list())"
    },
    "r": {
     "delete_cmd_postfix": ") ",
     "delete_cmd_prefix": "rm(",
     "library": "var_list.r",
     "varRefreshCmd": "cat(var_dic_list()) "
    }
   },
   "types_to_exclude": [
    "module",
    "function",
    "builtin_function_or_method",
    "instance",
    "_Feature"
   ],
   "window_display": false
  }
 },
 "nbformat": 4,
 "nbformat_minor": 4
}
