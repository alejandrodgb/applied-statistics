{
 "cells": [
  {
   "cell_type": "code",
   "execution_count": 1,
   "metadata": {
    "Collapsed": "false"
   },
   "outputs": [],
   "source": [
    "# Import libraries\n",
    "import pandas as pd\n",
    "import numpy as np\n",
    "from scipy import stats\n",
    "import math, random\n",
    "from matplotlib import pyplot as plt, gridspec\n",
    "import seaborn as sns\n",
    "import statsmodels.api as sm\n",
    "import itertools\n",
    "\n",
    "%matplotlib inline"
   ]
  },
  {
   "cell_type": "markdown",
   "metadata": {
    "Collapsed": "false"
   },
   "source": [
    "# Chapter 10 - Cross-tabulations"
   ]
  },
  {
   "cell_type": "markdown",
   "metadata": {
    "Collapsed": "false",
    "heading_collapsed": true
   },
   "source": [
    "## Formulas"
   ]
  },
  {
   "cell_type": "markdown",
   "metadata": {
    "Collapsed": "false",
    "hidden": true
   },
   "source": [
    "**Chi-squared goodness-of-fit test**\n",
    "\n",
    "$$H_0: \\pi_1 = \\pi_{10}, \\pi_2 = \\pi_{20}, ..., \\pi_c = \\pi_{c0}$$\n",
    "\n",
    "where $c$ is the number of categories fot the variable.\n",
    "\n",
    "Test statistic:\n",
    "\n",
    "$$x^2 = \\sum_{j=1}^c\\frac{(O_j - E_j)^2}{E_j}$$\n",
    "\n",
    "where $O_j$ is the observed count in category $j$ and $E_j$ is the expected count, assuming the null hypothesis is true. The expected count is:\n",
    "\n",
    "$$E_j = n\\pi_j$$\n",
    "\n",
    "The chi-squared test is calculated with degrees of freedom equal to: $v = c-1$ where $c$ is the number of categories"
   ]
  },
  {
   "cell_type": "markdown",
   "metadata": {
    "Collapsed": "false",
    "hidden": true
   },
   "source": [
    "**Chi-squared goodnes-of-fit for multiple categories**\n",
    "\n",
    "$$H_0: \\pi_{11} = \\pi_{21}, \\pi_{12} = \\pi_{22}, ..., \\pi_1c = \\pi_{2c}$$\n",
    "\n",
    "Test statistic:\n",
    "\n",
    "$$x^2 = \\sum_{j=1}^c\\frac{(O_{1j} - E_{1j})^2}{E_{1j}}+\\sum_{j=1}^c\\frac{(O_{2j} - E_{2j})^2}{E_{2j}}$$\n",
    "\n",
    "where $O$ is the observed count and $E$ is the expected count, assuming the null hypothesis is true. The expected count is:\n",
    "\n",
    "$$E_{1j} = \\frac{(O_{1j}+O_{2j})\\sum_{j=1}^c)O_{1j}}{n}, E_{2j} = \\frac{(O_{2j}+O_{2j})\\sum_{j=1}^c)O_{2j}}{n}$$\n",
    "\n",
    "The chi-squared test is calculated with degrees of freedom equal to: $v = c-1$ where $c$ is the number of categories"
   ]
  },
  {
   "cell_type": "markdown",
   "metadata": {
    "Collapsed": "false",
    "hidden": true
   },
   "source": [
    "**Chi-squared test for independence**\n",
    "\n",
    "$$x^2 = \\sum_{i=1}^r\\sum_{j=1}^c\\frac{(O_{ij}-E_{ij})^2}{E_{ij}}$$\n",
    "\n",
    "where $O_{ij}$ is the observed count in category $i$ of the determinant and category $j$ of the outcome, and $E_{ij}$ is the corresponding expected count.\n",
    "\n",
    "$$E_{ij} = \\frac{\\sum_{j=1}^cO_{ij}\\sum_{i=1}^rO_{ij}}{n}$$\n",
    "\n",
    "with $v = (r-1)(c-1)$ degrees of freedom."
   ]
  },
  {
   "cell_type": "markdown",
   "metadata": {
    "Collapsed": "false",
    "hidden": true
   },
   "source": [
    "**Population odds ratio**\n",
    "\n",
    "$$\\omega = \\frac{\\frac{\\pi_1}{1-\\pi_1}}{\\frac{\\pi_2}{1-\\pi_2}}$$\n",
    "\n",
    "**Sample odds ratio**\n",
    "\n",
    "$$w = \\frac{\\frac{p_1}{1-p_1}}{\\frac{p_2}{1-p_2}}$$"
   ]
  },
  {
   "cell_type": "markdown",
   "metadata": {
    "Collapsed": "false",
    "hidden": true
   },
   "source": [
    "**Confidence interval for an odds ratio**\n",
    "\n",
    "$$(we^{-1.96s_w},we^{1.96s_w})$$\n",
    "\n",
    "where\n",
    "\n",
    "$$w = \\frac{\\frac{a}{c}}{\\frac{b}{d}} = \\frac{ad}{bc}$$\n",
    "\n",
    "$$s_w = \\sqrt{\\frac{1}{a}+\\frac{1}{b}+\\frac{1}{c}+\\frac{1}{d}}$$\n",
    "\n",
    "which is part of the statistic:\n",
    "\n",
    "$$z = \\frac{ln(w)-ln(\\omega)}{s_w}$$\n",
    "\n",
    "This is for a 2x2 contingency table:\n",
    "\n",
    "<table>\n",
    "    <tr>\n",
    "        <td></td>\n",
    "        <td>outcome=1</td>\n",
    "        <td>outcome=2</td>\n",
    "        <td>total</td>\n",
    "    </tr>\n",
    "    <tr>\n",
    "        <td>determinant=1</td>\n",
    "        <td>a</td>\n",
    "        <td>c</td>\n",
    "        <td>a+c</td>\n",
    "    </tr>\n",
    "    <tr>\n",
    "        <td>determinant=2</td>\n",
    "        <td>b</td>\n",
    "        <td>d</td>\n",
    "        <td>b+d</td>\n",
    "    </tr>\n",
    "    <tr>\n",
    "        <td>total</td>\n",
    "        <td>a+b</td>\n",
    "        <td>c+d</td>\n",
    "        <td>a+b+c+d</td>\n",
    "    </tr>\n",
    "</table>"
   ]
  },
  {
   "cell_type": "markdown",
   "metadata": {
    "Collapsed": "true",
    "heading_collapsed": true
   },
   "source": [
    "## Notes"
   ]
  },
  {
   "cell_type": "markdown",
   "metadata": {
    "Collapsed": "false",
    "heading_collapsed": true,
    "hidden": true
   },
   "source": [
    "### Example 1"
   ]
  },
  {
   "cell_type": "markdown",
   "metadata": {
    "Collapsed": "false",
    "hidden": true
   },
   "source": [
    "**Testing the goodnes-of-fit**\n",
    "\n",
    "The null and alternative hypothesis assume that the proportions of all groups in the categorical data are equal.\n",
    "\n",
    "$H_0: \\pi_1 = \\pi_2 = \\pi_3$<br>\n",
    "$H_1:$ proportions are not equal\n",
    "\n",
    "Testing whether or not the null or alternate hypothesis are correct is done with chi-squared goodness-of-fit test."
   ]
  },
  {
   "cell_type": "markdown",
   "metadata": {
    "Collapsed": "false",
    "hidden": true
   },
   "source": [
    "**Example**\n",
    "\n",
    "Questionnaire asks dinking preference to a group of people. We assume that preference is equal amonth the drinks $\\left (\\frac{1}{3}\\right )$. \n",
    "\n",
    "Responses are as follows: \n",
    "- Sample size = 90\n",
    "- Option 1 = 20\n",
    "- Option 2 = 40\n",
    "- Option 3 = 30"
   ]
  },
  {
   "cell_type": "markdown",
   "metadata": {
    "Collapsed": "false",
    "hidden": true
   },
   "source": [
    "$H_0: \\pi_1 = \\frac{1}{3}, \\pi_2 = \\frac{1}{3}, \\pi_3 = \\frac{1}{3}$<br>\n",
    "$H_1:$ the proportions are not equal\n",
    "\n",
    "$x^2 = \\sum_{j=1}^c\\frac{(O_j - E_j)^2}{E_j}$"
   ]
  },
  {
   "cell_type": "markdown",
   "metadata": {
    "Collapsed": "false",
    "hidden": true
   },
   "source": [
    "Solution:\n",
    "\n",
    "$E_1 = E_2 = E_3 = 90 \\times \\frac{1}{3} = 30$\n",
    "\n",
    "$x^2 = \\frac{(20-30)^2}{30}+\\frac{(40-30)^2}{30}+\\frac{(30-30)^2}{30} = \\frac{10}{3}+\\frac{10}{3}+0 = \\frac{20}{3}$\n",
    "\n",
    "Degrees of freedom = $3-1=2$\n",
    "\n",
    "Form a statistical package, the p-value is equal to 0.36"
   ]
  },
  {
   "cell_type": "markdown",
   "metadata": {
    "Collapsed": "false",
    "heading_collapsed": true,
    "hidden": true
   },
   "source": [
    "### Example 2"
   ]
  },
  {
   "cell_type": "markdown",
   "metadata": {
    "Collapsed": "false",
    "hidden": true
   },
   "source": [
    "Consider the following data from a study, reported by Brown and Fielding (1993), to investigate demographic factors and their effects on occupational stress among officers in a large provincial British police department. The association between gender and education is shown below:\n",
    "\n",
    "<table>\n",
    "    <tr>\n",
    "        <th>gender</th>\n",
    "        <th>no formal qualifications</th>\n",
    "        <th>school</th>\n",
    "        <th>university</th>\n",
    "        <th>other</th>\n",
    "    </tr>\n",
    "    <tr>\n",
    "        <th>women</th>\n",
    "        <td>3</td>\n",
    "        <td>91</td>\n",
    "        <td>11</td>\n",
    "        <td>5</td>\n",
    "    </tr>\n",
    "    <tr>\n",
    "        <th>men</th>\n",
    "        <td>23</td>\n",
    "        <td>231</td>\n",
    "        <td>19</td>\n",
    "        <td>39</td>\n",
    "    </tr>\n",
    "</table>\n",
    "\n",
    "Percentage:\n",
    "\n",
    "<table>\n",
    "    <tr>\n",
    "        <th>gender</th>\n",
    "        <th>no formal qualifications</th>\n",
    "        <th>school</th>\n",
    "        <th>university</th>\n",
    "        <th>other</th>\n",
    "    </tr>\n",
    "    <tr>\n",
    "        <th>women</th>\n",
    "        <td>2.7</td>\n",
    "        <td>82.7</td>\n",
    "        <td>10</td>\n",
    "        <td>4.5</td>\n",
    "    </tr>\n",
    "    <tr>\n",
    "        <th>men</th>\n",
    "        <td>7.1</td>\n",
    "        <td>71.7</td>\n",
    "        <td>6.1</td>\n",
    "        <td>12.1</td>\n",
    "    </tr>\n",
    "</table>"
   ]
  },
  {
   "cell_type": "markdown",
   "metadata": {
    "Collapsed": "false",
    "hidden": true
   },
   "source": [
    "**Statistical test:**\n",
    "\n",
    "$H_0=\\pi_{11}=\\pi_{12}, \\pi_{12}=\\pi_{22}, \\pi_{13}=\\pi_{23}, \\pi_{14}=\\pi_{24}$\n",
    "\n",
    "where $\\pi_{1j}$ and $\\pi_{2j}$ are the population proportions for women and men respectively, having educational level in category $j$ where:\n",
    "\n",
    "<table>\n",
    "    <tr>\n",
    "        <th>Level</th>\n",
    "        <th>Category</th>\n",
    "    </tr>\n",
    "    <tr>\n",
    "        <td>1</td>\n",
    "        <td>no formal qualifications</td>\n",
    "    </tr>\n",
    "    <tr>\n",
    "        <td>2</td>\n",
    "        <td>school</td>\n",
    "    </tr>\n",
    "    <tr>\n",
    "        <td>3</td>\n",
    "        <td>university</td>\n",
    "    </tr>\n",
    "    <tr>\n",
    "        <td>4</td>\n",
    "        <td>other</td>\n",
    "    </tr>\n",
    "</table>\n",
    "\n",
    "The null and alternative hypothesis would be stated as:\n",
    "- $H_0$: there is no association between gender and educational level\n",
    "- $H_1$: there is an association between gender and educational level\n",
    "\n",
    "$x^2 = \\sum_{j=1}^c\\frac{(O_{1j} - E_{1j})^2}{E_{1j}}+\\sum_{j=1}^c\\frac{(O_{2j} - E_{2j})^2}{E_{2j}}$\n",
    "\n",
    "$E_{1j} = \\frac{(O_{1j}+O_{2j})\\sum_{j=1}^c)O_{1j}}{n}, E_{2j} = \\frac{(O_{2j}+O_{2j})\\sum_{j=1}^c)O_{2j}}{n}$\n",
    "\n",
    "The chi-squared test is calculated with degrees of freedom equal to: $v = c-1$ where $c$ is the number of categories"
   ]
  },
  {
   "cell_type": "code",
   "execution_count": 13,
   "metadata": {
    "Collapsed": "false",
    "hidden": true
   },
   "outputs": [
    {
     "data": {
      "text/html": [
       "<div>\n",
       "<style scoped>\n",
       "    .dataframe tbody tr th:only-of-type {\n",
       "        vertical-align: middle;\n",
       "    }\n",
       "\n",
       "    .dataframe tbody tr th {\n",
       "        vertical-align: top;\n",
       "    }\n",
       "\n",
       "    .dataframe thead th {\n",
       "        text-align: right;\n",
       "    }\n",
       "</style>\n",
       "<table border=\"1\" class=\"dataframe\">\n",
       "  <thead>\n",
       "    <tr style=\"text-align: right;\">\n",
       "      <th></th>\n",
       "      <th>no_formal_quals</th>\n",
       "      <th>school</th>\n",
       "      <th>university</th>\n",
       "      <th>other</th>\n",
       "    </tr>\n",
       "  </thead>\n",
       "  <tbody>\n",
       "    <tr>\n",
       "      <th>women</th>\n",
       "      <td>3</td>\n",
       "      <td>91</td>\n",
       "      <td>11</td>\n",
       "      <td>5</td>\n",
       "    </tr>\n",
       "    <tr>\n",
       "      <th>men</th>\n",
       "      <td>23</td>\n",
       "      <td>231</td>\n",
       "      <td>19</td>\n",
       "      <td>39</td>\n",
       "    </tr>\n",
       "  </tbody>\n",
       "</table>\n",
       "</div>"
      ],
      "text/plain": [
       "       no_formal_quals  school  university  other\n",
       "women                3      91          11      5\n",
       "men                 23     231          19     39"
      ]
     },
     "execution_count": 13,
     "metadata": {},
     "output_type": "execute_result"
    }
   ],
   "source": [
    "# Data\n",
    "df = pd.DataFrame({'no_formal_quals':[3,23],'school':[91,231],\n",
    "                   'university':[11,19],'other':[5,39]},\n",
    "                  index=['women','men'])\n",
    "df\n",
    "\n",
    "#df.melt(id_vars='gender',value_vars=['no_formal_quals','school','university','other'])"
   ]
  },
  {
   "cell_type": "code",
   "execution_count": 35,
   "metadata": {
    "Collapsed": "false",
    "hidden": true
   },
   "outputs": [
    {
     "data": {
      "text/plain": [
       "array([[ 26],\n",
       "       [322],\n",
       "       [ 30],\n",
       "       [ 44]])"
      ]
     },
     "execution_count": 35,
     "metadata": {},
     "output_type": "execute_result"
    }
   ],
   "source": [
    "# Calculating expected counts\n",
    "raw_counts = np.array(df.sum()).reshape(-1,1)\n",
    "raw_counts"
   ]
  },
  {
   "cell_type": "code",
   "execution_count": 36,
   "metadata": {
    "Collapsed": "false",
    "hidden": true
   },
   "outputs": [
    {
     "data": {
      "text/plain": [
       "array([110, 312])"
      ]
     },
     "execution_count": 36,
     "metadata": {},
     "output_type": "execute_result"
    }
   ],
   "source": [
    "marginal_category = np.array(df.sum(axis=1))\n",
    "marginal_category"
   ]
  },
  {
   "cell_type": "code",
   "execution_count": 40,
   "metadata": {
    "Collapsed": "false",
    "hidden": true
   },
   "outputs": [
    {
     "data": {
      "text/plain": [
       "array([[  6.77725118,  19.22274882],\n",
       "       [ 83.93364929, 238.06635071],\n",
       "       [  7.81990521,  22.18009479],\n",
       "       [ 11.46919431,  32.53080569]])"
      ]
     },
     "execution_count": 40,
     "metadata": {},
     "output_type": "execute_result"
    }
   ],
   "source": [
    "expected_values = raw_counts*marginal_category/df.sum().sum()\n",
    "expected_values"
   ]
  },
  {
   "cell_type": "code",
   "execution_count": 42,
   "metadata": {
    "Collapsed": "false",
    "hidden": true
   },
   "outputs": [],
   "source": [
    "# Calculating chi-square\n",
    "observed_values = np.array(df)"
   ]
  },
  {
   "cell_type": "code",
   "execution_count": 84,
   "metadata": {
    "Collapsed": "false",
    "hidden": true
   },
   "outputs": [
    {
     "data": {
      "text/plain": [
       "array([[2.10522321, 0.59491411, 1.29323855, 3.64894638],\n",
       "       [0.74222613, 0.20974536, 0.45594949, 1.28648751]])"
      ]
     },
     "execution_count": 84,
     "metadata": {},
     "output_type": "execute_result"
    }
   ],
   "source": [
    "(((observed_values-expected_values.T)**2)/expected_values.T)"
   ]
  },
  {
   "cell_type": "code",
   "execution_count": 53,
   "metadata": {
    "Collapsed": "false",
    "hidden": true
   },
   "outputs": [
    {
     "name": "stdout",
     "output_type": "stream",
     "text": [
      "Chi-squared = 10.336730734975646\n",
      "p-value = 0.015910350433308983\n"
     ]
    }
   ],
   "source": [
    "chi_squared = (((observed_values-expected_values.T)**2)/expected_values.T).sum()\n",
    "chi_squared\n",
    "print(f'Chi-squared = {chi_squared}')\n",
    "print(f'p-value = {stats.chi2.sf(chi_squared,df=observed_values.shape[1]-1)}')"
   ]
  },
  {
   "cell_type": "code",
   "execution_count": 69,
   "metadata": {
    "Collapsed": "false",
    "hidden": true
   },
   "outputs": [
    {
     "name": "stdout",
     "output_type": "stream",
     "text": [
      "Chi-squared = 10.336730734975646\n",
      "p-value = 0.015910350433308983\n",
      "dof = 3\n"
     ]
    }
   ],
   "source": [
    "chi2, p, dof, expected = stats.chi2_contingency(observed_values)\n",
    "print(f'Chi-squared = {chi2}')\n",
    "print(f'p-value = {p}')\n",
    "print(f'dof = {dof}')"
   ]
  },
  {
   "cell_type": "markdown",
   "metadata": {
    "Collapsed": "false",
    "hidden": true
   },
   "source": [
    "We can reject the null hypothesis and conclude that women and men have different educational levels. Given that the differences are in both ways, we can only conclude a difference but cannot say that either is more educated. \n",
    "\n",
    "We can examine the components of the chi-squared test to determine the largest differences."
   ]
  },
  {
   "cell_type": "code",
   "execution_count": 85,
   "metadata": {
    "Collapsed": "false",
    "hidden": true
   },
   "outputs": [
    {
     "data": {
      "text/plain": [
       "array([[2.10522321, 0.59491411, 1.29323855, 3.64894638],\n",
       "       [0.74222613, 0.20974536, 0.45594949, 1.28648751]])"
      ]
     },
     "execution_count": 85,
     "metadata": {},
     "output_type": "execute_result"
    }
   ],
   "source": [
    "# Determining the components of chi-squred\n",
    "((observed_values-expected_values.T)**2)/expected_values.T"
   ]
  },
  {
   "cell_type": "markdown",
   "metadata": {
    "Collapsed": "false",
    "hidden": true
   },
   "source": [
    "The largest values lie in categories $11$ and $14$ corresponding to women with no formal qualifications and other"
   ]
  },
  {
   "cell_type": "markdown",
   "metadata": {
    "Collapsed": "false",
    "hidden": true
   },
   "source": [
    "Page 234"
   ]
  },
  {
   "cell_type": "markdown",
   "metadata": {
    "Collapsed": "false"
   },
   "source": [
    "## Homework"
   ]
  },
  {
   "cell_type": "markdown",
   "metadata": {
    "Collapsed": "true",
    "heading_collapsed": true
   },
   "source": [
    "### Problem 1"
   ]
  },
  {
   "cell_type": "markdown",
   "metadata": {
    "Collapsed": "false",
    "hidden": true
   },
   "source": [
    "Library records in a certain tertiary institution have shown a long- term pattern that 70% of books are returned on time, 20% within one week of the due date, and the remainder after one week (or never). A random sample comprising 1000 loan records for the most recent year finds that 736 books were returned on time, 173 no more than a week late, and 91 more than a week late. Does this sample indicate a change of the pattern of returning loans? "
   ]
  },
  {
   "cell_type": "markdown",
   "metadata": {
    "Collapsed": "false",
    "hidden": true
   },
   "source": [
    "$H_0: \\pi_1 = \\pi_{10}, \\pi_2 = \\pi_{20}, \\pi_3 = \\pi_{30}$<br>\n",
    "$H_0: \\pi_1 = 0.7, \\pi_2 = 0.2, \\pi_3 = 0.1$\n",
    "\n",
    "Formula:\n",
    "\n",
    "$x^2 = \\sum_{j=1}^c\\frac{(O_j - E_j)^2}{E_j}$\n",
    "\n",
    "with degrees of freedom $c-1$\n"
   ]
  },
  {
   "cell_type": "code",
   "execution_count": 13,
   "metadata": {
    "Collapsed": "false",
    "hidden": true
   },
   "outputs": [
    {
     "name": "stdout",
     "output_type": "stream",
     "text": [
      "x2 = 6.306428571428572\n",
      "p value = 0.04271460901705365\n"
     ]
    }
   ],
   "source": [
    "# Calculate chi-squared\n",
    "o = np.array([[736,173,91]])\n",
    "e = np.array([[0.7,0.2,0.1]])*1000\n",
    "\n",
    "chi_squared = ((o-e)**2/e).sum()\n",
    "p_value = stats.chi2.sf(chi_squared, df=o.shape[1]-1)\n",
    "\n",
    "print(f'x2 = {chi_squared}')\n",
    "print(f'p value = {p_value}')"
   ]
  },
  {
   "cell_type": "markdown",
   "metadata": {
    "Collapsed": "true",
    "heading_collapsed": true
   },
   "source": [
    "### Problem 2"
   ]
  },
  {
   "cell_type": "markdown",
   "metadata": {
    "Collapsed": "false",
    "hidden": true
   },
   "source": [
    "A gynaecologist observed that 30 women out of 60 who gave birth at a particular hospital elected to have a complete spinal anesthetic during birth, and that 20 of their babies subsequently developed colic, compared with only 10 in the other group. Should the doctor conclude that there is an association? "
   ]
  },
  {
   "cell_type": "markdown",
   "metadata": {
    "Collapsed": "false",
    "hidden": true
   },
   "source": [
    "<table>\n",
    "    <tr>\n",
    "        <th></th>\n",
    "        <th>colic</th>\n",
    "        <th>no colic</th>\n",
    "        <th>total</th>\n",
    "    </tr>\n",
    "    <tr>\n",
    "        <th>spinal</th>\n",
    "        <td>20</td>\n",
    "        <td>10</td>\n",
    "        <td>30</td>\n",
    "    </tr>\n",
    "    <tr>\n",
    "        <th>no spinal</th>\n",
    "        <td>10</td>\n",
    "        <td>20</td>\n",
    "        <td>30</td>\n",
    "    </tr>\n",
    "    <tr>\n",
    "        <th>total</th>\n",
    "        <td>30</td>\n",
    "        <td>30</td>\n",
    "        <td>60</td>\n",
    "    </tr>\n",
    "</table>"
   ]
  },
  {
   "cell_type": "markdown",
   "metadata": {
    "Collapsed": "false",
    "hidden": true
   },
   "source": [
    "\n",
    "$H_0$: There is no association between the categories\n",
    "\n",
    "$x^2 = \\sum_{j=1}^c\\frac{(O_{1j} - E_{1j})^2}{E_{1j}}+\\sum_{j=1}^c\\frac{(O_{2j} - E_{2j})^2}{E_{2j}}$\n",
    "\n",
    "$E_{1j} = \\frac{(O_{1j}+O_{2j})\\sum_{j=1}^c)O_{1j}}{n}, E_{2j} = \\frac{(O_{2j}+O_{2j})\\sum_{j=1}^c)O_{2j}}{n}$\n"
   ]
  },
  {
   "cell_type": "code",
   "execution_count": 26,
   "metadata": {
    "Collapsed": "false",
    "hidden": true
   },
   "outputs": [
    {
     "data": {
      "text/plain": [
       "(array([[30],\n",
       "        [30]]),\n",
       " array([30, 30]),\n",
       " 60)"
      ]
     },
     "execution_count": 26,
     "metadata": {},
     "output_type": "execute_result"
    }
   ],
   "source": [
    "# Calculate observed row, column and grand totals\n",
    "observed = np.array([[20,10],[10,20]])\n",
    "observed_row_total = observed.sum(axis=1).reshape(-1,1)\n",
    "observed_column_total = observed.sum(axis=0)\n",
    "observed_total = observed.sum()\n",
    "observed_row_total, observed_column_total, observed_total"
   ]
  },
  {
   "cell_type": "code",
   "execution_count": 27,
   "metadata": {
    "Collapsed": "false",
    "hidden": true
   },
   "outputs": [
    {
     "data": {
      "text/plain": [
       "array([[15., 15.],\n",
       "       [15., 15.]])"
      ]
     },
     "execution_count": 27,
     "metadata": {},
     "output_type": "execute_result"
    }
   ],
   "source": [
    "# Calculate expected values\n",
    "expected = observed_column_total*observed_row_total/observed_total\n",
    "expected"
   ]
  },
  {
   "cell_type": "code",
   "execution_count": 31,
   "metadata": {
    "Collapsed": "false",
    "hidden": true
   },
   "outputs": [
    {
     "name": "stdout",
     "output_type": "stream",
     "text": [
      "x2 = 6.666666666666667\n",
      "p value = 0.009823274507519235\n"
     ]
    }
   ],
   "source": [
    "# Calculate chi-squared and p-value\n",
    "chi_squared = np.sum((observed - expected)**2/expected)\n",
    "p_value = stats.chi2.sf(chi_squared,df=observed.shape[1]-1)\n",
    "print(f'x2 = {chi_squared}')\n",
    "print(f'p value = {p_value}')"
   ]
  },
  {
   "cell_type": "markdown",
   "metadata": {
    "Collapsed": "false",
    "heading_collapsed": true,
    "hidden": true
   },
   "source": [
    "#### Solution"
   ]
  },
  {
   "cell_type": "markdown",
   "metadata": {
    "Collapsed": "false",
    "hidden": true
   },
   "source": [
    "$H_0$: there is no association between spinal anaesthesia and colic. \n",
    "\n",
    "All expected counts are ≥ 5 \n",
    "\n",
    "$X_1^2 = 6.66$, $0.005 \\lt p-value \\lt 0.01$ "
   ]
  },
  {
   "cell_type": "markdown",
   "metadata": {
    "Collapsed": "true",
    "heading_collapsed": true
   },
   "source": [
    "### Problem 3"
   ]
  },
  {
   "cell_type": "markdown",
   "metadata": {
    "Collapsed": "false",
    "hidden": true
   },
   "source": [
    "On 19 May 1993 the Sydney Morning Herald reported that there were 46 sporting injuries on the previous Saturday which required the person being taken to hospital. Of 21 due to football injuries, 11 occurred to the head, neck or back. Of the non-football injuries there were 11 to the head, neck or back. Do these data show an association between playing football and suffering a head, neck or back injury? Answer the question by computing and plotting a 95% confidence interval for an appropriate odds ratio, and giving a p-value for an appropriate null hypothesis. "
   ]
  },
  {
   "cell_type": "markdown",
   "metadata": {
    "Collapsed": "false",
    "hidden": true
   },
   "source": [
    "<table>\n",
    "    <tr>\n",
    "        <th>Sport</th>\n",
    "        <th>H,N,B injury</th>\n",
    "        <th>Other injury</th>\n",
    "        <th>Total</th>\n",
    "    </tr>\n",
    "    <tr>\n",
    "        <td>Football</td>\n",
    "        <td>11</td>\n",
    "        <td>10</td>\n",
    "        <td>21</td>\n",
    "    </tr>\n",
    "    <tr>\n",
    "        <td>Other sport</td>\n",
    "        <td>11</td>\n",
    "        <td>14</td>\n",
    "        <td>25</td>\n",
    "    </tr>\n",
    "    <tr>\n",
    "        <td>Total</td>\n",
    "        <td>22</td>\n",
    "        <td>24</td>\n",
    "        <td>46</td>\n",
    "    </tr>\n",
    "</table>"
   ]
  },
  {
   "cell_type": "markdown",
   "metadata": {
    "Collapsed": "false",
    "hidden": true
   },
   "source": [
    "$H_0$: there is no association between categories\n",
    "\n",
    "$x^2 = \\sum_{i=1}^r\\sum_{j=1}^c\\frac{(O_{ij}-E_{ij})^2}{E_{ij}}$\n",
    "\n",
    "$E_{ij} = \\frac{\\sum_{j=1}^cO_{ij}\\sum_{i=1}^rO_{ij}}{n}$\n",
    "\n",
    "with $v = (r-1)(c-1)$ degrees of freedom."
   ]
  },
  {
   "cell_type": "code",
   "execution_count": 34,
   "metadata": {
    "Collapsed": "false",
    "hidden": true
   },
   "outputs": [
    {
     "data": {
      "text/plain": [
       "array([[11, 10],\n",
       "       [11, 14]])"
      ]
     },
     "execution_count": 34,
     "metadata": {},
     "output_type": "execute_result"
    }
   ],
   "source": [
    "# Calculate observed totals\n",
    "o = np.array([[11,10],[11,14]])\n",
    "o_rt = o.sum(axis=1).reshape(-1,1)\n",
    "o_ct = o.sum(axis=0)\n",
    "o_t = o.sum()\n",
    "o"
   ]
  },
  {
   "cell_type": "code",
   "execution_count": 33,
   "metadata": {
    "Collapsed": "false",
    "hidden": true
   },
   "outputs": [
    {
     "data": {
      "text/plain": [
       "array([[10.04347826, 10.95652174],\n",
       "       [11.95652174, 13.04347826]])"
      ]
     },
     "execution_count": 33,
     "metadata": {},
     "output_type": "execute_result"
    }
   ],
   "source": [
    "# Calculate expected values\n",
    "e = o_ct*o_rt/o_t\n",
    "e"
   ]
  },
  {
   "cell_type": "code",
   "execution_count": 35,
   "metadata": {
    "Collapsed": "false",
    "hidden": true
   },
   "outputs": [
    {
     "name": "stdout",
     "output_type": "stream",
     "text": [
      "x2 = 0.32126984126984176\n",
      "p value = 0.5708455144033453\n"
     ]
    }
   ],
   "source": [
    "# Calculate chi squared\n",
    "chi_squared = ((o-e)**2/e).sum()\n",
    "p_value = stats.chi2.sf(chi_squared,df=(o.shape[0]-1)*(o.shape[1]-1))\n",
    "print(f'x2 = {chi_squared}')\n",
    "print(f'p value = {p_value}')"
   ]
  },
  {
   "cell_type": "markdown",
   "metadata": {
    "Collapsed": "false",
    "hidden": true
   },
   "source": [
    "The odds ratio is\n",
    "\n",
    "$w = \\frac{\\frac{p_1}{1-p_1}}{\\frac{p_2}{1-p_2}}$"
   ]
  },
  {
   "cell_type": "code",
   "execution_count": 37,
   "metadata": {
    "Collapsed": "false",
    "hidden": true
   },
   "outputs": [
    {
     "name": "stdout",
     "output_type": "stream",
     "text": [
      "Odds ratio = 1.4000000000000001\n"
     ]
    }
   ],
   "source": [
    "# Calculate odds ratio\n",
    "w = (11/10)/(11/14)\n",
    "print(f'Odds ratio = {w}')"
   ]
  },
  {
   "cell_type": "markdown",
   "metadata": {
    "Collapsed": "false",
    "hidden": true
   },
   "source": [
    "Confidence interval for the odds ratio\n",
    "\n",
    "$(we^{-1.96s_w},we^{1.96s_w})$\n",
    "\n",
    "where\n",
    "\n",
    "$w = \\frac{\\frac{a}{c}}{\\frac{b}{d}} = \\frac{ad}{bc}$\n",
    "\n",
    "$s_w = \\sqrt{\\frac{1}{a}+\\frac{1}{b}+\\frac{1}{c}+\\frac{1}{d}}$\n",
    "\n",
    "which is part of the statistic:\n",
    "\n",
    "$z = \\frac{ln(w)-ln(\\omega)}{s_w}$\n",
    "\n",
    "This is for a 2x2 contingency table:\n",
    "\n",
    "<table>\n",
    "    <tr>\n",
    "        <td></td>\n",
    "        <td>outcome=1</td>\n",
    "        <td>outcome=2</td>\n",
    "        <td>total</td>\n",
    "    </tr>\n",
    "    <tr>\n",
    "        <td>determinant=1</td>\n",
    "        <td>a</td>\n",
    "        <td>c</td>\n",
    "        <td>a+c</td>\n",
    "    </tr>\n",
    "    <tr>\n",
    "        <td>determinant=2</td>\n",
    "        <td>b</td>\n",
    "        <td>d</td>\n",
    "        <td>b+d</td>\n",
    "    </tr>\n",
    "    <tr>\n",
    "        <td>total</td>\n",
    "        <td>a+b</td>\n",
    "        <td>c+d</td>\n",
    "        <td>a+b+c+d</td>\n",
    "    </tr>\n",
    "</table>"
   ]
  },
  {
   "cell_type": "code",
   "execution_count": 43,
   "metadata": {
    "Collapsed": "false",
    "hidden": true
   },
   "outputs": [
    {
     "name": "stdout",
     "output_type": "stream",
     "text": [
      "ci = (0.43672776562164106,4.487921662617726)\n"
     ]
    }
   ],
   "source": [
    "# Calculate the confidence interval for the odds ratio\n",
    "w = (o[0,0]*o[1,1])/(o[1,0]*o[0,1])\n",
    "sw = math.sqrt(np.sum(1/o))\n",
    "ci = [w*math.exp(-1.96*sw),w*math.exp(1.96*sw)]\n",
    "print(f'ci = ({ci[0]},{ci[1]})')"
   ]
  },
  {
   "cell_type": "markdown",
   "metadata": {
    "Collapsed": "false",
    "hidden": true
   },
   "source": [
    "There does not appear to be an association as the 95% confidence interval for $\\omega$ contains 1"
   ]
  },
  {
   "cell_type": "markdown",
   "metadata": {
    "Collapsed": "false",
    "heading_collapsed": true,
    "hidden": true
   },
   "source": [
    "#### Solution"
   ]
  },
  {
   "cell_type": "markdown",
   "metadata": {
    "Collapsed": "false",
    "hidden": true
   },
   "source": [
    "All expected counts are ≥ 5 \n",
    "\n",
    "w = 1.4, 95% CI is (0.437, 4.485) \n",
    "\n",
    "No association is apparent since the 95% CI for ω contains 1. \n",
    "\n",
    "$X_1^2 = 0.32$, p-value > 0.5 "
   ]
  },
  {
   "cell_type": "markdown",
   "metadata": {
    "Collapsed": "true",
    "heading_collapsed": true
   },
   "source": [
    "### Problem 4 "
   ]
  },
  {
   "cell_type": "markdown",
   "metadata": {
    "Collapsed": "false",
    "hidden": true
   },
   "source": [
    "Consider again the study by Warton & Goodnow (1991) cited in Homework Problem 3 of Chapter 8. This study included 22 girls and 22 boys aged 14. For the selected tasks ‘make own breakfast’, ‘pick up dirty clothes’, and ‘wash car’, do these data indicate gender differences with respect to any of these tasks? Answer the question by showing an appropriate graph containing separate 95% confidence intervals of three appropriate odds ratios, and commenting on this graph."
   ]
  },
  {
   "cell_type": "markdown",
   "metadata": {
    "Collapsed": "false",
    "heading_collapsed": true,
    "hidden": true
   },
   "source": [
    "#### Original study"
   ]
  },
  {
   "cell_type": "markdown",
   "metadata": {
    "Collapsed": "false",
    "hidden": true
   },
   "source": [
    "Original study:\n",
    "\n",
    "A study conducted by Warton & Goodnow (1991) sought to determine children’s attitudes to responsibility in terms of jobs around the house. Children aged 8, 11 and 14 years of age were asked to comment on the fairness of various work arrangements. The measurement recorded is the percentage of children who undertook each of 13 tasks, rather than leaving it to another family member. "
   ]
  },
  {
   "cell_type": "code",
   "execution_count": 4,
   "metadata": {
    "Collapsed": "false",
    "hidden": true
   },
   "outputs": [
    {
     "data": {
      "text/html": [
       "<div>\n",
       "<style scoped>\n",
       "    .dataframe tbody tr th:only-of-type {\n",
       "        vertical-align: middle;\n",
       "    }\n",
       "\n",
       "    .dataframe tbody tr th {\n",
       "        vertical-align: top;\n",
       "    }\n",
       "\n",
       "    .dataframe thead th {\n",
       "        text-align: right;\n",
       "    }\n",
       "</style>\n",
       "<table border=\"1\" class=\"dataframe\">\n",
       "  <thead>\n",
       "    <tr style=\"text-align: right;\">\n",
       "      <th></th>\n",
       "      <th>task</th>\n",
       "      <th>g8</th>\n",
       "      <th>b8</th>\n",
       "      <th>g11</th>\n",
       "      <th>b11</th>\n",
       "      <th>g14</th>\n",
       "      <th>b14</th>\n",
       "    </tr>\n",
       "  </thead>\n",
       "  <tbody>\n",
       "    <tr>\n",
       "      <th>0</th>\n",
       "      <td>Tidy own things</td>\n",
       "      <td>100</td>\n",
       "      <td>100</td>\n",
       "      <td>100</td>\n",
       "      <td>100</td>\n",
       "      <td>100</td>\n",
       "      <td>100</td>\n",
       "    </tr>\n",
       "    <tr>\n",
       "      <th>1</th>\n",
       "      <td>Make own breakfast</td>\n",
       "      <td>87</td>\n",
       "      <td>80</td>\n",
       "      <td>100</td>\n",
       "      <td>73</td>\n",
       "      <td>95</td>\n",
       "      <td>82</td>\n",
       "    </tr>\n",
       "    <tr>\n",
       "      <th>2</th>\n",
       "      <td>Make own bed</td>\n",
       "      <td>93</td>\n",
       "      <td>60</td>\n",
       "      <td>93</td>\n",
       "      <td>67</td>\n",
       "      <td>95</td>\n",
       "      <td>95</td>\n",
       "    </tr>\n",
       "    <tr>\n",
       "      <th>3</th>\n",
       "      <td>Pick up dirty clothes</td>\n",
       "      <td>80</td>\n",
       "      <td>87</td>\n",
       "      <td>87</td>\n",
       "      <td>67</td>\n",
       "      <td>91</td>\n",
       "      <td>87</td>\n",
       "    </tr>\n",
       "    <tr>\n",
       "      <th>4</th>\n",
       "      <td>Clear away dishes</td>\n",
       "      <td>87</td>\n",
       "      <td>53</td>\n",
       "      <td>93</td>\n",
       "      <td>73</td>\n",
       "      <td>95</td>\n",
       "      <td>73</td>\n",
       "    </tr>\n",
       "    <tr>\n",
       "      <th>5</th>\n",
       "      <td>Take out garbage</td>\n",
       "      <td>40</td>\n",
       "      <td>53</td>\n",
       "      <td>47</td>\n",
       "      <td>47</td>\n",
       "      <td>32</td>\n",
       "      <td>64</td>\n",
       "    </tr>\n",
       "    <tr>\n",
       "      <th>6</th>\n",
       "      <td>Do dishes/dishwasher</td>\n",
       "      <td>40</td>\n",
       "      <td>40</td>\n",
       "      <td>20</td>\n",
       "      <td>47</td>\n",
       "      <td>41</td>\n",
       "      <td>41</td>\n",
       "    </tr>\n",
       "    <tr>\n",
       "      <th>7</th>\n",
       "      <td>Hang out washing</td>\n",
       "      <td>40</td>\n",
       "      <td>60</td>\n",
       "      <td>33</td>\n",
       "      <td>53</td>\n",
       "      <td>41</td>\n",
       "      <td>50</td>\n",
       "    </tr>\n",
       "    <tr>\n",
       "      <th>8</th>\n",
       "      <td>Set table</td>\n",
       "      <td>53</td>\n",
       "      <td>80</td>\n",
       "      <td>33</td>\n",
       "      <td>40</td>\n",
       "      <td>37</td>\n",
       "      <td>27</td>\n",
       "    </tr>\n",
       "    <tr>\n",
       "      <th>9</th>\n",
       "      <td>Bring in paper/mail</td>\n",
       "      <td>47</td>\n",
       "      <td>47</td>\n",
       "      <td>47</td>\n",
       "      <td>53</td>\n",
       "      <td>32</td>\n",
       "      <td>32</td>\n",
       "    </tr>\n",
       "    <tr>\n",
       "      <th>10</th>\n",
       "      <td>Wash car</td>\n",
       "      <td>20</td>\n",
       "      <td>53</td>\n",
       "      <td>40</td>\n",
       "      <td>47</td>\n",
       "      <td>32</td>\n",
       "      <td>45</td>\n",
       "    </tr>\n",
       "    <tr>\n",
       "      <th>11</th>\n",
       "      <td>Vacuum a room</td>\n",
       "      <td>27</td>\n",
       "      <td>33</td>\n",
       "      <td>20</td>\n",
       "      <td>40</td>\n",
       "      <td>27</td>\n",
       "      <td>45</td>\n",
       "    </tr>\n",
       "    <tr>\n",
       "      <th>12</th>\n",
       "      <td>Tidy others’ things</td>\n",
       "      <td>33</td>\n",
       "      <td>33</td>\n",
       "      <td>13</td>\n",
       "      <td>27</td>\n",
       "      <td>0</td>\n",
       "      <td>23</td>\n",
       "    </tr>\n",
       "  </tbody>\n",
       "</table>\n",
       "</div>"
      ],
      "text/plain": [
       "                     task   g8   b8  g11  b11  g14  b14\n",
       "0         Tidy own things  100  100  100  100  100  100\n",
       "1      Make own breakfast   87   80  100   73   95   82\n",
       "2            Make own bed   93   60   93   67   95   95\n",
       "3   Pick up dirty clothes   80   87   87   67   91   87\n",
       "4       Clear away dishes   87   53   93   73   95   73\n",
       "5        Take out garbage   40   53   47   47   32   64\n",
       "6    Do dishes/dishwasher   40   40   20   47   41   41\n",
       "7        Hang out washing   40   60   33   53   41   50\n",
       "8               Set table   53   80   33   40   37   27\n",
       "9     Bring in paper/mail   47   47   47   53   32   32\n",
       "10               Wash car   20   53   40   47   32   45\n",
       "11          Vacuum a room   27   33   20   40   27   45\n",
       "12    Tidy others’ things   33   33   13   27    0   23"
      ]
     },
     "execution_count": 4,
     "metadata": {},
     "output_type": "execute_result"
    }
   ],
   "source": [
    "tasks = ['Tidy own things', 'Make own breakfast', 'Make own bed', \n",
    "         'Pick up dirty clothes', 'Clear away dishes', 'Take out garbage', \n",
    "         'Do dishes/dishwasher', 'Hang out washing', 'Set table', \n",
    "         'Bring in paper/mail', 'Wash car', 'Vacuum a room', \n",
    "         'Tidy others’ things']\n",
    "\n",
    "g8 = np.array([100, 87, 93, 80, 87, 40, 40, 40, 53, 47, 20, 27, 33])\n",
    "g11 = np.array([100, 100, 93, 87, 93, 47, 20, 33, 33, 47, 40, 20, 13])\n",
    "g14 = np.array([100,95,95,91,95,32,41,41,37,32,32,27,0])\n",
    "\n",
    "b8, b11, b14 = [],[],[]\n",
    "x=0\n",
    "tl = [int(n) for n in '100 100 100 80 73 82 60 67 95 87 67 87 53 73 73 53 47 64 40 47 41 60 53 50 80 40 27 47 53 32 53 47 45 33 40 45 33 27 23'.split(' ')]\n",
    "for i in tl:\n",
    "    x+=1\n",
    " \n",
    "    if x>3:\n",
    "        x=1\n",
    "        \n",
    "    if x==1:\n",
    "        b8.append(i)\n",
    "    elif x==2:\n",
    "        b11.append(i)\n",
    "    elif x==3:\n",
    "        b14.append(i)\n",
    "\n",
    "b8 = np.array(b8)\n",
    "b11 = np.array(b11)\n",
    "b14 = np.array(b14)\n",
    "\n",
    "df = pd.DataFrame({'task':tasks,'g8':g8,'b8':b8,'g11':g11,'b11':b11,'g14':g14,'b14':b14})\n",
    "df"
   ]
  },
  {
   "cell_type": "markdown",
   "metadata": {
    "Collapsed": "false",
    "heading_collapsed": true,
    "hidden": true
   },
   "source": [
    "#### Problem"
   ]
  },
  {
   "cell_type": "markdown",
   "metadata": {
    "Collapsed": "false",
    "hidden": true
   },
   "source": [
    "*Chi-squred independence test:*\n",
    "\n",
    "$x^2 = \\sum_{i=1}^r\\sum_{j=1}^c\\frac{(O_{ij}-E_{ij})^2}{E_{ij}}$\n",
    "\n",
    "$E_{ij} = \\frac{\\sum_{j=1}^cO_{ij}\\sum_{i=1}^rO_{ij}}{n}$\n",
    "\n",
    "with $v = (r-1)(c-1)$ degrees of freedom\n",
    "\n",
    "*Odds ratio*:\n",
    "\n",
    "$w = \\frac{\\frac{p_1}{1-p_1}}{\\frac{p_2}{1-p_2}}$\n",
    "\n",
    "*Confidence interval for odds ratio:*\n",
    "\n",
    "$(we^{-1.96s_w},we^{1.96s_w})$\n",
    "\n",
    "where\n",
    "\n",
    "$w = \\frac{\\frac{a}{c}}{\\frac{b}{d}} = \\frac{ad}{bc}$\n",
    "\n",
    "$s_w = \\sqrt{\\frac{1}{a}+\\frac{1}{b}+\\frac{1}{c}+\\frac{1}{d}}$\n",
    "\n",
    "This is for a 2x2 contingency table:\n",
    "\n",
    "<table>\n",
    "    <tr>\n",
    "        <td></td>\n",
    "        <td>outcome=1</td>\n",
    "        <td>outcome=2</td>\n",
    "        <td>total</td>\n",
    "    </tr>\n",
    "    <tr>\n",
    "        <td>determinant=1</td>\n",
    "        <td>a</td>\n",
    "        <td>c</td>\n",
    "        <td>a+c</td>\n",
    "    </tr>\n",
    "    <tr>\n",
    "        <td>determinant=2</td>\n",
    "        <td>b</td>\n",
    "        <td>d</td>\n",
    "        <td>b+d</td>\n",
    "    </tr>\n",
    "    <tr>\n",
    "        <td>total</td>\n",
    "        <td>a+b</td>\n",
    "        <td>c+d</td>\n",
    "        <td>a+b+c+d</td>\n",
    "    </tr>\n",
    "</table>"
   ]
  },
  {
   "cell_type": "markdown",
   "metadata": {
    "Collapsed": "false",
    "hidden": true
   },
   "source": [
    "$H_0$: the groups have no association"
   ]
  },
  {
   "cell_type": "code",
   "execution_count": 5,
   "metadata": {
    "Collapsed": "false",
    "hidden": true
   },
   "outputs": [
    {
     "data": {
      "text/html": [
       "<div>\n",
       "<style scoped>\n",
       "    .dataframe tbody tr th:only-of-type {\n",
       "        vertical-align: middle;\n",
       "    }\n",
       "\n",
       "    .dataframe tbody tr th {\n",
       "        vertical-align: top;\n",
       "    }\n",
       "\n",
       "    .dataframe thead th {\n",
       "        text-align: right;\n",
       "    }\n",
       "</style>\n",
       "<table border=\"1\" class=\"dataframe\">\n",
       "  <thead>\n",
       "    <tr style=\"text-align: right;\">\n",
       "      <th></th>\n",
       "      <th>1</th>\n",
       "      <th>3</th>\n",
       "      <th>10</th>\n",
       "    </tr>\n",
       "  </thead>\n",
       "  <tbody>\n",
       "    <tr>\n",
       "      <th>b14</th>\n",
       "      <td>18.0</td>\n",
       "      <td>19.0</td>\n",
       "      <td>10.0</td>\n",
       "    </tr>\n",
       "    <tr>\n",
       "      <th>g14</th>\n",
       "      <td>21.0</td>\n",
       "      <td>20.0</td>\n",
       "      <td>7.0</td>\n",
       "    </tr>\n",
       "  </tbody>\n",
       "</table>\n",
       "</div>"
      ],
      "text/plain": [
       "       1     3     10\n",
       "b14  18.0  19.0  10.0\n",
       "g14  21.0  20.0   7.0"
      ]
     },
     "execution_count": 5,
     "metadata": {},
     "output_type": "execute_result"
    }
   ],
   "source": [
    "# Extract relevant data for the problem. Substitute original proportions for absolute values.\n",
    "o = df[df.task.isin(['Make own breakfast', 'Pick up dirty clothes', 'Wash car'])][['b14','g14']].T\n",
    "o = (o*.22).apply(round)\n",
    "o"
   ]
  },
  {
   "cell_type": "code",
   "execution_count": 6,
   "metadata": {
    "Collapsed": "false",
    "hidden": true
   },
   "outputs": [
    {
     "data": {
      "text/plain": [
       "1     0.214286\n",
       "3     0.633333\n",
       "10    1.785714\n",
       "dtype: float64"
      ]
     },
     "execution_count": 6,
     "metadata": {},
     "output_type": "execute_result"
    }
   ],
   "source": [
    "# Calculate new proportions\n",
    "o_prop = o/22\n",
    "\n",
    "# Calculate odds\n",
    "odds = o_prop/(1-o_prop)\n",
    "\n",
    "# Calculate odds ratio\n",
    "odds_ratio = odds.loc['b14']/odds.loc['g14']\n",
    "odds_ratio"
   ]
  },
  {
   "cell_type": "code",
   "execution_count": 7,
   "metadata": {
    "Collapsed": "false",
    "hidden": true
   },
   "outputs": [
    {
     "data": {
      "text/plain": [
       "1        Make own breakfast\n",
       "3     Pick up dirty clothes\n",
       "10                 Wash car\n",
       "Name: task, dtype: object"
      ]
     },
     "execution_count": 7,
     "metadata": {},
     "output_type": "execute_result"
    }
   ],
   "source": [
    "# Check tasks\n",
    "df.loc[[1,3,10]]['task']"
   ]
  },
  {
   "cell_type": "code",
   "execution_count": 72,
   "metadata": {
    "Collapsed": "false",
    "hidden": true
   },
   "outputs": [
    {
     "name": "stdout",
     "output_type": "stream",
     "text": [
      "w = 0.2143\n",
      "CI = (0.0219,2.0950)\n"
     ]
    }
   ],
   "source": [
    "# Calculate Sw for 'Make your own breakfast' .loc[1]\n",
    "idx = 1\n",
    "sw = math.sqrt(np.sum(1/np.array([o[idx],(22-np.array(o[1]))]).T))\n",
    "\n",
    "# Calculte CI for 'Make your own breakfast'\n",
    "ci = [odds_ratio.loc[idx]*math.exp(-1.96*sw),odds_ratio.loc[idx]*math.exp(1.96*sw)]\n",
    "\n",
    "print(f'w = {odds_ratio.loc[idx]:.4f}')\n",
    "print(f'CI = ({ci[0]:.4f},{ci[1]:.4f})')"
   ]
  },
  {
   "cell_type": "code",
   "execution_count": 69,
   "metadata": {
    "Collapsed": "false",
    "hidden": true
   },
   "outputs": [
    {
     "data": {
      "image/png": "[encoded data removed]",
      "text/plain": [
       "<Figure size 432x288 with 1 Axes>"
      ]
     },
     "metadata": {
      "needs_background": "light"
     },
     "output_type": "display_data"
    }
   ],
   "source": [
    "x = np.linspace(ci[0],ci[1])\n",
    "y = x*0\n",
    "plt.plot(x,y)\n",
    "plt.scatter(odds_ratio.loc[idx],0)\n",
    "plt.vlines(1,-.5,.5,color='red')\n",
    "plt.tick_params(axis='y',which='both',left=False,labelleft=False)"
   ]
  },
  {
   "cell_type": "markdown",
   "metadata": {
    "Collapsed": "false",
    "hidden": true
   },
   "source": [
    "There does not seem to be an association as the 95% CI for $\\omega$ includes 1"
   ]
  },
  {
   "cell_type": "code",
   "execution_count": 78,
   "metadata": {
    "Collapsed": "false",
    "hidden": true
   },
   "outputs": [
    {
     "name": "stdout",
     "output_type": "stream",
     "text": [
      "w = 0.6333\n",
      "CI = (0.0951,4.2184)\n"
     ]
    },
    {
     "data": {
      "image/png": "[encoded data removed]",
      "text/plain": [
       "<Figure size 432x288 with 1 Axes>"
      ]
     },
     "metadata": {
      "needs_background": "light"
     },
     "output_type": "display_data"
    }
   ],
   "source": [
    "# Calculate Sw for loc[3]\n",
    "idx = 3\n",
    "sw = math.sqrt(np.sum(1/np.array([o[idx],(22-np.array(o[idx]))]).T))\n",
    "\n",
    "# Calculte CI for 'Make your own breakfast'\n",
    "ci = [odds_ratio.loc[idx]*math.exp(-1.96*sw),odds_ratio.loc[idx]*math.exp(1.96*sw)]\n",
    "\n",
    "print(f'w = {odds_ratio.loc[idx]:.4f}')\n",
    "print(f'CI = ({ci[0]:.4f},{ci[1]:.4f})')\n",
    "\n",
    "x = np.linspace(ci[0],ci[1])\n",
    "y = x*0\n",
    "plt.plot(x,y)\n",
    "plt.scatter(odds_ratio.loc[idx],0)\n",
    "plt.vlines(1,-.5,.5,color='red')\n",
    "plt.tick_params(axis='y',which='both',left=False,labelleft=False)"
   ]
  },
  {
   "cell_type": "markdown",
   "metadata": {
    "Collapsed": "false",
    "hidden": true
   },
   "source": [
    "No association is apparent as the CI for $\\omega$ includes 1"
   ]
  },
  {
   "cell_type": "code",
   "execution_count": 79,
   "metadata": {
    "Collapsed": "false",
    "hidden": true
   },
   "outputs": [
    {
     "data": {
      "text/html": [
       "<div>\n",
       "<style scoped>\n",
       "    .dataframe tbody tr th:only-of-type {\n",
       "        vertical-align: middle;\n",
       "    }\n",
       "\n",
       "    .dataframe tbody tr th {\n",
       "        vertical-align: top;\n",
       "    }\n",
       "\n",
       "    .dataframe thead th {\n",
       "        text-align: right;\n",
       "    }\n",
       "</style>\n",
       "<table border=\"1\" class=\"dataframe\">\n",
       "  <thead>\n",
       "    <tr style=\"text-align: right;\">\n",
       "      <th></th>\n",
       "      <th>1</th>\n",
       "      <th>3</th>\n",
       "      <th>10</th>\n",
       "    </tr>\n",
       "  </thead>\n",
       "  <tbody>\n",
       "    <tr>\n",
       "      <th>b14</th>\n",
       "      <td>18.0</td>\n",
       "      <td>19.0</td>\n",
       "      <td>10.0</td>\n",
       "    </tr>\n",
       "    <tr>\n",
       "      <th>g14</th>\n",
       "      <td>21.0</td>\n",
       "      <td>20.0</td>\n",
       "      <td>7.0</td>\n",
       "    </tr>\n",
       "  </tbody>\n",
       "</table>\n",
       "</div>"
      ],
      "text/plain": [
       "       1     3     10\n",
       "b14  18.0  19.0  10.0\n",
       "g14  21.0  20.0   7.0"
      ]
     },
     "execution_count": 79,
     "metadata": {},
     "output_type": "execute_result"
    }
   ],
   "source": [
    "o"
   ]
  },
  {
   "cell_type": "code",
   "execution_count": 80,
   "metadata": {
    "Collapsed": "false",
    "hidden": true
   },
   "outputs": [
    {
     "name": "stdout",
     "output_type": "stream",
     "text": [
      "w = 1.7857\n",
      "CI = (0.5227,6.1002)\n"
     ]
    },
    {
     "data": {
      "image/png": "[encoded data removed]",
      "text/plain": [
       "<Figure size 432x288 with 1 Axes>"
      ]
     },
     "metadata": {
      "needs_background": "light"
     },
     "output_type": "display_data"
    }
   ],
   "source": [
    "# Calculate Sw for loc[10]\n",
    "idx = 10\n",
    "sw = math.sqrt(np.sum(1/np.array([o[idx],(22-np.array(o[idx]))]).T))\n",
    "\n",
    "# Calculte CI for 'Make your own breakfast'\n",
    "ci = [odds_ratio.loc[idx]*math.exp(-1.96*sw),odds_ratio.loc[idx]*math.exp(1.96*sw)]\n",
    "\n",
    "print(f'w = {odds_ratio.loc[idx]:.4f}')\n",
    "print(f'CI = ({ci[0]:.4f},{ci[1]:.4f})')\n",
    "\n",
    "x = np.linspace(ci[0],ci[1])\n",
    "y = x*0\n",
    "plt.plot(x,y)\n",
    "plt.scatter(odds_ratio.loc[idx],0)\n",
    "plt.vlines(1,-.5,.5,color='red')\n",
    "plt.tick_params(axis='y',which='both',left=False,labelleft=False)"
   ]
  },
  {
   "cell_type": "markdown",
   "metadata": {
    "Collapsed": "false",
    "hidden": true
   },
   "source": [
    "No association apparent as the CI for $\\omega$ includes 1"
   ]
  },
  {
   "cell_type": "markdown",
   "metadata": {
    "Collapsed": "false",
    "heading_collapsed": true,
    "hidden": true
   },
   "source": [
    "#### Solution"
   ]
  },
  {
   "cell_type": "markdown",
   "metadata": {
    "Collapsed": "false",
    "hidden": true
   },
   "source": [
    "**Make own breakfast:** \n",
    "\n",
    "Not all expected counts are ≥ 5 so the results should be treated with caution. <br>\n",
    "w = 0.214, 95% CI is (0.022, 2.091) <br>\n",
    "No association is apparent since the 95% CI for ω contains 1. \n",
    "\n",
    "**Pick up dirty clothes:**\n",
    "\n",
    "Not all expected counts are ≥ 5 so the results should be treated with caution.<br>\n",
    "w = 0.633, 95%C I is (0.095, 4.212)<br>\n",
    "No association is apparent since the 95% CI for ω contains 1. \n",
    "\n",
    "**Wash car:**\n",
    "\n",
    "All expected counts are ≥ 5<br>\n",
    "w = 1.786, 95% CI is (0.523, 6.104)<br>\n",
    "No association is apparent since the 95% CI for ω contains 1. "
   ]
  },
  {
   "cell_type": "markdown",
   "metadata": {
    "Collapsed": "true",
    "heading_collapsed": true
   },
   "source": [
    "### Problem 5"
   ]
  },
  {
   "cell_type": "markdown",
   "metadata": {
    "Collapsed": "false",
    "hidden": true
   },
   "source": [
    "In an article printed in The Sydney Morning Herald on 12 July 1993 the numbers of cash transactions of more than $10,000 were reported as follows.\n",
    "\n",
    "<table>\n",
    "    <tr>\n",
    "        <th rowspan='2'>Cash dealer</th>\n",
    "        <th colspan='2'>Significant transactions</th>\n",
    "        <th colspan='2'>Suspect transactions</th>\n",
    "    </tr>\n",
    "    <tr>\n",
    "        <th>1991/92</th>\n",
    "        <th>1992/93</th>\n",
    "        <th>1991/92</th>\n",
    "        <th>1992/93</th>\n",
    "    </tr>\n",
    "    <tr>\n",
    "        <td>Casino</td>\n",
    "        <td>3868</td>\n",
    "        <td>4678</td>\n",
    "        <td>68</td>\n",
    "        <td>42</td>\n",
    "    </tr>\n",
    "    <tr>\n",
    "        <td>TAB</td>\n",
    "        <td>1099</td>\n",
    "        <td>918</td>\n",
    "        <td>39</td>\n",
    "        <td>56</td>\n",
    "    </tr>\n",
    "    <tr>\n",
    "        <td>Bookmaker</td>\n",
    "        <td>602</td>\n",
    "        <td>396</td>\n",
    "        <td>0</td>\n",
    "        <td>0</td>\n",
    "    </tr>\n",
    "</table>"
   ]
  },
  {
   "cell_type": "markdown",
   "metadata": {
    "Collapsed": "false",
    "hidden": true
   },
   "source": [
    " a. Considering only the Casino data, has the number of suspect transactions as a proportion of total cash transactions changed from the 1991/92 financial year to the 1992/93 financial year? (Assume that ‘significant’ cash transactions do not include ‘suspect’ cash transactions.)"
   ]
  },
  {
   "cell_type": "markdown",
   "metadata": {
    "Collapsed": "false",
    "hidden": true
   },
   "source": [
    "$H_0$: Proportion of suspect transactions has not changed\n",
    "\n",
    "$x^2 = \\sum_{i=1}^r\\sum_{j=1}^c\\frac{(O_{ij}-E_{ij})^2}{E_{ij}}$\n",
    "\n",
    "where $O_{ij}$ is the observed count in category $i$ of the determinant and category $j$ of the outcome, and $E_{ij}$ is the corresponding expected count.\n",
    "\n",
    "$E_{ij} = \\frac{\\sum_{j=1}^cO_{ij}\\sum_{i=1}^rO_{ij}}{n}$\n",
    "\n",
    "with $v = (r-1)(c-1)$ degrees of freedom."
   ]
  },
  {
   "cell_type": "code",
   "execution_count": 2,
   "metadata": {
    "Collapsed": "false",
    "hidden": true
   },
   "outputs": [
    {
     "data": {
      "text/html": [
       "<div>\n",
       "<style scoped>\n",
       "    .dataframe tbody tr th:only-of-type {\n",
       "        vertical-align: middle;\n",
       "    }\n",
       "\n",
       "    .dataframe tbody tr th {\n",
       "        vertical-align: top;\n",
       "    }\n",
       "\n",
       "    .dataframe thead th {\n",
       "        text-align: right;\n",
       "    }\n",
       "</style>\n",
       "<table border=\"1\" class=\"dataframe\">\n",
       "  <thead>\n",
       "    <tr style=\"text-align: right;\">\n",
       "      <th></th>\n",
       "      <th>significant</th>\n",
       "      <th>suspect</th>\n",
       "    </tr>\n",
       "  </thead>\n",
       "  <tbody>\n",
       "    <tr>\n",
       "      <th>1991</th>\n",
       "      <td>3868</td>\n",
       "      <td>68</td>\n",
       "    </tr>\n",
       "    <tr>\n",
       "      <th>1992</th>\n",
       "      <td>4678</td>\n",
       "      <td>42</td>\n",
       "    </tr>\n",
       "  </tbody>\n",
       "</table>\n",
       "</div>"
      ],
      "text/plain": [
       "      significant  suspect\n",
       "1991         3868       68\n",
       "1992         4678       42"
      ]
     },
     "execution_count": 2,
     "metadata": {},
     "output_type": "execute_result"
    }
   ],
   "source": [
    "df = pd.DataFrame({'significant':[3868,4678],'suspect':[68,42]},index=[1991,1992])\n",
    "df"
   ]
  },
  {
   "cell_type": "code",
   "execution_count": 3,
   "metadata": {
    "Collapsed": "false",
    "hidden": true
   },
   "outputs": [
    {
     "name": "stdout",
     "output_type": "stream",
     "text": [
      "x2 = 12.007474552204986\n",
      "p value = 0.0005298760971748871\n"
     ]
    }
   ],
   "source": [
    "# Calculate chi-squared\n",
    "o = df.to_numpy()\n",
    "o_rt = o.sum(axis=1).reshape(-1,1)\n",
    "o_ct = o.sum(axis=0)\n",
    "o_t = o.sum()\n",
    "\n",
    "e = o_rt*o_ct/o_t\n",
    "chi_squared = ((o-e)**2/e).sum()\n",
    "p_value = stats.chi2.sf(chi_squared,df=(o.shape[0]-1)*(o.shape[1]-1))\n",
    "\n",
    "print(f'x2 = {chi_squared}')\n",
    "print(f'p value = {p_value}')"
   ]
  },
  {
   "cell_type": "markdown",
   "metadata": {
    "Collapsed": "false",
    "hidden": true
   },
   "source": [
    "b. Consider the data for the 1992/93 financial year. Is there an association between the type of cash dealer and whether the transaction is suspect? "
   ]
  },
  {
   "cell_type": "markdown",
   "metadata": {
    "Collapsed": "false",
    "hidden": true
   },
   "source": [
    "$x^2 = \\sum_{i=1}^r\\sum_{j=1}^c\\frac{(O_{ij}-E_{ij})^2}{E_{ij}}$\n",
    "\n",
    "where $O_{ij}$ is the observed count in category $i$ of the determinant and category $j$ of the outcome, and $E_{ij}$ is the corresponding expected count.\n",
    "\n",
    "$E_{ij} = \\frac{\\sum_{j=1}^cO_{ij}\\sum_{i=1}^rO_{ij}}{n}$\n",
    "\n",
    "with $v = (r-1)(c-1)$ degrees of freedom."
   ]
  },
  {
   "cell_type": "code",
   "execution_count": 12,
   "metadata": {
    "Collapsed": "false",
    "hidden": true
   },
   "outputs": [
    {
     "name": "stdout",
     "output_type": "stream",
     "text": [
      "x2 = 127.35612063256585\n",
      "p value = 0.0005298760971748871\n"
     ]
    }
   ],
   "source": [
    "# Calculating chi-squared\n",
    "o = np.array([[42,56,0],[4678,918,396]])\n",
    "o_rt = o.sum(axis=1).reshape(-1,1)\n",
    "o_ct = o.sum(axis=0)\n",
    "o_t = o.sum()\n",
    "\n",
    "e = (o_rt*o_ct)/o_t\n",
    "\n",
    "chi_squared = ((o-e)**2/e).sum()\n",
    "cp_value = stats.chi2.sf(chi_squared,df=(o.shape[0]-1)*(o.shape[1]-1))\n",
    "\n",
    "print(f'x2 = {chi_squared}')\n",
    "print(f'p value = {p_value}')"
   ]
  },
  {
   "cell_type": "markdown",
   "metadata": {
    "Collapsed": "false",
    "heading_collapsed": true,
    "hidden": true
   },
   "source": [
    "#### Solution"
   ]
  },
  {
   "cell_type": "markdown",
   "metadata": {
    "Collapsed": "false",
    "hidden": true
   },
   "source": [
    "Part a\n",
    "\n",
    "Ho: the proportion of suspect transactions has not changed between years. \n",
    "\n",
    "All expected counts are ≥ 5 \n",
    "\n",
    "$X_1^2$ = 12.03, 0.0005 < p-value < 0.001 10.5b"
   ]
  },
  {
   "cell_type": "markdown",
   "metadata": {
    "Collapsed": "false",
    "hidden": true
   },
   "source": [
    "Part b\n",
    "\n",
    "Ho: type of cash dealing and type of transaction are not associated. \n",
    "\n",
    "All expected counts are ≥ 5 \n",
    "\n",
    "$X_2^2$= 127.1, p-value < 0.0005"
   ]
  },
  {
   "cell_type": "markdown",
   "metadata": {
    "Collapsed": "true",
    "heading_collapsed": true
   },
   "source": [
    "### Problem 6"
   ]
  },
  {
   "cell_type": "markdown",
   "metadata": {
    "Collapsed": "false",
    "hidden": true
   },
   "source": [
    "A report released by the New South Wales Department of Health claimed that “the campaign to teach parents not to let their babies sleep on their stomachs is believed to have halved the number of deaths from Sudden Infant Death Syndrome (SIDS) in the last two years” (The Sydney Morning Herald. 28 August 1993). In New South Wales in 1990, 185 babies died from SIDS, whilst in 1992, 79 died from the disease. Assess the Department’s claim using the following methods:"
   ]
  },
  {
   "cell_type": "markdown",
   "metadata": {
    "Collapsed": "false",
    "hidden": true
   },
   "source": [
    "$x^2 = \\sum_{j=1}^c\\frac{(O_j - E_j)^2}{E_j}$\n",
    "\n",
    "$E_j = n\\pi_j$\n",
    "\n",
    "$v = c-1$"
   ]
  },
  {
   "cell_type": "markdown",
   "metadata": {
    "Collapsed": "false",
    "hidden": true
   },
   "source": [
    "a. a chi-squared goodness-of-fit test;"
   ]
  },
  {
   "cell_type": "markdown",
   "metadata": {
    "Collapsed": "false",
    "hidden": true
   },
   "source": [
    "The proportion of 1990 is double that of 1992. So we assume the proportion in 1990 is $\\frac{2}{3}$ and in 1992 is $\\frac{1}{3}$.\n",
    "\n",
    "$H_0: \\pi_{90}=\\frac{2}{3}, \\pi_{92}=\\frac{1}{3}$"
   ]
  },
  {
   "cell_type": "code",
   "execution_count": 12,
   "metadata": {
    "Collapsed": "false",
    "hidden": true
   },
   "outputs": [
    {
     "name": "stdout",
     "output_type": "stream",
     "text": [
      "x2 = 1.3806818181818181\n",
      "p value = 0.23998504304754167\n"
     ]
    }
   ],
   "source": [
    "o = np.array([[185,79]])\n",
    "e = o.sum()*np.array([[2/3,1/3]])\n",
    "\n",
    "chi_squared = ((o-e)**2/e).sum()\n",
    "p_value = stats.chi2.sf(chi_squared,df=o.shape[1]-1)\n",
    "\n",
    "print(f'x2 = {chi_squared}')\n",
    "print(f'p value = {p_value}')"
   ]
  },
  {
   "cell_type": "markdown",
   "metadata": {
    "Collapsed": "false",
    "hidden": true
   },
   "source": [
    "The proportion dieing in 1990 could be double that of 1992"
   ]
  },
  {
   "cell_type": "markdown",
   "metadata": {
    "Collapsed": "false",
    "hidden": true
   },
   "source": [
    "b. a graph showing a 95% confidence interval for the odds ratio, with the null hypothesis value indicated as a vertical dotted line.\n",
    "\n",
    "(For part b. assume that the populations at risk in 1990 and 1992 are the same, and that both populations are very large.) "
   ]
  },
  {
   "cell_type": "markdown",
   "metadata": {
    "Collapsed": "false",
    "hidden": true
   },
   "source": [
    "$(we^{-1.96s_w},we^{1.96s_w})$\n",
    "\n",
    "where\n",
    "\n",
    "$w = \\frac{\\frac{a}{c}}{\\frac{b}{d}} = \\frac{ad}{bc}$\n",
    "\n",
    "$s_w = \\sqrt{\\frac{1}{a}+\\frac{1}{b}+\\frac{1}{c}+\\frac{1}{d}}$\n",
    "\n",
    "which is part of the statistic:\n",
    "\n",
    "$z = \\frac{ln(w)-ln(\\omega)}{s_w}$\n",
    "\n",
    "This is for a 2x2 contingency table:\n",
    "\n",
    "<table>\n",
    "    <tr>\n",
    "        <td></td>\n",
    "        <td>outcome=1</td>\n",
    "        <td>outcome=2</td>\n",
    "        <td>total</td>\n",
    "    </tr>\n",
    "    <tr>\n",
    "        <td>determinant=1</td>\n",
    "        <td>a</td>\n",
    "        <td>c</td>\n",
    "        <td>a+c</td>\n",
    "    </tr>\n",
    "    <tr>\n",
    "        <td>determinant=2</td>\n",
    "        <td>b</td>\n",
    "        <td>d</td>\n",
    "        <td>b+d</td>\n",
    "    </tr>\n",
    "    <tr>\n",
    "        <td>total</td>\n",
    "        <td>a+b</td>\n",
    "        <td>c+d</td>\n",
    "        <td>a+b+c+d</td>\n",
    "    </tr>\n",
    "</table>"
   ]
  },
  {
   "cell_type": "code",
   "execution_count": 44,
   "metadata": {
    "Collapsed": "false",
    "hidden": true
   },
   "outputs": [
    {
     "name": "stdout",
     "output_type": "stream",
     "text": [
      "odds ratio = 2.342\n",
      "CI = (1.800,3.048)\n"
     ]
    },
    {
     "data": {
      "image/png": "[encoded data removed]",
      "text/plain": [
       "<Figure size 432x288 with 1 Axes>"
      ]
     },
     "metadata": {
      "needs_background": "light"
     },
     "output_type": "display_data"
    }
   ],
   "source": [
    "n = 1000000\n",
    "ct = np.concatenate((o,n-o))\n",
    "\n",
    "odds = ct[:,0]/ct[:,1]\n",
    "w = odds[0]/odds[1]\n",
    "sw = math.sqrt(np.sum(1/ct))\n",
    "\n",
    "ci = [w*math.exp(-1.96*sw),w*math.exp(1.96*sw)]\n",
    "print(f'odds ratio = {w:.3f}')\n",
    "print(f'CI = ({ci[0]:.3f},{ci[1]:.3f})')\n",
    "\n",
    "x = np.linspace(ci[0],ci[1])\n",
    "y = 0*x\n",
    "\n",
    "plt.plot(x,y)\n",
    "plt.vlines(x=1,ymin=-.5,ymax=.5,color='red')\n",
    "plt.scatter(x=w,y=0)\n",
    "plt.tick_params(axis='y',which='both',left=False,labelleft=False)"
   ]
  },
  {
   "cell_type": "markdown",
   "metadata": {
    "Collapsed": "false",
    "hidden": true
   },
   "source": [
    "The CI for $\\omega$ does not contain 1 so we can assume there is an association and the proportions between 1990 and 1992 are different."
   ]
  },
  {
   "cell_type": "markdown",
   "metadata": {
    "Collapsed": "true",
    "heading_collapsed": true
   },
   "source": [
    "### Problem 7"
   ]
  },
  {
   "cell_type": "markdown",
   "metadata": {
    "Collapsed": "false",
    "hidden": true
   },
   "source": [
    "To ascertain the level of comprehension of the greenhouse effect, Henderson-Sellers (1990) interviewed persons attending two national meetings on this issue. One of the questions they were asked involved the extent to which they believed that the ozone hole and the greenhouse effect were related. Of 120 attendees who were identified as having an ‘accurate and good scientific understanding’ of the issue, 8.5% said that they believed that the two phenomena were not at all related, 25.5% said that they were slightly related, 35.1% said somewhat related, 27.7% said very related, and 3.2% gave no response. For the other 201 respondents, the corresponding percentages were 2.5, 16.9, 32.8, 43.8, and 4. Is there evidence that the two groups differ in their responses? "
   ]
  },
  {
   "cell_type": "code",
   "execution_count": 49,
   "metadata": {
    "Collapsed": "false",
    "hidden": true
   },
   "outputs": [
    {
     "data": {
      "text/html": [
       "<div>\n",
       "<style scoped>\n",
       "    .dataframe tbody tr th:only-of-type {\n",
       "        vertical-align: middle;\n",
       "    }\n",
       "\n",
       "    .dataframe tbody tr th {\n",
       "        vertical-align: top;\n",
       "    }\n",
       "\n",
       "    .dataframe thead th {\n",
       "        text-align: right;\n",
       "    }\n",
       "</style>\n",
       "<table border=\"1\" class=\"dataframe\">\n",
       "  <thead>\n",
       "    <tr style=\"text-align: right;\">\n",
       "      <th></th>\n",
       "      <th>not related</th>\n",
       "      <th>slightly related</th>\n",
       "      <th>somewhat related</th>\n",
       "      <th>very related</th>\n",
       "      <th>no response</th>\n",
       "    </tr>\n",
       "  </thead>\n",
       "  <tbody>\n",
       "    <tr>\n",
       "      <th>good understanding</th>\n",
       "      <td>0.085</td>\n",
       "      <td>0.255</td>\n",
       "      <td>0.351</td>\n",
       "      <td>0.277</td>\n",
       "      <td>0.032</td>\n",
       "    </tr>\n",
       "    <tr>\n",
       "      <th>other</th>\n",
       "      <td>0.025</td>\n",
       "      <td>0.169</td>\n",
       "      <td>0.328</td>\n",
       "      <td>0.438</td>\n",
       "      <td>0.040</td>\n",
       "    </tr>\n",
       "  </tbody>\n",
       "</table>\n",
       "</div>"
      ],
      "text/plain": [
       "                    not related  slightly related  somewhat related  \\\n",
       "good understanding        0.085             0.255             0.351   \n",
       "other                     0.025             0.169             0.328   \n",
       "\n",
       "                    very related  no response  \n",
       "good understanding         0.277        0.032  \n",
       "other                      0.438        0.040  "
      ]
     },
     "execution_count": 49,
     "metadata": {},
     "output_type": "execute_result"
    }
   ],
   "source": [
    "df = pd.DataFrame({'not related':[.085,.025],'slightly related':[.255,.169],\n",
    "                   'somewhat related':[.351,.328],'very related':[.277,.438],\n",
    "                   'no response':[.032,.04]},\n",
    "                  index=['good understanding','other'])\n",
    "df"
   ]
  },
  {
   "cell_type": "markdown",
   "metadata": {
    "Collapsed": "false",
    "hidden": true
   },
   "source": [
    "$H_0$: There is no difference between the responses\n",
    "\n",
    "$x^2 = \\sum_{i=1}^r\\sum_{j=1}^c\\frac{(O_{ij}-E_{ij})^2}{E_{ij}}$\n",
    "\n",
    "$E_{ij} = \\frac{\\sum_{j=1}^cO_{ij}\\sum_{i=1}^rO_{ij}}{n}$\n",
    "\n",
    "with $v = (r-1)(c-1)$ degrees of freedom."
   ]
  },
  {
   "cell_type": "code",
   "execution_count": 60,
   "metadata": {
    "Collapsed": "false",
    "hidden": true
   },
   "outputs": [
    {
     "name": "stdout",
     "output_type": "stream",
     "text": [
      "x2 = 13.918804056639878\n",
      "p value = 0.00755875977362911\n"
     ]
    }
   ],
   "source": [
    "# Calculate number of respondents\n",
    "o = np.round(df.to_numpy()*np.array([[120],[201]]))\n",
    "o_rt = o.sum(axis=1).reshape(-1,1)\n",
    "o_ct = o.sum(axis=0)\n",
    "o_t = o.sum()\n",
    "\n",
    "e = o_ct*o_rt/o_t\n",
    "\n",
    "chi_squared = ((o-e)**2/e).sum()\n",
    "p_value = stats.chi2.sf(chi_squared,df=(o.shape[0]-1)*(o.shape[1]-1))\n",
    "\n",
    "print(f'x2 = {chi_squared}')\n",
    "print(f'p value = {p_value}')"
   ]
  },
  {
   "cell_type": "markdown",
   "metadata": {
    "Collapsed": "true",
    "heading_collapsed": true
   },
   "source": [
    "### Problem 8"
   ]
  },
  {
   "cell_type": "markdown",
   "metadata": {
    "Collapsed": "false",
    "hidden": true
   },
   "source": [
    "Cotton, Antill & Cunningham (1990) sought to derive and determine the usefulness of an index representing mothers’ attachment to the workforce. The proportions of families they targeted from each of three social risk areas were 35% from a ‘low-risk’ group, 27% from a ‘medium-risk’ group, and 38% from a ‘high-risk’ group. In their study of 166 families, it turned out that 68 came from the low-risk group, 48 from the medium-risk group, and the remainder from the high-risk group. Allowing for sampling error, did they achieve their targeted percentages? "
   ]
  },
  {
   "cell_type": "code",
   "execution_count": 61,
   "metadata": {
    "Collapsed": "false",
    "hidden": true
   },
   "outputs": [
    {
     "data": {
      "text/html": [
       "<div>\n",
       "<style scoped>\n",
       "    .dataframe tbody tr th:only-of-type {\n",
       "        vertical-align: middle;\n",
       "    }\n",
       "\n",
       "    .dataframe tbody tr th {\n",
       "        vertical-align: top;\n",
       "    }\n",
       "\n",
       "    .dataframe thead th {\n",
       "        text-align: right;\n",
       "    }\n",
       "</style>\n",
       "<table border=\"1\" class=\"dataframe\">\n",
       "  <thead>\n",
       "    <tr style=\"text-align: right;\">\n",
       "      <th></th>\n",
       "      <th>low risk</th>\n",
       "      <th>medium risk</th>\n",
       "      <th>high risk</th>\n",
       "    </tr>\n",
       "  </thead>\n",
       "  <tbody>\n",
       "    <tr>\n",
       "      <th>observed actual</th>\n",
       "      <td>68.00</td>\n",
       "      <td>48.00</td>\n",
       "      <td>50.00</td>\n",
       "    </tr>\n",
       "    <tr>\n",
       "      <th>expected proportion</th>\n",
       "      <td>0.35</td>\n",
       "      <td>0.27</td>\n",
       "      <td>0.38</td>\n",
       "    </tr>\n",
       "  </tbody>\n",
       "</table>\n",
       "</div>"
      ],
      "text/plain": [
       "                     low risk  medium risk  high risk\n",
       "observed actual         68.00        48.00      50.00\n",
       "expected proportion      0.35         0.27       0.38"
      ]
     },
     "execution_count": 61,
     "metadata": {},
     "output_type": "execute_result"
    }
   ],
   "source": [
    "df = pd.DataFrame({'low risk':[68,.35],'medium risk':[48,.27],'high risk':[166-68-48,.38]},\\\n",
    "                  index=['observed actual','expected proportion'])\n",
    "df"
   ]
  },
  {
   "cell_type": "markdown",
   "metadata": {
    "Collapsed": "false",
    "hidden": true
   },
   "source": [
    "$H_0: \\pi_1 = 0.35, \\pi_2 = 0.27, \\pi_3 = 0.38$\n",
    "\n",
    "$x^2 = \\sum_{j=1}^c\\frac{(O_j - E_j)^2}{E_j}$\n",
    "\n",
    "$E_j = n\\pi_j$\n",
    "\n",
    "$v = c-1$"
   ]
  },
  {
   "cell_type": "code",
   "execution_count": 72,
   "metadata": {
    "Collapsed": "false",
    "hidden": true
   },
   "outputs": [
    {
     "name": "stdout",
     "output_type": "stream",
     "text": [
      "x2 = 4.606677613574165\n",
      "p value = 0.09992465701778551\n"
     ]
    }
   ],
   "source": [
    "o = df.loc['observed actual'].to_numpy()\n",
    "e = np.round(o.sum()*df.loc['expected proportion'].to_numpy())\n",
    "\n",
    "chi_squared = ((o-e)**2/e).sum()\n",
    "p_value = stats.chi2.sf(chi_squared,df=o.shape[0]-1)\n",
    "\n",
    "print(f'x2 = {chi_squared}')\n",
    "print(f'p value = {p_value}')"
   ]
  },
  {
   "cell_type": "markdown",
   "metadata": {
    "Collapsed": "true",
    "heading_collapsed": true
   },
   "source": [
    "### Problem 9"
   ]
  },
  {
   "cell_type": "markdown",
   "metadata": {
    "Collapsed": "false",
    "hidden": true
   },
   "source": [
    "For the study referred to in Homework Problem 8, the following table shows the outcomes in terms of the numbers of women in various employment classes. \n",
    "\n",
    "<table>\n",
    "    <tr>\n",
    "        <th rowspan='2'>Current work status</th>\n",
    "        <th colspan='3'>Work attachment</th>\n",
    "        <th rowspan='2'>Total</th>\n",
    "    </tr>\n",
    "    <tr>\n",
    "        <th>High</th>\n",
    "        <th>Moderate</th>\n",
    "        <th>Low</th>\n",
    "    </tr>\n",
    "    <tr>\n",
    "        <td>Full-time employed</td>\n",
    "        <td>33</td>\n",
    "        <td>10</td>\n",
    "        <td>2</td>\n",
    "        <td>45</td>\n",
    "    </tr>\n",
    "    <tr>\n",
    "        <td>Part-time employed</td>\n",
    "        <td>11</td>\n",
    "        <td>36</td>\n",
    "        <td>3</td>\n",
    "        <td>50</td>\n",
    "    </tr>\n",
    "    <tr>\n",
    "        <td>Not employed</td>\n",
    "        <td>2</td>\n",
    "        <td>6</td>\n",
    "        <td>43</td>\n",
    "        <td>51</td>\n",
    "    </tr>\n",
    "    <tr>\n",
    "        <td>Looking for work</td>\n",
    "        <td>2</td>\n",
    "        <td>9</td>\n",
    "        <td>9</td>\n",
    "        <td>20</td>\n",
    "    </tr>\n",
    "</table>"
   ]
  },
  {
   "cell_type": "code",
   "execution_count": 74,
   "metadata": {
    "Collapsed": "false",
    "hidden": true
   },
   "outputs": [
    {
     "data": {
      "text/html": [
       "<div>\n",
       "<style scoped>\n",
       "    .dataframe tbody tr th:only-of-type {\n",
       "        vertical-align: middle;\n",
       "    }\n",
       "\n",
       "    .dataframe tbody tr th {\n",
       "        vertical-align: top;\n",
       "    }\n",
       "\n",
       "    .dataframe thead th {\n",
       "        text-align: right;\n",
       "    }\n",
       "</style>\n",
       "<table border=\"1\" class=\"dataframe\">\n",
       "  <thead>\n",
       "    <tr style=\"text-align: right;\">\n",
       "      <th></th>\n",
       "      <th>high</th>\n",
       "      <th>moderate</th>\n",
       "      <th>low</th>\n",
       "    </tr>\n",
       "  </thead>\n",
       "  <tbody>\n",
       "    <tr>\n",
       "      <th>full-time</th>\n",
       "      <td>33</td>\n",
       "      <td>10</td>\n",
       "      <td>2</td>\n",
       "    </tr>\n",
       "    <tr>\n",
       "      <th>part-time</th>\n",
       "      <td>11</td>\n",
       "      <td>36</td>\n",
       "      <td>3</td>\n",
       "    </tr>\n",
       "    <tr>\n",
       "      <th>not employed</th>\n",
       "      <td>2</td>\n",
       "      <td>6</td>\n",
       "      <td>43</td>\n",
       "    </tr>\n",
       "    <tr>\n",
       "      <th>looking</th>\n",
       "      <td>2</td>\n",
       "      <td>9</td>\n",
       "      <td>9</td>\n",
       "    </tr>\n",
       "  </tbody>\n",
       "</table>\n",
       "</div>"
      ],
      "text/plain": [
       "              high  moderate  low\n",
       "full-time       33        10    2\n",
       "part-time       11        36    3\n",
       "not employed     2         6   43\n",
       "looking          2         9    9"
      ]
     },
     "execution_count": 74,
     "metadata": {},
     "output_type": "execute_result"
    }
   ],
   "source": [
    "# Create df of data\n",
    "df = pd.DataFrame({'high':[33,11,2,2],'moderate':[10,36,6,9],'low':[2,3,43,9]},\n",
    "                  index=['full-time','part-time','not employed','looking'])\n",
    "df"
   ]
  },
  {
   "cell_type": "markdown",
   "metadata": {
    "Collapsed": "false",
    "hidden": true
   },
   "source": [
    "a. On the basis of this sample are the percentages of people falling into the three levels of work attachment the same?"
   ]
  },
  {
   "cell_type": "markdown",
   "metadata": {
    "Collapsed": "false",
    "hidden": true
   },
   "source": [
    "$H_0: \\pi_1=\\pi_3=\\pi_3=\\frac{1}{3}$\n",
    "\n",
    "$x^2 = \\sum_{j=1}^c\\frac{(O_j - E_j)^2}{E_j}$\n",
    "\n",
    "$E_j = n\\pi_j$\n",
    "\n",
    "$v = c-1$ \n"
   ]
  },
  {
   "cell_type": "code",
   "execution_count": 95,
   "metadata": {
    "Collapsed": "false",
    "hidden": true
   },
   "outputs": [
    {
     "name": "stdout",
     "output_type": "stream",
     "text": [
      "x2 = 1.602\n",
      "p value = 0.449\n"
     ]
    }
   ],
   "source": [
    "# Calculate whether proportions in group are equal in all groups\n",
    "o = df.to_numpy()\n",
    "o_ct = o.sum(axis=0)\n",
    "o_t = o.sum()\n",
    "pi=1/3\n",
    "e = o_t*1/3\n",
    "\n",
    "chi_squared = ((o_ct-e)**2/e).sum()\n",
    "p_value = stats.chi2.sf(chi_squared,df=o_ct.shape[0]-1)\n",
    "\n",
    "print(f'x2 = {chi_squared:.3f}')\n",
    "print(f'p value = {p_value:.3f}')"
   ]
  },
  {
   "cell_type": "markdown",
   "metadata": {
    "Collapsed": "false",
    "hidden": true
   },
   "source": [
    "b. Analyse the data to test if work attachment is independent of work status."
   ]
  },
  {
   "cell_type": "markdown",
   "metadata": {
    "Collapsed": "false",
    "hidden": true
   },
   "source": [
    "$H_0$: work attachment is independent from work status\n",
    "\n",
    "$x^2 = \\sum_{i=1}^r\\sum_{j=1}^c\\frac{(O_{ij}-E_{ij})^2}{E_{ij}}$\n",
    "\n",
    "$E_{ij} = \\frac{\\sum_{j=1}^cO_{ij}\\sum_{i=1}^rO_{ij}}{n}$\n",
    "\n",
    "$v = (r-1)(c-1)$"
   ]
  },
  {
   "cell_type": "code",
   "execution_count": 102,
   "metadata": {
    "Collapsed": "false",
    "hidden": true
   },
   "outputs": [
    {
     "name": "stdout",
     "output_type": "stream",
     "text": [
      "x2 = 134.71199941821234\n",
      "p value = 1.3070049194695263e-26\n"
     ]
    }
   ],
   "source": [
    "# Calculate whether the categories are related or are independent\n",
    "o_rt = o.sum(axis=1).reshape(-1,1)\n",
    "e = o_ct*o_rt/o_t\n",
    "\n",
    "chi_squared = ((o-e)**2/e).sum()\n",
    "p_value = stats.chi2.sf(chi_squared,df=(o.shape[0]-1)*(o.shape[1]-1))\n",
    "\n",
    "print(f'x2 = {chi_squared}')\n",
    "print(f'p value = {p_value}')"
   ]
  },
  {
   "cell_type": "markdown",
   "metadata": {
    "Collapsed": "false",
    "hidden": true
   },
   "source": [
    "c. Display the data using an appropriate plot of odds ratios. "
   ]
  },
  {
   "cell_type": "code",
   "execution_count": 166,
   "metadata": {
    "Collapsed": "false",
    "hidden": true
   },
   "outputs": [],
   "source": [
    "# Create list of combinations of 2 by 2 matrices\n",
    "rows = [i for i in itertools.combinations(range(4),2)]\n",
    "cols = [i for i in itertools.combinations(range(3),2)]\n",
    "combs = [[r,c] for r in rows for c in cols]\n",
    "fc = [list(sum(i,())) for i in combs]"
   ]
  },
  {
   "cell_type": "code",
   "execution_count": 203,
   "metadata": {
    "Collapsed": "false",
    "hidden": true
   },
   "outputs": [],
   "source": [
    "# Calculate odds ratios for 2 by 2 matrices\n",
    "x = ['full-time','part-time','not employed','looking']\n",
    "y = ['high','moderate','low']\n",
    "\n",
    "odds_ci = {}\n",
    "\n",
    "for i in fc:\n",
    "    a,b,c,d = i\n",
    "    nm = o[[[a],[b]],[c,d]]\n",
    "    odds = nm[:,0]/nm[:,1]\n",
    "    odds_ratio = odds[0]/odds[1]\n",
    "    sw = math.sqrt(np.sum(1/nm))\n",
    "    ci = [odds_ratio*math.exp(-1.96*sw),odds_ratio*math.exp(1.96*sw)]\n",
    "    odds_ci[f'{x[a]},{x[b]}/{y[c]},{y[d]}'] = {\n",
    "        'matrix':nm,\n",
    "        'odds':odds,\n",
    "        'odds_ratio':odds_ratio,\n",
    "        'sw':sw,\n",
    "        'ci':ci\n",
    "    }    "
   ]
  },
  {
   "cell_type": "code",
   "execution_count": 255,
   "metadata": {
    "Collapsed": "false",
    "hidden": true
   },
   "outputs": [
    {
     "data": {
      "image/png": "[encoded data removed]",
      "text/plain": [
       "<Figure size 864x2160 with 18 Axes>"
      ]
     },
     "metadata": {
      "needs_background": "light"
     },
     "output_type": "display_data"
    }
   ],
   "source": [
    "# Plot odd ratios\n",
    "x,y = np.array(list(odds_ci.keys())).reshape(9,-1).shape\n",
    "fig, ax = plt.subplots(x,y,figsize=(12,30))\n",
    "\n",
    "px,py = 0,0\n",
    "for k,v in odds_ci.items():\n",
    "    ax[px,py].set_title(k)\n",
    "    x = np.linspace(v['ci'][0],v['ci'][1])\n",
    "    y = 0*x\n",
    "    ax[px,py].plot(x,y)\n",
    "    ax[px,py].axvline(x=1,ymin=0.2,ymax=0.8,color='red',ls='--')\n",
    "    ax[px,py].scatter(v['odds_ratio'],0)\n",
    "    ax[px,py].tick_params(axis='y',which='both',left=False,labelleft=False)\n",
    "    px+=1\n",
    "    if px>8:\n",
    "        px=0\n",
    "        py=1\n",
    "plt.tight_layout()"
   ]
  },
  {
   "cell_type": "markdown",
   "metadata": {
    "Collapsed": "false"
   },
   "source": [
    "### Problem 10"
   ]
  },
  {
   "cell_type": "markdown",
   "metadata": {
    "Collapsed": "false"
   },
   "source": [
    "Pagano & Gauvreau (1993, page 133) cited data for 6,168 women who participated in the first U.S. National Health and Nutrition Examination Survey. The outcome variable of interest was whether or not the woman had developed breast cancer, and the determinant of interest was whether or not she had given birth to a child before age 25. Of 96 women who had developed breast cancer, 65 had given birth before age 25, while 4,475 of the women who had not developed breast cancer had given birth before age 25."
   ]
  },
  {
   "cell_type": "code",
   "execution_count": 9,
   "metadata": {
    "Collapsed": "false"
   },
   "outputs": [
    {
     "data": {
      "text/html": [
       "<div>\n",
       "<style scoped>\n",
       "    .dataframe tbody tr th:only-of-type {\n",
       "        vertical-align: middle;\n",
       "    }\n",
       "\n",
       "    .dataframe tbody tr th {\n",
       "        vertical-align: top;\n",
       "    }\n",
       "\n",
       "    .dataframe thead th {\n",
       "        text-align: right;\n",
       "    }\n",
       "</style>\n",
       "<table border=\"1\" class=\"dataframe\">\n",
       "  <thead>\n",
       "    <tr style=\"text-align: right;\">\n",
       "      <th></th>\n",
       "      <th>cancer</th>\n",
       "      <th>healthy</th>\n",
       "    </tr>\n",
       "  </thead>\n",
       "  <tbody>\n",
       "    <tr>\n",
       "      <th>b25</th>\n",
       "      <td>65</td>\n",
       "      <td>4475</td>\n",
       "    </tr>\n",
       "    <tr>\n",
       "      <th>oa25</th>\n",
       "      <td>31</td>\n",
       "      <td>1597</td>\n",
       "    </tr>\n",
       "  </tbody>\n",
       "</table>\n",
       "</div>"
      ],
      "text/plain": [
       "      cancer  healthy\n",
       "b25       65     4475\n",
       "oa25      31     1597"
      ]
     },
     "execution_count": 9,
     "metadata": {},
     "output_type": "execute_result"
    }
   ],
   "source": [
    "df = pd.DataFrame({'cancer':[65,96-65],'healthy':[4475,6168-4475-96]},index=['b25','oa25'])\n",
    "df"
   ]
  },
  {
   "cell_type": "markdown",
   "metadata": {
    "Collapsed": "false"
   },
   "source": [
    "a. Test the null hypothesis of no association. "
   ]
  },
  {
   "cell_type": "markdown",
   "metadata": {
    "Collapsed": "false"
   },
   "source": [
    "$x^2 = \\sum_{i=1}^r\\sum_{j=1}^c\\frac{(O_{ij}-E_{ij})^2}{E_{ij}}$\n",
    "\n",
    "$E_{ij} = \\frac{\\sum_{j=1}^cO_{ij}\\sum_{i=1}^rO_{ij}}{n}$\n",
    "\n",
    "with $v = (r-1)(c-1)$ degrees of freedom."
   ]
  },
  {
   "cell_type": "code",
   "execution_count": 16,
   "metadata": {
    "Collapsed": "false"
   },
   "outputs": [
    {
     "name": "stdout",
     "output_type": "stream",
     "text": [
      "x2 = 1.745740091613836\n",
      "p value = 0.18641315964351843\n"
     ]
    }
   ],
   "source": [
    "# Calculate chi-squared\n",
    "o = df.to_numpy()\n",
    "o_rt = o.sum(axis=1).reshape(-1,1)\n",
    "o_ct = o.sum(axis=0)\n",
    "o_t = o.sum()\n",
    "\n",
    "e = o_ct*o_rt/o_t\n",
    "\n",
    "chi_squared = ((o-e)**2/e).sum()\n",
    "p_value = stats.chi2.sf(chi_squared,df=(o.shape[0]-1)*(o.shape[1]-1))\n",
    "\n",
    "print(f'x2 = {chi_squared}')\n",
    "print(f'p value = {p_value}')"
   ]
  },
  {
   "cell_type": "code",
   "execution_count": 17,
   "metadata": {
    "Collapsed": "false"
   },
   "outputs": [
    {
     "data": {
      "text/plain": [
       "array([[ True,  True],\n",
       "       [ True,  True]])"
      ]
     },
     "execution_count": 17,
     "metadata": {},
     "output_type": "execute_result"
    }
   ],
   "source": [
    "# Test assumptions: expected count in contingency table >=5\n",
    "e>5"
   ]
  },
  {
   "cell_type": "markdown",
   "metadata": {
    "Collapsed": "false"
   },
   "source": [
    "b. Graph the result as an odds ratio, with a 95% confidence interval. "
   ]
  },
  {
   "cell_type": "markdown",
   "metadata": {
    "Collapsed": "false"
   },
   "source": [
    "$(we^{-1.96s_w},we^{1.96s_w})$\n",
    "\n",
    "where\n",
    "\n",
    "$w = \\frac{\\frac{a}{c}}{\\frac{b}{d}} = \\frac{ad}{bc}$\n",
    "\n",
    "$s_w = \\sqrt{\\frac{1}{a}+\\frac{1}{b}+\\frac{1}{c}+\\frac{1}{d}}$\n",
    "\n",
    "This is for a 2x2 contingency table:\n",
    "\n",
    "<table>\n",
    "    <tr>\n",
    "        <td></td>\n",
    "        <td>outcome=1</td>\n",
    "        <td>outcome=2</td>\n",
    "        <td>total</td>\n",
    "    </tr>\n",
    "    <tr>\n",
    "        <td>determinant=1</td>\n",
    "        <td>a</td>\n",
    "        <td>c</td>\n",
    "        <td>a+c</td>\n",
    "    </tr>\n",
    "    <tr>\n",
    "        <td>determinant=2</td>\n",
    "        <td>b</td>\n",
    "        <td>d</td>\n",
    "        <td>b+d</td>\n",
    "    </tr>\n",
    "    <tr>\n",
    "        <td>total</td>\n",
    "        <td>a+b</td>\n",
    "        <td>c+d</td>\n",
    "        <td>a+b+c+d</td>\n",
    "    </tr>\n",
    "</table>"
   ]
  },
  {
   "cell_type": "code",
   "execution_count": 20,
   "metadata": {
    "Collapsed": "false"
   },
   "outputs": [
    {
     "name": "stdout",
     "output_type": "stream",
     "text": [
      "odds ratio = 0.7482789691836367\n",
      "CI = [0.48597871399424925, 1.1521521408222657]\n"
     ]
    }
   ],
   "source": [
    "# Calculate confidence interval for omega\n",
    "odds = o[:,0]/o[:,1]\n",
    "w = odds[0]/odds[1]\n",
    "sw = math.sqrt(np.sum(1/o))\n",
    "\n",
    "ci = [w*math.exp(-1.96*sw),w*math.exp(1.96*sw)]\n",
    "print(f'odds ratio = {w}')\n",
    "print(f'CI = {ci}')"
   ]
  },
  {
   "cell_type": "code",
   "execution_count": 23,
   "metadata": {
    "Collapsed": "false"
   },
   "outputs": [
    {
     "data": {
      "image/png": "[encoded data removed]",
      "text/plain": [
       "<Figure size 432x288 with 1 Axes>"
      ]
     },
     "metadata": {
      "needs_background": "light"
     },
     "output_type": "display_data"
    }
   ],
   "source": [
    "x = np.linspace(ci[0],ci[1])\n",
    "y = 0*x\n",
    "\n",
    "plt.plot(x,y)\n",
    "plt.scatter(w,0)\n",
    "plt.vlines(1,ymin=-0.5,ymax=0.5,color='red',ls='--')\n",
    "plt.tick_params(axis='y',which='both',left=False,labelleft=False)"
   ]
  },
  {
   "cell_type": "markdown",
   "metadata": {
    "Collapsed": "false"
   },
   "source": [
    "c. State your conclusion in words. "
   ]
  },
  {
   "cell_type": "markdown",
   "metadata": {
    "Collapsed": "false"
   },
   "source": [
    "The test performed did not provide enough evidence to conclude there is a difference between the groups. this was also supported by the odds ratio where the 95% confidence interval of $\\omega$ includes 1. We can conclude that there is not association between the age of the mother at the birth of the first child and breast cancer."
   ]
  },
  {
   "cell_type": "markdown",
   "metadata": {
    "Collapsed": "false",
    "heading_collapsed": true
   },
   "source": [
    "### Problem 11"
   ]
  },
  {
   "cell_type": "markdown",
   "metadata": {
    "Collapsed": "false",
    "hidden": true
   },
   "source": [
    "MacArthur (1931) gave data from a genetics experiment of tomato plants involving a dihybrid cross where the expected ratio of the four phenotypes listed is 9:3:3:1 (assuming no linkage). The numbers of offspring observed were as follows: \n",
    "\n",
    "<table>\n",
    "    <tr>\n",
    "        <th>Phenotype</th>\n",
    "        <th>Frequency</th>\n",
    "    </tr>\n",
    "    <tr>\n",
    "        <td>Tall cut-leaf</td>\n",
    "        <td>926</td>\n",
    "    </tr>\n",
    "    <tr>\n",
    "        <td>Tall, potato-leaf</td>\n",
    "        <td>288</td>\n",
    "    </tr>\n",
    "    <tr>\n",
    "        <td>Dwarf, cut-leaf</td>\n",
    "        <td>293</td>\n",
    "    </tr>\n",
    "    <tr>\n",
    "        <td>Dwarf, potato-leaf</td>\n",
    "        <td>104</td>\n",
    "    </tr>\n",
    "    <tr>\n",
    "        <td>Total</td>\n",
    "        <td>1611</td>\n",
    "    </tr>\n",
    "</table>\n",
    "\n",
    "Use a chi-squared goodness of fit test to compare the observed frequencies with the genetic theory. "
   ]
  },
  {
   "cell_type": "markdown",
   "metadata": {
    "Collapsed": "false"
   },
   "source": [
    "The expected proportions are:\n",
    "\n",
    "$H_0: \\pi_{tc}=\\frac{9}{16},\\pi_{tp}=\\frac{3}{16},\\pi_{dc}=\\frac{3}{16},\\pi_{dp}=\\frac{1}{16}$\n",
    "\n",
    "$x^2 = \\sum_{j=1}^c\\frac{(O_j - E_j)^2}{E_j}$\n",
    "\n",
    "$E_j = n\\pi_j$\n",
    "\n",
    "$v = c-1$"
   ]
  },
  {
   "cell_type": "code",
   "execution_count": 28,
   "metadata": {
    "Collapsed": "false"
   },
   "outputs": [
    {
     "name": "stdout",
     "output_type": "stream",
     "text": [
      "x2 = 1.4105321202095393\n",
      "p value = 0.7030678113652238\n"
     ]
    }
   ],
   "source": [
    "# Calculate chi-squred\n",
    "o = np.array([926,288,294,104])\n",
    "pi = np.array([9/16,3/16,3/16,1/16])\n",
    "e = o.sum()*pi\n",
    "\n",
    "chi_squared = ((o-e)**2/e).sum()\n",
    "p_value = stats.chi2.sf(chi_squared,df=o.shape[0]-1)\n",
    "\n",
    "print(f'x2 = {chi_squared}')\n",
    "print(f'p value = {p_value}')"
   ]
  },
  {
   "cell_type": "code",
   "execution_count": 32,
   "metadata": {
    "Collapsed": "false"
   },
   "outputs": [
    {
     "data": {
      "text/plain": [
       "array([ True,  True,  True,  True])"
      ]
     },
     "execution_count": 32,
     "metadata": {},
     "output_type": "execute_result"
    }
   ],
   "source": [
    "# Check assumptions for expected proportions n*pi >=5\n",
    "e>=5"
   ]
  },
  {
   "cell_type": "code",
   "execution_count": 33,
   "metadata": {
    "Collapsed": "false"
   },
   "outputs": [
    {
     "data": {
      "text/plain": [
       "array([ True,  True,  True,  True])"
      ]
     },
     "execution_count": 33,
     "metadata": {},
     "output_type": "execute_result"
    }
   ],
   "source": [
    "# Check assumptions for expected proportions n(1-pi) >=5\n",
    "(o*(1-pi))>=5"
   ]
  }
 ],
 "metadata": {
  "kernelspec": {
   "display_name": "Python 3",
   "language": "python",
   "name": "python3"
  },
  "language_info": {
   "codemirror_mode": {
    "name": "ipython",
    "version": 3
   },
   "file_extension": ".py",
   "mimetype": "text/x-python",
   "name": "python",
   "nbconvert_exporter": "python",
   "pygments_lexer": "ipython3",
   "version": "3.7.6"
  },
  "varInspector": {
   "cols": {
    "lenName": 16,
    "lenType": 16,
    "lenVar": 40
   },
   "kernels_config": {
    "python": {
     "delete_cmd_postfix": "",
     "delete_cmd_prefix": "del ",
     "library": "var_list.py",
     "varRefreshCmd": "print(var_dic_list())"
    },
    "r": {
     "delete_cmd_postfix": ") ",
     "delete_cmd_prefix": "rm(",
     "library": "var_list.r",
     "varRefreshCmd": "cat(var_dic_list()) "
    }
   },
   "types_to_exclude": [
    "module",
    "function",
    "builtin_function_or_method",
    "instance",
    "_Feature"
   ],
   "window_display": false
  }
 },
 "nbformat": 4,
 "nbformat_minor": 4
}
