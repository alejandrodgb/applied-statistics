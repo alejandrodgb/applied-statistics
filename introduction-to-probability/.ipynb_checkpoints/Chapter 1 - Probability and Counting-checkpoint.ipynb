{
 "cells": [
  {
   "cell_type": "code",
   "execution_count": 1,
   "metadata": {
    "Collapsed": "false"
   },
   "outputs": [],
   "source": [
    "import pandas as pd\n",
    "import numpy as np\n",
    "import itertools\n",
    "import math\n",
    "from matplotlib import pyplot as plt"
   ]
  },
  {
   "cell_type": "markdown",
   "metadata": {
    "Collapsed": "false"
   },
   "source": [
    "# Notes"
   ]
  },
  {
   "cell_type": "markdown",
   "metadata": {
    "Collapsed": "true"
   },
   "source": [
    "## 1.2 Sample Spaces"
   ]
  },
  {
   "cell_type": "markdown",
   "metadata": {
    "Collapsed": "false"
   },
   "source": [
    "Sample space: Set of all possible outcomes of the experiment\n",
    "\n",
    "Sample spaces can be finite, contably infitite, or uncountably infinite.\n",
    "- A set is \"finite\" if it can be placed in 1-1 correspondence with the set of natural numbers $<n$ for some $n$. More generally, it is sufficient to place it in 1-1 correspondence with some set of integers which is bounded both above and below.\n",
    "- A set is \"countable\" if it can be placed in 1-1 correspondence with some subset of the natural numbers. Note that this includes finite sets, but also some infinite sets. Since the sets of all rationals is in 1-1 correspondence with the set of naturals, it is sufficient to place a set in 1-1 correspondence with some set of rationals to show that it is countable.\n",
    "- A set is \"infinite\" if it is not finite. Since any finite set of real numbers is bounded, to prove a set is infinite, it is sufficient to put it in 1-1 correspondence with any unbounded set of real numbers.\n",
    "- A set is \"countably infinite\" or \"denumerable\", if it is both countable and infinite. From the above remarks, it follows that to prove denumerability, it is sufficient to put a set in 1-1 correspondence with some unbounded set of rational numbers.\n",
    "- A set is \"uncountable\" if it is not countable. Since all finite sets are countable, uncountable sets are all infinite. Per Cantor's theorem, the real numbers are uncountable. Further, since any interval can be put in 1-1 correspondence with the entire set of real numbers, to show a set is uncountable, it is sufficient to put it in 1-1 correspondence with some interval. \n",
    "\n",
    "[Source: Math Stackexchange](https://math.stackexchange.com/questions/1560332/countably-infinite-uncountable-or-finite)"
   ]
  },
  {
   "cell_type": "markdown",
   "metadata": {
    "Collapsed": "false"
   },
   "source": [
    "**De Morgan's laws**\n",
    "\n",
    "$(A\\cup B)^c = A^c \\cap B^c$ and $(A \\cap B)^c = A^c \\cup B^c$"
   ]
  },
  {
   "cell_type": "markdown",
   "metadata": {
    "Collapsed": "false"
   },
   "source": [
    "**Example**\n",
    "\n",
    "A coin is flipped 10 times. Writing Heads as H and Tails as T, a possible outcome (pebble) is HHHTHHTTHT, and the sample space is the set of all possible strings of length 10 of H's and T's. We can (and will) encode H as 1 and T as 0, so that an outcome is a sequence $(s_1,…, s_{10})$ with $s_j \\in {0,1}$, and the sample space is the set of all such sequences. Now let's look at some events:\n",
    "\n",
    "1. Let $A_1$ bee the event that the first flip is H. As a set:\n",
    "\n",
    "$A_1 = \\{(1,s_2,...,s_10): s_j \\in \\{0,1\\}$ for $2 \\leq j \\leq 10\\}$\n",
    "\n",
    "2. Let $B$ be the event that at leas one flip was H. As a set:\n",
    "\n",
    "$B = \\bigcup_{j=1}^{10}A_j$\n",
    "\n",
    "3. Let $C$ be the event that all the flips were H. As a set:\n",
    "\n",
    "$C=\\bigcap_{j=1}^{10}A_j$\n",
    "\n",
    "4. Let $D$ be the event that there were at least two consecutive H. As a set:\n",
    "\n",
    "$D = \\bigcup_{j=1}^{9}(A_j \\cup A_{j+1})$\n"
   ]
  },
  {
   "cell_type": "markdown",
   "metadata": {
    "Collapsed": "true"
   },
   "source": [
    "## 1.3 Naive definition of probability"
   ]
  },
  {
   "cell_type": "markdown",
   "metadata": {
    "Collapsed": "false"
   },
   "source": [
    "Definition:\n",
    "\n",
    "$P_n = \\frac{|A|}{|S|}$ \n",
    "\n",
    "Problems where definition is applicable:\n",
    "- where there is symetry in the problem that makes the outcome equaly likely, for example: coin toss\n",
    "- when the outcomes are equaly likely by design, for example: survey of $n$ people in a population of $N$ people\n",
    "- when the naive definition serves as a useful null model. We assume the naive definition applies and compare the answers it provides to observed data."
   ]
  },
  {
   "cell_type": "markdown",
   "metadata": {
    "Collapsed": "false"
   },
   "source": [
    "## 1.4 Counting"
   ]
  },
  {
   "cell_type": "markdown",
   "metadata": {
    "Collapsed": "true"
   },
   "source": [
    "### Multiplication rule"
   ]
  },
  {
   "cell_type": "markdown",
   "metadata": {
    "Collapsed": "false"
   },
   "source": [
    "Consider a compound experiment consisting of two sub-experiments: $A$ and $B$. Experiment $A$ has $a$ possible outcomes, and for each of those outcomes experiment $B$ has $b$ possible outcomes. The compound experiment has $ab$ possible outcomes."
   ]
  },
  {
   "cell_type": "markdown",
   "metadata": {
    "Collapsed": "false"
   },
   "source": [
    "**Example**\n",
    "\n",
    "We buy icecream and there are wafffle, and cake cones, and chocolate, vanilla, and strawberry flavours.\n",
    "\n",
    "1. Total number of options: $2 \\cdot 3 = 3 \\cdot 2 = 6$\n",
    "2. If we buy two icecreams on a certain day, one in the afternoon and one in the evening, then the number of possibilities is: $6^2=36$\n",
    "3. If you are only interested in the number of icecreams you had in the day, not the order then we have: $6 \\cdot 5 = 30$ ordered possibilities excluding repeated flavours like (Cake-Vanilla, Cake-Vanilla). This becomes $\\frac{30}{2} = 15$ unordered possibilities because (Cake-Vanilla, Waffle-Vanilla) is equivalent to (Waffle-Vanilla, Cake-Vanilla) plus 6 repeated flavours: $15 + 6 = 21$.\n",
    "\n",
    "Note that the 36 ordered pairs are equally likely but the 21 combinations are not."
   ]
  },
  {
   "cell_type": "markdown",
   "metadata": {
    "Collapsed": "false"
   },
   "source": [
    "From the multiplication rule, we can conclude that a set with $n$ elements has $2^n$ subsets. For example, the set $\\{a,b,c\\}$ has eight subsets including the set itself and the empty set:\n",
    "\n",
    "$\\emptyset, \\{a\\}, \\{b\\}, \\{c\\}, \\{a,b\\}, \\{a,c\\}, \\{b,c\\}, \\{a,b,c\\}$"
   ]
  },
  {
   "cell_type": "markdown",
   "metadata": {
    "Collapsed": "true"
   },
   "source": [
    "### Sampling with replacement"
   ]
  },
  {
   "cell_type": "markdown",
   "metadata": {
    "Collapsed": "false"
   },
   "source": [
    "If we have $n$ objects and making $k$ choices from them, one at a time with replacement, then there are $n^k$ possible outcomes. Each sample object is a sub-experiment and there are $k$ sub-experiments. So there are $n^k$ ways to obtain a sample of size $k$."
   ]
  },
  {
   "cell_type": "markdown",
   "metadata": {
    "Collapsed": "true"
   },
   "source": [
    "### Sampling without replacement"
   ]
  },
  {
   "cell_type": "markdown",
   "metadata": {
    "Collapsed": "false"
   },
   "source": [
    "If we have $n$ objects and making $k$ choices from them, one at a time without replacemen, then there are $n(n-1)...(n-k+1)$ possible outcomes for $k\\leq n$ and $0$ possiblities for $k \\gt n$. Each sampled object is a sub-experiment, and the number of possible outcomes decreases by one each time."
   ]
  },
  {
   "cell_type": "markdown",
   "metadata": {
    "Collapsed": "true"
   },
   "source": [
    "### Petmutations and factorials"
   ]
  },
  {
   "cell_type": "markdown",
   "metadata": {
    "Collapsed": "false"
   },
   "source": [
    "A permutation of $1,2,...,n$ is an arrangmenet of them in some order. By the theorem of sampling without replacement with $k=n$, there are $n!$ permutations of $1,2,...,n$"
   ]
  },
  {
   "cell_type": "markdown",
   "metadata": {
    "Collapsed": "false"
   },
   "source": [
    "**Example**\n",
    "\n",
    "There are $k$ people in a room. Assume each person's birthday is equaly likely to be any of the 365 days of the year (excluding February 29), and that people's birthdays are independent (assume there are no twins in the room). What is the probability that two or more people in the group have the same birthday?"
   ]
  },
  {
   "cell_type": "markdown",
   "metadata": {
    "Collapsed": "false"
   },
   "source": [
    "There are $365^k$ possible ways of assigning birthdays. To calculate the probability of two or more people in the group having the same birthday we would have to divide all the possibilities that any two or more people share a birthday by the total number of possibilities. \n",
    "\n",
    "We can solve it by counting the compliment: the number of ways to assign birthdays to $k$ people such that no two people share a birthday. This is equivalent to sampling the 365 days of the year without replacement. If one person already has it, then no one else can have it.\n",
    "\n",
    "So the probability that no two people will share a birthday is:\n",
    "\n",
    "$P(b^c) = \\frac{365 \\cdot 364 \\cdot 363 \\cdot ... \\cdot (365-k+1)}{356^k}$ for $k\\leq365$\n",
    "\n",
    "Which means that the probability of at least two people having the same birthday is:\n",
    "\n",
    "$P(b) = 1-P(b^c)$"
   ]
  },
  {
   "cell_type": "code",
   "execution_count": 164,
   "metadata": {
    "Collapsed": "false"
   },
   "outputs": [
    {
     "data": {
      "text/plain": [
       "<matplotlib.collections.LineCollection at 0x7f38b23454d0>"
      ]
     },
     "execution_count": 164,
     "metadata": {},
     "output_type": "execute_result"
    },
    {
     "data": {
      "image/png": "[encoded data removed]",
      "text/plain": [
       "<Figure size 720x432 with 1 Axes>"
      ]
     },
     "metadata": {
      "needs_background": "light"
     },
     "output_type": "display_data"
    }
   ],
   "source": [
    "# Plot the probability of at least two people sharing a birthday as a function of k\n",
    "k = np.arange(0,101,1,dtype=np.float64)\n",
    "yp = (365-k)/365\n",
    "y = 1-np.array([np.prod(yp[:i+1]) for i in k.astype(int)])\n",
    "\n",
    "plt.figure(figsize=(10,6))\n",
    "plt.scatter(k,y)\n",
    "plt.hlines(y=0.5,xmin=0,xmax=100,color='red',ls='--')\n",
    "plt.vlines(x=np.where(y>0.5)[0][0],ymin=0,ymax=1,color='red',ls='--')"
   ]
  },
  {
   "cell_type": "markdown",
   "metadata": {
    "Collapsed": "false"
   },
   "source": [
    "### Adjusting for overcounting"
   ]
  },
  {
   "cell_type": "markdown",
   "metadata": {
    "Collapsed": "false"
   },
   "source": [
    "To adjust for overcounting, we need to identify the source of the duplications and then divide by the nubmer of combinations"
   ]
  },
  {
   "cell_type": "markdown",
   "metadata": {
    "Collapsed": "false"
   },
   "source": [
    "**Binomial Coefficient**\n",
    "\n",
    "A *binomial coefficient* coutns the number of subsets of a certain size for a set, such as the number of ways to chose a comittee of size $k$ from a set of $n$ people. Sets and subsets are by definition unordered.\n",
    "\n",
    "For any nonnegative integers $k$ and $n$, the binomial coefficient $n \\choose k$ is the number of subsets of size $k$ for a set of size $n$. This is also called a combination.\n",
    "\n",
    "For example, ${4 \\choose 2}=6$\n",
    "\n",
    "For $k \\leq n$, we have:\n",
    "\n",
    "$${n \\choose k} = \\frac{n(n-1)...(n-k+1)}{k!} = \\frac{n!}{(n-k)!k!}$$\n",
    "\n",
    "For $k\\gt n$, we have ${n\\choose k}=0$"
   ]
  },
  {
   "cell_type": "markdown",
   "metadata": {
    "Collapsed": "false"
   },
   "source": [
    "**Example**\n",
    "\n",
    "How many permutation of the word 'statistics' are there?"
   ]
  },
  {
   "cell_type": "code",
   "execution_count": 17,
   "metadata": {
    "Collapsed": "false"
   },
   "outputs": [
    {
     "name": "stdout",
     "output_type": "stream",
     "text": [
      "Permutations = 3628800\n"
     ]
    }
   ],
   "source": [
    "# Unique permutations\n",
    "n = len('statistics')\n",
    "print(f'Permutations = {math.factorial(n)}')"
   ]
  },
  {
   "cell_type": "markdown",
   "metadata": {
    "Collapsed": "false"
   },
   "source": [
    "This would not be valid as we can replace the first letter for the sixth letter, both being 's' and nothing would change, which would mean this is **not** a new permutation. To adjust for this we need to divide the permutations by the repeated letters to eliminate the double counting."
   ]
  },
  {
   "cell_type": "code",
   "execution_count": 25,
   "metadata": {
    "Collapsed": "false"
   },
   "outputs": [
    {
     "name": "stdout",
     "output_type": "stream",
     "text": [
      "Permutations = 50400.0\n"
     ]
    }
   ],
   "source": [
    "# Adjust for double counting\n",
    "p = math.factorial(n)/(math.factorial(3)*math.factorial(3)*math.factorial(2))\n",
    "print(f'Permutations = {p}')"
   ]
  },
  {
   "cell_type": "markdown",
   "metadata": {
    "Collapsed": "false"
   },
   "source": [
    "To adjust we divide the total permutations $10!$ by the total number of Ss $3!$, Ts $3!$, and Is $2!$ = $\\frac{10!}{3!3!2!}$"
   ]
  },
  {
   "cell_type": "markdown",
   "metadata": {
    "Collapsed": "false"
   },
   "source": [
    "**Binomial Theorem**\n",
    "\n",
    "$$(x+y)^n = \\sum_{k=0}^n {n \\choose k} x^ky^{n-k}$$"
   ]
  },
  {
   "cell_type": "markdown",
   "metadata": {
    "Collapsed": "false"
   },
   "source": [
    "For example:\n",
    "\n",
    "$(a+b)^4 = {4 \\choose 0}a^0b^4 + {4 \\choose 1}a^1b^3 + {4 \\choose 2}a^2b^2 + {4 \\choose 3}a^3b^1 + {4 \\choose 4}a^4b^0$"
   ]
  },
  {
   "cell_type": "code",
   "execution_count": 5,
   "metadata": {
    "Collapsed": "false"
   },
   "outputs": [
    {
     "name": "stdout",
     "output_type": "stream",
     "text": [
      "1.0\n",
      "4.0\n",
      "6.0\n",
      "4.0\n",
      "1.0\n"
     ]
    }
   ],
   "source": [
    "n = 4\n",
    "for k in range(n+1):\n",
    "    print(math.factorial(n)/(math.factorial(k)*math.factorial(n-k)))"
   ]
  },
  {
   "cell_type": "markdown",
   "metadata": {
    "Collapsed": "false"
   },
   "source": [
    "**Example**\n",
    "\n",
    "A 5-card hand is dealt from a standard, well-shuffled 52-card deck. The hand is called a full house in poker if it consists of three cards of some rank and two cards of another rank, e.g., three 7's and two 10's (in any order). What is the probability of a full house?"
   ]
  },
  {
   "cell_type": "markdown",
   "metadata": {
    "Collapsed": "false"
   },
   "source": [
    "There are ${52 \\choose 5}$ total possible hands. Out of which $x$ number would be composed of 3 cards of some rank and 2 of another. There are 13 possible ranks to chose on the first group and 12 of the second group, each with 4 suits.\n",
    "\n",
    "There are ${13 \\choose 1}$ combinations for the first rank, then ${4 \\choose 3}$ cards out of that rank. For example: we choose 7, there are 4 possible 7s and we choose 3.\n",
    "\n",
    "There are ${12 \\choose 1}$ combinations for the second rank and then ${4 \\choose 2}$ cards out of that rank. For example: we choose 10, there are 4 possible 10s and we choose 2."
   ]
  },
  {
   "cell_type": "code",
   "execution_count": 3,
   "metadata": {
    "Collapsed": "false"
   },
   "outputs": [],
   "source": [
    "def combinations(n,k):\n",
    "    return math.factorial(n)/(math.factorial(k)*math.factorial(n-k))"
   ]
  },
  {
   "cell_type": "code",
   "execution_count": 6,
   "metadata": {
    "Collapsed": "false"
   },
   "outputs": [
    {
     "name": "stdout",
     "output_type": "stream",
     "text": [
      "Probability of full house = 0.00144\n"
     ]
    }
   ],
   "source": [
    "full_house_combs = 13*combinations(4,3)*12*combinations(4,2)\n",
    "poker_combs = combinations(52,5)\n",
    "\n",
    "print(f'Probability of full house = {full_house_combs/poker_combs:.5f}')"
   ]
  },
  {
   "cell_type": "markdown",
   "metadata": {
    "Collapsed": "false"
   },
   "source": [
    "**Example**\n",
    "\n",
    "Which of the following events has the highest probability:\n",
    "- A: At least one 6 appears when 6 fair dice are rolled\n",
    "- B: At least two 6s appear when 12 fair dice are rolled\n",
    "- C: At leaset three 6s appear when 18 fair dice are rolled"
   ]
  },
  {
   "cell_type": "markdown",
   "metadata": {
    "Collapsed": "false"
   },
   "source": [
    "Event A, B, and C have $6^6$, $6^{12}$, and $6^{18}$ possible combinations. All outcomes are equally likely so we can use the naive definition of probability."
   ]
  },
  {
   "cell_type": "markdown",
   "metadata": {
    "Collapsed": "false"
   },
   "source": [
    "Event A: At least one 6 appears when 6 fair dice are rolled.\n",
    "\n",
    "$P(x=6 \\ge 1) = 1-P(x=6 \\lt 1) = 1-P(x \\ne 6)$"
   ]
  },
  {
   "cell_type": "code",
   "execution_count": 5,
   "metadata": {
    "Collapsed": "false"
   },
   "outputs": [
    {
     "data": {
      "text/plain": [
       "0.6651020233196161"
      ]
     },
     "execution_count": 5,
     "metadata": {},
     "output_type": "execute_result"
    }
   ],
   "source": [
    "# Calculating the probability of one or more 6s\n",
    "n=6\n",
    "p=0\n",
    "for i in range(n):\n",
    "    a = combinations(n,i+1) # Chosing which dice will have the 6\n",
    "    b = (1/6)**(i+1) # Probability of a 6\n",
    "    c = (5/6)**(n-(i+1)) # Probability of not a 6\n",
    "    p+=a*b*c\n",
    "p"
   ]
  },
  {
   "cell_type": "markdown",
   "metadata": {
    "Collapsed": "false"
   },
   "source": [
    "Calculating $P(x \\ne 6)$\n",
    "\n",
    "Number of combinations of no 6s = $5^6$ <br/>\n",
    "Total number of combinations = $6^6$"
   ]
  },
  {
   "cell_type": "code",
   "execution_count": 8,
   "metadata": {
    "Collapsed": "false"
   },
   "outputs": [
    {
     "data": {
      "text/plain": [
       "(0.33489797668038407, 0.6651020233196159)"
      ]
     },
     "execution_count": 8,
     "metadata": {},
     "output_type": "execute_result"
    }
   ],
   "source": [
    "p_no6s = 5**6/6**6\n",
    "\n",
    "p_no6s, 1-p_no6s"
   ]
  },
  {
   "cell_type": "markdown",
   "metadata": {
    "Collapsed": "false"
   },
   "source": [
    "Event B: At least two 6s appear when 12 fair dice are rolled\n",
    "\n",
    "$P(x=6 \\geq 2)$"
   ]
  },
  {
   "cell_type": "code",
   "execution_count": 27,
   "metadata": {
    "Collapsed": "false"
   },
   "outputs": [
    {
     "data": {
      "text/plain": [
       "(0.618667373732309, 0.6651020233196159)"
      ]
     },
     "execution_count": 27,
     "metadata": {},
     "output_type": "execute_result"
    }
   ],
   "source": [
    "n=12\n",
    "p=0\n",
    "for i in range(1,n):\n",
    "    a = combinations(n,i+1) # Chosing which dice will have the 6\n",
    "    b = (1/6)**(i+1) # Probability of a 6\n",
    "    c = (5/6)**(n-(i+1)) # Probability of not a 6\n",
    "    p+=a*b*c\n",
    "    \n",
    "notp = # There are 5^12 outcomes without a 6. There are 12C1*5^11 outcomes with exactly one 6\n",
    "\n",
    "p,notp"
   ]
  },
  {
   "cell_type": "markdown",
   "metadata": {
    "Collapsed": "false"
   },
   "source": [
    "Event C: At least three 6s appear when 18 fair dice are rolled"
   ]
  },
  {
   "cell_type": "code",
   "execution_count": 28,
   "metadata": {
    "Collapsed": "false"
   },
   "outputs": [
    {
     "data": {
      "text/plain": [
       "0.5973456859477233"
      ]
     },
     "execution_count": 28,
     "metadata": {},
     "output_type": "execute_result"
    }
   ],
   "source": [
    "n=18\n",
    "p=0\n",
    "for i in range(2,n):\n",
    "    a = combinations(n,i+1) # Chosing which dice will have the 6\n",
    "    b = (1/6)**(i+1) # Probability of a 6\n",
    "    c = (5/6)**(n-(i+1)) # Probability of not a 6\n",
    "    p+=a*b*c\n",
    "p"
   ]
  },
  {
   "cell_type": "markdown",
   "metadata": {
    "Collapsed": "true"
   },
   "source": [
    "# Formulas"
   ]
  },
  {
   "cell_type": "markdown",
   "metadata": {
    "Collapsed": "false"
   },
   "source": [
    "## Binomial Coefficient"
   ]
  },
  {
   "cell_type": "markdown",
   "metadata": {
    "Collapsed": "false"
   },
   "source": [
    "For $k \\leq n$, we have:\n",
    "\n",
    "$${n \\choose k} = \\frac{n(n-1)...(n-k+1)}{k!} = \\frac{n!}{(n-k)!k!}$$\n",
    "\n",
    "For $k\\gt n$, we have ${n\\choose k}=0$"
   ]
  },
  {
   "cell_type": "markdown",
   "metadata": {
    "Collapsed": "false"
   },
   "source": [
    "## Binomial Theorem"
   ]
  },
  {
   "cell_type": "markdown",
   "metadata": {
    "Collapsed": "false"
   },
   "source": [
    "$$(x+y)^n = \\sum_{k=0}^n {n \\choose k} x^ky^{n-k}$$"
   ]
  },
  {
   "cell_type": "markdown",
   "metadata": {
    "Collapsed": "false"
   },
   "source": [
    "$(a+b)^4 = b^4 + 4ab^3 + 6a^2b^2 + 4a^3b + a^4$"
   ]
  }
 ],
 "metadata": {
  "kernelspec": {
   "display_name": "Python 3",
   "language": "python",
   "name": "python3"
  },
  "language_info": {
   "codemirror_mode": {
    "name": "ipython",
    "version": 3
   },
   "file_extension": ".py",
   "mimetype": "text/x-python",
   "name": "python",
   "nbconvert_exporter": "python",
   "pygments_lexer": "ipython3",
   "version": "3.7.6"
  },
  "varInspector": {
   "cols": {
    "lenName": 16,
    "lenType": 16,
    "lenVar": 40
   },
   "kernels_config": {
    "python": {
     "delete_cmd_postfix": "",
     "delete_cmd_prefix": "del ",
     "library": "var_list.py",
     "varRefreshCmd": "print(var_dic_list())"
    },
    "r": {
     "delete_cmd_postfix": ") ",
     "delete_cmd_prefix": "rm(",
     "library": "var_list.r",
     "varRefreshCmd": "cat(var_dic_list()) "
    }
   },
   "types_to_exclude": [
    "module",
    "function",
    "builtin_function_or_method",
    "instance",
    "_Feature"
   ],
   "window_display": false
  }
 },
 "nbformat": 4,
 "nbformat_minor": 4
}
