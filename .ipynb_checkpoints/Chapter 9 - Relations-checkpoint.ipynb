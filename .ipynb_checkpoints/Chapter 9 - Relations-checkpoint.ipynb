{
 "cells": [
  {
   "cell_type": "code",
   "execution_count": 104,
   "metadata": {},
   "outputs": [],
   "source": [
    "# Import libraries\n",
    "import pandas as pd\n",
    "import numpy as np\n",
    "from scipy import stats\n",
    "import math, random\n",
    "from matplotlib import pyplot as plt, gridspec\n",
    "import seaborn as sns\n",
    "import statsmodels.api as sm\n",
    "import itertools\n",
    "\n",
    "%matplotlib inline"
   ]
  },
  {
   "cell_type": "markdown",
   "metadata": {},
   "source": [
    "# Chapter 9 - Relations"
   ]
  },
  {
   "cell_type": "markdown",
   "metadata": {
    "heading_collapsed": true
   },
   "source": [
    "## Formulas"
   ]
  },
  {
   "cell_type": "markdown",
   "metadata": {
    "hidden": true
   },
   "source": [
    "Linear relation between two continuous variables:\n",
    "\n",
    "$$ y = \\alpha + \\beta x$$\n",
    "\n",
    "This is the population relation. The sample relation is given by:\n",
    "\n",
    "$$\\bar{y} = a+b\\bar{x}$$"
   ]
  },
  {
   "cell_type": "markdown",
   "metadata": {
    "hidden": true
   },
   "source": [
    "**Residuals**\n",
    "\n",
    "For bivariate data the residual can be defined as:\n",
    "$$z_i = y_i - (a+bx_i)$$"
   ]
  },
  {
   "cell_type": "markdown",
   "metadata": {
    "hidden": true
   },
   "source": [
    "**Least-squares Line**\n",
    "\n",
    "The least-squares line is the line that minimises the sum of the squares of the residuals with parameters:\n",
    "\n",
    "$$b = \\frac{\\sum(x_i-\\bar{x})(y_i-\\bar{y})}{\\sum(x_i-\\bar{x})^2}$$\n",
    "\n",
    "and\n",
    "\n",
    "$$a = \\bar{y} - b\\bar{x}$$"
   ]
  },
  {
   "cell_type": "markdown",
   "metadata": {
    "hidden": true
   },
   "source": [
    "**Correlation coefficient**\n",
    "\n",
    "$$r = \\frac{\\sum(x_i - \\bar{x})(y_i-\\bar{y})}{\\sqrt{\\sum(x_i-\\bar{x})^2\\sum(y_i-\\bar{y})^2}}$$"
   ]
  },
  {
   "cell_type": "markdown",
   "metadata": {
    "hidden": true
   },
   "source": [
    "**Goodnes of fit statistic**\n",
    "\n",
    "$$r^2 = 1-\\frac{\\sum(y_i-\\hat{y_i})^2}{\\sum(y_i-\\hat{y})^2}$$"
   ]
  },
  {
   "cell_type": "markdown",
   "metadata": {
    "hidden": true
   },
   "source": [
    "**Error**\n",
    "\n",
    "Error between a response $y_i$ and the predicted response using the population fitted line at $\\alpha + \\beta x_i$:\n",
    "\n",
    "$$\\epsilon_i = y_i - (\\alpha + \\beta x_i)$$\n",
    "\n",
    "This is the population error and cannot be calculated"
   ]
  },
  {
   "cell_type": "markdown",
   "metadata": {
    "hidden": true
   },
   "source": [
    "**Standard Error of $b$**\n",
    "\n",
    "$$SE_b = \\frac{\\sigma}{\\sqrt{\\sum(x_i-\\bar{x})^2}}=\\frac{\\sigma}{s_x\\sqrt{n-1}}$$\n",
    "\n",
    "where $\\sigma$ is the standard deviation of the distribution of the error and $s_x$ is the sample standard deviation of the $x$ values.\n",
    "\n",
    "$\\sigma$ is usually unknown so the standard deviation of the sample can be used to estimate it\n",
    "\n",
    "$$s = \\sqrt{\\frac{\\sum(y_i-\\hat{y}_i)^2}{n-2}}$$\n",
    "\n",
    "so the standard error can be calculated using\n",
    "\n",
    "$$s_b=\\frac{s}{s_x\\sqrt{n-1}}$$"
   ]
  },
  {
   "cell_type": "markdown",
   "metadata": {
    "hidden": true
   },
   "source": [
    "**Confidence interval**\n",
    "\n",
    "$$(b-t_{n-2}S_b,b+t_{n-2}S_b)$$\n",
    "\n",
    "where $t_v$ is the t-distribution with $v$ degrees of freedom corresponding to a two-tailed area of 0.05"
   ]
  },
  {
   "cell_type": "markdown",
   "metadata": {
    "hidden": true
   },
   "source": [
    "**Test statistic**\n",
    "\n",
    "$$t = \\frac{b}{s_b}$$\n",
    "With degrees of freedom equal to $n-2$\n",
    "\n",
    "The test statistic tests whether there is a relation between the variables by testing whether $\\beta=0$. If $\\beta=0$ then there is no correlation between the variables so:\n",
    "$$H_0: \\beta = 0$$\n",
    "$$H_1: \\beta \\ne 0$$"
   ]
  },
  {
   "cell_type": "markdown",
   "metadata": {
    "heading_collapsed": true
   },
   "source": [
    "## Notes"
   ]
  },
  {
   "cell_type": "markdown",
   "metadata": {
    "hidden": true
   },
   "source": [
    "In this example we will build the scatter plot, least squares line, and confidence interval for an experiment of car speed vs consumption."
   ]
  },
  {
   "cell_type": "code",
   "execution_count": 50,
   "metadata": {
    "hidden": true
   },
   "outputs": [
    {
     "data": {
      "text/html": [
       "<div>\n",
       "<style scoped>\n",
       "    .dataframe tbody tr th:only-of-type {\n",
       "        vertical-align: middle;\n",
       "    }\n",
       "\n",
       "    .dataframe tbody tr th {\n",
       "        vertical-align: top;\n",
       "    }\n",
       "\n",
       "    .dataframe thead th {\n",
       "        text-align: right;\n",
       "    }\n",
       "</style>\n",
       "<table border=\"1\" class=\"dataframe\">\n",
       "  <thead>\n",
       "    <tr style=\"text-align: right;\">\n",
       "      <th></th>\n",
       "      <th>speed</th>\n",
       "      <th>consumption</th>\n",
       "      <th>constant</th>\n",
       "    </tr>\n",
       "  </thead>\n",
       "  <tbody>\n",
       "    <tr>\n",
       "      <th>Dylia</th>\n",
       "      <td>51</td>\n",
       "      <td>20</td>\n",
       "      <td>1.0</td>\n",
       "    </tr>\n",
       "    <tr>\n",
       "      <th>Ennjy</th>\n",
       "      <td>55</td>\n",
       "      <td>22</td>\n",
       "      <td>1.0</td>\n",
       "    </tr>\n",
       "    <tr>\n",
       "      <th>Cerub</th>\n",
       "      <td>60</td>\n",
       "      <td>19</td>\n",
       "      <td>1.0</td>\n",
       "    </tr>\n",
       "    <tr>\n",
       "      <th>Thoroyd</th>\n",
       "      <td>61</td>\n",
       "      <td>24</td>\n",
       "      <td>1.0</td>\n",
       "    </tr>\n",
       "    <tr>\n",
       "      <th>Heung-See</th>\n",
       "      <td>64</td>\n",
       "      <td>15</td>\n",
       "      <td>1.0</td>\n",
       "    </tr>\n",
       "    <tr>\n",
       "      <th>Ethik</th>\n",
       "      <td>69</td>\n",
       "      <td>23</td>\n",
       "      <td>1.0</td>\n",
       "    </tr>\n",
       "    <tr>\n",
       "      <th>Ixe</th>\n",
       "      <td>74</td>\n",
       "      <td>20</td>\n",
       "      <td>1.0</td>\n",
       "    </tr>\n",
       "    <tr>\n",
       "      <th>Ghon</th>\n",
       "      <td>80</td>\n",
       "      <td>17</td>\n",
       "      <td>1.0</td>\n",
       "    </tr>\n",
       "    <tr>\n",
       "      <th>KC</th>\n",
       "      <td>85</td>\n",
       "      <td>25</td>\n",
       "      <td>1.0</td>\n",
       "    </tr>\n",
       "    <tr>\n",
       "      <th>Hanora</th>\n",
       "      <td>90</td>\n",
       "      <td>19</td>\n",
       "      <td>1.0</td>\n",
       "    </tr>\n",
       "    <tr>\n",
       "      <th>Mothas</th>\n",
       "      <td>94</td>\n",
       "      <td>28</td>\n",
       "      <td>1.0</td>\n",
       "    </tr>\n",
       "    <tr>\n",
       "      <th>Ekhui</th>\n",
       "      <td>98</td>\n",
       "      <td>25</td>\n",
       "      <td>1.0</td>\n",
       "    </tr>\n",
       "    <tr>\n",
       "      <th>Mahilah</th>\n",
       "      <td>105</td>\n",
       "      <td>21</td>\n",
       "      <td>1.0</td>\n",
       "    </tr>\n",
       "    <tr>\n",
       "      <th>Snorly</th>\n",
       "      <td>115</td>\n",
       "      <td>27</td>\n",
       "      <td>1.0</td>\n",
       "    </tr>\n",
       "    <tr>\n",
       "      <th>jaK</th>\n",
       "      <td>120</td>\n",
       "      <td>30</td>\n",
       "      <td>1.0</td>\n",
       "    </tr>\n",
       "  </tbody>\n",
       "</table>\n",
       "</div>"
      ],
      "text/plain": [
       "           speed  consumption  constant\n",
       "Dylia         51           20       1.0\n",
       "Ennjy         55           22       1.0\n",
       "Cerub         60           19       1.0\n",
       "Thoroyd       61           24       1.0\n",
       "Heung-See     64           15       1.0\n",
       "Ethik         69           23       1.0\n",
       "Ixe           74           20       1.0\n",
       "Ghon          80           17       1.0\n",
       "KC            85           25       1.0\n",
       "Hanora        90           19       1.0\n",
       "Mothas        94           28       1.0\n",
       "Ekhui         98           25       1.0\n",
       "Mahilah      105           21       1.0\n",
       "Snorly       115           27       1.0\n",
       "jaK          120           30       1.0"
      ]
     },
     "execution_count": 50,
     "metadata": {},
     "output_type": "execute_result"
    }
   ],
   "source": [
    "names = 'Dylia Ennjy Cerub Thoroyd Heung-See Ethik Ixe Ghon KC Hanora Mothas Ekhui Mahilah Snorly jaK'.split(' ')\n",
    "values = np.array([[51, 20], [55, 22], [60, 19], [61, 24], [64, 15], [69, 23], [74, 20], [80, 17], [85, 25], [90, 19],\n",
    "         [94, 28], [98, 25], [105, 21], [115, 27], [120, 30]])\n",
    "\n",
    "df = pd.DataFrame(values,index=names,columns=['speed','consumption'])\n",
    "df['constant']=1. # Added for linear regression intercept\n",
    "df"
   ]
  },
  {
   "cell_type": "code",
   "execution_count": 66,
   "metadata": {
    "hidden": true
   },
   "outputs": [
    {
     "data": {
      "text/plain": [
       "<matplotlib.axes._subplots.AxesSubplot at 0x7fd05e9db210>"
      ]
     },
     "execution_count": 66,
     "metadata": {},
     "output_type": "execute_result"
    },
    {
     "data": {
      "image/png": "[encoded data removed]",
      "text/plain": [
       "<Figure size 720x504 with 1 Axes>"
      ]
     },
     "metadata": {
      "needs_background": "light"
     },
     "output_type": "display_data"
    }
   ],
   "source": [
    "# Scatter plot\n",
    "df[['speed','consumption']].plot(kind='scatter',x='speed',y='consumption',figsize=(10,7))"
   ]
  },
  {
   "cell_type": "code",
   "execution_count": 75,
   "metadata": {
    "hidden": true
   },
   "outputs": [
    {
     "data": {
      "text/html": [
       "<table class=\"simpletable\">\n",
       "<caption>OLS Regression Results</caption>\n",
       "<tr>\n",
       "  <th>Dep. Variable:</th>       <td>consumption</td>   <th>  R-squared:         </th> <td>   0.366</td>\n",
       "</tr>\n",
       "<tr>\n",
       "  <th>Model:</th>                   <td>OLS</td>       <th>  Adj. R-squared:    </th> <td>   0.317</td>\n",
       "</tr>\n",
       "<tr>\n",
       "  <th>Method:</th>             <td>Least Squares</td>  <th>  F-statistic:       </th> <td>   7.501</td>\n",
       "</tr>\n",
       "<tr>\n",
       "  <th>Date:</th>             <td>Fri, 22 May 2020</td> <th>  Prob (F-statistic):</th>  <td>0.0169</td> \n",
       "</tr>\n",
       "<tr>\n",
       "  <th>Time:</th>                 <td>21:15:05</td>     <th>  Log-Likelihood:    </th> <td> -38.888</td>\n",
       "</tr>\n",
       "<tr>\n",
       "  <th>No. Observations:</th>      <td>    15</td>      <th>  AIC:               </th> <td>   81.78</td>\n",
       "</tr>\n",
       "<tr>\n",
       "  <th>Df Residuals:</th>          <td>    13</td>      <th>  BIC:               </th> <td>   83.19</td>\n",
       "</tr>\n",
       "<tr>\n",
       "  <th>Df Model:</th>              <td>     1</td>      <th>                     </th>     <td> </td>   \n",
       "</tr>\n",
       "<tr>\n",
       "  <th>Covariance Type:</th>      <td>nonrobust</td>    <th>                     </th>     <td> </td>   \n",
       "</tr>\n",
       "</table>\n",
       "<table class=\"simpletable\">\n",
       "<tr>\n",
       "      <td></td>        <th>coef</th>     <th>std err</th>      <th>t</th>      <th>P>|t|</th>  <th>[0.025</th>    <th>0.975]</th>  \n",
       "</tr>\n",
       "<tr>\n",
       "  <th>constant</th> <td>   12.8770</td> <td>    3.567</td> <td>    3.610</td> <td> 0.003</td> <td>    5.170</td> <td>   20.584</td>\n",
       "</tr>\n",
       "<tr>\n",
       "  <th>speed</th>    <td>    0.1162</td> <td>    0.042</td> <td>    2.739</td> <td> 0.017</td> <td>    0.025</td> <td>    0.208</td>\n",
       "</tr>\n",
       "</table>\n",
       "<table class=\"simpletable\">\n",
       "<tr>\n",
       "  <th>Omnibus:</th>       <td> 2.679</td> <th>  Durbin-Watson:     </th> <td>   2.828</td>\n",
       "</tr>\n",
       "<tr>\n",
       "  <th>Prob(Omnibus):</th> <td> 0.262</td> <th>  Jarque-Bera (JB):  </th> <td>   1.414</td>\n",
       "</tr>\n",
       "<tr>\n",
       "  <th>Skew:</th>          <td>-0.444</td> <th>  Prob(JB):          </th> <td>   0.493</td>\n",
       "</tr>\n",
       "<tr>\n",
       "  <th>Kurtosis:</th>      <td> 1.786</td> <th>  Cond. No.          </th> <td>    335.</td>\n",
       "</tr>\n",
       "</table><br/><br/>Warnings:<br/>[1] Standard Errors assume that the covariance matrix of the errors is correctly specified."
      ],
      "text/plain": [
       "<class 'statsmodels.iolib.summary.Summary'>\n",
       "\"\"\"\n",
       "                            OLS Regression Results                            \n",
       "==============================================================================\n",
       "Dep. Variable:            consumption   R-squared:                       0.366\n",
       "Model:                            OLS   Adj. R-squared:                  0.317\n",
       "Method:                 Least Squares   F-statistic:                     7.501\n",
       "Date:                Fri, 22 May 2020   Prob (F-statistic):             0.0169\n",
       "Time:                        21:15:05   Log-Likelihood:                -38.888\n",
       "No. Observations:                  15   AIC:                             81.78\n",
       "Df Residuals:                      13   BIC:                             83.19\n",
       "Df Model:                           1                                         \n",
       "Covariance Type:            nonrobust                                         \n",
       "==============================================================================\n",
       "                 coef    std err          t      P>|t|      [0.025      0.975]\n",
       "------------------------------------------------------------------------------\n",
       "constant      12.8770      3.567      3.610      0.003       5.170      20.584\n",
       "speed          0.1162      0.042      2.739      0.017       0.025       0.208\n",
       "==============================================================================\n",
       "Omnibus:                        2.679   Durbin-Watson:                   2.828\n",
       "Prob(Omnibus):                  0.262   Jarque-Bera (JB):                1.414\n",
       "Skew:                          -0.444   Prob(JB):                        0.493\n",
       "Kurtosis:                       1.786   Cond. No.                         335.\n",
       "==============================================================================\n",
       "\n",
       "Warnings:\n",
       "[1] Standard Errors assume that the covariance matrix of the errors is correctly specified.\n",
       "\"\"\""
      ]
     },
     "execution_count": 75,
     "metadata": {},
     "output_type": "execute_result"
    }
   ],
   "source": [
    "# Linear model\n",
    "lm = sm.OLS(df['consumption'],df[['constant','speed']]).fit()\n",
    "lm.summary()"
   ]
  },
  {
   "cell_type": "code",
   "execution_count": 81,
   "metadata": {
    "hidden": true
   },
   "outputs": [
    {
     "data": {
      "text/plain": [
       "constant    12.876969\n",
       "speed        0.116172\n",
       "dtype: float64"
      ]
     },
     "execution_count": 81,
     "metadata": {},
     "output_type": "execute_result"
    }
   ],
   "source": [
    "lm.params"
   ]
  },
  {
   "cell_type": "code",
   "execution_count": 86,
   "metadata": {
    "hidden": true
   },
   "outputs": [
    {
     "data": {
      "text/plain": [
       "<matplotlib.legend.Legend at 0x7fd05d8e22d0>"
      ]
     },
     "execution_count": 86,
     "metadata": {},
     "output_type": "execute_result"
    },
    {
     "data": {
      "image/png": "[encoded data removed]",
      "text/plain": [
       "<Figure size 720x504 with 1 Axes>"
      ]
     },
     "metadata": {
      "needs_background": "light"
     },
     "output_type": "display_data"
    }
   ],
   "source": [
    "# Scatter plot with least-squares line\n",
    "\n",
    "x = np.linspace(df['speed'].min(),df['speed'].max())\n",
    "y = lm.params['speed']*x + lm.params['constant']\n",
    "\n",
    "df[['speed','consumption']].plot(kind='scatter',x='speed',y='consumption',figsize=(10,7))\n",
    "plt.plot(x,y,color='r',ls='--',label='Least-squares line')\n",
    "plt.legend()"
   ]
  },
  {
   "cell_type": "markdown",
   "metadata": {
    "hidden": true
   },
   "source": [
    "**Calculating the confidence interval for $\\beta$**\n",
    "\n",
    "$(b-t_{n-2}s_b,b+t_{n-2}s_b)$\n",
    "\n",
    "where $t_v$ is the t-distribution with $v$ degrees of freedom corresponding to a two-tailed area of 0.05\n",
    "\n",
    "$s_b=\\frac{s}{s_x\\sqrt{n-1}}$\n",
    "\n",
    "$s = \\sqrt{\\frac{\\sum(y_i-\\hat{y}_i)^2}{n-2}}$\n",
    "\n",
    "\n",
    "$s_x$ is the standard deviation for the independent variable"
   ]
  },
  {
   "cell_type": "code",
   "execution_count": 111,
   "metadata": {
    "hidden": true
   },
   "outputs": [
    {
     "name": "stdout",
     "output_type": "stream",
     "text": [
      "Independent variable standard deviation = 21.885415887559198\n",
      "Standard deviation of sample of residuals = 3.473367791250958\n",
      "Standard error = 0.042416218831648395\n",
      "Degrees of freedom = 13\n",
      "T stat = 2.160368656461013\n",
      "\n",
      "Confidence Interval\n",
      "(0.025,0.208)\n"
     ]
    }
   ],
   "source": [
    "s = math.sqrt(lm.scale) # Std of sample of residuals\n",
    "sx = df['speed'].std(ddof=1) # Std of independent variable\n",
    "sb = s/(sx*math.sqrt(df.shape[0]-1)) # Standard error\n",
    "deg_free = df.shape[0]-2 # Degrees of freedom\n",
    "t = abs(stats.t.ppf(.05/2,df=deg_free)) # T statistic\n",
    "\n",
    "\n",
    "print(f'Independent variable standard deviation = {sx}')\n",
    "print(f'Standard deviation of sample of residuals = {s}')\n",
    "print(f'Standard error = {sb}')\n",
    "print(f'Degrees of freedom = {deg_free}')\n",
    "print(f'T stat = {t}')\n",
    "print('\\nConfidence Interval')\n",
    "print(f\"({lm.params['speed']-t*sb:.3f},{lm.params['speed']+t*sb:.3f})\")"
   ]
  },
  {
   "cell_type": "markdown",
   "metadata": {
    "hidden": true
   },
   "source": [
    "To test whether there is a correlation between the variables we'll use test statistic:\n",
    "\n",
    "$t = \\frac{b}{s_b}$ with $n-2$ degrees of freedom"
   ]
  },
  {
   "cell_type": "code",
   "execution_count": 117,
   "metadata": {
    "hidden": true
   },
   "outputs": [
    {
     "name": "stdout",
     "output_type": "stream",
     "text": [
      "t = 2.7388, p value = 0.0169\n"
     ]
    }
   ],
   "source": [
    "t = lm.params['speed']/sb\n",
    "p_value = stats.t.sf(t,df=deg_free)*2\n",
    "\n",
    "print(f't = {t:.4f}, p value = {p_value:.4f}')"
   ]
  },
  {
   "cell_type": "markdown",
   "metadata": {
    "hidden": true
   },
   "source": [
    "**Testing model assumptions**\n",
    "\n",
    "1. The relation between $x$ and $y$ in the population is _linear_: No pattern should be found as this would indicate a departure from linearity\n",
    "2. The standard deviation of the distribution of errors is _constant_, that is, it does not depend on $x$: the distribution should be homeoscedastic \n",
    "3. The distribution of the errors is normal"
   ]
  },
  {
   "cell_type": "code",
   "execution_count": 135,
   "metadata": {
    "hidden": true
   },
   "outputs": [
    {
     "data": {
      "text/plain": [
       "Text(0.5, 0, 'Fitted Values')"
      ]
     },
     "execution_count": 135,
     "metadata": {},
     "output_type": "execute_result"
    },
    {
     "data": {
      "image/png": "[encoded data removed]",
      "text/plain": [
       "<Figure size 720x504 with 1 Axes>"
      ]
     },
     "metadata": {
      "needs_background": "light"
     },
     "output_type": "display_data"
    }
   ],
   "source": [
    "# Testing assumptions 1 and 2\n",
    "fitted_values = df.speed*lm.params['speed'] + lm.params['constant']\n",
    "residuals = df.consumption - fitted_values\n",
    "\n",
    "plt.figure(figsize=(10,7))\n",
    "plt.scatter(fitted_values,residuals)\n",
    "plt.hlines(y=0,xmin=fitted_values.min(),xmax=fitted_values.max(),color='red',ls='--')\n",
    "plt.ylabel('Residuals')\n",
    "plt.xlabel('Fitted Values')"
   ]
  },
  {
   "cell_type": "markdown",
   "metadata": {
    "hidden": true
   },
   "source": [
    "We can see from this plot that there is no pattern in the distribution of residuals neither change in variance with change in Fitted Values"
   ]
  },
  {
   "cell_type": "code",
   "execution_count": 145,
   "metadata": {
    "hidden": true
   },
   "outputs": [
    {
     "data": {
      "text/plain": [
       "<matplotlib.collections.PathCollection at 0x7fd058de5550>"
      ]
     },
     "execution_count": 145,
     "metadata": {},
     "output_type": "execute_result"
    },
    {
     "data": {
      "image/png": "[encoded data removed]",
      "text/plain": [
       "<Figure size 432x288 with 1 Axes>"
      ]
     },
     "metadata": {
      "needs_background": "light"
     },
     "output_type": "display_data"
    }
   ],
   "source": [
    "# Testing assumption 3\n",
    "values = residuals.to_numpy()\n",
    "values.sort()\n",
    "scores = stats.norm.ppf(np.arange(1,values.shape[0]+1,1)/(values.shape[0]+1))\n",
    "\n",
    "plt.scatter(scores,values)"
   ]
  },
  {
   "cell_type": "markdown",
   "metadata": {
    "hidden": true
   },
   "source": [
    "Normality assumption is met"
   ]
  },
  {
   "cell_type": "markdown",
   "metadata": {},
   "source": [
    "## Homework"
   ]
  },
  {
   "cell_type": "markdown",
   "metadata": {
    "heading_collapsed": true
   },
   "source": [
    "### Problem 1"
   ]
  },
  {
   "cell_type": "markdown",
   "metadata": {
    "hidden": true
   },
   "source": [
    " (Taken from Utts, 1996, page 178) A professor sampled eight hardcover books from his shelf and recorded the number of pages and the price of each book, as follows: \n",
    " \n",
    " pages: 104 188 220 264 342 417 458 466 <br>\n",
    " price: 32.95 24.95 49.95 79.95 49.95 39.75 60.00 49.95\n",
    " \n",
    "Is there a relation between the number of pages and the price of a book? \n",
    "\n",
    "Answer this question by plotting the data as a scatter plot, fitting the regression line, and testing the appropriate null hypothesis. Interpret your findings. Use your fitted relation to predict the price of a hardcover book with 200 pages. "
   ]
  },
  {
   "cell_type": "code",
   "execution_count": 4,
   "metadata": {
    "hidden": true
   },
   "outputs": [
    {
     "data": {
      "text/html": [
       "<div>\n",
       "<style scoped>\n",
       "    .dataframe tbody tr th:only-of-type {\n",
       "        vertical-align: middle;\n",
       "    }\n",
       "\n",
       "    .dataframe tbody tr th {\n",
       "        vertical-align: top;\n",
       "    }\n",
       "\n",
       "    .dataframe thead th {\n",
       "        text-align: right;\n",
       "    }\n",
       "</style>\n",
       "<table border=\"1\" class=\"dataframe\">\n",
       "  <thead>\n",
       "    <tr style=\"text-align: right;\">\n",
       "      <th></th>\n",
       "      <th>pages</th>\n",
       "      <th>price</th>\n",
       "      <th>constant</th>\n",
       "    </tr>\n",
       "  </thead>\n",
       "  <tbody>\n",
       "    <tr>\n",
       "      <th>0</th>\n",
       "      <td>104.0</td>\n",
       "      <td>32.95</td>\n",
       "      <td>1.0</td>\n",
       "    </tr>\n",
       "    <tr>\n",
       "      <th>1</th>\n",
       "      <td>188.0</td>\n",
       "      <td>24.95</td>\n",
       "      <td>1.0</td>\n",
       "    </tr>\n",
       "    <tr>\n",
       "      <th>2</th>\n",
       "      <td>220.0</td>\n",
       "      <td>49.95</td>\n",
       "      <td>1.0</td>\n",
       "    </tr>\n",
       "    <tr>\n",
       "      <th>3</th>\n",
       "      <td>264.0</td>\n",
       "      <td>79.95</td>\n",
       "      <td>1.0</td>\n",
       "    </tr>\n",
       "    <tr>\n",
       "      <th>4</th>\n",
       "      <td>342.0</td>\n",
       "      <td>49.95</td>\n",
       "      <td>1.0</td>\n",
       "    </tr>\n",
       "    <tr>\n",
       "      <th>5</th>\n",
       "      <td>417.0</td>\n",
       "      <td>39.75</td>\n",
       "      <td>1.0</td>\n",
       "    </tr>\n",
       "    <tr>\n",
       "      <th>6</th>\n",
       "      <td>458.0</td>\n",
       "      <td>60.00</td>\n",
       "      <td>1.0</td>\n",
       "    </tr>\n",
       "    <tr>\n",
       "      <th>7</th>\n",
       "      <td>466.0</td>\n",
       "      <td>49.95</td>\n",
       "      <td>1.0</td>\n",
       "    </tr>\n",
       "  </tbody>\n",
       "</table>\n",
       "</div>"
      ],
      "text/plain": [
       "   pages  price  constant\n",
       "0  104.0  32.95       1.0\n",
       "1  188.0  24.95       1.0\n",
       "2  220.0  49.95       1.0\n",
       "3  264.0  79.95       1.0\n",
       "4  342.0  49.95       1.0\n",
       "5  417.0  39.75       1.0\n",
       "6  458.0  60.00       1.0\n",
       "7  466.0  49.95       1.0"
      ]
     },
     "execution_count": 4,
     "metadata": {},
     "output_type": "execute_result"
    }
   ],
   "source": [
    "# Data\n",
    "df = pd.DataFrame({'pages':[float(i) for i in '104 188 220 264 342 417 458 466'.split(' ')],\n",
    "                   'price':[float(i) for i in '32.95 24.95 49.95 79.95 49.95 39.75 60.00 49.95'.split(' ')]})\n",
    "df['constant']=1.0\n",
    "df"
   ]
  },
  {
   "cell_type": "code",
   "execution_count": 5,
   "metadata": {
    "hidden": true,
    "scrolled": false
   },
   "outputs": [
    {
     "name": "stderr",
     "output_type": "stream",
     "text": [
      "/home/adgb/anaconda3/lib/python3.7/site-packages/scipy/stats/stats.py:1535: UserWarning: kurtosistest only valid for n>=20 ... continuing anyway, n=8\n",
      "  \"anyway, n=%i\" % int(n))\n"
     ]
    },
    {
     "data": {
      "text/html": [
       "<table class=\"simpletable\">\n",
       "<caption>OLS Regression Results</caption>\n",
       "<tr>\n",
       "  <th>Dep. Variable:</th>          <td>price</td>      <th>  R-squared:         </th> <td>   0.121</td>\n",
       "</tr>\n",
       "<tr>\n",
       "  <th>Model:</th>                   <td>OLS</td>       <th>  Adj. R-squared:    </th> <td>  -0.025</td>\n",
       "</tr>\n",
       "<tr>\n",
       "  <th>Method:</th>             <td>Least Squares</td>  <th>  F-statistic:       </th> <td>  0.8290</td>\n",
       "</tr>\n",
       "<tr>\n",
       "  <th>Date:</th>             <td>Sat, 23 May 2020</td> <th>  Prob (F-statistic):</th>  <td> 0.398</td> \n",
       "</tr>\n",
       "<tr>\n",
       "  <th>Time:</th>                 <td>07:28:18</td>     <th>  Log-Likelihood:    </th> <td> -32.921</td>\n",
       "</tr>\n",
       "<tr>\n",
       "  <th>No. Observations:</th>      <td>     8</td>      <th>  AIC:               </th> <td>   69.84</td>\n",
       "</tr>\n",
       "<tr>\n",
       "  <th>Df Residuals:</th>          <td>     6</td>      <th>  BIC:               </th> <td>   70.00</td>\n",
       "</tr>\n",
       "<tr>\n",
       "  <th>Df Model:</th>              <td>     1</td>      <th>                     </th>     <td> </td>   \n",
       "</tr>\n",
       "<tr>\n",
       "  <th>Covariance Type:</th>      <td>nonrobust</td>    <th>                     </th>     <td> </td>   \n",
       "</tr>\n",
       "</table>\n",
       "<table class=\"simpletable\">\n",
       "<tr>\n",
       "      <td></td>        <th>coef</th>     <th>std err</th>      <th>t</th>      <th>P>|t|</th>  <th>[0.025</th>    <th>0.975]</th>  \n",
       "</tr>\n",
       "<tr>\n",
       "  <th>constant</th> <td>   34.9468</td> <td>   15.998</td> <td>    2.184</td> <td> 0.072</td> <td>   -4.200</td> <td>   74.093</td>\n",
       "</tr>\n",
       "<tr>\n",
       "  <th>pages</th>    <td>    0.0439</td> <td>    0.048</td> <td>    0.911</td> <td> 0.398</td> <td>   -0.074</td> <td>    0.162</td>\n",
       "</tr>\n",
       "</table>\n",
       "<table class=\"simpletable\">\n",
       "<tr>\n",
       "  <th>Omnibus:</th>       <td> 5.947</td> <th>  Durbin-Watson:     </th> <td>   1.837</td>\n",
       "</tr>\n",
       "<tr>\n",
       "  <th>Prob(Omnibus):</th> <td> 0.051</td> <th>  Jarque-Bera (JB):  </th> <td>   1.736</td>\n",
       "</tr>\n",
       "<tr>\n",
       "  <th>Skew:</th>          <td> 1.099</td> <th>  Prob(JB):          </th> <td>   0.420</td>\n",
       "</tr>\n",
       "<tr>\n",
       "  <th>Kurtosis:</th>      <td> 3.614</td> <th>  Cond. No.          </th> <td>    878.</td>\n",
       "</tr>\n",
       "</table><br/><br/>Warnings:<br/>[1] Standard Errors assume that the covariance matrix of the errors is correctly specified."
      ],
      "text/plain": [
       "<class 'statsmodels.iolib.summary.Summary'>\n",
       "\"\"\"\n",
       "                            OLS Regression Results                            \n",
       "==============================================================================\n",
       "Dep. Variable:                  price   R-squared:                       0.121\n",
       "Model:                            OLS   Adj. R-squared:                 -0.025\n",
       "Method:                 Least Squares   F-statistic:                    0.8290\n",
       "Date:                Sat, 23 May 2020   Prob (F-statistic):              0.398\n",
       "Time:                        07:28:18   Log-Likelihood:                -32.921\n",
       "No. Observations:                   8   AIC:                             69.84\n",
       "Df Residuals:                       6   BIC:                             70.00\n",
       "Df Model:                           1                                         \n",
       "Covariance Type:            nonrobust                                         \n",
       "==============================================================================\n",
       "                 coef    std err          t      P>|t|      [0.025      0.975]\n",
       "------------------------------------------------------------------------------\n",
       "constant      34.9468     15.998      2.184      0.072      -4.200      74.093\n",
       "pages          0.0439      0.048      0.911      0.398      -0.074       0.162\n",
       "==============================================================================\n",
       "Omnibus:                        5.947   Durbin-Watson:                   1.837\n",
       "Prob(Omnibus):                  0.051   Jarque-Bera (JB):                1.736\n",
       "Skew:                           1.099   Prob(JB):                        0.420\n",
       "Kurtosis:                       3.614   Cond. No.                         878.\n",
       "==============================================================================\n",
       "\n",
       "Warnings:\n",
       "[1] Standard Errors assume that the covariance matrix of the errors is correctly specified.\n",
       "\"\"\""
      ]
     },
     "execution_count": 5,
     "metadata": {},
     "output_type": "execute_result"
    }
   ],
   "source": [
    "lm = sm.OLS(df['price'],df[['constant','pages']]).fit()\n",
    "x = np.linspace(df['pages'].min(),df['pages'].max())\n",
    "y = x*lm.params['price'] + lm.params['constant']\n",
    "lm.summary()"
   ]
  },
  {
   "cell_type": "code",
   "execution_count": 10,
   "metadata": {
    "hidden": true
   },
   "outputs": [
    {
     "data": {
      "text/plain": [
       "[<matplotlib.lines.Line2D at 0x7f72de175b10>]"
      ]
     },
     "execution_count": 10,
     "metadata": {},
     "output_type": "execute_result"
    },
    {
     "data": {
      "image/png": "[encoded data removed]",
      "text/plain": [
       "<Figure size 720x504 with 1 Axes>"
      ]
     },
     "metadata": {
      "needs_background": "light"
     },
     "output_type": "display_data"
    }
   ],
   "source": [
    "# Plotting scatter plot with fitted least-squares line\n",
    "x = np.linspace(df['pages'].min(),df['pages'].max())\n",
    "y = x*lm.params['pages'] + lm.params['constant']\n",
    "\n",
    "df.plot(kind='scatter',x='pages',y='price',figsize=(10,7))\n",
    "plt.plot(x,y,color='r',ls='--')"
   ]
  },
  {
   "cell_type": "markdown",
   "metadata": {
    "hidden": true
   },
   "source": [
    "Calculating the confidence interval\n",
    "\n",
    "$(b-t_{n-2}s_b,b+t_{n-2}s_b)$\n",
    "\n",
    "where\n",
    "\n",
    "$b$ = estimation point for $\\beta$\n",
    "\n",
    "$s_b = \\frac{s}{s_x\\sqrt{n-1}}$ = standard error of $b$\n",
    "\n",
    "where\n",
    "\n",
    "$s_x$ = standard deviation of $x$\n",
    "\n",
    "$s = \\sqrt{\\frac{\\sum(y_i-\\hat{y})^2}{n-2}}$"
   ]
  },
  {
   "cell_type": "code",
   "execution_count": 14,
   "metadata": {
    "hidden": true
   },
   "outputs": [
    {
     "name": "stdout",
     "output_type": "stream",
     "text": [
      "Condfidence interval = (-0.07402602272633672,0.1617657208693727)\n"
     ]
    }
   ],
   "source": [
    "# Confidence interval for beta\n",
    "b = lm.params['pages']\n",
    "deg_fr = df.shape[0]-2\n",
    "t = abs(stats.t.ppf(.05/2,df=deg_fr))\n",
    "s = math.sqrt(lm.scale)\n",
    "sx = df['pages'].std(ddof=1)\n",
    "sb = s/(sx*math.sqrt(df.shape[0]-1))\n",
    "\n",
    "print(f'Condfidence interval = ({lm.params[\"pages\"]-t*sb},{lm.params[\"pages\"]+t*sb})')"
   ]
  },
  {
   "cell_type": "code",
   "execution_count": 15,
   "metadata": {
    "hidden": true
   },
   "outputs": [
    {
     "data": {
      "text/plain": [
       "(0.9105124026891787, 0.39765449203635805)"
      ]
     },
     "execution_count": 15,
     "metadata": {},
     "output_type": "execute_result"
    }
   ],
   "source": [
    "# Testing the null hypothesis\n",
    "t = lm.params['pages']/sb\n",
    "p_value = stats.t.sf(abs(t),df=deg_fr)*2\n",
    "t,p_value"
   ]
  },
  {
   "cell_type": "code",
   "execution_count": 34,
   "metadata": {
    "hidden": true
   },
   "outputs": [
    {
     "data": {
      "text/plain": [
       "<matplotlib.collections.LineCollection at 0x7f72de248a90>"
      ]
     },
     "execution_count": 34,
     "metadata": {},
     "output_type": "execute_result"
    },
    {
     "data": {
      "image/png": "[encoded data removed]",
      "text/plain": [
       "<Figure size 432x288 with 1 Axes>"
      ]
     },
     "metadata": {
      "needs_background": "light"
     },
     "output_type": "display_data"
    }
   ],
   "source": [
    "# Checking assumptions\n",
    "fitted_values = df['pages']*lm.params['pages']+lm.params['constant']\n",
    "\n",
    "plt.scatter(fitted_values, lm.resid)\n",
    "plt.hlines(y=0,xmin=fitted_values.min(),xmax=fitted_values.max())"
   ]
  },
  {
   "cell_type": "markdown",
   "metadata": {
    "hidden": true
   },
   "source": [
    "values = np.concatenate([df['pages'],df['price']])\n",
    "values.sort()\n",
    "scores = stats.norm.ppf(np.arange(1,values.shape[0]+1,1)/(values.shape[0]+1))\n",
    "\n",
    "plt.scatter(scores,values)"
   ]
  },
  {
   "cell_type": "code",
   "execution_count": 48,
   "metadata": {
    "hidden": true
   },
   "outputs": [
    {
     "data": {
      "text/plain": [
       "(43.720724955945755, array([43.72072496]))"
      ]
     },
     "execution_count": 48,
     "metadata": {},
     "output_type": "execute_result"
    }
   ],
   "source": [
    "# Predicting price of a hardcover book with 200 pages\n",
    "lm.params['pages']*200 + lm.params['constant'], lm.predict([[1.0,200]])"
   ]
  },
  {
   "cell_type": "markdown",
   "metadata": {
    "heading_collapsed": true
   },
   "source": [
    "### Problem 2"
   ]
  },
  {
   "cell_type": "markdown",
   "metadata": {
    "hidden": true
   },
   "source": [
    "Age, gender, and smoking specific term life premium rates offered by the NRMA Insurance Company in 1985, for a sum insured of $50,000, are as follows (source: The Open Road magazine, June 85). "
   ]
  },
  {
   "cell_type": "code",
   "execution_count": 52,
   "metadata": {
    "hidden": true
   },
   "outputs": [
    {
     "data": {
      "text/html": [
       "<div>\n",
       "<style scoped>\n",
       "    .dataframe tbody tr th:only-of-type {\n",
       "        vertical-align: middle;\n",
       "    }\n",
       "\n",
       "    .dataframe tbody tr th {\n",
       "        vertical-align: top;\n",
       "    }\n",
       "\n",
       "    .dataframe thead th {\n",
       "        text-align: right;\n",
       "    }\n",
       "</style>\n",
       "<table border=\"1\" class=\"dataframe\">\n",
       "  <thead>\n",
       "    <tr style=\"text-align: right;\">\n",
       "      <th></th>\n",
       "      <th>age</th>\n",
       "      <th>male_smoker</th>\n",
       "      <th>male_non_smoker</th>\n",
       "      <th>female_smoker</th>\n",
       "      <th>female_non_smoker</th>\n",
       "      <th>constant</th>\n",
       "    </tr>\n",
       "  </thead>\n",
       "  <tbody>\n",
       "    <tr>\n",
       "      <th>0</th>\n",
       "      <td>34.0</td>\n",
       "      <td>135.0</td>\n",
       "      <td>105.0</td>\n",
       "      <td>110.0</td>\n",
       "      <td>95.0</td>\n",
       "      <td>1.0</td>\n",
       "    </tr>\n",
       "    <tr>\n",
       "      <th>1</th>\n",
       "      <td>36.0</td>\n",
       "      <td>145.0</td>\n",
       "      <td>110.0</td>\n",
       "      <td>120.0</td>\n",
       "      <td>100.0</td>\n",
       "      <td>1.0</td>\n",
       "    </tr>\n",
       "    <tr>\n",
       "      <th>2</th>\n",
       "      <td>38.0</td>\n",
       "      <td>160.0</td>\n",
       "      <td>115.0</td>\n",
       "      <td>130.0</td>\n",
       "      <td>105.0</td>\n",
       "      <td>1.0</td>\n",
       "    </tr>\n",
       "    <tr>\n",
       "      <th>3</th>\n",
       "      <td>40.0</td>\n",
       "      <td>180.0</td>\n",
       "      <td>125.0</td>\n",
       "      <td>145.0</td>\n",
       "      <td>115.0</td>\n",
       "      <td>1.0</td>\n",
       "    </tr>\n",
       "    <tr>\n",
       "      <th>4</th>\n",
       "      <td>42.0</td>\n",
       "      <td>210.0</td>\n",
       "      <td>140.0</td>\n",
       "      <td>165.0</td>\n",
       "      <td>130.0</td>\n",
       "      <td>1.0</td>\n",
       "    </tr>\n",
       "    <tr>\n",
       "      <th>5</th>\n",
       "      <td>44.0</td>\n",
       "      <td>250.0</td>\n",
       "      <td>155.0</td>\n",
       "      <td>190.0</td>\n",
       "      <td>145.0</td>\n",
       "      <td>1.0</td>\n",
       "    </tr>\n",
       "    <tr>\n",
       "      <th>6</th>\n",
       "      <td>46.0</td>\n",
       "      <td>295.0</td>\n",
       "      <td>180.0</td>\n",
       "      <td>225.0</td>\n",
       "      <td>165.0</td>\n",
       "      <td>1.0</td>\n",
       "    </tr>\n",
       "    <tr>\n",
       "      <th>7</th>\n",
       "      <td>48.0</td>\n",
       "      <td>360.0</td>\n",
       "      <td>215.0</td>\n",
       "      <td>265.0</td>\n",
       "      <td>195.0</td>\n",
       "      <td>1.0</td>\n",
       "    </tr>\n",
       "    <tr>\n",
       "      <th>8</th>\n",
       "      <td>50.0</td>\n",
       "      <td>435.0</td>\n",
       "      <td>260.0</td>\n",
       "      <td>320.0</td>\n",
       "      <td>230.0</td>\n",
       "      <td>1.0</td>\n",
       "    </tr>\n",
       "    <tr>\n",
       "      <th>9</th>\n",
       "      <td>52.0</td>\n",
       "      <td>535.0</td>\n",
       "      <td>315.0</td>\n",
       "      <td>380.0</td>\n",
       "      <td>275.0</td>\n",
       "      <td>1.0</td>\n",
       "    </tr>\n",
       "    <tr>\n",
       "      <th>10</th>\n",
       "      <td>54.0</td>\n",
       "      <td>650.0</td>\n",
       "      <td>390.0</td>\n",
       "      <td>460.0</td>\n",
       "      <td>335.0</td>\n",
       "      <td>1.0</td>\n",
       "    </tr>\n",
       "  </tbody>\n",
       "</table>\n",
       "</div>"
      ],
      "text/plain": [
       "     age  male_smoker  male_non_smoker  female_smoker  female_non_smoker  \\\n",
       "0   34.0        135.0            105.0          110.0               95.0   \n",
       "1   36.0        145.0            110.0          120.0              100.0   \n",
       "2   38.0        160.0            115.0          130.0              105.0   \n",
       "3   40.0        180.0            125.0          145.0              115.0   \n",
       "4   42.0        210.0            140.0          165.0              130.0   \n",
       "5   44.0        250.0            155.0          190.0              145.0   \n",
       "6   46.0        295.0            180.0          225.0              165.0   \n",
       "7   48.0        360.0            215.0          265.0              195.0   \n",
       "8   50.0        435.0            260.0          320.0              230.0   \n",
       "9   52.0        535.0            315.0          380.0              275.0   \n",
       "10  54.0        650.0            390.0          460.0              335.0   \n",
       "\n",
       "    constant  \n",
       "0        1.0  \n",
       "1        1.0  \n",
       "2        1.0  \n",
       "3        1.0  \n",
       "4        1.0  \n",
       "5        1.0  \n",
       "6        1.0  \n",
       "7        1.0  \n",
       "8        1.0  \n",
       "9        1.0  \n",
       "10       1.0  "
      ]
     },
     "execution_count": 52,
     "metadata": {},
     "output_type": "execute_result"
    }
   ],
   "source": [
    "age = [float(i) for i in '34 36 38 40 42 44 46 48 50 52 54'.split(' ')]\n",
    "male_smoker = [float(i) for i in '135 145 160 180 210 250 295 360 435 535 650'.split(' ')]\n",
    "male_non_smoker = [float(i) for i in '105 110 115 125 140 155 180 215 260 315 390'.split(' ')]\n",
    "female_smoker = [float(i) for i in '110 120 130 145 165 190 225 265 320 380 460'.split(' ')]\n",
    "female_non_smoker = [float(i) for i in '95 100 105 115 130 145 165 195 230 275 335'.split(' ')]\n",
    "\n",
    "df = pd.DataFrame({'age':age,'male_smoker':male_smoker,'male_non_smoker':male_non_smoker,\n",
    "                   'female_smoker':female_smoker,'female_non_smoker':female_non_smoker,\n",
    "                   'constant':np.ones(len(age))})\n",
    "df"
   ]
  },
  {
   "cell_type": "markdown",
   "metadata": {
    "hidden": true
   },
   "source": [
    "Choose one of these four categories (e.g. male non-smokers) and fit an appropriate linear model to predict premium from age. Does this model provide a reasonable fit to the data? Could you use the model to estimate the premium for a person aged 60? Explain. "
   ]
  },
  {
   "cell_type": "code",
   "execution_count": 53,
   "metadata": {
    "hidden": true
   },
   "outputs": [
    {
     "name": "stderr",
     "output_type": "stream",
     "text": [
      "/home/adgb/anaconda3/lib/python3.7/site-packages/scipy/stats/stats.py:1535: UserWarning: kurtosistest only valid for n>=20 ... continuing anyway, n=11\n",
      "  \"anyway, n=%i\" % int(n))\n"
     ]
    },
    {
     "data": {
      "text/html": [
       "<table class=\"simpletable\">\n",
       "<caption>OLS Regression Results</caption>\n",
       "<tr>\n",
       "  <th>Dep. Variable:</th>     <td>male_non_smoker</td> <th>  R-squared:         </th> <td>   0.865</td>\n",
       "</tr>\n",
       "<tr>\n",
       "  <th>Model:</th>                   <td>OLS</td>       <th>  Adj. R-squared:    </th> <td>   0.850</td>\n",
       "</tr>\n",
       "<tr>\n",
       "  <th>Method:</th>             <td>Least Squares</td>  <th>  F-statistic:       </th> <td>   57.54</td>\n",
       "</tr>\n",
       "<tr>\n",
       "  <th>Date:</th>             <td>Sat, 23 May 2020</td> <th>  Prob (F-statistic):</th> <td>3.38e-05</td>\n",
       "</tr>\n",
       "<tr>\n",
       "  <th>Time:</th>                 <td>11:07:51</td>     <th>  Log-Likelihood:    </th> <td> -54.061</td>\n",
       "</tr>\n",
       "<tr>\n",
       "  <th>No. Observations:</th>      <td>    11</td>      <th>  AIC:               </th> <td>   112.1</td>\n",
       "</tr>\n",
       "<tr>\n",
       "  <th>Df Residuals:</th>          <td>     9</td>      <th>  BIC:               </th> <td>   112.9</td>\n",
       "</tr>\n",
       "<tr>\n",
       "  <th>Df Model:</th>              <td>     1</td>      <th>                     </th>     <td> </td>   \n",
       "</tr>\n",
       "<tr>\n",
       "  <th>Covariance Type:</th>      <td>nonrobust</td>    <th>                     </th>     <td> </td>   \n",
       "</tr>\n",
       "</table>\n",
       "<table class=\"simpletable\">\n",
       "<tr>\n",
       "      <td></td>        <th>coef</th>     <th>std err</th>      <th>t</th>      <th>P>|t|</th>  <th>[0.025</th>    <th>0.975]</th>  \n",
       "</tr>\n",
       "<tr>\n",
       "  <th>constant</th> <td> -388.1818</td> <td>   77.249</td> <td>   -5.025</td> <td> 0.001</td> <td> -562.932</td> <td> -213.432</td>\n",
       "</tr>\n",
       "<tr>\n",
       "  <th>age</th>      <td>   13.1818</td> <td>    1.738</td> <td>    7.585</td> <td> 0.000</td> <td>    9.251</td> <td>   17.113</td>\n",
       "</tr>\n",
       "</table>\n",
       "<table class=\"simpletable\">\n",
       "<tr>\n",
       "  <th>Omnibus:</th>       <td> 1.350</td> <th>  Durbin-Watson:     </th> <td>   0.422</td>\n",
       "</tr>\n",
       "<tr>\n",
       "  <th>Prob(Omnibus):</th> <td> 0.509</td> <th>  Jarque-Bera (JB):  </th> <td>   1.004</td>\n",
       "</tr>\n",
       "<tr>\n",
       "  <th>Skew:</th>          <td> 0.635</td> <th>  Prob(JB):          </th> <td>   0.605</td>\n",
       "</tr>\n",
       "<tr>\n",
       "  <th>Kurtosis:</th>      <td> 2.239</td> <th>  Cond. No.          </th> <td>    313.</td>\n",
       "</tr>\n",
       "</table><br/><br/>Warnings:<br/>[1] Standard Errors assume that the covariance matrix of the errors is correctly specified."
      ],
      "text/plain": [
       "<class 'statsmodels.iolib.summary.Summary'>\n",
       "\"\"\"\n",
       "                            OLS Regression Results                            \n",
       "==============================================================================\n",
       "Dep. Variable:        male_non_smoker   R-squared:                       0.865\n",
       "Model:                            OLS   Adj. R-squared:                  0.850\n",
       "Method:                 Least Squares   F-statistic:                     57.54\n",
       "Date:                Sat, 23 May 2020   Prob (F-statistic):           3.38e-05\n",
       "Time:                        11:07:51   Log-Likelihood:                -54.061\n",
       "No. Observations:                  11   AIC:                             112.1\n",
       "Df Residuals:                       9   BIC:                             112.9\n",
       "Df Model:                           1                                         \n",
       "Covariance Type:            nonrobust                                         \n",
       "==============================================================================\n",
       "                 coef    std err          t      P>|t|      [0.025      0.975]\n",
       "------------------------------------------------------------------------------\n",
       "constant    -388.1818     77.249     -5.025      0.001    -562.932    -213.432\n",
       "age           13.1818      1.738      7.585      0.000       9.251      17.113\n",
       "==============================================================================\n",
       "Omnibus:                        1.350   Durbin-Watson:                   0.422\n",
       "Prob(Omnibus):                  0.509   Jarque-Bera (JB):                1.004\n",
       "Skew:                           0.635   Prob(JB):                        0.605\n",
       "Kurtosis:                       2.239   Cond. No.                         313.\n",
       "==============================================================================\n",
       "\n",
       "Warnings:\n",
       "[1] Standard Errors assume that the covariance matrix of the errors is correctly specified.\n",
       "\"\"\""
      ]
     },
     "execution_count": 53,
     "metadata": {},
     "output_type": "execute_result"
    }
   ],
   "source": [
    "lm = sm.OLS(df['male_non_smoker'],df[['constant','age']]).fit()\n",
    "lm.summary()"
   ]
  },
  {
   "cell_type": "code",
   "execution_count": 57,
   "metadata": {
    "hidden": true
   },
   "outputs": [
    {
     "data": {
      "text/plain": [
       "[<matplotlib.lines.Line2D at 0x7f72de2fd4d0>]"
      ]
     },
     "execution_count": 57,
     "metadata": {},
     "output_type": "execute_result"
    },
    {
     "data": {
      "image/png": "[encoded data removed]",
      "text/plain": [
       "<Figure size 720x504 with 1 Axes>"
      ]
     },
     "metadata": {
      "needs_background": "light"
     },
     "output_type": "display_data"
    }
   ],
   "source": [
    "# Scatter plot with best fit line for male non smoker\n",
    "x = np.linspace(df.age.min(), df.age.max())\n",
    "y = x*lm.params['age'] + lm.params['constant']\n",
    "\n",
    "df[['age','male_non_smoker']].plot(kind='scatter',x='age',y='male_non_smoker',figsize=(10,7))\n",
    "plt.plot(x,y,color='r',ls='--')"
   ]
  },
  {
   "cell_type": "markdown",
   "metadata": {
    "hidden": true
   },
   "source": [
    "$r^2$ shows the fit is reasonable. Given that the range of the data goes up to approx. 55yo, then we could not do predictions for people outside the range"
   ]
  },
  {
   "cell_type": "markdown",
   "metadata": {
    "heading_collapsed": true
   },
   "source": [
    "### Problem 3"
   ]
  },
  {
   "cell_type": "markdown",
   "metadata": {
    "hidden": true
   },
   "source": [
    "The following data, compiled by UNICEF in 1992, show the under 5 mortality rate (per 1000 live births) and the adult female literacy rate (percent) for 11 Middle Eastern countries (with two missing literacy rates). Use these data from the nine countries having complete data to fit a linear model, and then attempt to use this model to estimate the missing data. Do you this think this approach is accurate? "
   ]
  },
  {
   "cell_type": "code",
   "execution_count": 68,
   "metadata": {
    "hidden": true
   },
   "outputs": [
    {
     "data": {
      "text/html": [
       "<div>\n",
       "<style scoped>\n",
       "    .dataframe tbody tr th:only-of-type {\n",
       "        vertical-align: middle;\n",
       "    }\n",
       "\n",
       "    .dataframe tbody tr th {\n",
       "        vertical-align: top;\n",
       "    }\n",
       "\n",
       "    .dataframe thead th {\n",
       "        text-align: right;\n",
       "    }\n",
       "</style>\n",
       "<table border=\"1\" class=\"dataframe\">\n",
       "  <thead>\n",
       "    <tr style=\"text-align: right;\">\n",
       "      <th></th>\n",
       "      <th>child_mortality</th>\n",
       "      <th>female_literacy</th>\n",
       "      <th>constant</th>\n",
       "    </tr>\n",
       "  </thead>\n",
       "  <tbody>\n",
       "    <tr>\n",
       "      <th>Yemen</th>\n",
       "      <td>187.0</td>\n",
       "      <td>21.0</td>\n",
       "      <td>1.0</td>\n",
       "    </tr>\n",
       "    <tr>\n",
       "      <th>SaudiArabia</th>\n",
       "      <td>91.0</td>\n",
       "      <td>48.0</td>\n",
       "      <td>1.0</td>\n",
       "    </tr>\n",
       "    <tr>\n",
       "      <th>Iraq</th>\n",
       "      <td>86.0</td>\n",
       "      <td>49.0</td>\n",
       "      <td>1.0</td>\n",
       "    </tr>\n",
       "    <tr>\n",
       "      <th>Syria</th>\n",
       "      <td>59.0</td>\n",
       "      <td>51.0</td>\n",
       "      <td>1.0</td>\n",
       "    </tr>\n",
       "    <tr>\n",
       "      <th>Iran</th>\n",
       "      <td>59.0</td>\n",
       "      <td>43.0</td>\n",
       "      <td>1.0</td>\n",
       "    </tr>\n",
       "    <tr>\n",
       "      <th>Lebanon</th>\n",
       "      <td>56.0</td>\n",
       "      <td>73.0</td>\n",
       "      <td>1.0</td>\n",
       "    </tr>\n",
       "    <tr>\n",
       "      <th>Jordan</th>\n",
       "      <td>52.0</td>\n",
       "      <td>70.0</td>\n",
       "      <td>1.0</td>\n",
       "    </tr>\n",
       "    <tr>\n",
       "      <th>Oman</th>\n",
       "      <td>49.0</td>\n",
       "      <td>NaN</td>\n",
       "      <td>1.0</td>\n",
       "    </tr>\n",
       "    <tr>\n",
       "      <th>U.ArabEmirates</th>\n",
       "      <td>30.0</td>\n",
       "      <td>38.0</td>\n",
       "      <td>1.0</td>\n",
       "    </tr>\n",
       "    <tr>\n",
       "      <th>Kuwait</th>\n",
       "      <td>19.0</td>\n",
       "      <td>67.0</td>\n",
       "      <td>1.0</td>\n",
       "    </tr>\n",
       "    <tr>\n",
       "      <th>Israel</th>\n",
       "      <td>11.0</td>\n",
       "      <td>NaN</td>\n",
       "      <td>1.0</td>\n",
       "    </tr>\n",
       "  </tbody>\n",
       "</table>\n",
       "</div>"
      ],
      "text/plain": [
       "                child_mortality  female_literacy  constant\n",
       "Yemen                     187.0             21.0       1.0\n",
       "SaudiArabia                91.0             48.0       1.0\n",
       "Iraq                       86.0             49.0       1.0\n",
       "Syria                      59.0             51.0       1.0\n",
       "Iran                       59.0             43.0       1.0\n",
       "Lebanon                    56.0             73.0       1.0\n",
       "Jordan                     52.0             70.0       1.0\n",
       "Oman                       49.0              NaN       1.0\n",
       "U.ArabEmirates             30.0             38.0       1.0\n",
       "Kuwait                     19.0             67.0       1.0\n",
       "Israel                     11.0              NaN       1.0"
      ]
     },
     "execution_count": 68,
     "metadata": {},
     "output_type": "execute_result"
    }
   ],
   "source": [
    "country = 'Yemen SaudiArabia Iraq Syria Iran Lebanon Jordan Oman U.ArabEmirates Kuwait Israel'.split(' ')\n",
    "child_mortality = [float(i) for i in '187 91 86 59 59 56 52 49 30 19 11'.split(' ')]\n",
    "female_literacy = [float(i) for i in f'21 48 49 51 43 73 70 {np.nan} 38 67 {np.nan}'.split(' ')]\n",
    "\n",
    "df = pd.DataFrame({'child_mortality':child_mortality,'female_literacy':female_literacy,\n",
    "                   'constant':np.ones(len(country))},\n",
    "                  index=country)\n",
    "df"
   ]
  },
  {
   "cell_type": "code",
   "execution_count": 75,
   "metadata": {
    "hidden": true
   },
   "outputs": [
    {
     "data": {
      "text/plain": [
       "<matplotlib.axes._subplots.AxesSubplot at 0x7f72d7303ad0>"
      ]
     },
     "execution_count": 75,
     "metadata": {},
     "output_type": "execute_result"
    },
    {
     "data": {
      "image/png": "[encoded data removed]",
      "text/plain": [
       "<Figure size 432x288 with 1 Axes>"
      ]
     },
     "metadata": {
      "needs_background": "light"
     },
     "output_type": "display_data"
    }
   ],
   "source": [
    "df[['child_mortality','female_literacy']].plot(kind='scatter',y='child_mortality',x='female_literacy')"
   ]
  },
  {
   "cell_type": "code",
   "execution_count": 76,
   "metadata": {
    "hidden": true
   },
   "outputs": [
    {
     "data": {
      "text/html": [
       "<div>\n",
       "<style scoped>\n",
       "    .dataframe tbody tr th:only-of-type {\n",
       "        vertical-align: middle;\n",
       "    }\n",
       "\n",
       "    .dataframe tbody tr th {\n",
       "        vertical-align: top;\n",
       "    }\n",
       "\n",
       "    .dataframe thead th {\n",
       "        text-align: right;\n",
       "    }\n",
       "</style>\n",
       "<table border=\"1\" class=\"dataframe\">\n",
       "  <thead>\n",
       "    <tr style=\"text-align: right;\">\n",
       "      <th></th>\n",
       "      <th>child_mortality</th>\n",
       "      <th>female_literacy</th>\n",
       "      <th>constant</th>\n",
       "    </tr>\n",
       "  </thead>\n",
       "  <tbody>\n",
       "    <tr>\n",
       "      <th>Yemen</th>\n",
       "      <td>187.0</td>\n",
       "      <td>21.0</td>\n",
       "      <td>1.0</td>\n",
       "    </tr>\n",
       "  </tbody>\n",
       "</table>\n",
       "</div>"
      ],
      "text/plain": [
       "       child_mortality  female_literacy  constant\n",
       "Yemen            187.0             21.0       1.0"
      ]
     },
     "execution_count": 76,
     "metadata": {},
     "output_type": "execute_result"
    }
   ],
   "source": [
    "df[df.child_mortality>175]"
   ]
  },
  {
   "cell_type": "code",
   "execution_count": 77,
   "metadata": {
    "hidden": true
   },
   "outputs": [
    {
     "data": {
      "text/plain": [
       "<matplotlib.axes._subplots.AxesSubplot at 0x7f72d71cd5d0>"
      ]
     },
     "execution_count": 77,
     "metadata": {},
     "output_type": "execute_result"
    },
    {
     "data": {
      "image/png": "[encoded data removed]",
      "text/plain": [
       "<Figure size 432x288 with 1 Axes>"
      ]
     },
     "metadata": {
      "needs_background": "light"
     },
     "output_type": "display_data"
    }
   ],
   "source": [
    "df.drop('Yemen')[['child_mortality','female_literacy']].plot(kind='scatter',y='child_mortality',x='female_literacy')"
   ]
  },
  {
   "cell_type": "markdown",
   "metadata": {
    "hidden": true
   },
   "source": [
    "A linear model wouldn't be appropriate for this dataset. There is no linear relation between the variables. In addition, the independent variable (female literacy) cannot be estimated from the dependent varialbe (child mortality)"
   ]
  },
  {
   "cell_type": "markdown",
   "metadata": {
    "heading_collapsed": true
   },
   "source": [
    "### Problem 4"
   ]
  },
  {
   "cell_type": "markdown",
   "metadata": {
    "hidden": true
   },
   "source": [
    "Investigate the relation between body fat percentage and age \n",
    "\n",
    "a. for the two sexes combined, and <br>\n",
    "b. for females only. \n",
    "\n",
    "Do you think it is reasonable to combine the data for the two sexes when investigating this relation? Explain. "
   ]
  },
  {
   "cell_type": "code",
   "execution_count": 82,
   "metadata": {
    "hidden": true,
    "scrolled": true
   },
   "outputs": [
    {
     "data": {
      "text/html": [
       "<div>\n",
       "<style scoped>\n",
       "    .dataframe tbody tr th:only-of-type {\n",
       "        vertical-align: middle;\n",
       "    }\n",
       "\n",
       "    .dataframe tbody tr th {\n",
       "        vertical-align: top;\n",
       "    }\n",
       "\n",
       "    .dataframe thead th {\n",
       "        text-align: right;\n",
       "    }\n",
       "</style>\n",
       "<table border=\"1\" class=\"dataframe\">\n",
       "  <thead>\n",
       "    <tr style=\"text-align: right;\">\n",
       "      <th></th>\n",
       "      <th>age</th>\n",
       "      <th>bfp</th>\n",
       "      <th>gender</th>\n",
       "    </tr>\n",
       "  </thead>\n",
       "  <tbody>\n",
       "    <tr>\n",
       "      <th>0</th>\n",
       "      <td>23</td>\n",
       "      <td>9.51</td>\n",
       "      <td>1</td>\n",
       "    </tr>\n",
       "    <tr>\n",
       "      <th>1</th>\n",
       "      <td>23</td>\n",
       "      <td>27.90</td>\n",
       "      <td>0</td>\n",
       "    </tr>\n",
       "    <tr>\n",
       "      <th>2</th>\n",
       "      <td>27</td>\n",
       "      <td>7.81</td>\n",
       "      <td>1</td>\n",
       "    </tr>\n",
       "    <tr>\n",
       "      <th>3</th>\n",
       "      <td>27</td>\n",
       "      <td>17.81</td>\n",
       "      <td>1</td>\n",
       "    </tr>\n",
       "    <tr>\n",
       "      <th>4</th>\n",
       "      <td>39</td>\n",
       "      <td>31.40</td>\n",
       "      <td>0</td>\n",
       "    </tr>\n",
       "    <tr>\n",
       "      <th>5</th>\n",
       "      <td>41</td>\n",
       "      <td>25.90</td>\n",
       "      <td>0</td>\n",
       "    </tr>\n",
       "    <tr>\n",
       "      <th>6</th>\n",
       "      <td>45</td>\n",
       "      <td>27.41</td>\n",
       "      <td>1</td>\n",
       "    </tr>\n",
       "    <tr>\n",
       "      <th>7</th>\n",
       "      <td>49</td>\n",
       "      <td>25.20</td>\n",
       "      <td>0</td>\n",
       "    </tr>\n",
       "    <tr>\n",
       "      <th>8</th>\n",
       "      <td>50</td>\n",
       "      <td>31.10</td>\n",
       "      <td>0</td>\n",
       "    </tr>\n",
       "    <tr>\n",
       "      <th>9</th>\n",
       "      <td>53</td>\n",
       "      <td>34.70</td>\n",
       "      <td>0</td>\n",
       "    </tr>\n",
       "    <tr>\n",
       "      <th>10</th>\n",
       "      <td>53</td>\n",
       "      <td>42.00</td>\n",
       "      <td>0</td>\n",
       "    </tr>\n",
       "    <tr>\n",
       "      <th>11</th>\n",
       "      <td>54</td>\n",
       "      <td>29.10</td>\n",
       "      <td>0</td>\n",
       "    </tr>\n",
       "    <tr>\n",
       "      <th>12</th>\n",
       "      <td>56</td>\n",
       "      <td>32.50</td>\n",
       "      <td>0</td>\n",
       "    </tr>\n",
       "    <tr>\n",
       "      <th>13</th>\n",
       "      <td>57</td>\n",
       "      <td>30.30</td>\n",
       "      <td>0</td>\n",
       "    </tr>\n",
       "    <tr>\n",
       "      <th>14</th>\n",
       "      <td>58</td>\n",
       "      <td>33.00</td>\n",
       "      <td>0</td>\n",
       "    </tr>\n",
       "    <tr>\n",
       "      <th>15</th>\n",
       "      <td>58</td>\n",
       "      <td>33.80</td>\n",
       "      <td>0</td>\n",
       "    </tr>\n",
       "    <tr>\n",
       "      <th>16</th>\n",
       "      <td>60</td>\n",
       "      <td>41.10</td>\n",
       "      <td>0</td>\n",
       "    </tr>\n",
       "    <tr>\n",
       "      <th>17</th>\n",
       "      <td>61</td>\n",
       "      <td>34.50</td>\n",
       "      <td>0</td>\n",
       "    </tr>\n",
       "  </tbody>\n",
       "</table>\n",
       "</div>"
      ],
      "text/plain": [
       "    age    bfp  gender\n",
       "0    23   9.51       1\n",
       "1    23  27.90       0\n",
       "2    27   7.81       1\n",
       "3    27  17.81       1\n",
       "4    39  31.40       0\n",
       "5    41  25.90       0\n",
       "6    45  27.41       1\n",
       "7    49  25.20       0\n",
       "8    50  31.10       0\n",
       "9    53  34.70       0\n",
       "10   53  42.00       0\n",
       "11   54  29.10       0\n",
       "12   56  32.50       0\n",
       "13   57  30.30       0\n",
       "14   58  33.00       0\n",
       "15   58  33.80       0\n",
       "16   60  41.10       0\n",
       "17   61  34.50       0"
      ]
     },
     "execution_count": 82,
     "metadata": {},
     "output_type": "execute_result"
    }
   ],
   "source": [
    "ages = np.array([23, 23, 27, 27, 39, 41, 45, 49, 50, 53, 53, 54, 56, 57, 58, 58, 60, 61])\n",
    "bfp = np.array([9.51, 27.9, 7.81, 17.81, 31.4, 25.9, 27.41, 25.2, 31.1, 34.7, 42.0, 29.1, 32.5, 30.3, 33.0, 33.8, 41.1, 34.5])\n",
    "gender = [1,0,1,1,0,0,1,0,0,0,0,0,0,0,0,0,0,0]\n",
    "\n",
    "df = pd.DataFrame({'age':ages,'bfp':bfp,'gender':gender})\n",
    "df"
   ]
  },
  {
   "cell_type": "code",
   "execution_count": 86,
   "metadata": {
    "hidden": true
   },
   "outputs": [],
   "source": [
    "df['constant'] = 1.0"
   ]
  },
  {
   "cell_type": "code",
   "execution_count": 87,
   "metadata": {
    "hidden": true
   },
   "outputs": [],
   "source": [
    "lm = sm.OLS(df['bfp'],df[['constant','age']]).fit()"
   ]
  },
  {
   "cell_type": "code",
   "execution_count": 88,
   "metadata": {
    "hidden": true
   },
   "outputs": [
    {
     "data": {
      "text/plain": [
       "[<matplotlib.lines.Line2D at 0x7f72d6d18190>]"
      ]
     },
     "execution_count": 88,
     "metadata": {},
     "output_type": "execute_result"
    },
    {
     "data": {
      "image/png": "[encoded data removed]",
      "text/plain": [
       "<Figure size 432x288 with 1 Axes>"
      ]
     },
     "metadata": {
      "needs_background": "light"
     },
     "output_type": "display_data"
    }
   ],
   "source": [
    "x = np.linspace(df.age.min(),df.age.max())\n",
    "y = x*lm.params['age'] + lm.params['constant']\n",
    "\n",
    "df[['age','bfp']].plot(kind='scatter',x='age',y='bfp')\n",
    "plt.plot(x,y,color='r',ls='--')"
   ]
  },
  {
   "cell_type": "code",
   "execution_count": 123,
   "metadata": {
    "hidden": true
   },
   "outputs": [
    {
     "name": "stdout",
     "output_type": "stream",
     "text": [
      "ALL DATA\n",
      "- r squared = 0.627\n",
      "- Best fit line = 0.548x + 3.233\n",
      "- T statistic = 5.190\n",
      "- p value = 0.0001\n",
      "- Confidence interval = (0.324,0.772)\n"
     ]
    }
   ],
   "source": [
    "print('ALL DATA')\n",
    "print(f'- r squared = {lm.rsquared:.3f}')\n",
    "print(f'- Best fit line = {lm.params[\"age\"]:.3f}x + {lm.params[\"constant\"]:.3f}')\n",
    "print(f'- T statistic = {lm.tvalues[\"age\"]:.3f}')\n",
    "print(f'- p value = {lm.pvalues[\"age\"]:.4f}')\n",
    "print(f'- Confidence interval = ({lm.conf_int().loc[\"age\",0]:.3f},{lm.conf_int().loc[\"age\",1]:.3f})')"
   ]
  },
  {
   "cell_type": "code",
   "execution_count": 117,
   "metadata": {
    "hidden": true
   },
   "outputs": [
    {
     "data": {
      "text/plain": [
       "<matplotlib.collections.LineCollection at 0x7f72d5da4790>"
      ]
     },
     "execution_count": 117,
     "metadata": {},
     "output_type": "execute_result"
    },
    {
     "data": {
      "image/png": "[encoded data removed]",
      "text/plain": [
       "<Figure size 432x288 with 1 Axes>"
      ]
     },
     "metadata": {
      "needs_background": "light"
     },
     "output_type": "display_data"
    }
   ],
   "source": [
    "# Testing homeoscedasticity \n",
    "fitted_points = df.age*lm.params['age']+lm.params['constant']\n",
    "plt.scatter(fitted_points,lm.resid)\n",
    "plt.hlines(y=0,xmin=fitted_points.min(),xmax=fitted_points.max(),color='r',ls='--')"
   ]
  },
  {
   "cell_type": "markdown",
   "metadata": {
    "hidden": true
   },
   "source": [
    "Variance seems to diminish with the $x$ axis"
   ]
  },
  {
   "cell_type": "code",
   "execution_count": 118,
   "metadata": {
    "hidden": true
   },
   "outputs": [
    {
     "data": {
      "text/plain": [
       "<matplotlib.collections.PathCollection at 0x7f72d5064610>"
      ]
     },
     "execution_count": 118,
     "metadata": {},
     "output_type": "execute_result"
    },
    {
     "data": {
      "image/png": "[encoded data removed]",
      "text/plain": [
       "<Figure size 432x288 with 1 Axes>"
      ]
     },
     "metadata": {
      "needs_background": "light"
     },
     "output_type": "display_data"
    }
   ],
   "source": [
    "# Testing normality\n",
    "values = np.concatenate([df.age,df.bfp])\n",
    "values.sort()\n",
    "scores = stats.norm.ppf(np.arange(1,values.shape[0]+1,1)/(values.shape[0]+1))\n",
    "\n",
    "plt.scatter(scores,values)"
   ]
  },
  {
   "cell_type": "markdown",
   "metadata": {
    "hidden": true
   },
   "source": [
    "Data does appear to be approximately normal"
   ]
  },
  {
   "cell_type": "markdown",
   "metadata": {
    "hidden": true
   },
   "source": [
    "Females only"
   ]
  },
  {
   "cell_type": "code",
   "execution_count": 124,
   "metadata": {
    "hidden": true,
    "scrolled": true
   },
   "outputs": [
    {
     "name": "stdout",
     "output_type": "stream",
     "text": [
      "FEMALE ONLY DATA\n",
      "- r squared = 0.257\n",
      "- Best fit line = 0.240x + 20.112\n",
      "- T statistic = 2.035\n",
      "- p value = 0.0645\n",
      "- Confidence interval = (-0.017,0.497)\n"
     ]
    },
    {
     "data": {
      "image/png": "[encoded data removed]",
      "text/plain": [
       "<Figure size 432x288 with 1 Axes>"
      ]
     },
     "metadata": {
      "needs_background": "light"
     },
     "output_type": "display_data"
    }
   ],
   "source": [
    "df = df[df.gender==0]\n",
    "\n",
    "lm = sm.OLS(df['bfp'],df[['constant','age']]).fit()\n",
    "\n",
    "x = np.linspace(df.age.min(),df.age.max())\n",
    "y = x*lm.params['age'] + lm.params['constant']\n",
    "\n",
    "df[['age','bfp']].plot(kind='scatter',x='age',y='bfp')\n",
    "plt.plot(x,y,color='r',ls='--')\n",
    "\n",
    "print('FEMALE ONLY DATA')\n",
    "print(f'- r squared = {lm.rsquared:.3f}')\n",
    "print(f'- Best fit line = {lm.params[\"age\"]:.3f}x + {lm.params[\"constant\"]:.3f}')\n",
    "print(f'- T statistic = {lm.tvalues[\"age\"]:.3f}')\n",
    "print(f'- p value = {lm.pvalues[\"age\"]:.4f}')\n",
    "print(f'- Confidence interval = ({lm.conf_int().loc[\"age\",0]:.3f},{lm.conf_int().loc[\"age\",1]:.3f})')"
   ]
  },
  {
   "cell_type": "markdown",
   "metadata": {
    "hidden": true
   },
   "source": [
    "When investingating female only there are two outliers that are skewing the data."
   ]
  },
  {
   "cell_type": "code",
   "execution_count": 125,
   "metadata": {
    "hidden": true
   },
   "outputs": [
    {
     "name": "stdout",
     "output_type": "stream",
     "text": [
      "FEMALE ONLY DATA\n",
      "- r squared = 0.318\n",
      "- Best fit line = 0.167x + 22.459\n",
      "- T statistic = 2.158\n",
      "- p value = 0.0563\n",
      "- Confidence interval = (-0.005,0.339)\n"
     ]
    },
    {
     "data": {
      "image/png": "[encoded data removed]",
      "text/plain": [
       "<Figure size 432x288 with 1 Axes>"
      ]
     },
     "metadata": {
      "needs_background": "light"
     },
     "output_type": "display_data"
    }
   ],
   "source": [
    "df = df[df.bfp<40]\n",
    "lm = sm.OLS(df['bfp'],df[['constant','age']]).fit()\n",
    "\n",
    "x = np.linspace(df.age.min(),df.age.max())\n",
    "y = x*lm.params['age'] + lm.params['constant']\n",
    "\n",
    "df[['age','bfp']].plot(kind='scatter',x='age',y='bfp')\n",
    "plt.plot(x,y,color='r',ls='--')\n",
    "\n",
    "print('FEMALE ONLY DATA')\n",
    "print(f'- r squared = {lm.rsquared:.3f}')\n",
    "print(f'- Best fit line = {lm.params[\"age\"]:.3f}x + {lm.params[\"constant\"]:.3f}')\n",
    "print(f'- T statistic = {lm.tvalues[\"age\"]:.3f}')\n",
    "print(f'- p value = {lm.pvalues[\"age\"]:.4f}')\n",
    "print(f'- Confidence interval = ({lm.conf_int().loc[\"age\",0]:.3f},{lm.conf_int().loc[\"age\",1]:.3f})')"
   ]
  },
  {
   "cell_type": "markdown",
   "metadata": {
    "hidden": true
   },
   "source": [
    "Removing the outliers sees a small improvement but we fail to reject the null hypothesis that $\\beta=0$"
   ]
  },
  {
   "cell_type": "markdown",
   "metadata": {
    "heading_collapsed": true
   },
   "source": [
    "### Problem 5"
   ]
  },
  {
   "cell_type": "markdown",
   "metadata": {
    "hidden": true
   },
   "source": [
    "The following data (provided by Dr Eileen Gallery from Royal North Shore Hospital in Sydney) comprise the estimates of foetal weight (in grams) at successive visits by a pregnant woman to a clinic and the actual birth weight at 40 weeks. Fit a linear model to the data for the five visits, and compare the predicted value given by this model with the birth weight. Do you think it is possible, based on the model, to give a confidence interval for the birth weight? "
   ]
  },
  {
   "cell_type": "code",
   "execution_count": 146,
   "metadata": {
    "hidden": true
   },
   "outputs": [
    {
     "data": {
      "text/plain": [
       "<matplotlib.collections.PathCollection at 0x7f72d4cdcf50>"
      ]
     },
     "execution_count": 146,
     "metadata": {},
     "output_type": "execute_result"
    },
    {
     "data": {
      "image/png": "[encoded data removed]",
      "text/plain": [
       "<Figure size 432x288 with 1 Axes>"
      ]
     },
     "metadata": {
      "needs_background": "light"
     },
     "output_type": "display_data"
    }
   ],
   "source": [
    "week = np.array([20,24,30,34,36])\n",
    "grams = np.array([460,980,2000,2500,3000])\n",
    "df = pd.DataFrame({'week':week,'grams':grams,'constant':np.ones(len(week))})\n",
    "\n",
    "plt.scatter(week,grams)"
   ]
  },
  {
   "cell_type": "code",
   "execution_count": 147,
   "metadata": {
    "hidden": true
   },
   "outputs": [],
   "source": [
    "lm = sm.OLS(df['grams'],df[['constant','week']]).fit()"
   ]
  },
  {
   "cell_type": "code",
   "execution_count": 148,
   "metadata": {
    "hidden": true
   },
   "outputs": [
    {
     "name": "stderr",
     "output_type": "stream",
     "text": [
      "/home/adgb/anaconda3/lib/python3.7/site-packages/statsmodels/stats/stattools.py:71: ValueWarning: omni_normtest is not valid with less than 8 observations; 5 samples were given.\n",
      "  \"samples were given.\" % int(n), ValueWarning)\n"
     ]
    },
    {
     "data": {
      "text/html": [
       "<table class=\"simpletable\">\n",
       "<caption>OLS Regression Results</caption>\n",
       "<tr>\n",
       "  <th>Dep. Variable:</th>          <td>grams</td>      <th>  R-squared:         </th> <td>   0.995</td>\n",
       "</tr>\n",
       "<tr>\n",
       "  <th>Model:</th>                   <td>OLS</td>       <th>  Adj. R-squared:    </th> <td>   0.993</td>\n",
       "</tr>\n",
       "<tr>\n",
       "  <th>Method:</th>             <td>Least Squares</td>  <th>  F-statistic:       </th> <td>   555.3</td>\n",
       "</tr>\n",
       "<tr>\n",
       "  <th>Date:</th>             <td>Sun, 24 May 2020</td> <th>  Prob (F-statistic):</th> <td>0.000167</td>\n",
       "</tr>\n",
       "<tr>\n",
       "  <th>Time:</th>                 <td>16:13:08</td>     <th>  Log-Likelihood:    </th> <td> -28.269</td>\n",
       "</tr>\n",
       "<tr>\n",
       "  <th>No. Observations:</th>      <td>     5</td>      <th>  AIC:               </th> <td>   60.54</td>\n",
       "</tr>\n",
       "<tr>\n",
       "  <th>Df Residuals:</th>          <td>     3</td>      <th>  BIC:               </th> <td>   59.76</td>\n",
       "</tr>\n",
       "<tr>\n",
       "  <th>Df Model:</th>              <td>     1</td>      <th>                     </th>     <td> </td>   \n",
       "</tr>\n",
       "<tr>\n",
       "  <th>Covariance Type:</th>      <td>nonrobust</td>    <th>                     </th>     <td> </td>   \n",
       "</tr>\n",
       "</table>\n",
       "<table class=\"simpletable\">\n",
       "<tr>\n",
       "      <td></td>        <th>coef</th>     <th>std err</th>      <th>t</th>      <th>P>|t|</th>  <th>[0.025</th>    <th>0.975]</th>  \n",
       "</tr>\n",
       "<tr>\n",
       "  <th>constant</th> <td>-2711.6814</td> <td>  195.063</td> <td>  -13.902</td> <td> 0.001</td> <td>-3332.458</td> <td>-2090.904</td>\n",
       "</tr>\n",
       "<tr>\n",
       "  <th>week</th>     <td>  156.2389</td> <td>    6.630</td> <td>   23.565</td> <td> 0.000</td> <td>  135.139</td> <td>  177.339</td>\n",
       "</tr>\n",
       "</table>\n",
       "<table class=\"simpletable\">\n",
       "<tr>\n",
       "  <th>Omnibus:</th>       <td>   nan</td> <th>  Durbin-Watson:     </th> <td>   2.878</td>\n",
       "</tr>\n",
       "<tr>\n",
       "  <th>Prob(Omnibus):</th> <td>   nan</td> <th>  Jarque-Bera (JB):  </th> <td>   0.497</td>\n",
       "</tr>\n",
       "<tr>\n",
       "  <th>Skew:</th>          <td>-0.262</td> <th>  Prob(JB):          </th> <td>   0.780</td>\n",
       "</tr>\n",
       "<tr>\n",
       "  <th>Kurtosis:</th>      <td> 1.547</td> <th>  Cond. No.          </th> <td>    144.</td>\n",
       "</tr>\n",
       "</table><br/><br/>Warnings:<br/>[1] Standard Errors assume that the covariance matrix of the errors is correctly specified."
      ],
      "text/plain": [
       "<class 'statsmodels.iolib.summary.Summary'>\n",
       "\"\"\"\n",
       "                            OLS Regression Results                            \n",
       "==============================================================================\n",
       "Dep. Variable:                  grams   R-squared:                       0.995\n",
       "Model:                            OLS   Adj. R-squared:                  0.993\n",
       "Method:                 Least Squares   F-statistic:                     555.3\n",
       "Date:                Sun, 24 May 2020   Prob (F-statistic):           0.000167\n",
       "Time:                        16:13:08   Log-Likelihood:                -28.269\n",
       "No. Observations:                   5   AIC:                             60.54\n",
       "Df Residuals:                       3   BIC:                             59.76\n",
       "Df Model:                           1                                         \n",
       "Covariance Type:            nonrobust                                         \n",
       "==============================================================================\n",
       "                 coef    std err          t      P>|t|      [0.025      0.975]\n",
       "------------------------------------------------------------------------------\n",
       "constant   -2711.6814    195.063    -13.902      0.001   -3332.458   -2090.904\n",
       "week         156.2389      6.630     23.565      0.000     135.139     177.339\n",
       "==============================================================================\n",
       "Omnibus:                          nan   Durbin-Watson:                   2.878\n",
       "Prob(Omnibus):                    nan   Jarque-Bera (JB):                0.497\n",
       "Skew:                          -0.262   Prob(JB):                        0.780\n",
       "Kurtosis:                       1.547   Cond. No.                         144.\n",
       "==============================================================================\n",
       "\n",
       "Warnings:\n",
       "[1] Standard Errors assume that the covariance matrix of the errors is correctly specified.\n",
       "\"\"\""
      ]
     },
     "execution_count": 148,
     "metadata": {},
     "output_type": "execute_result"
    }
   ],
   "source": [
    "lm.summary()"
   ]
  },
  {
   "cell_type": "markdown",
   "metadata": {
    "hidden": true
   },
   "source": [
    "It wouldn't be reasonable given that the value is outside the bounds of the data."
   ]
  },
  {
   "cell_type": "markdown",
   "metadata": {
    "heading_collapsed": true
   },
   "source": [
    "### Problem 6"
   ]
  },
  {
   "cell_type": "markdown",
   "metadata": {
    "hidden": true
   },
   "source": [
    "An experiment was conducted by Atwell (1991) to determine factors that affect the growth of grain legumes. Varieties of lupins and peas were grown in the field for 43 days on a solonised brown soil. During the course of the study the following air-filled porosity percentages were recorded at various depths below the soil surface. "
   ]
  },
  {
   "cell_type": "code",
   "execution_count": 192,
   "metadata": {
    "hidden": true
   },
   "outputs": [
    {
     "data": {
      "text/html": [
       "<div>\n",
       "<style scoped>\n",
       "    .dataframe tbody tr th:only-of-type {\n",
       "        vertical-align: middle;\n",
       "    }\n",
       "\n",
       "    .dataframe tbody tr th {\n",
       "        vertical-align: top;\n",
       "    }\n",
       "\n",
       "    .dataframe thead th {\n",
       "        text-align: right;\n",
       "    }\n",
       "</style>\n",
       "<table border=\"1\" class=\"dataframe\">\n",
       "  <thead>\n",
       "    <tr style=\"text-align: right;\">\n",
       "      <th></th>\n",
       "      <th>depth</th>\n",
       "      <th>d22</th>\n",
       "      <th>d29</th>\n",
       "      <th>d36</th>\n",
       "      <th>d43</th>\n",
       "      <th>constant</th>\n",
       "    </tr>\n",
       "  </thead>\n",
       "  <tbody>\n",
       "    <tr>\n",
       "      <th>0</th>\n",
       "      <td>5</td>\n",
       "      <td>23</td>\n",
       "      <td>25</td>\n",
       "      <td>21</td>\n",
       "      <td>17</td>\n",
       "      <td>1</td>\n",
       "    </tr>\n",
       "    <tr>\n",
       "      <th>1</th>\n",
       "      <td>12</td>\n",
       "      <td>19</td>\n",
       "      <td>17</td>\n",
       "      <td>20</td>\n",
       "      <td>15</td>\n",
       "      <td>1</td>\n",
       "    </tr>\n",
       "    <tr>\n",
       "      <th>2</th>\n",
       "      <td>20</td>\n",
       "      <td>15</td>\n",
       "      <td>14</td>\n",
       "      <td>24</td>\n",
       "      <td>16</td>\n",
       "      <td>1</td>\n",
       "    </tr>\n",
       "    <tr>\n",
       "      <th>3</th>\n",
       "      <td>28</td>\n",
       "      <td>17</td>\n",
       "      <td>14</td>\n",
       "      <td>24</td>\n",
       "      <td>15</td>\n",
       "      <td>1</td>\n",
       "    </tr>\n",
       "    <tr>\n",
       "      <th>4</th>\n",
       "      <td>36</td>\n",
       "      <td>31</td>\n",
       "      <td>13</td>\n",
       "      <td>16</td>\n",
       "      <td>20</td>\n",
       "      <td>1</td>\n",
       "    </tr>\n",
       "  </tbody>\n",
       "</table>\n",
       "</div>"
      ],
      "text/plain": [
       "   depth  d22  d29  d36  d43  constant\n",
       "0      5   23   25   21   17         1\n",
       "1     12   19   17   20   15         1\n",
       "2     20   15   14   24   16         1\n",
       "3     28   17   14   24   15         1\n",
       "4     36   31   13   16   20         1"
      ]
     },
     "execution_count": 192,
     "metadata": {},
     "output_type": "execute_result"
    }
   ],
   "source": [
    "data = np.array([[5,12,20,28,36],[23,19,15,17,31],\n",
    "                 [25,17,14,14,13],[21,20,24,24,16],\n",
    "                 [17,15,16,15,20],[1,1,1,1,1]]).T\n",
    "df = pd.DataFrame(data,columns=['depth','d22','d29','d36','d43',\n",
    "                                'constant'])\n",
    "df"
   ]
  },
  {
   "cell_type": "markdown",
   "metadata": {
    "hidden": true
   },
   "source": [
    " a. Draw a scatter plot of the data relating air-filled porosity at 43 days to the porosity at 22 days, and comment on its appearance."
   ]
  },
  {
   "cell_type": "code",
   "execution_count": 176,
   "metadata": {
    "hidden": true
   },
   "outputs": [
    {
     "data": {
      "text/plain": [
       "<matplotlib.axes._subplots.AxesSubplot at 0x7f72d49a2050>"
      ]
     },
     "execution_count": 176,
     "metadata": {},
     "output_type": "execute_result"
    },
    {
     "data": {
      "image/png": "[encoded data removed]",
      "text/plain": [
       "<Figure size 432x288 with 1 Axes>"
      ]
     },
     "metadata": {
      "needs_background": "light"
     },
     "output_type": "display_data"
    }
   ],
   "source": [
    "df[['d43','d22']].plot(kind='scatter',x='d22',y='d43')"
   ]
  },
  {
   "cell_type": "markdown",
   "metadata": {
    "hidden": true
   },
   "source": [
    "There doesn't appear to be much relation and there appears to be an outlier"
   ]
  },
  {
   "cell_type": "markdown",
   "metadata": {
    "hidden": true
   },
   "source": [
    "b. Compute the least-squares regression line relating the porosity at 43 days to that at 22 days, and give a measure of the strength of this relation."
   ]
  },
  {
   "cell_type": "code",
   "execution_count": 177,
   "metadata": {
    "hidden": true
   },
   "outputs": [
    {
     "name": "stderr",
     "output_type": "stream",
     "text": [
      "/home/adgb/anaconda3/lib/python3.7/site-packages/statsmodels/stats/stattools.py:71: ValueWarning: omni_normtest is not valid with less than 8 observations; 5 samples were given.\n",
      "  \"samples were given.\" % int(n), ValueWarning)\n"
     ]
    },
    {
     "data": {
      "text/html": [
       "<table class=\"simpletable\">\n",
       "<caption>OLS Regression Results</caption>\n",
       "<tr>\n",
       "  <th>Dep. Variable:</th>           <td>d43</td>       <th>  R-squared:         </th> <td>   0.837</td>\n",
       "</tr>\n",
       "<tr>\n",
       "  <th>Model:</th>                   <td>OLS</td>       <th>  Adj. R-squared:    </th> <td>   0.783</td>\n",
       "</tr>\n",
       "<tr>\n",
       "  <th>Method:</th>             <td>Least Squares</td>  <th>  F-statistic:       </th> <td>   15.43</td>\n",
       "</tr>\n",
       "<tr>\n",
       "  <th>Date:</th>             <td>Sun, 24 May 2020</td> <th>  Prob (F-statistic):</th>  <td>0.0294</td> \n",
       "</tr>\n",
       "<tr>\n",
       "  <th>Time:</th>                 <td>18:05:56</td>     <th>  Log-Likelihood:    </th> <td> -5.6451</td>\n",
       "</tr>\n",
       "<tr>\n",
       "  <th>No. Observations:</th>      <td>     5</td>      <th>  AIC:               </th> <td>   15.29</td>\n",
       "</tr>\n",
       "<tr>\n",
       "  <th>Df Residuals:</th>          <td>     3</td>      <th>  BIC:               </th> <td>   14.51</td>\n",
       "</tr>\n",
       "<tr>\n",
       "  <th>Df Model:</th>              <td>     1</td>      <th>                     </th>     <td> </td>   \n",
       "</tr>\n",
       "<tr>\n",
       "  <th>Covariance Type:</th>      <td>nonrobust</td>    <th>                     </th>     <td> </td>   \n",
       "</tr>\n",
       "</table>\n",
       "<table class=\"simpletable\">\n",
       "<tr>\n",
       "      <td></td>        <th>coef</th>     <th>std err</th>      <th>t</th>      <th>P>|t|</th>  <th>[0.025</th>    <th>0.975]</th>  \n",
       "</tr>\n",
       "<tr>\n",
       "  <th>constant</th> <td>   10.3000</td> <td>    1.661</td> <td>    6.201</td> <td> 0.008</td> <td>    5.014</td> <td>   15.586</td>\n",
       "</tr>\n",
       "<tr>\n",
       "  <th>d22</th>      <td>    0.3000</td> <td>    0.076</td> <td>    3.928</td> <td> 0.029</td> <td>    0.057</td> <td>    0.543</td>\n",
       "</tr>\n",
       "</table>\n",
       "<table class=\"simpletable\">\n",
       "<tr>\n",
       "  <th>Omnibus:</th>       <td>   nan</td> <th>  Durbin-Watson:     </th> <td>   3.100</td>\n",
       "</tr>\n",
       "<tr>\n",
       "  <th>Prob(Omnibus):</th> <td>   nan</td> <th>  Jarque-Bera (JB):  </th> <td>   0.309</td>\n",
       "</tr>\n",
       "<tr>\n",
       "  <th>Skew:</th>          <td> 0.344</td> <th>  Prob(JB):          </th> <td>   0.857</td>\n",
       "</tr>\n",
       "<tr>\n",
       "  <th>Kurtosis:</th>      <td> 1.994</td> <th>  Cond. No.          </th> <td>    83.8</td>\n",
       "</tr>\n",
       "</table><br/><br/>Warnings:<br/>[1] Standard Errors assume that the covariance matrix of the errors is correctly specified."
      ],
      "text/plain": [
       "<class 'statsmodels.iolib.summary.Summary'>\n",
       "\"\"\"\n",
       "                            OLS Regression Results                            \n",
       "==============================================================================\n",
       "Dep. Variable:                    d43   R-squared:                       0.837\n",
       "Model:                            OLS   Adj. R-squared:                  0.783\n",
       "Method:                 Least Squares   F-statistic:                     15.43\n",
       "Date:                Sun, 24 May 2020   Prob (F-statistic):             0.0294\n",
       "Time:                        18:05:56   Log-Likelihood:                -5.6451\n",
       "No. Observations:                   5   AIC:                             15.29\n",
       "Df Residuals:                       3   BIC:                             14.51\n",
       "Df Model:                           1                                         \n",
       "Covariance Type:            nonrobust                                         \n",
       "==============================================================================\n",
       "                 coef    std err          t      P>|t|      [0.025      0.975]\n",
       "------------------------------------------------------------------------------\n",
       "constant      10.3000      1.661      6.201      0.008       5.014      15.586\n",
       "d22            0.3000      0.076      3.928      0.029       0.057       0.543\n",
       "==============================================================================\n",
       "Omnibus:                          nan   Durbin-Watson:                   3.100\n",
       "Prob(Omnibus):                    nan   Jarque-Bera (JB):                0.309\n",
       "Skew:                           0.344   Prob(JB):                        0.857\n",
       "Kurtosis:                       1.994   Cond. No.                         83.8\n",
       "==============================================================================\n",
       "\n",
       "Warnings:\n",
       "[1] Standard Errors assume that the covariance matrix of the errors is correctly specified.\n",
       "\"\"\""
      ]
     },
     "execution_count": 177,
     "metadata": {},
     "output_type": "execute_result"
    }
   ],
   "source": [
    "lm = sm.OLS(df['d43'],df[['constant','d22']]).fit()\n",
    "lm.summary()"
   ]
  },
  {
   "cell_type": "markdown",
   "metadata": {
    "hidden": true
   },
   "source": [
    "There is a strong positive relation according to the linear model"
   ]
  },
  {
   "cell_type": "markdown",
   "metadata": {
    "hidden": true
   },
   "source": [
    "c. Is knowing the porosity at 22 days useful for predicting it at 43 days? Perform an appropriate statistical test to answer this question."
   ]
  },
  {
   "cell_type": "markdown",
   "metadata": {
    "hidden": true
   },
   "source": [
    "$H_0: \\beta = 0$ Given a p value of 0.029 we can reject the null hypothesis. There appears to be a positive relation."
   ]
  },
  {
   "cell_type": "markdown",
   "metadata": {
    "hidden": true
   },
   "source": [
    "d. Looking at the whole set of data, do you think that the depth below the surface affects the outcome? Give reasons for your answer."
   ]
  },
  {
   "cell_type": "code",
   "execution_count": 180,
   "metadata": {
    "hidden": true
   },
   "outputs": [
    {
     "data": {
      "text/plain": [
       "Index(['d22', 'd29', 'd36', 'd43', 'constant'], dtype='object')"
      ]
     },
     "execution_count": 180,
     "metadata": {},
     "output_type": "execute_result"
    }
   ],
   "source": [
    "df.columns"
   ]
  },
  {
   "cell_type": "code",
   "execution_count": 193,
   "metadata": {
    "hidden": true
   },
   "outputs": [
    {
     "data": {
      "image/png": "[encoded data removed]",
      "text/plain": [
       "<Figure size 432x288 with 1 Axes>"
      ]
     },
     "metadata": {
      "needs_background": "light"
     },
     "output_type": "display_data"
    }
   ],
   "source": [
    "plt.boxplot(df[['d22','d29','d36','d43']],\n",
    "            labels=df['depth']);"
   ]
  },
  {
   "cell_type": "markdown",
   "metadata": {
    "hidden": true
   },
   "source": [
    "It looks like the variability increases as the depth increases. The percentage of oxigen decreases at 20cm  and increases at lower and larger depths."
   ]
  },
  {
   "cell_type": "markdown",
   "metadata": {
    "hidden": true
   },
   "source": [
    "e. Assuming that the depth below the surface does not affect the outcome, investigate the overall relation between the outcome and the time after sowing. "
   ]
  },
  {
   "cell_type": "code",
   "execution_count": 199,
   "metadata": {
    "hidden": true
   },
   "outputs": [
    {
     "data": {
      "text/html": [
       "<div>\n",
       "<style scoped>\n",
       "    .dataframe tbody tr th:only-of-type {\n",
       "        vertical-align: middle;\n",
       "    }\n",
       "\n",
       "    .dataframe tbody tr th {\n",
       "        vertical-align: top;\n",
       "    }\n",
       "\n",
       "    .dataframe thead th {\n",
       "        text-align: right;\n",
       "    }\n",
       "</style>\n",
       "<table border=\"1\" class=\"dataframe\">\n",
       "  <thead>\n",
       "    <tr style=\"text-align: right;\">\n",
       "      <th></th>\n",
       "      <th>depth</th>\n",
       "      <th>variable</th>\n",
       "      <th>value</th>\n",
       "    </tr>\n",
       "  </thead>\n",
       "  <tbody>\n",
       "    <tr>\n",
       "      <th>4</th>\n",
       "      <td>36</td>\n",
       "      <td>d22</td>\n",
       "      <td>31</td>\n",
       "    </tr>\n",
       "    <tr>\n",
       "      <th>15</th>\n",
       "      <td>5</td>\n",
       "      <td>d43</td>\n",
       "      <td>17</td>\n",
       "    </tr>\n",
       "    <tr>\n",
       "      <th>17</th>\n",
       "      <td>20</td>\n",
       "      <td>d43</td>\n",
       "      <td>16</td>\n",
       "    </tr>\n",
       "    <tr>\n",
       "      <th>0</th>\n",
       "      <td>5</td>\n",
       "      <td>d22</td>\n",
       "      <td>23</td>\n",
       "    </tr>\n",
       "    <tr>\n",
       "      <th>10</th>\n",
       "      <td>5</td>\n",
       "      <td>d36</td>\n",
       "      <td>21</td>\n",
       "    </tr>\n",
       "  </tbody>\n",
       "</table>\n",
       "</div>"
      ],
      "text/plain": [
       "    depth variable  value\n",
       "4      36      d22     31\n",
       "15      5      d43     17\n",
       "17     20      d43     16\n",
       "0       5      d22     23\n",
       "10      5      d36     21"
      ]
     },
     "execution_count": 199,
     "metadata": {},
     "output_type": "execute_result"
    }
   ],
   "source": [
    "df_long = pd.melt(df, id_vars=['depth'],value_vars=['d22','d29','d36','d43'])\n",
    "df_long.sample(5)"
   ]
  },
  {
   "cell_type": "code",
   "execution_count": 203,
   "metadata": {
    "hidden": true
   },
   "outputs": [
    {
     "data": {
      "text/plain": [
       "[<matplotlib.lines.Line2D at 0x7f72d6ba8410>]"
      ]
     },
     "execution_count": 203,
     "metadata": {},
     "output_type": "execute_result"
    },
    {
     "data": {
      "image/png": "[encoded data removed]",
      "text/plain": [
       "<Figure size 432x288 with 1 Axes>"
      ]
     },
     "metadata": {
      "needs_background": "light"
     },
     "output_type": "display_data"
    }
   ],
   "source": [
    "df_long['constant'] = 1.0\n",
    "lm = sm.OLS(df_long['value'],df_long[['constant','depth']]).fit()\n",
    "\n",
    "x = np.linspace(df_long['depth'].min(),df_long['depth'].max())\n",
    "y = x * lm.params['depth'] + lm.params['constant']\n",
    "\n",
    "df_long[['depth','value']].plot(kind='scatter',x='depth',y='value')\n",
    "plt.plot(x,y,color='r',ls='--')"
   ]
  },
  {
   "cell_type": "code",
   "execution_count": 204,
   "metadata": {
    "hidden": true
   },
   "outputs": [
    {
     "data": {
      "text/html": [
       "<table class=\"simpletable\">\n",
       "<caption>OLS Regression Results</caption>\n",
       "<tr>\n",
       "  <th>Dep. Variable:</th>          <td>value</td>      <th>  R-squared:         </th> <td>   0.009</td>\n",
       "</tr>\n",
       "<tr>\n",
       "  <th>Model:</th>                   <td>OLS</td>       <th>  Adj. R-squared:    </th> <td>  -0.046</td>\n",
       "</tr>\n",
       "<tr>\n",
       "  <th>Method:</th>             <td>Least Squares</td>  <th>  F-statistic:       </th> <td>  0.1560</td>\n",
       "</tr>\n",
       "<tr>\n",
       "  <th>Date:</th>             <td>Sun, 24 May 2020</td> <th>  Prob (F-statistic):</th>  <td> 0.698</td> \n",
       "</tr>\n",
       "<tr>\n",
       "  <th>Time:</th>                 <td>18:40:29</td>     <th>  Log-Likelihood:    </th> <td> -58.623</td>\n",
       "</tr>\n",
       "<tr>\n",
       "  <th>No. Observations:</th>      <td>    20</td>      <th>  AIC:               </th> <td>   121.2</td>\n",
       "</tr>\n",
       "<tr>\n",
       "  <th>Df Residuals:</th>          <td>    18</td>      <th>  BIC:               </th> <td>   123.2</td>\n",
       "</tr>\n",
       "<tr>\n",
       "  <th>Df Model:</th>              <td>     1</td>      <th>                     </th>     <td> </td>   \n",
       "</tr>\n",
       "<tr>\n",
       "  <th>Covariance Type:</th>      <td>nonrobust</td>    <th>                     </th>     <td> </td>   \n",
       "</tr>\n",
       "</table>\n",
       "<table class=\"simpletable\">\n",
       "<tr>\n",
       "      <td></td>        <th>coef</th>     <th>std err</th>      <th>t</th>      <th>P>|t|</th>  <th>[0.025</th>    <th>0.975]</th>  \n",
       "</tr>\n",
       "<tr>\n",
       "  <th>constant</th> <td>   19.5731</td> <td>    2.231</td> <td>    8.775</td> <td> 0.000</td> <td>   14.887</td> <td>   24.259</td>\n",
       "</tr>\n",
       "<tr>\n",
       "  <th>depth</th>    <td>   -0.0383</td> <td>    0.097</td> <td>   -0.395</td> <td> 0.698</td> <td>   -0.242</td> <td>    0.165</td>\n",
       "</tr>\n",
       "</table>\n",
       "<table class=\"simpletable\">\n",
       "<tr>\n",
       "  <th>Omnibus:</th>       <td> 7.030</td> <th>  Durbin-Watson:     </th> <td>   1.251</td>\n",
       "</tr>\n",
       "<tr>\n",
       "  <th>Prob(Omnibus):</th> <td> 0.030</td> <th>  Jarque-Bera (JB):  </th> <td>   4.633</td>\n",
       "</tr>\n",
       "<tr>\n",
       "  <th>Skew:</th>          <td> 1.109</td> <th>  Prob(JB):          </th> <td>  0.0986</td>\n",
       "</tr>\n",
       "<tr>\n",
       "  <th>Kurtosis:</th>      <td> 3.797</td> <th>  Cond. No.          </th> <td>    48.1</td>\n",
       "</tr>\n",
       "</table><br/><br/>Warnings:<br/>[1] Standard Errors assume that the covariance matrix of the errors is correctly specified."
      ],
      "text/plain": [
       "<class 'statsmodels.iolib.summary.Summary'>\n",
       "\"\"\"\n",
       "                            OLS Regression Results                            \n",
       "==============================================================================\n",
       "Dep. Variable:                  value   R-squared:                       0.009\n",
       "Model:                            OLS   Adj. R-squared:                 -0.046\n",
       "Method:                 Least Squares   F-statistic:                    0.1560\n",
       "Date:                Sun, 24 May 2020   Prob (F-statistic):              0.698\n",
       "Time:                        18:40:29   Log-Likelihood:                -58.623\n",
       "No. Observations:                  20   AIC:                             121.2\n",
       "Df Residuals:                      18   BIC:                             123.2\n",
       "Df Model:                           1                                         \n",
       "Covariance Type:            nonrobust                                         \n",
       "==============================================================================\n",
       "                 coef    std err          t      P>|t|      [0.025      0.975]\n",
       "------------------------------------------------------------------------------\n",
       "constant      19.5731      2.231      8.775      0.000      14.887      24.259\n",
       "depth         -0.0383      0.097     -0.395      0.698      -0.242       0.165\n",
       "==============================================================================\n",
       "Omnibus:                        7.030   Durbin-Watson:                   1.251\n",
       "Prob(Omnibus):                  0.030   Jarque-Bera (JB):                4.633\n",
       "Skew:                           1.109   Prob(JB):                       0.0986\n",
       "Kurtosis:                       3.797   Cond. No.                         48.1\n",
       "==============================================================================\n",
       "\n",
       "Warnings:\n",
       "[1] Standard Errors assume that the covariance matrix of the errors is correctly specified.\n",
       "\"\"\""
      ]
     },
     "execution_count": 204,
     "metadata": {},
     "output_type": "execute_result"
    }
   ],
   "source": [
    "lm.summary()"
   ]
  },
  {
   "cell_type": "markdown",
   "metadata": {
    "hidden": true
   },
   "source": [
    "There isn't a strong relation between the time after sowing and the outcome. There is a very small negative relation and the model only explains 0.9% of the variability."
   ]
  },
  {
   "cell_type": "markdown",
   "metadata": {
    "heading_collapsed": true
   },
   "source": [
    "### Problem 7"
   ]
  },
  {
   "cell_type": "markdown",
   "metadata": {
    "hidden": true
   },
   "source": [
    "The Mooney Problem Checklist (MPCL) comprises 330 items classified into 11 problem areas, and highlights the nature of personal problems and their relation to self-esteem. In a study by Harper & Marshall (1991), the MPCL was administered to 201 adolescents (101 girls and 100 boys) from four secondary co- educational schools in the Sydney metropolitan area, and the following average scores were obtained. "
   ]
  },
  {
   "cell_type": "code",
   "execution_count": 205,
   "metadata": {
    "hidden": true
   },
   "outputs": [
    {
     "data": {
      "text/html": [
       "<div>\n",
       "<style scoped>\n",
       "    .dataframe tbody tr th:only-of-type {\n",
       "        vertical-align: middle;\n",
       "    }\n",
       "\n",
       "    .dataframe tbody tr th {\n",
       "        vertical-align: top;\n",
       "    }\n",
       "\n",
       "    .dataframe thead th {\n",
       "        text-align: right;\n",
       "    }\n",
       "</style>\n",
       "<table border=\"1\" class=\"dataframe\">\n",
       "  <thead>\n",
       "    <tr style=\"text-align: right;\">\n",
       "      <th></th>\n",
       "      <th>mpcl_problem_area</th>\n",
       "      <th>girls</th>\n",
       "      <th>boys</th>\n",
       "      <th>constant</th>\n",
       "    </tr>\n",
       "  </thead>\n",
       "  <tbody>\n",
       "    <tr>\n",
       "      <th>0</th>\n",
       "      <td>Health &amp; physical development</td>\n",
       "      <td>4.27</td>\n",
       "      <td>2.83</td>\n",
       "      <td>1.0</td>\n",
       "    </tr>\n",
       "    <tr>\n",
       "      <th>1</th>\n",
       "      <td>Finance, living conditions, employment</td>\n",
       "      <td>4.72</td>\n",
       "      <td>3.56</td>\n",
       "      <td>1.0</td>\n",
       "    </tr>\n",
       "    <tr>\n",
       "      <th>2</th>\n",
       "      <td>Social &amp; recreational activities</td>\n",
       "      <td>3.78</td>\n",
       "      <td>3.12</td>\n",
       "      <td>1.0</td>\n",
       "    </tr>\n",
       "    <tr>\n",
       "      <th>3</th>\n",
       "      <td>Courtship, sex &amp; marriage</td>\n",
       "      <td>4.57</td>\n",
       "      <td>3.27</td>\n",
       "      <td>1.0</td>\n",
       "    </tr>\n",
       "    <tr>\n",
       "      <th>4</th>\n",
       "      <td>Social psychological relationships</td>\n",
       "      <td>5.81</td>\n",
       "      <td>4.01</td>\n",
       "      <td>1.0</td>\n",
       "    </tr>\n",
       "    <tr>\n",
       "      <th>5</th>\n",
       "      <td>Personal psychological relationships</td>\n",
       "      <td>5.09</td>\n",
       "      <td>3.35</td>\n",
       "      <td>1.0</td>\n",
       "    </tr>\n",
       "    <tr>\n",
       "      <th>6</th>\n",
       "      <td>Morals &amp; religion</td>\n",
       "      <td>3.89</td>\n",
       "      <td>3.07</td>\n",
       "      <td>1.0</td>\n",
       "    </tr>\n",
       "    <tr>\n",
       "      <th>7</th>\n",
       "      <td>Home &amp; family</td>\n",
       "      <td>4.09</td>\n",
       "      <td>2.95</td>\n",
       "      <td>1.0</td>\n",
       "    </tr>\n",
       "    <tr>\n",
       "      <th>8</th>\n",
       "      <td>The future, vocational &amp; employment</td>\n",
       "      <td>3.54</td>\n",
       "      <td>2.93</td>\n",
       "      <td>1.0</td>\n",
       "    </tr>\n",
       "    <tr>\n",
       "      <th>9</th>\n",
       "      <td>Adjustment to school work</td>\n",
       "      <td>5.60</td>\n",
       "      <td>5.70</td>\n",
       "      <td>1.0</td>\n",
       "    </tr>\n",
       "    <tr>\n",
       "      <th>10</th>\n",
       "      <td>Curriculum &amp; teaching procedures</td>\n",
       "      <td>4.52</td>\n",
       "      <td>4.66</td>\n",
       "      <td>1.0</td>\n",
       "    </tr>\n",
       "  </tbody>\n",
       "</table>\n",
       "</div>"
      ],
      "text/plain": [
       "                         mpcl_problem_area  girls  boys  constant\n",
       "0            Health & physical development   4.27  2.83       1.0\n",
       "1   Finance, living conditions, employment   4.72  3.56       1.0\n",
       "2         Social & recreational activities   3.78  3.12       1.0\n",
       "3                Courtship, sex & marriage   4.57  3.27       1.0\n",
       "4       Social psychological relationships   5.81  4.01       1.0\n",
       "5     Personal psychological relationships   5.09  3.35       1.0\n",
       "6                        Morals & religion   3.89  3.07       1.0\n",
       "7                            Home & family   4.09  2.95       1.0\n",
       "8      The future, vocational & employment   3.54  2.93       1.0\n",
       "9                Adjustment to school work   5.60  5.70       1.0\n",
       "10        Curriculum & teaching procedures   4.52  4.66       1.0"
      ]
     },
     "execution_count": 205,
     "metadata": {},
     "output_type": "execute_result"
    }
   ],
   "source": [
    "mpcl_problem_are = 'Health & physical development|Finance, living conditions, employment|Social & recreational activities|Courtship, sex & marriage|Social psychological relationships|Personal psychological relationships|Morals & religion|Home & family|The future, vocational & employment|Adjustment to school work|Curriculum & teaching procedures'.split('|')\n",
    "girls = [4.27, 4.72, 3.78, 4.57, 5.81, 5.09, 3.89, 4.09, 3.54, 5.60, 4.52]\n",
    "boys = [2.83, 3.56, 3.12, 3.27, 4.01, 3.35, 3.07, 2.95, 2.93, 5.70, 4.66]\n",
    "\n",
    "df = pd.DataFrame({'mpcl_problem_area':mpcl_problem_are,\n",
    "                   'girls':girls, 'boys':boys, 'constant':np.ones(len(girls))})\n",
    "df"
   ]
  },
  {
   "cell_type": "markdown",
   "metadata": {
    "hidden": true
   },
   "source": [
    "a. Compute the correlation coefficient between the scores for the girls and those for the boys."
   ]
  },
  {
   "cell_type": "code",
   "execution_count": 225,
   "metadata": {
    "hidden": true,
    "scrolled": true
   },
   "outputs": [],
   "source": [
    "lm_b = sm.OLS(df['girls'],df[['constant','boys']]).fit()"
   ]
  },
  {
   "cell_type": "code",
   "execution_count": 226,
   "metadata": {
    "hidden": true
   },
   "outputs": [
    {
     "name": "stdout",
     "output_type": "stream",
     "text": [
      "Correlation of coefficient = 0.687\n"
     ]
    }
   ],
   "source": [
    "print(f'Correlation of coefficient = {math.sqrt(lm_b.rsquared):.3f}')"
   ]
  },
  {
   "cell_type": "markdown",
   "metadata": {
    "hidden": true
   },
   "source": [
    "b. Compute the goodness-of-fit of the relation. Describe how well the linear relation fits the data."
   ]
  },
  {
   "cell_type": "code",
   "execution_count": 227,
   "metadata": {
    "hidden": true
   },
   "outputs": [
    {
     "name": "stdout",
     "output_type": "stream",
     "text": [
      "R squared = 0.472\n"
     ]
    }
   ],
   "source": [
    "print(f'R squared = {lm_b.rsquared:.3f}')"
   ]
  },
  {
   "cell_type": "markdown",
   "metadata": {
    "hidden": true
   },
   "source": [
    "47% of the variation in the girls scores can be explained by the boys score"
   ]
  },
  {
   "cell_type": "markdown",
   "metadata": {
    "hidden": true
   },
   "source": [
    "c. Display the data in a scatter plot, with the girls’ scores plotted on the horizontal axis."
   ]
  },
  {
   "cell_type": "code",
   "execution_count": 214,
   "metadata": {
    "hidden": true
   },
   "outputs": [
    {
     "data": {
      "text/plain": [
       "<matplotlib.axes._subplots.AxesSubplot at 0x7f72d43fba10>"
      ]
     },
     "execution_count": 214,
     "metadata": {},
     "output_type": "execute_result"
    },
    {
     "data": {
      "image/png": "[encoded data removed]",
      "text/plain": [
       "<Figure size 432x288 with 1 Axes>"
      ]
     },
     "metadata": {
      "needs_background": "light"
     },
     "output_type": "display_data"
    }
   ],
   "source": [
    "df[['girls','boys']].plot(kind='scatter',x='girls',y='boys')"
   ]
  },
  {
   "cell_type": "markdown",
   "metadata": {
    "hidden": true
   },
   "source": [
    "d. Fit the least-squares line to the scatter plot"
   ]
  },
  {
   "cell_type": "code",
   "execution_count": 229,
   "metadata": {
    "hidden": true
   },
   "outputs": [],
   "source": [
    "lm_g = sm.OLS(df['boys'],df[['constant','girls']]).fit()"
   ]
  },
  {
   "cell_type": "code",
   "execution_count": 230,
   "metadata": {
    "hidden": true
   },
   "outputs": [
    {
     "name": "stdout",
     "output_type": "stream",
     "text": [
      "constant   -0.186676\n",
      "girls       0.832066\n",
      "dtype: float64\n"
     ]
    },
    {
     "data": {
      "image/png": "[encoded data removed]",
      "text/plain": [
       "<Figure size 432x288 with 1 Axes>"
      ]
     },
     "metadata": {
      "needs_background": "light"
     },
     "output_type": "display_data"
    }
   ],
   "source": [
    "x = np.linspace(df.girls.min(),df.girls.max())\n",
    "y = x*lm_g.params['girls'] + lm_g.params['constant']\n",
    "df[['girls','boys']].plot(kind='scatter',x='girls',y='boys')\n",
    "plt.plot(x,y,color='r',ls='--')\n",
    "print(lm_g.params)"
   ]
  },
  {
   "cell_type": "markdown",
   "metadata": {
    "hidden": true
   },
   "source": [
    "e. If you had plotted the boys’ scores on the horizontal axis and fitted the least-squares line to this scatter plot, would you get the same fitted relation? Explain. If not, discuss which line is more appropriate? "
   ]
  },
  {
   "cell_type": "code",
   "execution_count": 233,
   "metadata": {
    "hidden": true
   },
   "outputs": [
    {
     "data": {
      "text/plain": [
       "(constant   -0.186676\n",
       " girls       0.832066\n",
       " dtype: float64,\n",
       " 0.4717623640234554)"
      ]
     },
     "execution_count": 233,
     "metadata": {},
     "output_type": "execute_result"
    }
   ],
   "source": [
    "lm_g.params, lm_g.rsquared"
   ]
  },
  {
   "cell_type": "code",
   "execution_count": 234,
   "metadata": {
    "hidden": true
   },
   "outputs": [
    {
     "data": {
      "text/plain": [
       "(constant    2.501159\n",
       " boys        0.566977\n",
       " dtype: float64,\n",
       " 0.4717623640234555)"
      ]
     },
     "execution_count": 234,
     "metadata": {},
     "output_type": "execute_result"
    }
   ],
   "source": [
    "lm_b.params, lm_b.rsquared"
   ]
  },
  {
   "cell_type": "markdown",
   "metadata": {
    "hidden": true
   },
   "source": [
    "The equation is different but the coefficient of correlation and $r^2$ is equal. Given the information provided it is impossible to know which line would be more appropriate."
   ]
  },
  {
   "cell_type": "markdown",
   "metadata": {
    "heading_collapsed": true
   },
   "source": [
    "### Problem 8"
   ]
  },
  {
   "cell_type": "markdown",
   "metadata": {
    "hidden": true
   },
   "source": [
    "Dr M. Hills from the Open University in England collected the following chest, waist and hips measurements, in inches, for 10 men and 10 women (cited on page 62 of Hand et al, 1994). (The men and the women are not identified.)"
   ]
  },
  {
   "cell_type": "code",
   "execution_count": 238,
   "metadata": {
    "hidden": true
   },
   "outputs": [
    {
     "data": {
      "text/html": [
       "<div>\n",
       "<style scoped>\n",
       "    .dataframe tbody tr th:only-of-type {\n",
       "        vertical-align: middle;\n",
       "    }\n",
       "\n",
       "    .dataframe tbody tr th {\n",
       "        vertical-align: top;\n",
       "    }\n",
       "\n",
       "    .dataframe thead th {\n",
       "        text-align: right;\n",
       "    }\n",
       "</style>\n",
       "<table border=\"1\" class=\"dataframe\">\n",
       "  <thead>\n",
       "    <tr style=\"text-align: right;\">\n",
       "      <th></th>\n",
       "      <th>chest</th>\n",
       "      <th>waist</th>\n",
       "      <th>hip</th>\n",
       "      <th>constant</th>\n",
       "    </tr>\n",
       "    <tr>\n",
       "      <th>individual</th>\n",
       "      <th></th>\n",
       "      <th></th>\n",
       "      <th></th>\n",
       "      <th></th>\n",
       "    </tr>\n",
       "  </thead>\n",
       "  <tbody>\n",
       "    <tr>\n",
       "      <th>0</th>\n",
       "      <td>34</td>\n",
       "      <td>30</td>\n",
       "      <td>32</td>\n",
       "      <td>1.0</td>\n",
       "    </tr>\n",
       "    <tr>\n",
       "      <th>1</th>\n",
       "      <td>37</td>\n",
       "      <td>32</td>\n",
       "      <td>37</td>\n",
       "      <td>1.0</td>\n",
       "    </tr>\n",
       "    <tr>\n",
       "      <th>2</th>\n",
       "      <td>38</td>\n",
       "      <td>30</td>\n",
       "      <td>36</td>\n",
       "      <td>1.0</td>\n",
       "    </tr>\n",
       "    <tr>\n",
       "      <th>3</th>\n",
       "      <td>36</td>\n",
       "      <td>33</td>\n",
       "      <td>39</td>\n",
       "      <td>1.0</td>\n",
       "    </tr>\n",
       "    <tr>\n",
       "      <th>4</th>\n",
       "      <td>38</td>\n",
       "      <td>29</td>\n",
       "      <td>33</td>\n",
       "      <td>1.0</td>\n",
       "    </tr>\n",
       "    <tr>\n",
       "      <th>5</th>\n",
       "      <td>43</td>\n",
       "      <td>32</td>\n",
       "      <td>38</td>\n",
       "      <td>1.0</td>\n",
       "    </tr>\n",
       "    <tr>\n",
       "      <th>6</th>\n",
       "      <td>40</td>\n",
       "      <td>33</td>\n",
       "      <td>42</td>\n",
       "      <td>1.0</td>\n",
       "    </tr>\n",
       "    <tr>\n",
       "      <th>7</th>\n",
       "      <td>38</td>\n",
       "      <td>30</td>\n",
       "      <td>40</td>\n",
       "      <td>1.0</td>\n",
       "    </tr>\n",
       "    <tr>\n",
       "      <th>8</th>\n",
       "      <td>40</td>\n",
       "      <td>30</td>\n",
       "      <td>37</td>\n",
       "      <td>1.0</td>\n",
       "    </tr>\n",
       "    <tr>\n",
       "      <th>9</th>\n",
       "      <td>41</td>\n",
       "      <td>32</td>\n",
       "      <td>39</td>\n",
       "      <td>1.0</td>\n",
       "    </tr>\n",
       "    <tr>\n",
       "      <th>10</th>\n",
       "      <td>36</td>\n",
       "      <td>24</td>\n",
       "      <td>35</td>\n",
       "      <td>1.0</td>\n",
       "    </tr>\n",
       "    <tr>\n",
       "      <th>11</th>\n",
       "      <td>36</td>\n",
       "      <td>25</td>\n",
       "      <td>37</td>\n",
       "      <td>1.0</td>\n",
       "    </tr>\n",
       "    <tr>\n",
       "      <th>12</th>\n",
       "      <td>34</td>\n",
       "      <td>24</td>\n",
       "      <td>37</td>\n",
       "      <td>1.0</td>\n",
       "    </tr>\n",
       "    <tr>\n",
       "      <th>13</th>\n",
       "      <td>33</td>\n",
       "      <td>22</td>\n",
       "      <td>34</td>\n",
       "      <td>1.0</td>\n",
       "    </tr>\n",
       "    <tr>\n",
       "      <th>14</th>\n",
       "      <td>36</td>\n",
       "      <td>26</td>\n",
       "      <td>38</td>\n",
       "      <td>1.0</td>\n",
       "    </tr>\n",
       "    <tr>\n",
       "      <th>15</th>\n",
       "      <td>37</td>\n",
       "      <td>26</td>\n",
       "      <td>37</td>\n",
       "      <td>1.0</td>\n",
       "    </tr>\n",
       "    <tr>\n",
       "      <th>16</th>\n",
       "      <td>34</td>\n",
       "      <td>25</td>\n",
       "      <td>38</td>\n",
       "      <td>1.0</td>\n",
       "    </tr>\n",
       "    <tr>\n",
       "      <th>17</th>\n",
       "      <td>36</td>\n",
       "      <td>26</td>\n",
       "      <td>37</td>\n",
       "      <td>1.0</td>\n",
       "    </tr>\n",
       "    <tr>\n",
       "      <th>18</th>\n",
       "      <td>38</td>\n",
       "      <td>28</td>\n",
       "      <td>40</td>\n",
       "      <td>1.0</td>\n",
       "    </tr>\n",
       "    <tr>\n",
       "      <th>19</th>\n",
       "      <td>35</td>\n",
       "      <td>23</td>\n",
       "      <td>35</td>\n",
       "      <td>1.0</td>\n",
       "    </tr>\n",
       "  </tbody>\n",
       "</table>\n",
       "</div>"
      ],
      "text/plain": [
       "            chest  waist  hip  constant\n",
       "individual                             \n",
       "0              34     30   32       1.0\n",
       "1              37     32   37       1.0\n",
       "2              38     30   36       1.0\n",
       "3              36     33   39       1.0\n",
       "4              38     29   33       1.0\n",
       "5              43     32   38       1.0\n",
       "6              40     33   42       1.0\n",
       "7              38     30   40       1.0\n",
       "8              40     30   37       1.0\n",
       "9              41     32   39       1.0\n",
       "10             36     24   35       1.0\n",
       "11             36     25   37       1.0\n",
       "12             34     24   37       1.0\n",
       "13             33     22   34       1.0\n",
       "14             36     26   38       1.0\n",
       "15             37     26   37       1.0\n",
       "16             34     25   38       1.0\n",
       "17             36     26   37       1.0\n",
       "18             38     28   40       1.0\n",
       "19             35     23   35       1.0"
      ]
     },
     "execution_count": 238,
     "metadata": {},
     "output_type": "execute_result"
    }
   ],
   "source": [
    "chest = [34, 37, 38, 36, 38, 43, 40, 38, 40, 41, 36, 36, 34, 33, 36, 37, 34, 36, 38, 35]\n",
    "waist = [30, 32, 30, 33, 29, 32, 33, 30, 30, 32, 24, 25, 24, 22, 26, 26, 25, 26, 28, 23] \n",
    "hips = [32, 37, 36, 39, 33, 38, 42, 40, 37, 39, 35, 37, 37, 34, 38, 37, 38, 37, 40, 35]\n",
    "\n",
    "df = pd.DataFrame({'chest':chest,'waist':waist,'hip':hips,\n",
    "                   'constant':np.ones(len(chest))})\n",
    "df.index.name = 'individual'\n",
    "df"
   ]
  },
  {
   "cell_type": "markdown",
   "metadata": {
    "hidden": true
   },
   "source": [
    " If you know the sum of the waist and hips measurements for a person, how well can you predict their chest measurement? Answer this question with the given data by doing an appropriate linear regression analysis. "
   ]
  },
  {
   "cell_type": "code",
   "execution_count": 239,
   "metadata": {
    "hidden": true
   },
   "outputs": [],
   "source": [
    "df['waist_hip_sum'] = df['waist'] + df['hip']"
   ]
  },
  {
   "cell_type": "code",
   "execution_count": 241,
   "metadata": {
    "hidden": true
   },
   "outputs": [],
   "source": [
    "lm = sm.OLS(df['chest'],df[['constant','waist_hip_sum']]).fit()"
   ]
  },
  {
   "cell_type": "code",
   "execution_count": 242,
   "metadata": {
    "hidden": true
   },
   "outputs": [
    {
     "data": {
      "text/html": [
       "<table class=\"simpletable\">\n",
       "<caption>OLS Regression Results</caption>\n",
       "<tr>\n",
       "  <th>Dep. Variable:</th>          <td>chest</td>      <th>  R-squared:         </th> <td>   0.516</td>\n",
       "</tr>\n",
       "<tr>\n",
       "  <th>Model:</th>                   <td>OLS</td>       <th>  Adj. R-squared:    </th> <td>   0.490</td>\n",
       "</tr>\n",
       "<tr>\n",
       "  <th>Method:</th>             <td>Least Squares</td>  <th>  F-statistic:       </th> <td>   19.22</td>\n",
       "</tr>\n",
       "<tr>\n",
       "  <th>Date:</th>             <td>Sun, 24 May 2020</td> <th>  Prob (F-statistic):</th> <td>0.000358</td>\n",
       "</tr>\n",
       "<tr>\n",
       "  <th>Time:</th>                 <td>22:27:25</td>     <th>  Log-Likelihood:    </th> <td> -39.519</td>\n",
       "</tr>\n",
       "<tr>\n",
       "  <th>No. Observations:</th>      <td>    20</td>      <th>  AIC:               </th> <td>   83.04</td>\n",
       "</tr>\n",
       "<tr>\n",
       "  <th>Df Residuals:</th>          <td>    18</td>      <th>  BIC:               </th> <td>   85.03</td>\n",
       "</tr>\n",
       "<tr>\n",
       "  <th>Df Model:</th>              <td>     1</td>      <th>                     </th>     <td> </td>   \n",
       "</tr>\n",
       "<tr>\n",
       "  <th>Covariance Type:</th>      <td>nonrobust</td>    <th>                     </th>     <td> </td>   \n",
       "</tr>\n",
       "</table>\n",
       "<table class=\"simpletable\">\n",
       "<tr>\n",
       "        <td></td>           <th>coef</th>     <th>std err</th>      <th>t</th>      <th>P>|t|</th>  <th>[0.025</th>    <th>0.975]</th>  \n",
       "</tr>\n",
       "<tr>\n",
       "  <th>constant</th>      <td>   13.2216</td> <td>    5.439</td> <td>    2.431</td> <td> 0.026</td> <td>    1.794</td> <td>   24.649</td>\n",
       "</tr>\n",
       "<tr>\n",
       "  <th>waist_hip_sum</th> <td>    0.3655</td> <td>    0.083</td> <td>    4.384</td> <td> 0.000</td> <td>    0.190</td> <td>    0.541</td>\n",
       "</tr>\n",
       "</table>\n",
       "<table class=\"simpletable\">\n",
       "<tr>\n",
       "  <th>Omnibus:</th>       <td> 1.014</td> <th>  Durbin-Watson:     </th> <td>   1.836</td>\n",
       "</tr>\n",
       "<tr>\n",
       "  <th>Prob(Omnibus):</th> <td> 0.602</td> <th>  Jarque-Bera (JB):  </th> <td>   0.337</td>\n",
       "</tr>\n",
       "<tr>\n",
       "  <th>Skew:</th>          <td> 0.314</td> <th>  Prob(JB):          </th> <td>   0.845</td>\n",
       "</tr>\n",
       "<tr>\n",
       "  <th>Kurtosis:</th>      <td> 3.101</td> <th>  Cond. No.          </th> <td>    863.</td>\n",
       "</tr>\n",
       "</table><br/><br/>Warnings:<br/>[1] Standard Errors assume that the covariance matrix of the errors is correctly specified."
      ],
      "text/plain": [
       "<class 'statsmodels.iolib.summary.Summary'>\n",
       "\"\"\"\n",
       "                            OLS Regression Results                            \n",
       "==============================================================================\n",
       "Dep. Variable:                  chest   R-squared:                       0.516\n",
       "Model:                            OLS   Adj. R-squared:                  0.490\n",
       "Method:                 Least Squares   F-statistic:                     19.22\n",
       "Date:                Sun, 24 May 2020   Prob (F-statistic):           0.000358\n",
       "Time:                        22:27:25   Log-Likelihood:                -39.519\n",
       "No. Observations:                  20   AIC:                             83.04\n",
       "Df Residuals:                      18   BIC:                             85.03\n",
       "Df Model:                           1                                         \n",
       "Covariance Type:            nonrobust                                         \n",
       "=================================================================================\n",
       "                    coef    std err          t      P>|t|      [0.025      0.975]\n",
       "---------------------------------------------------------------------------------\n",
       "constant         13.2216      5.439      2.431      0.026       1.794      24.649\n",
       "waist_hip_sum     0.3655      0.083      4.384      0.000       0.190       0.541\n",
       "==============================================================================\n",
       "Omnibus:                        1.014   Durbin-Watson:                   1.836\n",
       "Prob(Omnibus):                  0.602   Jarque-Bera (JB):                0.337\n",
       "Skew:                           0.314   Prob(JB):                        0.845\n",
       "Kurtosis:                       3.101   Cond. No.                         863.\n",
       "==============================================================================\n",
       "\n",
       "Warnings:\n",
       "[1] Standard Errors assume that the covariance matrix of the errors is correctly specified.\n",
       "\"\"\""
      ]
     },
     "execution_count": 242,
     "metadata": {},
     "output_type": "execute_result"
    }
   ],
   "source": [
    "lm.summary()"
   ]
  },
  {
   "cell_type": "markdown",
   "metadata": {
    "hidden": true
   },
   "source": [
    "The model can only explain 51% of the variation in chest measures. A test for significance of $\\beta$ allows us to reject the null hypothesis. Pointing to a real correlation between the variables."
   ]
  },
  {
   "cell_type": "markdown",
   "metadata": {
    "heading_collapsed": true
   },
   "source": [
    "### Problem 9"
   ]
  },
  {
   "cell_type": "markdown",
   "metadata": {
    "hidden": true
   },
   "source": [
    "Using the data from Figure 9.16, investigate the relation between the murder rate and the motor vehicle theft rate. Choose the murder rate as the outcome variable. Should the value for the District of Columbia be omitted before fitting the regression line? Explain. "
   ]
  },
  {
   "cell_type": "markdown",
   "metadata": {
    "heading_collapsed": true
   },
   "source": [
    "### Problem 10"
   ]
  },
  {
   "cell_type": "markdown",
   "metadata": {
    "hidden": true
   },
   "source": [
    "Gilchrist (1984, page 5) gives the following distances by road and the corresponding distances as the crow flies (each measured in miles) between 20 pairs of points in Sheffield, England. What is the relationship between the two variables? How well can the road distance be predicted from the distance as the crow flies? "
   ]
  },
  {
   "cell_type": "code",
   "execution_count": 259,
   "metadata": {
    "hidden": true
   },
   "outputs": [
    {
     "data": {
      "text/html": [
       "<div>\n",
       "<style scoped>\n",
       "    .dataframe tbody tr th:only-of-type {\n",
       "        vertical-align: middle;\n",
       "    }\n",
       "\n",
       "    .dataframe tbody tr th {\n",
       "        vertical-align: top;\n",
       "    }\n",
       "\n",
       "    .dataframe thead th {\n",
       "        text-align: right;\n",
       "    }\n",
       "</style>\n",
       "<table border=\"1\" class=\"dataframe\">\n",
       "  <thead>\n",
       "    <tr style=\"text-align: right;\">\n",
       "      <th></th>\n",
       "      <th>road_distance</th>\n",
       "      <th>direct_distance</th>\n",
       "      <th>constant</th>\n",
       "    </tr>\n",
       "  </thead>\n",
       "  <tbody>\n",
       "    <tr>\n",
       "      <th>0</th>\n",
       "      <td>10.7</td>\n",
       "      <td>9.5</td>\n",
       "      <td>1.0</td>\n",
       "    </tr>\n",
       "    <tr>\n",
       "      <th>1</th>\n",
       "      <td>6.5</td>\n",
       "      <td>5.0</td>\n",
       "      <td>1.0</td>\n",
       "    </tr>\n",
       "    <tr>\n",
       "      <th>2</th>\n",
       "      <td>29.4</td>\n",
       "      <td>23.0</td>\n",
       "      <td>1.0</td>\n",
       "    </tr>\n",
       "    <tr>\n",
       "      <th>3</th>\n",
       "      <td>17.2</td>\n",
       "      <td>15.2</td>\n",
       "      <td>1.0</td>\n",
       "    </tr>\n",
       "    <tr>\n",
       "      <th>4</th>\n",
       "      <td>18.4</td>\n",
       "      <td>11.4</td>\n",
       "      <td>1.0</td>\n",
       "    </tr>\n",
       "    <tr>\n",
       "      <th>5</th>\n",
       "      <td>19.7</td>\n",
       "      <td>11.8</td>\n",
       "      <td>1.0</td>\n",
       "    </tr>\n",
       "    <tr>\n",
       "      <th>6</th>\n",
       "      <td>16.6</td>\n",
       "      <td>12.1</td>\n",
       "      <td>1.0</td>\n",
       "    </tr>\n",
       "    <tr>\n",
       "      <th>7</th>\n",
       "      <td>29.0</td>\n",
       "      <td>22.0</td>\n",
       "      <td>1.0</td>\n",
       "    </tr>\n",
       "    <tr>\n",
       "      <th>8</th>\n",
       "      <td>40.5</td>\n",
       "      <td>28.2</td>\n",
       "      <td>1.0</td>\n",
       "    </tr>\n",
       "    <tr>\n",
       "      <th>9</th>\n",
       "      <td>14.2</td>\n",
       "      <td>12.1</td>\n",
       "      <td>1.0</td>\n",
       "    </tr>\n",
       "    <tr>\n",
       "      <th>10</th>\n",
       "      <td>11.7</td>\n",
       "      <td>9.8</td>\n",
       "      <td>1.0</td>\n",
       "    </tr>\n",
       "    <tr>\n",
       "      <th>11</th>\n",
       "      <td>25.6</td>\n",
       "      <td>19.0</td>\n",
       "      <td>1.0</td>\n",
       "    </tr>\n",
       "    <tr>\n",
       "      <th>12</th>\n",
       "      <td>16.3</td>\n",
       "      <td>14.6</td>\n",
       "      <td>1.0</td>\n",
       "    </tr>\n",
       "    <tr>\n",
       "      <th>13</th>\n",
       "      <td>9.5</td>\n",
       "      <td>8.3</td>\n",
       "      <td>1.0</td>\n",
       "    </tr>\n",
       "    <tr>\n",
       "      <th>14</th>\n",
       "      <td>28.8</td>\n",
       "      <td>21.6</td>\n",
       "      <td>1.0</td>\n",
       "    </tr>\n",
       "    <tr>\n",
       "      <th>15</th>\n",
       "      <td>31.2</td>\n",
       "      <td>26.5</td>\n",
       "      <td>1.0</td>\n",
       "    </tr>\n",
       "    <tr>\n",
       "      <th>16</th>\n",
       "      <td>6.5</td>\n",
       "      <td>4.8</td>\n",
       "      <td>1.0</td>\n",
       "    </tr>\n",
       "    <tr>\n",
       "      <th>17</th>\n",
       "      <td>25.7</td>\n",
       "      <td>21.7</td>\n",
       "      <td>1.0</td>\n",
       "    </tr>\n",
       "    <tr>\n",
       "      <th>18</th>\n",
       "      <td>26.5</td>\n",
       "      <td>18.0</td>\n",
       "      <td>1.0</td>\n",
       "    </tr>\n",
       "    <tr>\n",
       "      <th>19</th>\n",
       "      <td>33.1</td>\n",
       "      <td>28.0</td>\n",
       "      <td>1.0</td>\n",
       "    </tr>\n",
       "  </tbody>\n",
       "</table>\n",
       "</div>"
      ],
      "text/plain": [
       "    road_distance  direct_distance  constant\n",
       "0            10.7              9.5       1.0\n",
       "1             6.5              5.0       1.0\n",
       "2            29.4             23.0       1.0\n",
       "3            17.2             15.2       1.0\n",
       "4            18.4             11.4       1.0\n",
       "5            19.7             11.8       1.0\n",
       "6            16.6             12.1       1.0\n",
       "7            29.0             22.0       1.0\n",
       "8            40.5             28.2       1.0\n",
       "9            14.2             12.1       1.0\n",
       "10           11.7              9.8       1.0\n",
       "11           25.6             19.0       1.0\n",
       "12           16.3             14.6       1.0\n",
       "13            9.5              8.3       1.0\n",
       "14           28.8             21.6       1.0\n",
       "15           31.2             26.5       1.0\n",
       "16            6.5              4.8       1.0\n",
       "17           25.7             21.7       1.0\n",
       "18           26.5             18.0       1.0\n",
       "19           33.1             28.0       1.0"
      ]
     },
     "execution_count": 259,
     "metadata": {},
     "output_type": "execute_result"
    }
   ],
   "source": [
    "arr1 = np.array([[10.7, 9.5], [6.5, 5.0], [29.4, 23.0], [17.2, 15.2], [18.4, 11.4], [19.7, 11.8], [16.6, 12.1], [29.0, 22.0], [40.5, 28.2], [14.2, 12.1]])\n",
    "arr2 = np.array([[11.7, 9.8], [25.6, 19.0], [16.3, 14.6], [9.5, 8.3], [28.8, 21.6], [31.2, 26.5], [6.5, 4.8], [25.7, 21.7], [26.5, 18.0], [33.1, 28.0]])\n",
    "df = pd.DataFrame(np.concatenate([arr1,arr2]),columns=['road_distance','direct_distance'])\n",
    "df['constant']=1.0\n",
    "df"
   ]
  },
  {
   "cell_type": "code",
   "execution_count": 260,
   "metadata": {
    "hidden": true
   },
   "outputs": [],
   "source": [
    "lm = sm.OLS(df['road_distance'],df[['constant','direct_distance']]).fit()"
   ]
  },
  {
   "cell_type": "code",
   "execution_count": 263,
   "metadata": {
    "hidden": true
   },
   "outputs": [
    {
     "data": {
      "text/plain": [
       "[<matplotlib.lines.Line2D at 0x7f72d3fc3450>]"
      ]
     },
     "execution_count": 263,
     "metadata": {},
     "output_type": "execute_result"
    },
    {
     "data": {
      "image/png": "[encoded data removed]",
      "text/plain": [
       "<Figure size 432x288 with 1 Axes>"
      ]
     },
     "metadata": {
      "needs_background": "light"
     },
     "output_type": "display_data"
    }
   ],
   "source": [
    "x = np.linspace(df['direct_distance'].min(),df['direct_distance'].max())\n",
    "y = x*lm.params['direct_distance'] + lm.params['constant']\n",
    "\n",
    "df[['road_distance','direct_distance']].plot(kind='scatter',x='direct_distance',y='road_distance')\n",
    "plt.plot(x,y,color='r',ls='--')"
   ]
  },
  {
   "cell_type": "code",
   "execution_count": 262,
   "metadata": {
    "hidden": true
   },
   "outputs": [
    {
     "data": {
      "text/html": [
       "<table class=\"simpletable\">\n",
       "<caption>OLS Regression Results</caption>\n",
       "<tr>\n",
       "  <th>Dep. Variable:</th>      <td>road_distance</td>  <th>  R-squared:         </th> <td>   0.939</td>\n",
       "</tr>\n",
       "<tr>\n",
       "  <th>Model:</th>                   <td>OLS</td>       <th>  Adj. R-squared:    </th> <td>   0.936</td>\n",
       "</tr>\n",
       "<tr>\n",
       "  <th>Method:</th>             <td>Least Squares</td>  <th>  F-statistic:       </th> <td>   277.7</td>\n",
       "</tr>\n",
       "<tr>\n",
       "  <th>Date:</th>             <td>Sun, 24 May 2020</td> <th>  Prob (F-statistic):</th> <td>2.19e-12</td>\n",
       "</tr>\n",
       "<tr>\n",
       "  <th>Time:</th>                 <td>23:16:22</td>     <th>  Log-Likelihood:    </th> <td> -45.134</td>\n",
       "</tr>\n",
       "<tr>\n",
       "  <th>No. Observations:</th>      <td>    20</td>      <th>  AIC:               </th> <td>   94.27</td>\n",
       "</tr>\n",
       "<tr>\n",
       "  <th>Df Residuals:</th>          <td>    18</td>      <th>  BIC:               </th> <td>   96.26</td>\n",
       "</tr>\n",
       "<tr>\n",
       "  <th>Df Model:</th>              <td>     1</td>      <th>                     </th>     <td> </td>   \n",
       "</tr>\n",
       "<tr>\n",
       "  <th>Covariance Type:</th>      <td>nonrobust</td>    <th>                     </th>     <td> </td>   \n",
       "</tr>\n",
       "</table>\n",
       "<table class=\"simpletable\">\n",
       "<tr>\n",
       "         <td></td>            <th>coef</th>     <th>std err</th>      <th>t</th>      <th>P>|t|</th>  <th>[0.025</th>    <th>0.975]</th>  \n",
       "</tr>\n",
       "<tr>\n",
       "  <th>constant</th>        <td>    0.3791</td> <td>    1.344</td> <td>    0.282</td> <td> 0.781</td> <td>   -2.445</td> <td>    3.203</td>\n",
       "</tr>\n",
       "<tr>\n",
       "  <th>direct_distance</th> <td>    1.2694</td> <td>    0.076</td> <td>   16.665</td> <td> 0.000</td> <td>    1.109</td> <td>    1.429</td>\n",
       "</tr>\n",
       "</table>\n",
       "<table class=\"simpletable\">\n",
       "<tr>\n",
       "  <th>Omnibus:</th>       <td> 2.132</td> <th>  Durbin-Watson:     </th> <td>   2.111</td>\n",
       "</tr>\n",
       "<tr>\n",
       "  <th>Prob(Omnibus):</th> <td> 0.344</td> <th>  Jarque-Bera (JB):  </th> <td>   1.705</td>\n",
       "</tr>\n",
       "<tr>\n",
       "  <th>Skew:</th>          <td> 0.582</td> <th>  Prob(JB):          </th> <td>   0.426</td>\n",
       "</tr>\n",
       "<tr>\n",
       "  <th>Kurtosis:</th>      <td> 2.167</td> <th>  Cond. No.          </th> <td>    43.6</td>\n",
       "</tr>\n",
       "</table><br/><br/>Warnings:<br/>[1] Standard Errors assume that the covariance matrix of the errors is correctly specified."
      ],
      "text/plain": [
       "<class 'statsmodels.iolib.summary.Summary'>\n",
       "\"\"\"\n",
       "                            OLS Regression Results                            \n",
       "==============================================================================\n",
       "Dep. Variable:          road_distance   R-squared:                       0.939\n",
       "Model:                            OLS   Adj. R-squared:                  0.936\n",
       "Method:                 Least Squares   F-statistic:                     277.7\n",
       "Date:                Sun, 24 May 2020   Prob (F-statistic):           2.19e-12\n",
       "Time:                        23:16:22   Log-Likelihood:                -45.134\n",
       "No. Observations:                  20   AIC:                             94.27\n",
       "Df Residuals:                      18   BIC:                             96.26\n",
       "Df Model:                           1                                         \n",
       "Covariance Type:            nonrobust                                         \n",
       "===================================================================================\n",
       "                      coef    std err          t      P>|t|      [0.025      0.975]\n",
       "-----------------------------------------------------------------------------------\n",
       "constant            0.3791      1.344      0.282      0.781      -2.445       3.203\n",
       "direct_distance     1.2694      0.076     16.665      0.000       1.109       1.429\n",
       "==============================================================================\n",
       "Omnibus:                        2.132   Durbin-Watson:                   2.111\n",
       "Prob(Omnibus):                  0.344   Jarque-Bera (JB):                1.705\n",
       "Skew:                           0.582   Prob(JB):                        0.426\n",
       "Kurtosis:                       2.167   Cond. No.                         43.6\n",
       "==============================================================================\n",
       "\n",
       "Warnings:\n",
       "[1] Standard Errors assume that the covariance matrix of the errors is correctly specified.\n",
       "\"\"\""
      ]
     },
     "execution_count": 262,
     "metadata": {},
     "output_type": "execute_result"
    }
   ],
   "source": [
    "lm.summary()"
   ]
  },
  {
   "cell_type": "markdown",
   "metadata": {
    "hidden": true
   },
   "source": [
    "The road distance can be predicted by the flying distance. One mile change in flying distance accounts for 1.26 miles change in road distance.\n",
    "\n",
    "Flying distance explains 90% of the variation in road distance and when testing whether the change explained is due to change, we can reject the null hypothesis with a p value close to zero."
   ]
  }
 ],
 "metadata": {
  "kernelspec": {
   "display_name": "Python 3",
   "language": "python",
   "name": "python3"
  },
  "language_info": {
   "codemirror_mode": {
    "name": "ipython",
    "version": 3
   },
   "file_extension": ".py",
   "mimetype": "text/x-python",
   "name": "python",
   "nbconvert_exporter": "python",
   "pygments_lexer": "ipython3",
   "version": "3.7.6"
  },
  "varInspector": {
   "cols": {
    "lenName": 16,
    "lenType": 16,
    "lenVar": 40
   },
   "kernels_config": {
    "python": {
     "delete_cmd_postfix": "",
     "delete_cmd_prefix": "del ",
     "library": "var_list.py",
     "varRefreshCmd": "print(var_dic_list())"
    },
    "r": {
     "delete_cmd_postfix": ") ",
     "delete_cmd_prefix": "rm(",
     "library": "var_list.r",
     "varRefreshCmd": "cat(var_dic_list()) "
    }
   },
   "types_to_exclude": [
    "module",
    "function",
    "builtin_function_or_method",
    "instance",
    "_Feature"
   ],
   "window_display": false
  }
 },
 "nbformat": 4,
 "nbformat_minor": 4
}
