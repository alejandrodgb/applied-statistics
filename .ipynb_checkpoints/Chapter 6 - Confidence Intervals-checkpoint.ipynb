{
 "cells": [
  {
   "cell_type": "code",
   "execution_count": 104,
   "metadata": {},
   "outputs": [],
   "source": [
    "# Import libraries\n",
    "import pandas as pd\n",
    "import numpy as np\n",
    "from scipy import stats\n",
    "import math, random\n",
    "from matplotlib import pyplot as plt, gridspec\n",
    "import seaborn as sns\n",
    "import statsmodels.api as sm\n",
    "import itertools\n",
    "\n",
    "%matplotlib inline"
   ]
  },
  {
   "cell_type": "markdown",
   "metadata": {},
   "source": [
    "# Chapter 6 - Confidence Intervals"
   ]
  },
  {
   "cell_type": "markdown",
   "metadata": {
    "heading_collapsed": true
   },
   "source": [
    "## Formulas"
   ]
  },
  {
   "cell_type": "markdown",
   "metadata": {
    "hidden": true
   },
   "source": [
    "Computing a confidence interval (normally 95%, z-score = 1.96) from a population proportion:\n",
    "\n",
    "$$\\left ( p-t_{n-1} \\sqrt{\\frac{p(1-p)}{n}},p+t_{n-1} \\sqrt{\\frac{p(1-p)}{n}} \\right )$$\n",
    "\n",
    "Where $p$ is the sample proportion and $n$ is the sample size. This approximation improves as $n$ increases, and is not valud unles both $n$ x $p$ and $n(1-p) \\ge 5$"
   ]
  },
  {
   "cell_type": "markdown",
   "metadata": {
    "hidden": true
   },
   "source": [
    "Computing the confidence interval (normally 95%, z-score = 1.96) for an unknown population mean where $\\sigma$ is known:\n",
    "\n",
    "$$\\left ( \\bar{y}-zscore \\frac{\\sigma}{\\sqrt{n}},\\bar{y}+zscore \\frac{\\sigma}{\\sqrt{n}} \\right )$$\n",
    "\n",
    "Where $\\bar{y}$ is the sample mean and $n$ the sample size. This formula is exact but based on the assumption of a normal population distribution"
   ]
  },
  {
   "cell_type": "markdown",
   "metadata": {
    "hidden": true
   },
   "source": [
    "Computing the confidence interval (normally 95%, z-score = 1.96) for an unknown population mean where $\\sigma$ is unknown:\n",
    "\n",
    "$$\\left ( \\bar{y}-t_{n-1} \\frac{s}{\\sqrt{n}},\\bar{y}+t_{n-1} \\frac{s}{\\sqrt{n}} \\right )$$\n",
    "\n",
    "Where $\\bar{y}$ is the sample mean, $n$ the sample size, $s$ the sample standard deviation and $t_{n-1}$ the critical value. "
   ]
  },
  {
   "cell_type": "markdown",
   "metadata": {
    "hidden": true
   },
   "source": [
    "Calculating the sample size for a population mean\n",
    "\n",
    "$$\\delta = zscore \\frac{\\sigma}{\\sqrt{n}} \\therefore n = {\\left ( \\frac{zscore \\cdot \\sigma}{delta} \\right )}^{2}$$"
   ]
  },
  {
   "cell_type": "markdown",
   "metadata": {
    "hidden": true
   },
   "source": [
    "Calculating the sample size for a population proportion\n",
    "\n",
    "$$\\delta = zscore\\sqrt{\\frac{\\pi(1-\\pi)}{n}} \\therefore n=\\left ( \\frac{zscore}{\\delta} \\right )^2 \\pi(1-\\pi)$$"
   ]
  },
  {
   "cell_type": "markdown",
   "metadata": {
    "heading_collapsed": true
   },
   "source": [
    "## Notes"
   ]
  },
  {
   "cell_type": "markdown",
   "metadata": {
    "hidden": true
   },
   "source": [
    "Suppose you are prepared to spend $400 to get an estimate of the proportion of car insurers who made claims in the year. So the company duly selects 400 clients from its database and informs you that 94 clients in this sample made a claim during the previous 12 months. Your estimate of the proportion of claimants is thus 94/400 = 0.235."
   ]
  },
  {
   "cell_type": "code",
   "execution_count": 2,
   "metadata": {
    "hidden": true
   },
   "outputs": [],
   "source": [
    "def conf_int(prop, n, sig, two_tailed=True):\n",
    "    if two_tailed:\n",
    "        sig = -stats.norm.ppf(q=sig/2)\n",
    "    else:\n",
    "        sig = -stats.norm.ppf(q=sig)\n",
    "    return [prop - sig*(((prop*(1-prop))/n)**(1/2)),\n",
    "            prop + sig*(((prop*(1-prop))/n)**(1/2)),\n",
    "            sig*(((prop*(1-prop))/n)**(1/2))]"
   ]
  },
  {
   "cell_type": "code",
   "execution_count": 3,
   "metadata": {
    "hidden": true
   },
   "outputs": [
    {
     "name": "stdout",
     "output_type": "stream",
     "text": [
      "Proportion = 0.235\n",
      "Confidence interval = (0.19344887909182573, 0.27655112090817424, 0.04155112090817427)\n"
     ]
    }
   ],
   "source": [
    "n = 400\n",
    "obs = 94\n",
    "prop = obs/n\n",
    "conf_interval = conf_int(prop, n, .05, two_tailed=True)\n",
    "\n",
    "print(f'Proportion = {prop}')\n",
    "print(f'Confidence interval = {conf_interval[0], conf_interval[1], conf_interval[2]}')"
   ]
  },
  {
   "cell_type": "code",
   "execution_count": 4,
   "metadata": {
    "hidden": true
   },
   "outputs": [
    {
     "data": {
      "text/plain": [
       "<ErrorbarContainer object of 3 artists>"
      ]
     },
     "execution_count": 4,
     "metadata": {},
     "output_type": "execute_result"
    },
    {
     "data": {
      "image/png": "[encoded data removed]",
      "text/plain": [
       "<Figure size 432x288 with 1 Axes>"
      ]
     },
     "metadata": {
      "needs_background": "light"
     },
     "output_type": "display_data"
    }
   ],
   "source": [
    "plt.errorbar(x=0, y=prop, yerr=conf_interval[2], fmt='o')"
   ]
  },
  {
   "cell_type": "markdown",
   "metadata": {
    "hidden": true
   },
   "source": [
    "Example: Suppose we repeatedly generate samples of size 10 from a normal distribution with given mean and standard deviation. Suppose the population mean is μ = 150 and the population standard deviation is σ = 30."
   ]
  },
  {
   "cell_type": "markdown",
   "metadata": {
    "hidden": true
   },
   "source": [
    "Confidence interval for a mean is calculated as \n",
    "\n",
    "$\\left( \\bar{y} - sig \\frac{s}{\\sqrt{n}}, \\bar{y} + sig \\frac{s}{\\sqrt{n}} \\right)$"
   ]
  },
  {
   "cell_type": "markdown",
   "metadata": {
    "hidden": true
   },
   "source": [
    "Simulating the confidence intervals of 100 experiments from a normally distributed population with mean of 150 and standard deviation of 30."
   ]
  },
  {
   "cell_type": "code",
   "execution_count": 5,
   "metadata": {
    "hidden": true
   },
   "outputs": [],
   "source": [
    "def confidence_intervals(samples, sig, score=True):\n",
    "    '''\n",
    "    Calculate the confidence intervals for an array of sample observations.\n",
    "    Returns 5xN array: mean, stdev, ci deviation, lower ci, upper ci\n",
    "    '''\n",
    "    samples_means = samples.mean(axis=1)\n",
    "    samples_sds = samples.std(axis=1)\n",
    "    n=samples.shape[1]\n",
    "    if score:\n",
    "        score = abs(stats.norm.ppf(q=sig/2))\n",
    "    else:\n",
    "        score = abs(stats.t.ppf(q=sig/2, df=n-1))\n",
    "    samples_devs = score*(samples_sds/(n**(1/2)))\n",
    "    samples_lci = samples_means - samples_devs\n",
    "    samples_uci = samples_means + samples_devs\n",
    "    \n",
    "    return samples_means, samples_sds, samples_devs, samples_lci, samples_uci"
   ]
  },
  {
   "cell_type": "code",
   "execution_count": 6,
   "metadata": {
    "hidden": true
   },
   "outputs": [
    {
     "name": "stdout",
     "output_type": "stream",
     "text": [
      "Number of experiments where pop mean is not within the ci = 8\n",
      "Proportion where mean not in ci = 0.08\n"
     ]
    },
    {
     "data": {
      "image/png": "[encoded data removed]",
      "text/plain": [
       "<Figure size 1440x720 with 1 Axes>"
      ]
     },
     "metadata": {
      "needs_background": "light"
     },
     "output_type": "display_data"
    }
   ],
   "source": [
    "# Generate 100 samples of size 10 from a normal distribution with mean 150 and stdev 30\n",
    "n = 10\n",
    "tests = 100\n",
    "mu = 150\n",
    "sigma = 30\n",
    "samples=np.random.normal(loc=mu, scale=sigma, size=(tests,n))\n",
    "\n",
    "samples_means, samples_sds, samples_devs, samples_lci, samples_uci = confidence_intervals(samples, .05)\n",
    "\n",
    "\n",
    "nici = (mu<samples_lci).sum()+(mu>samples_uci).sum()\n",
    "print(f'Number of experiments where pop mean is not within the ci = {(mu<samples_lci).sum()+(mu>samples_uci).sum()}')\n",
    "print(f'Proportion where mean not in ci = {nici/tests:.2f}')\n",
    "plt.figure(figsize = (20,10))\n",
    "plt.errorbar(x = np.arange(1,len(samples_means)+1), y = samples_means, yerr = samples_devs, fmt='o')\n",
    "plt.hlines(y=mu, xmin=0, xmax=tests+1, color='red');"
   ]
  },
  {
   "cell_type": "markdown",
   "metadata": {
    "hidden": true
   },
   "source": [
    "The confidence intervals are not accurate because the sample standard deviation varies. For it to be accurate we need to stretch the confidence interval using:\n",
    "\n",
    "$$\\left( \\bar{y}-t_{n-1}\\frac{s}{\\sqrt{n}}, \\bar{y}+t_{n-1}\\frac{s}{\\sqrt{n}} \\right)$$\n",
    "\n",
    "The critical value increases as *n* decreases."
   ]
  },
  {
   "cell_type": "code",
   "execution_count": 7,
   "metadata": {
    "hidden": true
   },
   "outputs": [
    {
     "name": "stdout",
     "output_type": "stream",
     "text": [
      "Number of experiments where pop mean is not within the ci = 2\n",
      "Proportion where mean not in ci = 0.02\n"
     ]
    },
    {
     "data": {
      "image/png": "[encoded data removed]",
      "text/plain": [
       "<Figure size 1440x720 with 1 Axes>"
      ]
     },
     "metadata": {
      "needs_background": "light"
     },
     "output_type": "display_data"
    }
   ],
   "source": [
    "samples_means, samples_sds, samples_devs, samples_lci, samples_uci = confidence_intervals(samples, .05, score=False)\n",
    "\n",
    "\n",
    "nici = (mu<samples_lci).sum()+(mu>samples_uci).sum()\n",
    "print(f'Number of experiments where pop mean is not within the ci = {(mu<samples_lci).sum()+(mu>samples_uci).sum()}')\n",
    "print(f'Proportion where mean not in ci = {nici/tests:.2f}')\n",
    "plt.figure(figsize = (20,10))\n",
    "plt.errorbar(x = np.arange(1,len(samples_means)+1), y = samples_means, yerr = samples_devs, fmt='o')\n",
    "plt.hlines(y=mu, xmin=0, xmax=tests+1, color='red');"
   ]
  },
  {
   "cell_type": "markdown",
   "metadata": {
    "hidden": true
   },
   "source": [
    "Recalculating the confidence intervals with the *t* value improves the result with 93% of confidence intervals including the population mean."
   ]
  },
  {
   "cell_type": "markdown",
   "metadata": {
    "hidden": true
   },
   "source": [
    "Body fat percentages confidence intervals"
   ]
  },
  {
   "cell_type": "code",
   "execution_count": 8,
   "metadata": {
    "hidden": true
   },
   "outputs": [],
   "source": [
    "male = np.array([9.5, 7.8, 17.8, 27.4]).reshape(1,-1)\n",
    "female = np.array([27.9, 31.4, 25.9, 25.2, 31.1, 34.7, 42.0, 29.1, 32.5, 30.3, 33.0, 33.8, 41.1, 34.5]).reshape(1,-1)"
   ]
  },
  {
   "cell_type": "code",
   "execution_count": 9,
   "metadata": {
    "hidden": true
   },
   "outputs": [],
   "source": [
    "male_means, male_stdevs, male_ci_deviation, male_lower_ci, male_upper_ci = confidence_intervals(male,.05,score=False)"
   ]
  },
  {
   "cell_type": "code",
   "execution_count": 10,
   "metadata": {
    "hidden": true
   },
   "outputs": [],
   "source": [
    "female_means, female_stdevs, female_ci_deviation, female_lower_ci, female_upper_ci = confidence_intervals(female,.05,score=False)"
   ]
  },
  {
   "cell_type": "code",
   "execution_count": 11,
   "metadata": {
    "hidden": true
   },
   "outputs": [
    {
     "data": {
      "text/plain": [
       "<ErrorbarContainer object of 3 artists>"
      ]
     },
     "execution_count": 11,
     "metadata": {},
     "output_type": "execute_result"
    },
    {
     "data": {
      "image/png": "[encoded data removed]",
      "text/plain": [
       "<Figure size 432x288 with 1 Axes>"
      ]
     },
     "metadata": {
      "needs_background": "light"
     },
     "output_type": "display_data"
    }
   ],
   "source": [
    "plt.errorbar(x=['male','female'], \n",
    "             y=np.concatenate([male_means, female_means]), \n",
    "             yerr = np.concatenate([male_ci_deviation, female_ci_deviation]), \n",
    "             fmt='o')"
   ]
  },
  {
   "cell_type": "markdown",
   "metadata": {
    "hidden": true
   },
   "source": [
    "**Central limit theorem and confidence intervals**\n",
    "\n",
    "The distribution of the sample means is approximately normal even though the underlying distribution is a uniform distribution"
   ]
  },
  {
   "cell_type": "code",
   "execution_count": 12,
   "metadata": {
    "hidden": true
   },
   "outputs": [
    {
     "name": "stdout",
     "output_type": "stream",
     "text": [
      "Number of experiments where pop mean is not within the ci = 8\n",
      "Proportion where mean not in ci = 0.08\n"
     ]
    },
    {
     "data": {
      "image/png": "[encoded data removed]",
      "text/plain": [
       "<Figure size 1440x720 with 3 Axes>"
      ]
     },
     "metadata": {
      "needs_background": "light"
     },
     "output_type": "display_data"
    }
   ],
   "source": [
    "# Generate 100 samples of size 10 from a uniform distribution of size 1e6\n",
    "N=1000000\n",
    "n = 10\n",
    "tests = 100\n",
    "pop = np.random.uniform(size = N)\n",
    "mu = pop.mean()\n",
    "sigma = pop.std()\n",
    "samples = np.array([np.random.choice(pop, size = n) for i in range(tests)])\n",
    "\n",
    "samples_means, samples_sds, samples_devs, samples_lci, samples_uci = confidence_intervals(samples, .05, score=False)\n",
    "\n",
    "\n",
    "nici = (mu<samples_lci).sum()+(mu>samples_uci).sum()\n",
    "print(f'Number of experiments where pop mean is not within the ci = {(mu<samples_lci).sum()+(mu>samples_uci).sum()}')\n",
    "print(f'Proportion where mean not in ci = {nici/tests:.2f}')\n",
    "\n",
    "plt.figure(figsize=(20,10))\n",
    "gs = gridspec.GridSpec(2, 4)\n",
    "gs.update(wspace=0.5)\n",
    "\n",
    "plt.subplot(gs[0,:2])\n",
    "sns.kdeplot(pop)\n",
    "plt.title('Population Density Plot')\n",
    "plt.subplot(gs[0, 2:])\n",
    "sns.kdeplot(samples.mean(axis=1))\n",
    "plt.title('Sample Means Density Plot')\n",
    "plt.subplot(gs[1,:])\n",
    "plt.errorbar(x = np.arange(1,len(samples_means)+1), y = samples_means, yerr = samples_devs, fmt='o')\n",
    "plt.hlines(y=mu, xmin=0, xmax=tests+1, color='red')\n",
    "plt.title('Confidence Intervals of Samples vs. Population Mean')\n",
    "plt.show()"
   ]
  },
  {
   "cell_type": "markdown",
   "metadata": {},
   "source": [
    "## Homework"
   ]
  },
  {
   "cell_type": "markdown",
   "metadata": {
    "heading_collapsed": true
   },
   "source": [
    "### Problem 1"
   ]
  },
  {
   "cell_type": "markdown",
   "metadata": {
    "hidden": true
   },
   "source": [
    "The Head of the Taxation Office wishes to know the proportion of higher income earners (persons with before-tax incomes of more than $100,000) with private medical insurance. A random sample of 500 higher income earners reveals that 120 have private medical insurance. Display a 95% confidence interval for the proportion as a graph.\n",
    "\n",
    "Page 130"
   ]
  },
  {
   "cell_type": "code",
   "execution_count": 13,
   "metadata": {
    "hidden": true
   },
   "outputs": [
    {
     "name": "stdout",
     "output_type": "stream",
     "text": [
      "Check that np and n(1-p) >= 5: True\n",
      "Confidence interval = (0.202, 0.278)\n"
     ]
    },
    {
     "data": {
      "image/png": "[encoded data removed]",
      "text/plain": [
       "<Figure size 432x288 with 1 Axes>"
      ]
     },
     "metadata": {
      "needs_background": "light"
     },
     "output_type": "display_data"
    }
   ],
   "source": [
    "n = 500\n",
    "tg = 120\n",
    "p = tg/n\n",
    "acc=0.95\n",
    "cv = -stats.t.ppf(q = (1-acc)/2, df = n-1)\n",
    "print(f'Check that np and n(1-p) >= 5: {(n*p>5)&(n*(1-p)>5)}')\n",
    "\n",
    "dev = cv*(((p*(1-p))/n)**(1/2))\n",
    "\n",
    "print(f'Confidence interval = ({p-dev:.3f}, {p+dev:.3f})')\n",
    "plt.errorbar(x=0, y=p, yerr=dev, fmt='o');\n"
   ]
  },
  {
   "cell_type": "markdown",
   "metadata": {
    "heading_collapsed": true
   },
   "source": [
    "### Problem 2"
   ]
  },
  {
   "cell_type": "markdown",
   "metadata": {
    "hidden": true
   },
   "source": [
    "During the first year of operation of a new golf course, professional golfers at three-par greens recorded four holes-in-one. It is estimated that during the same period, professional golfers teeing off on these greens made 41,000 shots. Use these data to estimate the probability that a professional golfer will strike a hole-in-one at a three-par green.\n",
    "\n",
    "a. Can you give a 95% confidence interval for this probability? If so, do so. Otherwise explain why you can’t.\n",
    "\n",
    "No, given that the condition np and n(1-p)>=5 is not met then the assumptions of the CLT would not hold.\n",
    "\n",
    "b. At another green, two professional golfers strike holes-in-one with successive shots. This event is reported on a news program, with the statement that the probability of such a coincidence is 100 million to one. Do you think this is a reasonable estimate?\n",
    "\n",
    "No, the events are independent and the probability of one happening does not affect the other. The probability of that happening is stil 4/41000."
   ]
  },
  {
   "cell_type": "code",
   "execution_count": 14,
   "metadata": {
    "hidden": true
   },
   "outputs": [
    {
     "name": "stdout",
     "output_type": "stream",
     "text": [
      "Probability of striking a hole-in-one = 9.75609756097561e-05\n",
      "Check that np and n(1-p) >= 5: False\n"
     ]
    }
   ],
   "source": [
    "obs = 4\n",
    "n = 41000\n",
    "p=obs/n\n",
    "print(f'Probability of striking a hole-in-one = {p}')\n",
    "\n",
    "print(f'Check that np and n(1-p) >= 5: {(n*p>5)&(n*(1-p)>5)}')"
   ]
  },
  {
   "cell_type": "markdown",
   "metadata": {
    "heading_collapsed": true
   },
   "source": [
    "### Problem 3"
   ]
  },
  {
   "cell_type": "markdown",
   "metadata": {
    "hidden": true
   },
   "source": [
    "Assume that IQ scores are normally distributed in the population with standard deviation 14. A class of fourteen nine-year-olds has the following IQ scores:\n",
    "\n",
    "115 123 95 108 143 105 87 96 111 130 120 108 98 121\n",
    "\n",
    "a. Graph a 95% confidence interval for the mean of this population.\n",
    "\n",
    "b. Is the normality assumption reasonable? "
   ]
  },
  {
   "cell_type": "code",
   "execution_count": 15,
   "metadata": {
    "hidden": true
   },
   "outputs": [],
   "source": [
    "sigma = 14\n",
    "n = 14\n",
    "nyo = np.array([115, 123, 95, 108, 143, 105, 87, 96, 111, 130, 120, 108, 98, 121])"
   ]
  },
  {
   "cell_type": "code",
   "execution_count": 16,
   "metadata": {
    "hidden": true
   },
   "outputs": [
    {
     "name": "stdout",
     "output_type": "stream",
     "text": [
      "95% confidence interval = (104.095,118.762)\n"
     ]
    },
    {
     "data": {
      "image/png": "[encoded data removed]",
      "text/plain": [
       "<Figure size 72x360 with 1 Axes>"
      ]
     },
     "metadata": {
      "needs_background": "light"
     },
     "output_type": "display_data"
    }
   ],
   "source": [
    "cv = -stats.norm.ppf(q=.05/2)\n",
    "dev = cv*(sigma/(n**(1/2)))\n",
    "\n",
    "print(f'95% confidence interval = ({nyo.mean()-dev:.3f},{nyo.mean()+dev:.3f})')\n",
    "\n",
    "plt.figure(figsize=(1,5))\n",
    "plt.errorbar(x=0, y=nyo.mean(), yerr=dev, fmt='o')\n",
    "plt.xticks([]);"
   ]
  },
  {
   "cell_type": "code",
   "execution_count": 17,
   "metadata": {
    "hidden": true
   },
   "outputs": [
    {
     "name": "stdout",
     "output_type": "stream",
     "text": [
      "Shapiro test p-value = 0.97, fail to reject Ho. Data appears normal.\n"
     ]
    }
   ],
   "source": [
    "print(f'Shapiro test p-value = {stats.shapiro(nyo)[1]:.2f}, fail to reject Ho. Data appears normal.')"
   ]
  },
  {
   "cell_type": "markdown",
   "metadata": {
    "heading_collapsed": true
   },
   "source": [
    "### Problem 4"
   ]
  },
  {
   "cell_type": "markdown",
   "metadata": {
    "hidden": true
   },
   "source": [
    "\n",
    "In a study reported by Sternberg et al (1982), samples of cerebrospinal fluid were taken from 10 patients hospitalised for psychotic schizophrenia. The following levels of dopamine b- hydroxylase (DBH) activity, in nmol/(ml)(h)/(mg), were measured:\n",
    "\n",
    "0.0150 0.0204 0.0208 0.0222 0.0226 0.0245 0.0270 0.0275 0.0306 0.0320\n",
    "\n",
    "Use these data to obtain a 95% confidence interval for the mean DBH level for hospitalised psychotic schizophrenics."
   ]
  },
  {
   "cell_type": "code",
   "execution_count": 18,
   "metadata": {
    "hidden": true
   },
   "outputs": [],
   "source": [
    "n = 10\n",
    "dop_levels = np.array([0.0150, 0.0204, 0.0208, 0.0222, 0.0226, 0.0245, 0.0270, 0.0275, 0.0306, 0.0320])"
   ]
  },
  {
   "cell_type": "code",
   "execution_count": 19,
   "metadata": {
    "hidden": true
   },
   "outputs": [
    {
     "name": "stdout",
     "output_type": "stream",
     "text": [
      "Mean = 0.024260\n",
      "Sample standard deviation = 0.005140\n",
      "Confidence interval = (0.020583,0.027937)\n"
     ]
    }
   ],
   "source": [
    "cv = -stats.t.ppf(q=.05/2, df = n-1)\n",
    "dev = cv*(dop_levels.std(ddof = 1)/(n**(1/2)))\n",
    "print(f'Mean = {dop_levels.mean():.6f}')\n",
    "print(f'Sample standard deviation = {dop_levels.std(ddof=1):.6f}')\n",
    "print(f'Confidence interval = ({dop_levels.mean()-dev:.6f},{dop_levels.mean()+dev:.6f})')"
   ]
  },
  {
   "cell_type": "markdown",
   "metadata": {
    "heading_collapsed": true
   },
   "source": [
    "### Problem 5"
   ]
  },
  {
   "cell_type": "markdown",
   "metadata": {
    "hidden": true
   },
   "source": [
    "\n",
    "The ages of the subjects whose body fat percentages are given in Figure 2.1 (in the same order as the data in Figure 2.1) are:\n",
    "\n",
    "23 23 27 27 39 41 45 49 50 53 53 54 56 57 58 58 60 61 \n",
    "\n",
    "Make a graph of a 95% confidence interval of the mean age."
   ]
  },
  {
   "cell_type": "code",
   "execution_count": 20,
   "metadata": {
    "hidden": true
   },
   "outputs": [],
   "source": [
    "ages = np.array([23, 23, 27, 27, 39, 41, 45, 49, 50, 53, 53, 54, 56, 57, 58, 58, 60, 61])"
   ]
  },
  {
   "cell_type": "code",
   "execution_count": 21,
   "metadata": {
    "hidden": true
   },
   "outputs": [
    {
     "name": "stdout",
     "output_type": "stream",
     "text": [
      "Normality check p-value (Shapiro) = 0.010918\n"
     ]
    }
   ],
   "source": [
    "print(f'Normality check p-value (Shapiro) = {stats.shapiro(ages)[1]:.6f}')"
   ]
  },
  {
   "cell_type": "markdown",
   "metadata": {
    "hidden": true
   },
   "source": [
    "Result must be treated with caution as the test indicates that there is a possibility that the distribution of the population is not normal."
   ]
  },
  {
   "cell_type": "code",
   "execution_count": 22,
   "metadata": {
    "hidden": true
   },
   "outputs": [
    {
     "name": "stdout",
     "output_type": "stream",
     "text": [
      "Mean = 46.333 | St. Dev. = 13.218\n",
      "Confidence interval = (39.760,52.906)\n"
     ]
    }
   ],
   "source": [
    "n = len(ages)\n",
    "s_mean = ages.mean()\n",
    "s_sd = ages.std(ddof=1)\n",
    "cv = -stats.t.ppf(q=.05/2, df=n-1)\n",
    "\n",
    "dev = cv*(s_sd/(n**(1/2)))\n",
    "\n",
    "print(f'Mean = {s_mean:.3f} | St. Dev. = {s_sd:.3f}')\n",
    "print(f'Confidence interval = ({s_mean-dev:.3f},{s_mean+dev:.3f})')"
   ]
  },
  {
   "cell_type": "markdown",
   "metadata": {
    "heading_collapsed": true
   },
   "source": [
    "### Problem 6"
   ]
  },
  {
   "cell_type": "markdown",
   "metadata": {
    "hidden": true
   },
   "source": [
    "\n",
    "\n",
    "Refer to Homework Problem 4 above. A further 15 schizophrenia patients were judged to be non-psychotic, and their DBH levels were:\n",
    "\n",
    "0.0104 0.0105 0.0112 0.0116 0.0130 0.0145 0.0154 0.0156 0.0170 0.0180 0.0200 0.0200 0.0210 0.0230 0.0252\n",
    "\n",
    "Compute a 95% confidence interval for the mean DBH level in this population, and compare to the psychotic patients."
   ]
  },
  {
   "cell_type": "code",
   "execution_count": 23,
   "metadata": {
    "hidden": true
   },
   "outputs": [],
   "source": [
    "dop_np = np.array([float(x) for x in '0.0104 0.0105 0.0112 0.0116 0.0130 0.0145 0.0154 0.0156 0.0170 0.0180 0.0200 0.0200 0.0210 0.0230 0.0252'.split(' ')])\n",
    "dop_p = np.array([0.0150, 0.0204, 0.0208, 0.0222, 0.0226, 0.0245, 0.0270, 0.0275, 0.0306, 0.0320])"
   ]
  },
  {
   "cell_type": "code",
   "execution_count": 24,
   "metadata": {
    "hidden": true
   },
   "outputs": [],
   "source": [
    "def conf_int(x):\n",
    "    n=len(x)\n",
    "    mean = x.mean()\n",
    "    std = x.std(ddof=1)\n",
    "    cv = -stats.t.ppf(q=.05/2, df = n-1)\n",
    "    dev = cv*(std/(n**(1/2)))\n",
    "    \n",
    "    return {'mean': mean, 'std': std, 'cv':cv,\n",
    "            'dev':dev, 'ci':[mean-dev,mean+dev]}"
   ]
  },
  {
   "cell_type": "code",
   "execution_count": 25,
   "metadata": {
    "hidden": true
   },
   "outputs": [
    {
     "data": {
      "text/plain": [
       "{'mean': 0.016426666666666662,\n",
       " 'std': 0.0046956616248658815,\n",
       " 'cv': 2.1447866879169277,\n",
       " 'dev': 0.002600370733284158,\n",
       " 'ci': [0.013826295933382504, 0.01902703739995082]}"
      ]
     },
     "execution_count": 25,
     "metadata": {},
     "output_type": "execute_result"
    }
   ],
   "source": [
    "np_data = conf_int(dop_np); np_data"
   ]
  },
  {
   "cell_type": "code",
   "execution_count": 26,
   "metadata": {
    "hidden": true
   },
   "outputs": [
    {
     "data": {
      "text/plain": [
       "{'mean': 0.024259999999999997,\n",
       " 'std': 0.00514008214374483,\n",
       " 'cv': 2.262157162740992,\n",
       " 'dev': 0.003676993258691367,\n",
       " 'ci': [0.02058300674130863, 0.027936993258691364]}"
      ]
     },
     "execution_count": 26,
     "metadata": {},
     "output_type": "execute_result"
    }
   ],
   "source": [
    "p_data = conf_int(dop_p); p_data"
   ]
  },
  {
   "cell_type": "code",
   "execution_count": 27,
   "metadata": {
    "hidden": true
   },
   "outputs": [
    {
     "data": {
      "text/plain": [
       "<ErrorbarContainer object of 3 artists>"
      ]
     },
     "execution_count": 27,
     "metadata": {},
     "output_type": "execute_result"
    },
    {
     "data": {
      "image/png": "[encoded data removed]",
      "text/plain": [
       "<Figure size 432x288 with 1 Axes>"
      ]
     },
     "metadata": {
      "needs_background": "light"
     },
     "output_type": "display_data"
    }
   ],
   "source": [
    "plt.errorbar(x=['Non_psychotic','Psychotic'], y=[np_data['mean'], p_data['mean']], yerr=[np_data['dev'], p_data['dev']], fmt='o')"
   ]
  },
  {
   "cell_type": "markdown",
   "metadata": {
    "heading_collapsed": true
   },
   "source": [
    "### Problem 7"
   ]
  },
  {
   "cell_type": "markdown",
   "metadata": {
    "hidden": true
   },
   "source": [
    "Use the data in Appendix B to obtain 95% confidence intervals for the proportion of women, born outside Australia, whose favourite drink is a non-alcoholic drink."
   ]
  },
  {
   "cell_type": "markdown",
   "metadata": {
    "heading_collapsed": true
   },
   "source": [
    "### Problem 8"
   ]
  },
  {
   "cell_type": "markdown",
   "metadata": {
    "hidden": true
   },
   "source": [
    "The tonnages of 25 British merchant ships in 1907 was reported by Floud (1973, Table 4.1) as follows:\n",
    "\n",
    "44 144 150 236 739 970 2371 309 679 26 1272 3246 1904 357 1080 1027 45 62 28 2507 138 502 1501 2750 192\n",
    "\n",
    "a. Compute a 95% confidence interval for the mean tonnage of British merchant ships in 1907.\n",
    "\n",
    "b. Check that the normality assumption is reasonable. If not, repeat (a) after taking logarithms of the data, and by converting back to tonnages by taking antilogarithms, obtain a 95% confidence interval for the geometric mean tonnage of the population."
   ]
  },
  {
   "cell_type": "code",
   "execution_count": 28,
   "metadata": {
    "hidden": true
   },
   "outputs": [
    {
     "data": {
      "text/plain": [
       "array([  44.,  144.,  150.,  236.,  739.,  970., 2371.,  309.,  679.,\n",
       "         26., 1272., 3246., 1904.,  357., 1080., 1027.,   45.,   62.,\n",
       "         28., 2507.,  138.,  502., 1501., 2750.,  192.])"
      ]
     },
     "execution_count": 28,
     "metadata": {},
     "output_type": "execute_result"
    }
   ],
   "source": [
    "ton_str = '44 144 150 236 739 970 2371 309 679 26 1272 3246 1904 357 1080 1027 45 62 28 2507 138 502 1501 2750 192'\n",
    "ton = np.array([float(x) for x in ton_str.split(' ')]); ton"
   ]
  },
  {
   "cell_type": "code",
   "execution_count": 29,
   "metadata": {
    "hidden": true
   },
   "outputs": [
    {
     "name": "stdout",
     "output_type": "stream",
     "text": [
      "Normality check p-value = 0.001\n"
     ]
    }
   ],
   "source": [
    "print(f'Normality check p-value = {stats.shapiro(ton)[1]:.3f}')"
   ]
  },
  {
   "cell_type": "markdown",
   "metadata": {
    "hidden": true
   },
   "source": [
    "Results must be taken with caution as population data does not appear to be normal."
   ]
  },
  {
   "cell_type": "code",
   "execution_count": 30,
   "metadata": {
    "hidden": true
   },
   "outputs": [
    {
     "data": {
      "text/plain": [
       "{'mean': 891.16,\n",
       " 'std': 967.298285604463,\n",
       " 'cv': 2.063898561628021,\n",
       " 'dev': 399.28110806486035,\n",
       " 'ci': [491.8788919351396, 1290.4411080648604]}"
      ]
     },
     "execution_count": 30,
     "metadata": {},
     "output_type": "execute_result"
    }
   ],
   "source": [
    "ton_data = conf_int(ton); ton_data"
   ]
  },
  {
   "cell_type": "code",
   "execution_count": 31,
   "metadata": {
    "hidden": true
   },
   "outputs": [
    {
     "name": "stdout",
     "output_type": "stream",
     "text": [
      "Normality check p-value after log transformation = 0.126\n"
     ]
    }
   ],
   "source": [
    "print(f'Normality check p-value after log transformation = {stats.shapiro(np.log(ton))[1]:.3f}')"
   ]
  },
  {
   "cell_type": "code",
   "execution_count": 32,
   "metadata": {
    "hidden": true
   },
   "outputs": [
    {
     "data": {
      "text/plain": [
       "{'mean': 5.972228470203088,\n",
       " 'std': 1.5167973466078075,\n",
       " 'cv': 2.063898561628021,\n",
       " 'dev': 0.6261031723890105,\n",
       " 'ci': [5.346125297814078, 6.598331642592099]}"
      ]
     },
     "execution_count": 32,
     "metadata": {},
     "output_type": "execute_result"
    }
   ],
   "source": [
    "ton_log_data = conf_int(np.log(ton)); ton_log_data"
   ]
  },
  {
   "cell_type": "code",
   "execution_count": 33,
   "metadata": {
    "hidden": true
   },
   "outputs": [
    {
     "name": "stdout",
     "output_type": "stream",
     "text": [
      "CI after reverting log transorm = [209.79383236 733.86981021]\n"
     ]
    }
   ],
   "source": [
    "print(f'CI after reverting log transorm = {np.exp(ton_log_data[\"ci\"])}')"
   ]
  },
  {
   "cell_type": "markdown",
   "metadata": {
    "heading_collapsed": true
   },
   "source": [
    "### Problem 9"
   ]
  },
  {
   "cell_type": "markdown",
   "metadata": {
    "hidden": true
   },
   "source": [
    "The Minister for Health wishes to survey the country to determine the current percentage of their incomes privately insured families spend on medical insurance. A previous survey showed that these families spent 1.9% of their income, with a standard deviation of 0.4%. How large a sample is needed to determine the current percentage to within 0.1%?"
   ]
  },
  {
   "cell_type": "code",
   "execution_count": 34,
   "metadata": {
    "hidden": true
   },
   "outputs": [
    {
     "name": "stdout",
     "output_type": "stream",
     "text": [
      "Sample size = 62 people\n"
     ]
    }
   ],
   "source": [
    "zscore = -stats.norm.ppf(q=.05/2)\n",
    "sigma = .004\n",
    "mu = .019\n",
    "delta = .001\n",
    "\n",
    "n = ((zscore*sigma)/delta)**2\n",
    "print(f'Sample size = {round(n+.5):.0f} people')"
   ]
  },
  {
   "cell_type": "markdown",
   "metadata": {},
   "source": [
    "### Problem 10"
   ]
  },
  {
   "cell_type": "markdown",
   "metadata": {},
   "source": [
    "A television company, with approximately 10% of the viewing audience, wishes to undertake a telephone survey to estimate the percentage of the population who prefers its channel. How many responses are needed to estimate this proportion to within 1%?"
   ]
  },
  {
   "cell_type": "code",
   "execution_count": 35,
   "metadata": {},
   "outputs": [
    {
     "name": "stdout",
     "output_type": "stream",
     "text": [
      "Sample size needed = 3458 responses\n"
     ]
    }
   ],
   "source": [
    "pi = .1\n",
    "delta = .01\n",
    "zscore = -stats.norm.ppf(q = 0.05/2)\n",
    "\n",
    "n = ((zscore/delta)**2)*(pi*(1-pi))\n",
    "print(f'Sample size needed = {round(n+.5):.0f} responses')"
   ]
  }
 ],
 "metadata": {
  "kernelspec": {
   "display_name": "Python 3",
   "language": "python",
   "name": "python3"
  },
  "language_info": {
   "codemirror_mode": {
    "name": "ipython",
    "version": 3
   },
   "file_extension": ".py",
   "mimetype": "text/x-python",
   "name": "python",
   "nbconvert_exporter": "python",
   "pygments_lexer": "ipython3",
   "version": "3.7.6"
  },
  "varInspector": {
   "cols": {
    "lenName": 16,
    "lenType": 16,
    "lenVar": 40
   },
   "kernels_config": {
    "python": {
     "delete_cmd_postfix": "",
     "delete_cmd_prefix": "del ",
     "library": "var_list.py",
     "varRefreshCmd": "print(var_dic_list())"
    },
    "r": {
     "delete_cmd_postfix": ") ",
     "delete_cmd_prefix": "rm(",
     "library": "var_list.r",
     "varRefreshCmd": "cat(var_dic_list()) "
    }
   },
   "types_to_exclude": [
    "module",
    "function",
    "builtin_function_or_method",
    "instance",
    "_Feature"
   ],
   "window_display": false
  }
 },
 "nbformat": 4,
 "nbformat_minor": 4
}
